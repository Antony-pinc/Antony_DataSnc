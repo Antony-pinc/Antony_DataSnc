{
 "cells": [
  {
   "cell_type": "code",
   "execution_count": 1,
   "id": "90425961-3ad5-4352-8bf7-7433c342c457",
   "metadata": {
    "execution": {
     "iopub.execute_input": "2022-06-01T12:58:46.540819Z",
     "iopub.status.busy": "2022-06-01T12:58:46.540584Z",
     "iopub.status.idle": "2022-06-01T12:59:05.366853Z",
     "shell.execute_reply": "2022-06-01T12:59:05.366307Z",
     "shell.execute_reply.started": "2022-06-01T12:58:46.540795Z"
    },
    "tags": []
   },
   "outputs": [
    {
     "data": {
      "application/vnd.jupyter.widget-view+json": {
       "model_id": "cd3ea136283f4facb0b1887e2c05d5e6",
       "version_major": 2,
       "version_minor": 0
      },
      "text/plain": [
       "VBox()"
      ]
     },
     "metadata": {},
     "output_type": "display_data"
    },
    {
     "name": "stdout",
     "output_type": "stream",
     "text": [
      "Starting Spark application\n"
     ]
    },
    {
     "data": {
      "text/html": [
       "<table>\n",
       "<tr><th>ID</th><th>YARN Application ID</th><th>Kind</th><th>State</th><th>Spark UI</th><th>Driver log</th><th>Current session?</th></tr><tr><td>2</td><td>application_1654087977069_0003</td><td>pyspark</td><td>idle</td><td><a target=\"_blank\" href=\"http://ip-172-31-29-255.ec2.internal:20888/proxy/application_1654087977069_0003/\" class=\"emr-proxy-link\" emr-resource=\"j-37DO1ZZSB91BA\n",
       "\" application-id=\"application_1654087977069_0003\">Link</a></td><td><a target=\"_blank\" href=\"http://ip-172-31-23-187.ec2.internal:8042/node/containerlogs/container_1654087977069_0003_01_000001/livy\" >Link</a></td><td>✔</td></tr></table>"
      ],
      "text/plain": [
       "<IPython.core.display.HTML object>"
      ]
     },
     "metadata": {},
     "output_type": "display_data"
    },
    {
     "data": {
      "application/vnd.jupyter.widget-view+json": {
       "model_id": "",
       "version_major": 2,
       "version_minor": 0
      },
      "text/plain": [
       "FloatProgress(value=0.0, bar_style='info', description='Progress:', layout=Layout(height='25px', width='50%'),…"
      ]
     },
     "metadata": {},
     "output_type": "display_data"
    },
    {
     "name": "stdout",
     "output_type": "stream",
     "text": [
      "SparkSession available as 'spark'.\n"
     ]
    },
    {
     "data": {
      "application/vnd.jupyter.widget-view+json": {
       "model_id": "",
       "version_major": 2,
       "version_minor": 0
      },
      "text/plain": [
       "FloatProgress(value=0.0, bar_style='info', description='Progress:', layout=Layout(height='25px', width='50%'),…"
      ]
     },
     "metadata": {},
     "output_type": "display_data"
    }
   ],
   "source": [
    "import os,re\n",
    "from pyspark.sql.functions import col, array_contains, array_position,year,to_date"
   ]
  },
  {
   "cell_type": "code",
   "execution_count": 2,
   "id": "425e6a2b-f342-4191-a123-bc33ea7b6951",
   "metadata": {
    "execution": {
     "iopub.execute_input": "2022-06-01T12:59:05.367906Z",
     "iopub.status.busy": "2022-06-01T12:59:05.367746Z",
     "iopub.status.idle": "2022-06-01T12:59:05.404399Z",
     "shell.execute_reply": "2022-06-01T12:59:05.403802Z",
     "shell.execute_reply.started": "2022-06-01T12:59:05.367886Z"
    },
    "tags": []
   },
   "outputs": [
    {
     "data": {
      "text/html": [
       "Current session configs: <tt>{'proxyUser': 'assumed-role_AWSReservedSSO_AWSPowerUserAccess_b440364ff0937dc7_AntonyChandraVibin_Paulraj_premierinc_com', 'conf': {'spark.pyspark.python': 'python3', 'spark.pyspark.virtualenv.enabled': 'true', 'spark.pyspark.virtualenv.type': 'native', 'spark.pyspark.virtualenv.bin.path': '/usr/bin/virtualenv'}, 'kind': 'pyspark'}</tt><br>"
      ],
      "text/plain": [
       "<IPython.core.display.HTML object>"
      ]
     },
     "metadata": {},
     "output_type": "display_data"
    },
    {
     "data": {
      "text/html": [
       "<table>\n",
       "<tr><th>ID</th><th>YARN Application ID</th><th>Kind</th><th>State</th><th>Spark UI</th><th>Driver log</th><th>Current session?</th></tr><tr><td>1</td><td>application_1654087977069_0002</td><td>pyspark</td><td>busy</td><td><a target=\"_blank\" href=\"http://ip-172-31-29-255.ec2.internal:20888/proxy/application_1654087977069_0002/\" class=\"emr-proxy-link\" emr-resource=\"j-37DO1ZZSB91BA\n",
       "\" application-id=\"application_1654087977069_0002\">Link</a></td><td><a target=\"_blank\" href=\"http://ip-172-31-18-10.ec2.internal:8042/node/containerlogs/container_1654087977069_0002_01_000001/livy\" >Link</a></td><td></td></tr><tr><td>2</td><td>application_1654087977069_0003</td><td>pyspark</td><td>idle</td><td><a target=\"_blank\" href=\"http://ip-172-31-29-255.ec2.internal:20888/proxy/application_1654087977069_0003/\" class=\"emr-proxy-link\" emr-resource=\"j-37DO1ZZSB91BA\n",
       "\" application-id=\"application_1654087977069_0003\">Link</a></td><td><a target=\"_blank\" href=\"http://ip-172-31-23-187.ec2.internal:8042/node/containerlogs/container_1654087977069_0003_01_000001/livy\" >Link</a></td><td>✔</td></tr></table>"
      ],
      "text/plain": [
       "<IPython.core.display.HTML object>"
      ]
     },
     "metadata": {},
     "output_type": "display_data"
    }
   ],
   "source": [
    "%%info"
   ]
  },
  {
   "cell_type": "code",
   "execution_count": 3,
   "id": "161b21a6-1bb9-45c2-8ff7-28d0d241ab56",
   "metadata": {
    "execution": {
     "iopub.execute_input": "2022-06-01T12:59:05.405568Z",
     "iopub.status.busy": "2022-06-01T12:59:05.405400Z",
     "iopub.status.idle": "2022-06-01T12:59:34.246520Z",
     "shell.execute_reply": "2022-06-01T12:59:34.246022Z",
     "shell.execute_reply.started": "2022-06-01T12:59:05.405548Z"
    },
    "tags": []
   },
   "outputs": [
    {
     "name": "stdout",
     "output_type": "stream",
     "text": [
      "Starting Spark application\n"
     ]
    },
    {
     "data": {
      "text/html": [
       "<table>\n",
       "<tr><th>ID</th><th>YARN Application ID</th><th>Kind</th><th>State</th><th>Spark UI</th><th>Driver log</th><th>Current session?</th></tr><tr><td>3</td><td>application_1654087977069_0004</td><td>pyspark</td><td>idle</td><td><a target=\"_blank\" href=\"http://ip-172-31-29-255.ec2.internal:20888/proxy/application_1654087977069_0004/\" class=\"emr-proxy-link\" emr-resource=\"j-37DO1ZZSB91BA\n",
       "\" application-id=\"application_1654087977069_0004\">Link</a></td><td><a target=\"_blank\" href=\"http://ip-172-31-16-34.ec2.internal:8042/node/containerlogs/container_1654087977069_0004_01_000002/livy\" >Link</a></td><td>✔</td></tr></table>"
      ],
      "text/plain": [
       "<IPython.core.display.HTML object>"
      ]
     },
     "metadata": {},
     "output_type": "display_data"
    },
    {
     "data": {
      "application/vnd.jupyter.widget-view+json": {
       "model_id": "",
       "version_major": 2,
       "version_minor": 0
      },
      "text/plain": [
       "FloatProgress(value=0.0, bar_style='info', description='Progress:', layout=Layout(height='25px', width='50%'),…"
      ]
     },
     "metadata": {},
     "output_type": "display_data"
    },
    {
     "name": "stdout",
     "output_type": "stream",
     "text": [
      "SparkSession available as 'spark'.\n"
     ]
    },
    {
     "data": {
      "text/html": [
       "Current session configs: <tt>{'conf': {'spark.pyspark.python': 'python', 'spark.pyspark.virtualenv.enabled': 'true', 'spark.pyspark.virtualenv.type': 'native', 'spark.pyspark.virtualenv.bin.path': '/usr/bin/virtualenv'}, 'proxyUser': 'assumed-role_AWSReservedSSO_AWSPowerUserAccess_b440364ff0937dc7_AntonyChandraVibin_Paulraj_premierinc_com', 'kind': 'pyspark'}</tt><br>"
      ],
      "text/plain": [
       "<IPython.core.display.HTML object>"
      ]
     },
     "metadata": {},
     "output_type": "display_data"
    },
    {
     "data": {
      "text/html": [
       "<table>\n",
       "<tr><th>ID</th><th>YARN Application ID</th><th>Kind</th><th>State</th><th>Spark UI</th><th>Driver log</th><th>Current session?</th></tr><tr><td>1</td><td>application_1654087977069_0002</td><td>pyspark</td><td>busy</td><td><a target=\"_blank\" href=\"http://ip-172-31-29-255.ec2.internal:20888/proxy/application_1654087977069_0002/\" class=\"emr-proxy-link\" emr-resource=\"j-37DO1ZZSB91BA\n",
       "\" application-id=\"application_1654087977069_0002\">Link</a></td><td><a target=\"_blank\" href=\"http://ip-172-31-18-10.ec2.internal:8042/node/containerlogs/container_1654087977069_0002_01_000001/livy\" >Link</a></td><td></td></tr><tr><td>3</td><td>application_1654087977069_0004</td><td>pyspark</td><td>idle</td><td><a target=\"_blank\" href=\"http://ip-172-31-29-255.ec2.internal:20888/proxy/application_1654087977069_0004/\" class=\"emr-proxy-link\" emr-resource=\"j-37DO1ZZSB91BA\n",
       "\" application-id=\"application_1654087977069_0004\">Link</a></td><td><a target=\"_blank\" href=\"http://ip-172-31-16-34.ec2.internal:8042/node/containerlogs/container_1654087977069_0004_01_000002/livy\" >Link</a></td><td>✔</td></tr></table>"
      ],
      "text/plain": [
       "<IPython.core.display.HTML object>"
      ]
     },
     "metadata": {},
     "output_type": "display_data"
    }
   ],
   "source": [
    "%%configure -f\n",
    "{ \"conf\":{\n",
    "          \"spark.pyspark.python\": \"python\",\n",
    "          \"spark.pyspark.virtualenv.enabled\": \"true\",\n",
    "          \"spark.pyspark.virtualenv.type\":\"native\",\n",
    "          \"spark.pyspark.virtualenv.bin.path\":\"/usr/bin/virtualenv\"\n",
    "         }\n",
    "}"
   ]
  },
  {
   "cell_type": "markdown",
   "id": "9c64846d-ea0b-4373-8d5a-eb7f9191d5f4",
   "metadata": {},
   "source": [
    "#### Installing Packages"
   ]
  },
  {
   "cell_type": "code",
   "execution_count": 4,
   "id": "54f952f3-8064-442e-918c-2a79a96b4c8c",
   "metadata": {
    "execution": {
     "iopub.execute_input": "2022-06-01T12:59:34.247623Z",
     "iopub.status.busy": "2022-06-01T12:59:34.247441Z",
     "iopub.status.idle": "2022-06-01T13:00:01.620733Z",
     "shell.execute_reply": "2022-06-01T13:00:01.620244Z",
     "shell.execute_reply.started": "2022-06-01T12:59:34.247601Z"
    },
    "scrolled": true,
    "tags": []
   },
   "outputs": [
    {
     "data": {
      "application/vnd.jupyter.widget-view+json": {
       "model_id": "6a2ad4165bac4afb8b5bc6c6c195a13c",
       "version_major": 2,
       "version_minor": 0
      },
      "text/plain": [
       "VBox()"
      ]
     },
     "metadata": {},
     "output_type": "display_data"
    },
    {
     "data": {
      "application/vnd.jupyter.widget-view+json": {
       "model_id": "",
       "version_major": 2,
       "version_minor": 0
      },
      "text/plain": [
       "FloatProgress(value=0.0, bar_style='info', description='Progress:', layout=Layout(height='25px', width='50%'),…"
      ]
     },
     "metadata": {},
     "output_type": "display_data"
    },
    {
     "name": "stdout",
     "output_type": "stream",
     "text": [
      "Collecting time\n",
      "\n",
      "Collecting cython\n",
      "  Using cached https://files.pythonhosted.org/packages/a5/a8/a8480dc84e4677f966839035a66f2fd3a8a63e44f246571d77afa9045769/Cython-0.29.30-cp27-cp27mu-manylinux_2_5_x86_64.manylinux1_x86_64.whl\n",
      "Installing collected packages: cython\n",
      "Successfully installed cython-0.29.30\n",
      "\n",
      "Collecting boto3\n",
      "  Downloading https://files.pythonhosted.org/packages/5a/fd/d814f9cbefebbea88977628d11b860b5d564ba6f16f64c378e2da2a36405/boto3-1.17.112-py2.py3-none-any.whl (131kB)\n",
      "Collecting s3transfer<0.5.0,>=0.4.0 (from boto3)\n",
      "  Downloading https://files.pythonhosted.org/packages/63/d0/693477c688348654ddc21dcdce0817653a294aa43f41771084c25e7ff9c7/s3transfer-0.4.2-py2.py3-none-any.whl (79kB)\n",
      "Requirement already satisfied: jmespath<1.0.0,>=0.7.1 in /usr/lib/python2.7/site-packages (from boto3)\n",
      "Collecting botocore<1.21.0,>=1.20.112 (from boto3)\n",
      "  Downloading https://files.pythonhosted.org/packages/c7/ea/11c3beca131920f552602b98d7ba9fc5b46bee6a59cbd48a95a85cbb8f41/botocore-1.20.112-py2.py3-none-any.whl (7.7MB)\n",
      "Requirement already satisfied: futures<4.0.0,>=2.2.0; python_version == \"2.7\" in /usr/lib/python2.7/site-packages (from s3transfer<0.5.0,>=0.4.0->boto3)\n",
      "Requirement already satisfied: urllib3<1.27,>=1.25.4 in /usr/lib/python2.7/site-packages (from botocore<1.21.0,>=1.20.112->boto3)\n",
      "Requirement already satisfied: python-dateutil<3.0.0,>=2.1 in /usr/lib/python2.7/site-packages (from botocore<1.21.0,>=1.20.112->boto3)\n",
      "Requirement already satisfied: six>=1.5 in /usr/lib/python2.7/site-packages (from python-dateutil<3.0.0,>=2.1->botocore<1.21.0,>=1.20.112->boto3)\n",
      "Installing collected packages: botocore, s3transfer, boto3\n",
      "  Found existing installation: botocore 1.18.6\n",
      "    Not uninstalling botocore at /usr/lib/python2.7/site-packages, outside environment /tmp/1654088371957-0\n",
      "  Found existing installation: s3transfer 0.3.3\n",
      "    Not uninstalling s3transfer at /usr/lib/python2.7/site-packages, outside environment /tmp/1654088371957-0\n",
      "Successfully installed boto3-1.17.112 botocore-1.20.112 s3transfer-0.4.2\n",
      "\n",
      "Collecting s3fs\n",
      "  Downloading https://files.pythonhosted.org/packages/c0/fa/10093c48f0def7878f8945429c699e36d73e49b90a282ace2b7a553ed020/s3fs-0.2.2.tar.gz (47kB)\n",
      "Requirement already satisfied: boto3>=1.9.91 in /mnt/tmp/1654088371957-0/lib/python2.7/site-packages (from s3fs)\n",
      "Requirement already satisfied: botocore>=1.12.91 in /mnt/tmp/1654088371957-0/lib/python2.7/site-packages (from s3fs)\n",
      "Collecting six>=1.12.0 (from s3fs)\n",
      "  Downloading https://files.pythonhosted.org/packages/d9/5a/e7c31adbe875f2abbb91bd84cf2dc52d792b5a01506781dbcf25c91daf11/six-1.16.0-py2.py3-none-any.whl\n",
      "Requirement already satisfied: s3transfer<0.5.0,>=0.4.0 in /mnt/tmp/1654088371957-0/lib/python2.7/site-packages (from boto3>=1.9.91->s3fs)\n",
      "Requirement already satisfied: jmespath<1.0.0,>=0.7.1 in /usr/lib/python2.7/site-packages (from boto3>=1.9.91->s3fs)\n",
      "Requirement already satisfied: urllib3<1.27,>=1.25.4 in /usr/lib/python2.7/site-packages (from botocore>=1.12.91->s3fs)\n",
      "Requirement already satisfied: python-dateutil<3.0.0,>=2.1 in /usr/lib/python2.7/site-packages (from botocore>=1.12.91->s3fs)\n",
      "Requirement already satisfied: futures<4.0.0,>=2.2.0; python_version == \"2.7\" in /usr/lib/python2.7/site-packages (from s3transfer<0.5.0,>=0.4.0->boto3>=1.9.91->s3fs)\n",
      "Building wheels for collected packages: s3fs\n",
      "  Running setup.py bdist_wheel for s3fs: started\n",
      "  Running setup.py bdist_wheel for s3fs: finished with status 'done'\n",
      "  Stored in directory: /var/lib/livy/.cache/pip/wheels/94/20/c9/b0256fe423de22bca83518fe0f7eba34ae1b9591a9d8c2d3b4\n",
      "Successfully built s3fs\n",
      "Installing collected packages: six, s3fs\n",
      "  Found existing installation: six 1.9.0\n",
      "    Not uninstalling six at /usr/lib/python2.7/site-packages, outside environment /tmp/1654088371957-0\n",
      "Successfully installed s3fs-0.2.2 six-1.16.0\n",
      "\n",
      "Collecting pandas\n",
      "  Using cached https://files.pythonhosted.org/packages/db/83/7d4008ffc2988066ff37f6a0bb6d7b60822367dcb36ba5e39aa7801fda54/pandas-0.24.2-cp27-cp27mu-manylinux1_x86_64.whl\n",
      "Requirement already satisfied: python-dateutil>=2.5.0 in /usr/lib/python2.7/site-packages (from pandas)\n",
      "Requirement already satisfied: numpy>=1.12.0 in /usr/lib64/python2.7/site-packages (from pandas)\n",
      "Collecting pytz>=2011k (from pandas)\n",
      "  Using cached https://files.pythonhosted.org/packages/60/2e/dec1cc18c51b8df33c7c4d0a321b084cf38e1733b98f9d15018880fb4970/pytz-2022.1-py2.py3-none-any.whl\n",
      "Requirement already satisfied: six>=1.5 in /mnt/tmp/1654088371957-0/lib/python2.7/site-packages (from python-dateutil>=2.5.0->pandas)\n",
      "Installing collected packages: pytz, pandas\n",
      "Successfully installed pandas-0.24.2 pytz-2022.1\n",
      "\n",
      "Collecting matplotlib==3.1.1\n",
      "\n",
      "  Could not find a version that satisfies the requirement time (from versions: )\n",
      "No matching distribution found for time\n",
      "You are using pip version 9.0.1, however version 22.1.2 is available.\n",
      "You should consider upgrading via the 'pip install --upgrade pip' command.\n",
      "\n",
      "You are using pip version 9.0.1, however version 22.1.2 is available.\n",
      "You should consider upgrading via the 'pip install --upgrade pip' command.\n",
      "\n",
      "You are using pip version 9.0.1, however version 22.1.2 is available.\n",
      "You should consider upgrading via the 'pip install --upgrade pip' command.\n",
      "\n",
      "You are using pip version 9.0.1, however version 22.1.2 is available.\n",
      "You should consider upgrading via the 'pip install --upgrade pip' command.\n",
      "\n",
      "You are using pip version 9.0.1, however version 22.1.2 is available.\n",
      "You should consider upgrading via the 'pip install --upgrade pip' command.\n",
      "\n",
      "  Could not find a version that satisfies the requirement matplotlib==3.1.1 (from versions: 0.86, 0.86.1, 0.86.2, 0.91.0, 0.91.1, 1.0.1, 1.1.0, 1.1.1, 1.2.0, 1.2.1, 1.3.0, 1.3.1, 1.4.0, 1.4.1rc1, 1.4.1, 1.4.2, 1.4.3, 1.5.0, 1.5.1, 1.5.2, 1.5.3, 2.0.0b1, 2.0.0b2, 2.0.0b3, 2.0.0b4, 2.0.0rc1, 2.0.0rc2, 2.0.0, 2.0.1, 2.0.2, 2.1.0rc1, 2.1.0, 2.1.1, 2.1.2, 2.2.0rc1, 2.2.0, 2.2.2, 2.2.3, 2.2.4, 2.2.5)\n",
      "No matching distribution found for matplotlib==3.1.1\n",
      "You are using pip version 9.0.1, however version 22.1.2 is available.\n",
      "You should consider upgrading via the 'pip install --upgrade pip' command."
     ]
    }
   ],
   "source": [
    "#sc.uninstall_package('pandas')\n",
    "sc.install_pypi_package(\"time\")\n",
    "sc.install_pypi_package(\"cython\")\n",
    "sc.install_pypi_package(\"boto3\")\n",
    "sc.install_pypi_package(\"s3fs\")\n",
    "sc.install_pypi_package(\"pandas\") #Install pandas version 0.25.1 \n",
    "sc.install_pypi_package(\"matplotlib==3.1.1\")"
   ]
  },
  {
   "cell_type": "code",
   "execution_count": 5,
   "id": "4b7d4555-8a10-471d-8594-532991c5d1e0",
   "metadata": {
    "execution": {
     "iopub.execute_input": "2022-06-01T13:00:01.621657Z",
     "iopub.status.busy": "2022-06-01T13:00:01.621499Z",
     "iopub.status.idle": "2022-06-01T13:00:02.379706Z",
     "shell.execute_reply": "2022-06-01T13:00:02.379165Z",
     "shell.execute_reply.started": "2022-06-01T13:00:01.621637Z"
    },
    "scrolled": true,
    "tags": []
   },
   "outputs": [
    {
     "data": {
      "application/vnd.jupyter.widget-view+json": {
       "model_id": "48c93f83e73c47cfae057d1d54c922b9",
       "version_major": 2,
       "version_minor": 0
      },
      "text/plain": [
       "VBox()"
      ]
     },
     "metadata": {},
     "output_type": "display_data"
    },
    {
     "data": {
      "application/vnd.jupyter.widget-view+json": {
       "model_id": "",
       "version_major": 2,
       "version_minor": 0
      },
      "text/plain": [
       "FloatProgress(value=0.0, bar_style='info', description='Progress:', layout=Layout(height='25px', width='50%'),…"
      ]
     },
     "metadata": {},
     "output_type": "display_data"
    },
    {
     "name": "stdout",
     "output_type": "stream",
     "text": [
      "amazon-linux-extras (2.0.1)\n",
      "awscli (1.18.147)\n",
      "Babel (0.9.6)\n",
      "backports.ssl-match-hostname (3.5.0.1)\n",
      "beautifulsoup4 (4.9.3)\n",
      "boto3 (1.17.112)\n",
      "botocore (1.20.112)\n",
      "cffi (1.6.0)\n",
      "chardet (2.2.1)\n",
      "click (7.1.2)\n",
      "cloud-init (19.3)\n",
      "colorama (0.3.2)\n",
      "configobj (4.7.2)\n",
      "cryptography (1.7.2)\n",
      "Cython (0.29.30)\n",
      "docutils (0.12)\n",
      "ec2-hibinit-agent (1.0.2)\n",
      "enum34 (1.0.4)\n",
      "futures (3.0.5)\n",
      "hibagent (1.1.0)\n",
      "idna (2.4)\n",
      "iniparse (0.4)\n",
      "ipaddress (1.0.16)\n",
      "javapackages (1.0.0)\n",
      "Jinja2 (2.7.2)\n",
      "jmespath (0.9.3)\n",
      "joblib (0.14.1)\n",
      "jsonpatch (1.2)\n",
      "jsonpointer (1.9)\n",
      "jsonschema (2.5.1)\n",
      "jwcrypto (0.4.2)\n",
      "kitchen (1.1.1)\n",
      "langtable (0.0.31)\n",
      "lockfile (0.9.1)\n",
      "lxml (3.2.1)\n",
      "MarkupSafe (0.11)\n",
      "mysqlclient (1.4.2)\n",
      "nltk (3.6.5)\n",
      "nose (1.3.4)\n",
      "numpy (1.16.5)\n",
      "oauthlib (2.0.1)\n",
      "pandas (0.24.2)\n",
      "Pillow (2.0.0)\n",
      "pip (9.0.1)\n",
      "ply (3.4)\n",
      "pyasn1 (0.1.9)\n",
      "pycparser (2.14)\n",
      "pycurl (7.19.0)\n",
      "pygpgme (0.3)\n",
      "pyliblzma (0.5.3)\n",
      "pyparsing (1.5.6)\n",
      "pystache (0.5.3)\n",
      "python-daemon (1.6)\n",
      "python-dateutil (2.6.0)\n",
      "python27-sagemaker-pyspark (1.4.1)\n",
      "pytz (2022.1)\n",
      "pyxattr (0.5.1)\n",
      "PyYAML (3.10)\n",
      "regex (2021.10.21)\n",
      "repoze.lru (0.4)\n",
      "requests (2.6.0)\n",
      "rpm-python (4.11.3)\n",
      "rsa (3.4.1)\n",
      "s3fs (0.2.2)\n",
      "s3transfer (0.4.2)\n",
      "setuptools (28.8.0)\n",
      "simplejson (3.2.0)\n",
      "six (1.16.0)\n",
      "tqdm (4.62.3)\n",
      "urlgrabber (3.10)\n",
      "urllib3 (1.25.9)\n",
      "virtualenv (15.1.0)\n",
      "wheel (0.29.0)\n",
      "windmill (1.6)\n",
      "yum-langpacks (0.4.2)\n",
      "yum-metadata-parser (1.1.4)\n",
      "\n",
      "DEPRECATION: The default format will switch to columns in the future. You can use --format=(legacy|columns) (or define a format=(legacy|columns) in your pip.conf under the [list] section) to disable this warning.\n",
      "You are using pip version 9.0.1, however version 22.1.2 is available.\n",
      "You should consider upgrading via the 'pip install --upgrade pip' command."
     ]
    }
   ],
   "source": [
    "sc.list_packages()"
   ]
  },
  {
   "cell_type": "markdown",
   "id": "c5fd3fc8-1fef-42f3-bc1d-1e8524cb02f4",
   "metadata": {},
   "source": [
    "#### Fetch Data"
   ]
  },
  {
   "cell_type": "code",
   "execution_count": 6,
   "id": "dad1c8ba-3ec4-48d9-9e26-0d4132b914c3",
   "metadata": {
    "execution": {
     "iopub.execute_input": "2022-06-01T13:00:02.380621Z",
     "iopub.status.busy": "2022-06-01T13:00:02.380464Z",
     "iopub.status.idle": "2022-06-01T13:00:07.665827Z",
     "shell.execute_reply": "2022-06-01T13:00:07.665322Z",
     "shell.execute_reply.started": "2022-06-01T13:00:02.380600Z"
    },
    "tags": []
   },
   "outputs": [
    {
     "data": {
      "application/vnd.jupyter.widget-view+json": {
       "model_id": "53eb6e4c95804ed2a655dcea54b1b173",
       "version_major": 2,
       "version_minor": 0
      },
      "text/plain": [
       "VBox()"
      ]
     },
     "metadata": {},
     "output_type": "display_data"
    },
    {
     "data": {
      "application/vnd.jupyter.widget-view+json": {
       "model_id": "",
       "version_major": 2,
       "version_minor": 0
      },
      "text/plain": [
       "FloatProgress(value=0.0, bar_style='info', description='Progress:', layout=Layout(height='25px', width='50%'),…"
      ]
     },
     "metadata": {},
     "output_type": "display_data"
    }
   ],
   "source": [
    "df_2019=spark.read.parquet(\"s3://pas-biogen-sagemaker/Antony/Ongoing_Output/2019_historical/part-00000-aa403f3a-0fe6-4c9b-a1f2-9b83b9f27ae8-c000.snappy.parquet\")\n",
    "df_2020=spark.read.parquet(\"s3://pas-biogen-sagemaker/Antony/Ongoing_Output/2020_Historical/part-00000-8d4e6c0f-e97d-4dcd-8b91-994ef76de8c9-c000.snappy.parquet\")\n",
    "df_2021=spark.read.parquet(\"s3://pas-biogen-sagemaker/Antony/Ongoing_Output/2021_historical/part-00000-2a96728d-965e-40ed-8c27-1f828c7d9e77-c000.snappy.parquet\")"
   ]
  },
  {
   "cell_type": "markdown",
   "id": "c2cff57b-fd03-4fc7-9c14-56b14ac37a50",
   "metadata": {},
   "source": [
    "#### Count of Patients"
   ]
  },
  {
   "cell_type": "code",
   "execution_count": 7,
   "id": "49e216c1-0f67-4656-abba-033182e38ef3",
   "metadata": {
    "execution": {
     "iopub.execute_input": "2022-06-01T13:00:07.666736Z",
     "iopub.status.busy": "2022-06-01T13:00:07.666577Z",
     "iopub.status.idle": "2022-06-01T13:00:14.966271Z",
     "shell.execute_reply": "2022-06-01T13:00:14.965620Z",
     "shell.execute_reply.started": "2022-06-01T13:00:07.666715Z"
    },
    "tags": []
   },
   "outputs": [
    {
     "data": {
      "application/vnd.jupyter.widget-view+json": {
       "model_id": "c3db49fde24c4ac59ac21839c6e3b0ce",
       "version_major": 2,
       "version_minor": 0
      },
      "text/plain": [
       "VBox()"
      ]
     },
     "metadata": {},
     "output_type": "display_data"
    },
    {
     "data": {
      "application/vnd.jupyter.widget-view+json": {
       "model_id": "",
       "version_major": 2,
       "version_minor": 0
      },
      "text/plain": [
       "FloatProgress(value=0.0, bar_style='info', description='Progress:', layout=Layout(height='25px', width='50%'),…"
      ]
     },
     "metadata": {},
     "output_type": "display_data"
    },
    {
     "name": "stdout",
     "output_type": "stream",
     "text": [
      "('No of unique patients in 2019 - ', 92928)\n",
      "('No of unique patients in 2020 - ', 91360)\n",
      "('No of unique patients in 2021 - ', 60500)"
     ]
    }
   ],
   "source": [
    "print(\"No of unique patients in 2019 - \",df_2019[['patient_key']].distinct().count())\n",
    "print(\"No of unique patients in 2020 - \",df_2020[['patient_key']].distinct().count())\n",
    "print(\"No of unique patients in 2021 - \",df_2021[['patient_key']].distinct().count())"
   ]
  },
  {
   "cell_type": "code",
   "execution_count": 8,
   "id": "91f46177-ea4a-4bd8-a302-ec53ea1099dd",
   "metadata": {
    "execution": {
     "iopub.execute_input": "2022-06-01T13:00:14.968857Z",
     "iopub.status.busy": "2022-06-01T13:00:14.968651Z",
     "iopub.status.idle": "2022-06-01T13:00:15.018469Z",
     "shell.execute_reply": "2022-06-01T13:00:15.017855Z",
     "shell.execute_reply.started": "2022-06-01T13:00:14.968834Z"
    },
    "tags": []
   },
   "outputs": [
    {
     "data": {
      "application/vnd.jupyter.widget-view+json": {
       "model_id": "1b3acb1fb38f4736b8875053194ace45",
       "version_major": 2,
       "version_minor": 0
      },
      "text/plain": [
       "VBox()"
      ]
     },
     "metadata": {},
     "output_type": "display_data"
    },
    {
     "data": {
      "application/vnd.jupyter.widget-view+json": {
       "model_id": "",
       "version_major": 2,
       "version_minor": 0
      },
      "text/plain": [
       "FloatProgress(value=0.0, bar_style='info', description='Progress:', layout=Layout(height='25px', width='50%'),…"
      ]
     },
     "metadata": {},
     "output_type": "display_data"
    },
    {
     "name": "stdout",
     "output_type": "stream",
     "text": [
      "['patient_key', 'UMLS_CUI', 'provider_id', 'facility_id', 'text', 'label', 'negex', 'span', 'UMLS_Name', 'TUIs', 'Child_semantic_label', 'Parent_semantic_label', 'Similarity_Score', 'Thought_Disturbance', 'Abnormal_Behavior', 'Suicidal_Intent', 'Disorientated', 'Mental_Health_Impairment', 'Memory_Loss', 'Clouded_Consciousness', 'Agitation', 'Congnitive_Impairment', 'Alzheimer', 'pat_last_name', 'pat_first_name', 'pat_mrn', 'pat_dob', 'pat_gender', 'pat_race', 'pat_ethinicity', 'pat_city', 'pat_zip', 'pat_county', 'pat_state', 'pat_country', 'pat_marital_status', 'pat_smoking_status', 'pat_status']"
     ]
    }
   ],
   "source": [
    "df_2019.columns"
   ]
  },
  {
   "cell_type": "markdown",
   "id": "ca01e736-a5d0-4838-bf10-11720d8353c1",
   "metadata": {},
   "source": [
    "#### Calculating Age"
   ]
  },
  {
   "cell_type": "code",
   "execution_count": 9,
   "id": "0ba279b0-c6a4-47cb-858a-031d57ea0898",
   "metadata": {
    "execution": {
     "iopub.execute_input": "2022-06-01T13:00:15.020313Z",
     "iopub.status.busy": "2022-06-01T13:00:15.020065Z",
     "iopub.status.idle": "2022-06-01T13:00:16.292010Z",
     "shell.execute_reply": "2022-06-01T13:00:16.291495Z",
     "shell.execute_reply.started": "2022-06-01T13:00:15.020279Z"
    },
    "tags": []
   },
   "outputs": [
    {
     "data": {
      "application/vnd.jupyter.widget-view+json": {
       "model_id": "c5e159b692aa4b8da4693c7e0ec07902",
       "version_major": 2,
       "version_minor": 0
      },
      "text/plain": [
       "VBox()"
      ]
     },
     "metadata": {},
     "output_type": "display_data"
    },
    {
     "data": {
      "application/vnd.jupyter.widget-view+json": {
       "model_id": "",
       "version_major": 2,
       "version_minor": 0
      },
      "text/plain": [
       "FloatProgress(value=0.0, bar_style='info', description='Progress:', layout=Layout(height='25px', width='50%'),…"
      ]
     },
     "metadata": {},
     "output_type": "display_data"
    },
    {
     "name": "stdout",
     "output_type": "stream",
     "text": [
      "+----------+-------+\n",
      "|   pat_dob|pat_age|\n",
      "+----------+-------+\n",
      "|05-05-1966|     56|\n",
      "|05-05-1966|     56|\n",
      "|05-05-1966|     56|\n",
      "|05-05-1966|     56|\n",
      "|05-05-1966|     56|\n",
      "+----------+-------+\n",
      "only showing top 5 rows"
     ]
    }
   ],
   "source": [
    "from pyspark.sql.functions import substring, col\n",
    "#Result\n",
    "df_2019 = df_2019.withColumn(\"year\", substring(col(\"pat_dob\"), 7, 10))\n",
    "df_2019 = df_2019.withColumn(\"age\", (2022 - df_2019['year']))\n",
    "df_2019 = df_2019.withColumn(\"pat_age\",df_2019.age.cast('int'))\n",
    "\n",
    "df_2020 = df_2020.withColumn(\"year\", substring(col(\"pat_dob\"), 7, 10))\n",
    "df_2020 = df_2020.withColumn(\"age\", (2022 - df_2020['year']))\n",
    "df_2020 = df_2020.withColumn(\"pat_age\",df_2020.age.cast('int'))\n",
    "\n",
    "df_2021 = df_2021.withColumn(\"year\", substring(col(\"pat_dob\"), 7, 10))\n",
    "df_2021 = df_2021.withColumn(\"age\", (2022 - df_2021['year']))\n",
    "df_2021 = df_2021.withColumn(\"pat_age\",df_2021.age.cast('int'))\n",
    "\n",
    "df_2019[['pat_dob','pat_age']].show(5)"
   ]
  },
  {
   "cell_type": "code",
   "execution_count": 10,
   "id": "a7030f8e-6215-431f-919e-c953a406697f",
   "metadata": {
    "execution": {
     "iopub.execute_input": "2022-06-01T13:00:16.292966Z",
     "iopub.status.busy": "2022-06-01T13:00:16.292801Z",
     "iopub.status.idle": "2022-06-01T13:00:17.054807Z",
     "shell.execute_reply": "2022-06-01T13:00:17.054311Z",
     "shell.execute_reply.started": "2022-06-01T13:00:16.292944Z"
    },
    "tags": []
   },
   "outputs": [
    {
     "data": {
      "application/vnd.jupyter.widget-view+json": {
       "model_id": "e1a26cb3d98b4d2d83c0192fc27cd159",
       "version_major": 2,
       "version_minor": 0
      },
      "text/plain": [
       "VBox()"
      ]
     },
     "metadata": {},
     "output_type": "display_data"
    },
    {
     "data": {
      "application/vnd.jupyter.widget-view+json": {
       "model_id": "",
       "version_major": 2,
       "version_minor": 0
      },
      "text/plain": [
       "FloatProgress(value=0.0, bar_style='info', description='Progress:', layout=Layout(height='25px', width='50%'),…"
      ]
     },
     "metadata": {},
     "output_type": "display_data"
    }
   ],
   "source": [
    "from pyspark.sql.functions import *\n",
    "df_2019 = df_2019.withColumn('Thought_Disturbance', regexp_replace('Thought_Disturbance', 'false', '0'))\n",
    "df_2019 = df_2019.withColumn('Thought_Disturbance', regexp_replace('Thought_Disturbance', 'true', '1'))\n",
    "df_2019 = df_2019.withColumn('Abnormal_Behavior', regexp_replace('Abnormal_Behavior', 'false', '0'))\n",
    "df_2019 = df_2019.withColumn('Abnormal_Behavior', regexp_replace('Abnormal_Behavior', 'true', '1'))\n",
    "df_2019 = df_2019.withColumn('Suicidal_Intent', regexp_replace('Suicidal_Intent', 'false', '0'))\n",
    "df_2019 = df_2019.withColumn('Suicidal_Intent', regexp_replace('Suicidal_Intent', 'true', '1'))\n",
    "df_2019 = df_2019.withColumn('Disorientated', regexp_replace('Disorientated', 'false', '0'))\n",
    "df_2019 = df_2019.withColumn('Disorientated', regexp_replace('Disorientated', 'true', '1'))\n",
    "df_2019 = df_2019.withColumn('Mental_Health_Impairment', regexp_replace('Mental_Health_Impairment', 'false', '0'))\n",
    "df_2019 = df_2019.withColumn('Mental_Health_Impairment', regexp_replace('Mental_Health_Impairment', 'true', '1'))\n",
    "df_2019 = df_2019.withColumn('Memory_Loss', regexp_replace('Memory_Loss', 'false', '0'))\n",
    "df_2019 = df_2019.withColumn('Memory_Loss', regexp_replace('Memory_Loss', 'true', '1'))\n",
    "df_2019 = df_2019.withColumn('Clouded_Consciousness', regexp_replace('Clouded_Consciousness', 'false', '0'))\n",
    "df_2019 = df_2019.withColumn('Clouded_Consciousness', regexp_replace('Clouded_Consciousness', 'true', '1'))\n",
    "df_2019 = df_2019.withColumn('Agitation', regexp_replace('Agitation', 'false', '0'))\n",
    "df_2019 = df_2019.withColumn('Agitation', regexp_replace('Agitation', 'true', '1'))\n",
    "df_2019 = df_2019.withColumn('Congnitive_Impairment', regexp_replace('Congnitive_Impairment', 'false', '0'))\n",
    "df_2019 = df_2019.withColumn('Congnitive_Impairment', regexp_replace('Congnitive_Impairment', 'true', '1'))\n",
    "df_2019 = df_2019.withColumn('Alzheimer', regexp_replace('Alzheimer', 'false', '0'))\n",
    "df_2019 = df_2019.withColumn('Alzheimer', regexp_replace('Alzheimer', 'true', '1'))\n",
    "df_2020 = df_2020.withColumn('Thought_Disturbance', regexp_replace('Thought_Disturbance', 'false', '0'))\n",
    "df_2020 = df_2020.withColumn('Thought_Disturbance', regexp_replace('Thought_Disturbance', 'true', '1'))\n",
    "df_2020 = df_2020.withColumn('Abnormal_Behavior', regexp_replace('Abnormal_Behavior', 'false', '0'))\n",
    "df_2020 = df_2020.withColumn('Abnormal_Behavior', regexp_replace('Abnormal_Behavior', 'true', '1'))\n",
    "df_2020 = df_2020.withColumn('Suicidal_Intent', regexp_replace('Suicidal_Intent', 'false', '0'))\n",
    "df_2020 = df_2020.withColumn('Suicidal_Intent', regexp_replace('Suicidal_Intent', 'true', '1'))\n",
    "df_2020 = df_2020.withColumn('Disorientated', regexp_replace('Disorientated', 'false', '0'))\n",
    "df_2020 = df_2020.withColumn('Disorientated', regexp_replace('Disorientated', 'true', '1'))\n",
    "df_2020 = df_2020.withColumn('Mental_Health_Impairment', regexp_replace('Mental_Health_Impairment', 'false', '0'))\n",
    "df_2020 = df_2020.withColumn('Mental_Health_Impairment', regexp_replace('Mental_Health_Impairment', 'true', '1'))\n",
    "df_2020 = df_2020.withColumn('Memory_Loss', regexp_replace('Memory_Loss', 'false', '0'))\n",
    "df_2020 = df_2020.withColumn('Memory_Loss', regexp_replace('Memory_Loss', 'true', '1'))\n",
    "df_2020 = df_2020.withColumn('Clouded_Consciousness', regexp_replace('Clouded_Consciousness', 'false', '0'))\n",
    "df_2020 = df_2020.withColumn('Clouded_Consciousness', regexp_replace('Clouded_Consciousness', 'true', '1'))\n",
    "df_2020 = df_2020.withColumn('Agitation', regexp_replace('Agitation', 'false', '0'))\n",
    "df_2020 = df_2020.withColumn('Agitation', regexp_replace('Agitation', 'true', '1'))\n",
    "df_2020 = df_2020.withColumn('Congnitive_Impairment', regexp_replace('Congnitive_Impairment', 'false', '0'))\n",
    "df_2020 = df_2020.withColumn('Congnitive_Impairment', regexp_replace('Congnitive_Impairment', 'true', '1'))\n",
    "df_2020 = df_2020.withColumn('Alzheimer', regexp_replace('Alzheimer', 'false', '0'))\n",
    "df_2020 = df_2020.withColumn('Alzheimer', regexp_replace('Alzheimer', 'true', '1'))\n",
    "df_2021 = df_2021.withColumn('Thought_Disturbance', regexp_replace('Thought_Disturbance', 'false', '0'))\n",
    "df_2021 = df_2021.withColumn('Thought_Disturbance', regexp_replace('Thought_Disturbance', 'true', '1'))\n",
    "df_2021 = df_2021.withColumn('Abnormal_Behavior', regexp_replace('Abnormal_Behavior', 'false', '0'))\n",
    "df_2021 = df_2021.withColumn('Abnormal_Behavior', regexp_replace('Abnormal_Behavior', 'true', '1'))\n",
    "df_2021 = df_2021.withColumn('Suicidal_Intent', regexp_replace('Suicidal_Intent', 'false', '0'))\n",
    "df_2021 = df_2021.withColumn('Suicidal_Intent', regexp_replace('Suicidal_Intent', 'true', '1'))\n",
    "df_2021 = df_2021.withColumn('Disorientated', regexp_replace('Disorientated', 'false', '0'))\n",
    "df_2021 = df_2021.withColumn('Disorientated', regexp_replace('Disorientated', 'true', '1'))\n",
    "df_2021 = df_2021.withColumn('Mental_Health_Impairment', regexp_replace('Mental_Health_Impairment', 'false', '0'))\n",
    "df_2021 = df_2021.withColumn('Mental_Health_Impairment', regexp_replace('Mental_Health_Impairment', 'true', '1'))\n",
    "df_2021 = df_2021.withColumn('Memory_Loss', regexp_replace('Memory_Loss', 'false', '0'))\n",
    "df_2021 = df_2021.withColumn('Memory_Loss', regexp_replace('Memory_Loss', 'true', '1'))\n",
    "df_2021 = df_2021.withColumn('Clouded_Consciousness', regexp_replace('Clouded_Consciousness', 'false', '0'))\n",
    "df_2021 = df_2021.withColumn('Clouded_Consciousness', regexp_replace('Clouded_Consciousness', 'true', '1'))\n",
    "df_2021 = df_2021.withColumn('Agitation', regexp_replace('Agitation', 'false', '0'))\n",
    "df_2021 = df_2021.withColumn('Agitation', regexp_replace('Agitation', 'true', '1'))\n",
    "df_2021 = df_2021.withColumn('Congnitive_Impairment', regexp_replace('Congnitive_Impairment', 'false', '0'))\n",
    "df_2021 = df_2021.withColumn('Congnitive_Impairment', regexp_replace('Congnitive_Impairment', 'true', '1'))\n",
    "df_2021 = df_2021.withColumn('Alzheimer', regexp_replace('Alzheimer', 'false', '0'))\n",
    "df_2021 = df_2021.withColumn('Alzheimer', regexp_replace('Alzheimer', 'true', '1'))"
   ]
  },
  {
   "cell_type": "markdown",
   "id": "67a76bfa-0017-42e6-8e31-40d410b9e40e",
   "metadata": {
    "execution": {
     "iopub.execute_input": "2022-05-28T16:49:49.156916Z",
     "iopub.status.busy": "2022-05-28T16:49:49.156692Z",
     "iopub.status.idle": "2022-05-28T16:49:49.201227Z",
     "shell.execute_reply": "2022-05-28T16:49:49.200707Z",
     "shell.execute_reply.started": "2022-05-28T16:49:49.156891Z"
    }
   },
   "source": [
    "#### Aggregating the outputs"
   ]
  },
  {
   "cell_type": "code",
   "execution_count": 11,
   "id": "9650c656-bcfb-49f4-888c-68a38a5b2dde",
   "metadata": {
    "execution": {
     "iopub.execute_input": "2022-06-01T13:00:17.055783Z",
     "iopub.status.busy": "2022-06-01T13:00:17.055620Z",
     "iopub.status.idle": "2022-06-01T13:00:17.417648Z",
     "shell.execute_reply": "2022-06-01T13:00:17.417112Z",
     "shell.execute_reply.started": "2022-06-01T13:00:17.055762Z"
    },
    "tags": []
   },
   "outputs": [
    {
     "data": {
      "application/vnd.jupyter.widget-view+json": {
       "model_id": "3b2811f457fd47e1ae047105ceb68dc2",
       "version_major": 2,
       "version_minor": 0
      },
      "text/plain": [
       "VBox()"
      ]
     },
     "metadata": {},
     "output_type": "display_data"
    },
    {
     "data": {
      "application/vnd.jupyter.widget-view+json": {
       "model_id": "",
       "version_major": 2,
       "version_minor": 0
      },
      "text/plain": [
       "FloatProgress(value=0.0, bar_style='info', description='Progress:', layout=Layout(height='25px', width='50%'),…"
      ]
     },
     "metadata": {},
     "output_type": "display_data"
    }
   ],
   "source": [
    "from pyspark.sql import functions as F\n",
    "\n",
    "# Overall Data\n",
    "df_ov_2019 = df_2019.groupBy(df_2019['patient_key']).agg(F.first(df_2019['pat_first_name']), F.first(df_2019['pat_last_name']),F.first(df_2019['pat_mrn']),F.first(df_2019['pat_gender']),F.first(df_2019['pat_race']),F.first(df_2019['pat_ethinicity']),F.first(df_2019['pat_city']),F.first(df_2019['pat_zip']),F.first(df_2019['pat_county']),F.first(df_2019['pat_state']),F.first(df_2019['pat_marital_status']),F.first(df_2019['pat_smoking_status']),F.first(df_2019['pat_status']),\n",
    "                                                   F.first(df_2019['pat_dob']),F.max(df_2019['pat_age']),F.max(df_2019['Thought_Disturbance']), F.max(df_2019['Abnormal_Behavior']), F.max(df_2019['Suicidal_Intent']), F.max(df_2019['Disorientated']), F.max(df_2019['Mental_Health_Impairment']), F.max(df_2019['Memory_Loss']), F.max(df_2019['Clouded_Consciousness']), F.max(df_2019['Agitation']), F.max(df_2019['Congnitive_Impairment']),F.max(df_2019['Alzheimer']))\n",
    "\n",
    "\n",
    "df_ov_2020 = df_2020.groupBy(df_2020['patient_key']).agg(F.first(df_2020['pat_first_name']), F.first(df_2020['pat_last_name']),F.first(df_2020['pat_mrn']),F.first(df_2020['pat_gender']),F.first(df_2020['pat_race']),F.first(df_2020['pat_ethinicity']),F.first(df_2020['pat_city']),F.first(df_2020['pat_zip']),F.first(df_2020['pat_county']),F.first(df_2020['pat_state']),F.first(df_2020['pat_marital_status']),F.first(df_2020['pat_smoking_status']),F.first(df_2020['pat_status']),\n",
    "                                                   F.max(df_2020['pat_dob']),F.max(df_2020['pat_age']),F.max(df_2020['Thought_Disturbance']), F.max(df_2020['Abnormal_Behavior']), F.max(df_2020['Suicidal_Intent']), F.max(df_2020['Disorientated']), F.max(df_2020['Mental_Health_Impairment']), F.max(df_2020['Memory_Loss']), F.max(df_2020['Clouded_Consciousness']), F.max(df_2020['Agitation']), F.max(df_2020['Congnitive_Impairment']),F.max(df_2020['Alzheimer']))\n",
    "\n",
    "\n",
    "\n",
    "df_ov_2021 = df_2021.groupBy(df_2021['patient_key']).agg(F.first(df_2021['pat_first_name']), F.first(df_2021['pat_last_name']),F.first(df_2021['pat_mrn']),F.first(df_2021['pat_gender']),F.first(df_2021['pat_race']),F.first(df_2021['pat_ethinicity']),F.first(df_2021['pat_city']),F.first(df_2021['pat_zip']),F.first(df_2021['pat_county']),F.first(df_2021['pat_state']),F.first(df_2021['pat_marital_status']),F.first(df_2021['pat_smoking_status']),F.first(df_2021['pat_status']),\n",
    "                                                   F.max(df_2021['pat_dob']),F.max(df_2021['pat_age']),F.max(df_2021['Thought_Disturbance']), F.max(df_2021['Abnormal_Behavior']), F.max(df_2021['Suicidal_Intent']), F.max(df_2021['Disorientated']), F.max(df_2021['Mental_Health_Impairment']), F.max(df_2021['Memory_Loss']), F.max(df_2021['Clouded_Consciousness']), F.max(df_2021['Agitation']), F.max(df_2021['Congnitive_Impairment']),F.max(df_2021['Alzheimer']))"
   ]
  },
  {
   "cell_type": "code",
   "execution_count": 12,
   "id": "d50c733b-dadd-4daa-b2b2-cdf56d6095d0",
   "metadata": {
    "execution": {
     "iopub.execute_input": "2022-06-01T13:00:17.418603Z",
     "iopub.status.busy": "2022-06-01T13:00:17.418444Z",
     "iopub.status.idle": "2022-06-01T13:00:17.672326Z",
     "shell.execute_reply": "2022-06-01T13:00:17.671763Z",
     "shell.execute_reply.started": "2022-06-01T13:00:17.418583Z"
    },
    "tags": []
   },
   "outputs": [
    {
     "data": {
      "application/vnd.jupyter.widget-view+json": {
       "model_id": "b9e929e7a1734e2fbb916d6377281252",
       "version_major": 2,
       "version_minor": 0
      },
      "text/plain": [
       "VBox()"
      ]
     },
     "metadata": {},
     "output_type": "display_data"
    },
    {
     "data": {
      "application/vnd.jupyter.widget-view+json": {
       "model_id": "",
       "version_major": 2,
       "version_minor": 0
      },
      "text/plain": [
       "FloatProgress(value=0.0, bar_style='info', description='Progress:', layout=Layout(height='25px', width='50%'),…"
      ]
     },
     "metadata": {},
     "output_type": "display_data"
    }
   ],
   "source": [
    "#Rename Columns\n",
    "overall_names = ['patient_key', 'pat_first_name', 'pat_last_name', 'pat_mrn', 'pat_gender', 'pat_race', 'pat_ethinicity', 'pat_city', 'pat_zip', 'pat_county', 'pat_state', 'pat_marital_status', 'pat_smoking_status', 'pat_status', 'pat_dob','pat_age', 'Thought_Disturbance', 'Abnormal_Behavior', 'Suicidal_Intent', 'Disorientated', 'Mental_Health_Impairment', 'Memory_Loss', 'Clouded_Consciousness', 'Agitation', 'Congnitive_Impairment', 'Alzheimer']\n",
    "df_ov_2019 = df_ov_2019.toDF(*overall_names)\n",
    "df_ov_2020 = df_ov_2020.toDF(*overall_names)\n",
    "df_ov_2021 = df_ov_2021.toDF(*overall_names)"
   ]
  },
  {
   "cell_type": "code",
   "execution_count": 13,
   "id": "71c24e90-9330-4717-8740-a01144fba2d2",
   "metadata": {
    "execution": {
     "iopub.execute_input": "2022-06-01T13:00:17.673264Z",
     "iopub.status.busy": "2022-06-01T13:00:17.673093Z",
     "iopub.status.idle": "2022-06-01T13:00:20.327888Z",
     "shell.execute_reply": "2022-06-01T13:00:20.327317Z",
     "shell.execute_reply.started": "2022-06-01T13:00:17.673243Z"
    },
    "tags": []
   },
   "outputs": [
    {
     "data": {
      "application/vnd.jupyter.widget-view+json": {
       "model_id": "8c8fd7cdda54478bb492e4acbc033cac",
       "version_major": 2,
       "version_minor": 0
      },
      "text/plain": [
       "VBox()"
      ]
     },
     "metadata": {},
     "output_type": "display_data"
    },
    {
     "data": {
      "application/vnd.jupyter.widget-view+json": {
       "model_id": "",
       "version_major": 2,
       "version_minor": 0
      },
      "text/plain": [
       "FloatProgress(value=0.0, bar_style='info', description='Progress:', layout=Layout(height='25px', width='50%'),…"
      ]
     },
     "metadata": {},
     "output_type": "display_data"
    },
    {
     "name": "stdout",
     "output_type": "stream",
     "text": [
      "92928"
     ]
    }
   ],
   "source": [
    "df_ov_2019.count()"
   ]
  },
  {
   "cell_type": "code",
   "execution_count": 14,
   "id": "e1773212-9cea-4a12-833d-3ccd2fd34bf5",
   "metadata": {
    "execution": {
     "iopub.execute_input": "2022-06-01T13:00:20.328814Z",
     "iopub.status.busy": "2022-06-01T13:00:20.328647Z",
     "iopub.status.idle": "2022-06-01T13:00:20.376444Z",
     "shell.execute_reply": "2022-06-01T13:00:20.375963Z",
     "shell.execute_reply.started": "2022-06-01T13:00:20.328792Z"
    },
    "tags": []
   },
   "outputs": [
    {
     "data": {
      "application/vnd.jupyter.widget-view+json": {
       "model_id": "14a56ce866fd4ad4916981ae606c4de0",
       "version_major": 2,
       "version_minor": 0
      },
      "text/plain": [
       "VBox()"
      ]
     },
     "metadata": {},
     "output_type": "display_data"
    },
    {
     "data": {
      "application/vnd.jupyter.widget-view+json": {
       "model_id": "",
       "version_major": 2,
       "version_minor": 0
      },
      "text/plain": [
       "FloatProgress(value=0.0, bar_style='info', description='Progress:', layout=Layout(height='25px', width='50%'),…"
      ]
     },
     "metadata": {},
     "output_type": "display_data"
    }
   ],
   "source": [
    "# Function to merge Dataframe\n",
    "from functools import reduce\n",
    "from pyspark.sql import DataFrame\n",
    "def unionAll(*dfs):\n",
    "    return reduce(DataFrame.unionAll, dfs)"
   ]
  },
  {
   "cell_type": "code",
   "execution_count": 15,
   "id": "bf2aec4b-641a-4de6-ba7c-5f186093a018",
   "metadata": {
    "execution": {
     "iopub.execute_input": "2022-06-01T13:00:20.377344Z",
     "iopub.status.busy": "2022-06-01T13:00:20.377185Z",
     "iopub.status.idle": "2022-06-01T13:00:20.631788Z",
     "shell.execute_reply": "2022-06-01T13:00:20.631264Z",
     "shell.execute_reply.started": "2022-06-01T13:00:20.377323Z"
    },
    "tags": []
   },
   "outputs": [
    {
     "data": {
      "application/vnd.jupyter.widget-view+json": {
       "model_id": "1ea736dba20e4e2694e582fcff5bcec0",
       "version_major": 2,
       "version_minor": 0
      },
      "text/plain": [
       "VBox()"
      ]
     },
     "metadata": {},
     "output_type": "display_data"
    },
    {
     "data": {
      "application/vnd.jupyter.widget-view+json": {
       "model_id": "",
       "version_major": 2,
       "version_minor": 0
      },
      "text/plain": [
       "FloatProgress(value=0.0, bar_style='info', description='Progress:', layout=Layout(height='25px', width='50%'),…"
      ]
     },
     "metadata": {},
     "output_type": "display_data"
    }
   ],
   "source": [
    "#Merge Dataframe\n",
    "df_overall = unionAll(df_ov_2019,df_ov_2020,df_ov_2021)"
   ]
  },
  {
   "cell_type": "code",
   "execution_count": 16,
   "id": "e5e0b63b-e02a-4bd1-b425-d3fc9f59bca0",
   "metadata": {
    "execution": {
     "iopub.execute_input": "2022-06-01T13:00:20.632713Z",
     "iopub.status.busy": "2022-06-01T13:00:20.632554Z",
     "iopub.status.idle": "2022-06-01T13:00:23.931822Z",
     "shell.execute_reply": "2022-06-01T13:00:23.931304Z",
     "shell.execute_reply.started": "2022-06-01T13:00:20.632692Z"
    },
    "tags": []
   },
   "outputs": [
    {
     "data": {
      "application/vnd.jupyter.widget-view+json": {
       "model_id": "393578b297d644fb9788eb0cad49c59e",
       "version_major": 2,
       "version_minor": 0
      },
      "text/plain": [
       "VBox()"
      ]
     },
     "metadata": {},
     "output_type": "display_data"
    },
    {
     "data": {
      "application/vnd.jupyter.widget-view+json": {
       "model_id": "",
       "version_major": 2,
       "version_minor": 0
      },
      "text/plain": [
       "FloatProgress(value=0.0, bar_style='info', description='Progress:', layout=Layout(height='25px', width='50%'),…"
      ]
     },
     "metadata": {},
     "output_type": "display_data"
    },
    {
     "name": "stdout",
     "output_type": "stream",
     "text": [
      "244788\n",
      "['patient_key', 'pat_first_name', 'pat_last_name', 'pat_mrn', 'pat_gender', 'pat_race', 'pat_ethinicity', 'pat_city', 'pat_zip', 'pat_county', 'pat_state', 'pat_marital_status', 'pat_smoking_status', 'pat_status', 'pat_dob', 'pat_age', 'Thought_Disturbance', 'Abnormal_Behavior', 'Suicidal_Intent', 'Disorientated', 'Mental_Health_Impairment', 'Memory_Loss', 'Clouded_Consciousness', 'Agitation', 'Congnitive_Impairment', 'Alzheimer']"
     ]
    }
   ],
   "source": [
    "print(df_overall.count())\n",
    "print(df_overall.columns)"
   ]
  },
  {
   "cell_type": "code",
   "execution_count": 17,
   "id": "859a1599-d3a1-440e-aa09-b1c26ff4a7e2",
   "metadata": {
    "execution": {
     "iopub.execute_input": "2022-06-01T13:00:23.932749Z",
     "iopub.status.busy": "2022-06-01T13:00:23.932597Z",
     "iopub.status.idle": "2022-06-01T13:00:24.184487Z",
     "shell.execute_reply": "2022-06-01T13:00:24.183988Z",
     "shell.execute_reply.started": "2022-06-01T13:00:23.932729Z"
    },
    "tags": []
   },
   "outputs": [
    {
     "data": {
      "application/vnd.jupyter.widget-view+json": {
       "model_id": "7c5fea17a82248f2891bed558cdfdcfb",
       "version_major": 2,
       "version_minor": 0
      },
      "text/plain": [
       "VBox()"
      ]
     },
     "metadata": {},
     "output_type": "display_data"
    },
    {
     "data": {
      "application/vnd.jupyter.widget-view+json": {
       "model_id": "",
       "version_major": 2,
       "version_minor": 0
      },
      "text/plain": [
       "FloatProgress(value=0.0, bar_style='info', description='Progress:', layout=Layout(height='25px', width='50%'),…"
      ]
     },
     "metadata": {},
     "output_type": "display_data"
    }
   ],
   "source": [
    "df_overall = df_overall.withColumn(\"pat_zip\",df_overall.pat_zip.cast('int'))\n",
    "df_overall = df_overall.withColumn('pat_gender', regexp_replace('pat_gender', 'Female', 'F'))\n",
    "df_overall = df_overall.withColumn('pat_gender', regexp_replace('pat_gender', 'Male', 'M'))"
   ]
  },
  {
   "cell_type": "code",
   "execution_count": 18,
   "id": "070038f7-804f-403d-b4e0-85cd03bd32ee",
   "metadata": {
    "execution": {
     "iopub.execute_input": "2022-06-01T13:00:24.185412Z",
     "iopub.status.busy": "2022-06-01T13:00:24.185251Z",
     "iopub.status.idle": "2022-06-01T13:00:24.439714Z",
     "shell.execute_reply": "2022-06-01T13:00:24.439205Z",
     "shell.execute_reply.started": "2022-06-01T13:00:24.185392Z"
    },
    "scrolled": true,
    "tags": []
   },
   "outputs": [
    {
     "data": {
      "application/vnd.jupyter.widget-view+json": {
       "model_id": "492ff22b5cdc46f5a0c00cd31b42798e",
       "version_major": 2,
       "version_minor": 0
      },
      "text/plain": [
       "VBox()"
      ]
     },
     "metadata": {},
     "output_type": "display_data"
    },
    {
     "data": {
      "application/vnd.jupyter.widget-view+json": {
       "model_id": "",
       "version_major": 2,
       "version_minor": 0
      },
      "text/plain": [
       "FloatProgress(value=0.0, bar_style='info', description='Progress:', layout=Layout(height='25px', width='50%'),…"
      ]
     },
     "metadata": {},
     "output_type": "display_data"
    }
   ],
   "source": [
    "df_overall = df_overall.groupBy(df_overall['patient_key']).agg(F.first(df_overall['pat_first_name']), F.first(df_overall['pat_last_name']),F.first(df_overall['pat_mrn']),F.first(df_overall['pat_gender']),F.first(df_overall['pat_race']),F.first(df_overall['pat_ethinicity']),F.first(df_overall['pat_city']),F.first(df_overall['pat_zip']),F.first(df_overall['pat_county']),F.first(df_overall['pat_state']),F.first(df_overall['pat_marital_status']),F.first(df_overall['pat_smoking_status']),F.first(df_overall['pat_status']),\n",
    "                                                   F.first(df_overall['pat_dob']),F.max(df_overall['pat_age']),F.max(df_overall['Thought_Disturbance']), F.max(df_overall['Abnormal_Behavior']), F.max(df_overall['Suicidal_Intent']), F.max(df_overall['Disorientated']), F.max(df_overall['Mental_Health_Impairment']), F.max(df_overall['Memory_Loss']), F.max(df_overall['Clouded_Consciousness']), F.max(df_overall['Agitation']), F.max(df_overall['Congnitive_Impairment']),F.max(df_overall['Alzheimer']))\n"
   ]
  },
  {
   "cell_type": "code",
   "execution_count": 19,
   "id": "f91c66af-0381-4aee-99a0-9a468b7ea5d9",
   "metadata": {
    "execution": {
     "iopub.execute_input": "2022-06-01T13:00:24.440632Z",
     "iopub.status.busy": "2022-06-01T13:00:24.440466Z",
     "iopub.status.idle": "2022-06-01T13:00:24.489753Z",
     "shell.execute_reply": "2022-06-01T13:00:24.489259Z",
     "shell.execute_reply.started": "2022-06-01T13:00:24.440611Z"
    },
    "tags": []
   },
   "outputs": [
    {
     "data": {
      "application/vnd.jupyter.widget-view+json": {
       "model_id": "c99bd2da19e848179f2b6a4461edfa72",
       "version_major": 2,
       "version_minor": 0
      },
      "text/plain": [
       "VBox()"
      ]
     },
     "metadata": {},
     "output_type": "display_data"
    },
    {
     "data": {
      "application/vnd.jupyter.widget-view+json": {
       "model_id": "",
       "version_major": 2,
       "version_minor": 0
      },
      "text/plain": [
       "FloatProgress(value=0.0, bar_style='info', description='Progress:', layout=Layout(height='25px', width='50%'),…"
      ]
     },
     "metadata": {},
     "output_type": "display_data"
    }
   ],
   "source": [
    "overall_names = ['patient_key', 'pat_first_name', 'pat_last_name', 'pat_mrn', 'pat_gender', 'pat_race', 'pat_ethinicity', 'pat_city', 'pat_zip', 'pat_county', 'pat_state', 'pat_marital_status', 'pat_smoking_status', 'pat_status', 'pat_dob','pat_age', 'Thought_Disturbance', 'Abnormal_Behavior', 'Suicidal_Intent', 'Disorientated', 'Mental_Health_Impairment', 'Memory_Loss', 'Clouded_Consciousness', 'Agitation', 'Congnitive_Impairment', 'Alzheimer']\n",
    "df_overall = df_overall.toDF(*overall_names)"
   ]
  },
  {
   "cell_type": "code",
   "execution_count": 20,
   "id": "f7b8ca89-e397-40d2-80e1-adc090076e67",
   "metadata": {
    "execution": {
     "iopub.execute_input": "2022-06-01T13:00:24.490648Z",
     "iopub.status.busy": "2022-06-01T13:00:24.490478Z",
     "iopub.status.idle": "2022-06-01T13:00:27.790714Z",
     "shell.execute_reply": "2022-06-01T13:00:27.790204Z",
     "shell.execute_reply.started": "2022-06-01T13:00:24.490627Z"
    },
    "tags": []
   },
   "outputs": [
    {
     "data": {
      "application/vnd.jupyter.widget-view+json": {
       "model_id": "8644aa70d59b46239cdf0283a1652437",
       "version_major": 2,
       "version_minor": 0
      },
      "text/plain": [
       "VBox()"
      ]
     },
     "metadata": {},
     "output_type": "display_data"
    },
    {
     "data": {
      "application/vnd.jupyter.widget-view+json": {
       "model_id": "",
       "version_major": 2,
       "version_minor": 0
      },
      "text/plain": [
       "FloatProgress(value=0.0, bar_style='info', description='Progress:', layout=Layout(height='25px', width='50%'),…"
      ]
     },
     "metadata": {},
     "output_type": "display_data"
    },
    {
     "name": "stdout",
     "output_type": "stream",
     "text": [
      "118671"
     ]
    }
   ],
   "source": [
    "df_overall.count()"
   ]
  },
  {
   "cell_type": "code",
   "execution_count": 21,
   "id": "6aa8c42a-053a-43e0-9d53-11d9fd4900bb",
   "metadata": {
    "execution": {
     "iopub.execute_input": "2022-06-01T13:00:27.791708Z",
     "iopub.status.busy": "2022-06-01T13:00:27.791505Z",
     "iopub.status.idle": "2022-06-01T13:00:28.042244Z",
     "shell.execute_reply": "2022-06-01T13:00:28.041752Z",
     "shell.execute_reply.started": "2022-06-01T13:00:27.791685Z"
    },
    "tags": []
   },
   "outputs": [
    {
     "data": {
      "application/vnd.jupyter.widget-view+json": {
       "model_id": "3d3f2a4292a744ebab545792c9562580",
       "version_major": 2,
       "version_minor": 0
      },
      "text/plain": [
       "VBox()"
      ]
     },
     "metadata": {},
     "output_type": "display_data"
    },
    {
     "data": {
      "application/vnd.jupyter.widget-view+json": {
       "model_id": "",
       "version_major": 2,
       "version_minor": 0
      },
      "text/plain": [
       "FloatProgress(value=0.0, bar_style='info', description='Progress:', layout=Layout(height='25px', width='50%'),…"
      ]
     },
     "metadata": {},
     "output_type": "display_data"
    }
   ],
   "source": [
    "#Patients having Alzheimer\n",
    "#Result\n",
    "df_alz = df_overall[df_overall['Alzheimer'] == 1].dropDuplicates()"
   ]
  },
  {
   "cell_type": "code",
   "execution_count": 22,
   "id": "b7a1905d-206b-48ba-b5e8-1b666db17441",
   "metadata": {
    "execution": {
     "iopub.execute_input": "2022-06-01T13:00:28.043163Z",
     "iopub.status.busy": "2022-06-01T13:00:28.043000Z",
     "iopub.status.idle": "2022-06-01T13:08:22.693844Z",
     "shell.execute_reply": "2022-06-01T13:08:22.693361Z",
     "shell.execute_reply.started": "2022-06-01T13:00:28.043142Z"
    },
    "tags": []
   },
   "outputs": [
    {
     "data": {
      "application/vnd.jupyter.widget-view+json": {
       "model_id": "8b67f12ab42143bba638674a5f98239e",
       "version_major": 2,
       "version_minor": 0
      },
      "text/plain": [
       "VBox()"
      ]
     },
     "metadata": {},
     "output_type": "display_data"
    },
    {
     "data": {
      "application/vnd.jupyter.widget-view+json": {
       "model_id": "",
       "version_major": 2,
       "version_minor": 0
      },
      "text/plain": [
       "FloatProgress(value=0.0, bar_style='info', description='Progress:', layout=Layout(height='25px', width='50%'),…"
      ]
     },
     "metadata": {},
     "output_type": "display_data"
    },
    {
     "name": "stdout",
     "output_type": "stream",
     "text": [
      "1676"
     ]
    }
   ],
   "source": [
    "df_alz.count()"
   ]
  },
  {
   "cell_type": "code",
   "execution_count": 23,
   "id": "41209507-2f69-4f8e-ab99-97e83ecd8a54",
   "metadata": {
    "execution": {
     "iopub.execute_input": "2022-06-01T13:08:22.695745Z",
     "iopub.status.busy": "2022-06-01T13:08:22.695554Z",
     "iopub.status.idle": "2022-06-01T13:17:25.472244Z",
     "shell.execute_reply": "2022-06-01T13:17:25.471745Z",
     "shell.execute_reply.started": "2022-06-01T13:08:22.695723Z"
    },
    "tags": []
   },
   "outputs": [
    {
     "data": {
      "application/vnd.jupyter.widget-view+json": {
       "model_id": "d0b56332e9044324ac2e307756f4fc57",
       "version_major": 2,
       "version_minor": 0
      },
      "text/plain": [
       "VBox()"
      ]
     },
     "metadata": {},
     "output_type": "display_data"
    },
    {
     "data": {
      "application/vnd.jupyter.widget-view+json": {
       "model_id": "",
       "version_major": 2,
       "version_minor": 0
      },
      "text/plain": [
       "FloatProgress(value=0.0, bar_style='info', description='Progress:', layout=Layout(height='25px', width='50%'),…"
      ]
     },
     "metadata": {},
     "output_type": "display_data"
    }
   ],
   "source": [
    "#Saving CSV\n",
    "df_overall.coalesce(1).write.format(\"csv\").mode(\"append\").save(\"s3://pas-biogen-sagemaker/Antony/Ongoing_Output/Alzheimer_Historical\",header = 'true')"
   ]
  },
  {
   "cell_type": "code",
   "execution_count": 23,
   "id": "04cc1c7f-74bc-4159-9313-6e3c62e82017",
   "metadata": {
    "execution": {
     "iopub.execute_input": "2022-05-29T06:50:52.805218Z",
     "iopub.status.busy": "2022-05-29T06:50:52.805059Z",
     "iopub.status.idle": "2022-05-29T06:50:58.084880Z",
     "shell.execute_reply": "2022-05-29T06:50:58.084374Z",
     "shell.execute_reply.started": "2022-05-29T06:50:52.805197Z"
    },
    "tags": []
   },
   "outputs": [
    {
     "data": {
      "application/vnd.jupyter.widget-view+json": {
       "model_id": "e1a4edfe10524fbcbab334546d6c8bc3",
       "version_major": 2,
       "version_minor": 0
      },
      "text/plain": [
       "VBox()"
      ]
     },
     "metadata": {},
     "output_type": "display_data"
    },
    {
     "data": {
      "application/vnd.jupyter.widget-view+json": {
       "model_id": "",
       "version_major": 2,
       "version_minor": 0
      },
      "text/plain": [
       "FloatProgress(value=0.0, bar_style='info', description='Progress:', layout=Layout(height='25px', width='50%'),…"
      ]
     },
     "metadata": {},
     "output_type": "display_data"
    },
    {
     "name": "stdout",
     "output_type": "stream",
     "text": [
      "('Total number of patients: ', 118671)"
     ]
    }
   ],
   "source": [
    "print(\"Total number of patients: \", df_overall[['patient_key']].distinct().count())"
   ]
  },
  {
   "cell_type": "code",
   "execution_count": 24,
   "id": "6462a0ac-49aa-4237-8dfb-4623b6999be8",
   "metadata": {
    "execution": {
     "iopub.execute_input": "2022-05-29T06:50:58.086165Z",
     "iopub.status.busy": "2022-05-29T06:50:58.086000Z",
     "iopub.status.idle": "2022-05-29T07:02:03.283852Z",
     "shell.execute_reply": "2022-05-29T07:02:03.283361Z",
     "shell.execute_reply.started": "2022-05-29T06:50:58.086144Z"
    },
    "tags": []
   },
   "outputs": [
    {
     "data": {
      "application/vnd.jupyter.widget-view+json": {
       "model_id": "328e1cb6c62149eb820beb9377661c24",
       "version_major": 2,
       "version_minor": 0
      },
      "text/plain": [
       "VBox()"
      ]
     },
     "metadata": {},
     "output_type": "display_data"
    },
    {
     "data": {
      "application/vnd.jupyter.widget-view+json": {
       "model_id": "",
       "version_major": 2,
       "version_minor": 0
      },
      "text/plain": [
       "FloatProgress(value=0.0, bar_style='info', description='Progress:', layout=Layout(height='25px', width='50%'),…"
      ]
     },
     "metadata": {},
     "output_type": "display_data"
    },
    {
     "name": "stdout",
     "output_type": "stream",
     "text": [
      "('Total number of patients having Alzheimer: ', 1676)"
     ]
    }
   ],
   "source": [
    "print(\"Total number of patients having Alzheimer: \", df_alz[['patient_key']].distinct().count())"
   ]
  },
  {
   "cell_type": "code",
   "execution_count": 26,
   "id": "d763b5d4-155d-4a05-938e-75eba907a63c",
   "metadata": {
    "execution": {
     "iopub.execute_input": "2022-05-29T07:13:26.964784Z",
     "iopub.status.busy": "2022-05-29T07:13:26.964629Z",
     "iopub.status.idle": "2022-05-29T09:09:48.332579Z",
     "shell.execute_reply": "2022-05-29T09:09:48.332017Z",
     "shell.execute_reply.started": "2022-05-29T07:13:26.964765Z"
    },
    "tags": []
   },
   "outputs": [
    {
     "data": {
      "application/vnd.jupyter.widget-view+json": {
       "model_id": "60c52406142d4c37a4974b165e4d51aa",
       "version_major": 2,
       "version_minor": 0
      },
      "text/plain": [
       "VBox()"
      ]
     },
     "metadata": {},
     "output_type": "display_data"
    },
    {
     "data": {
      "application/vnd.jupyter.widget-view+json": {
       "model_id": "",
       "version_major": 2,
       "version_minor": 0
      },
      "text/plain": [
       "FloatProgress(value=0.0, bar_style='info', description='Progress:', layout=Layout(height='25px', width='50%'),…"
      ]
     },
     "metadata": {},
     "output_type": "display_data"
    },
    {
     "name": "stdout",
     "output_type": "stream",
     "text": [
      "('Overall Thought_Disturbance', 4040)\n",
      "('Alzheimer Thought_Disturbance', 221)\n",
      "('Overall Abnormal_Behavior', 17466)\n",
      "('Alzheimer Abnormal_Behavior', 648)\n",
      "('Overall Suicidal_Intent', 7792)\n",
      "('Alzheimer Suicidal_Intent', 416)\n",
      "('Overall Disorientated', 804)\n",
      "('Alzheimer Disorientated', 93)\n",
      "('Overall Mental_Health_Impairment', 35292)\n",
      "('Alzheimer Mental_Health_Impairment', 1009)\n",
      "('Overall Memory_Loss', 16207)\n",
      "('Alzheimer Memory_Loss', 748)\n",
      "('Overall Clouded_Consciousness', 7695)\n",
      "('Alzheimer Clouded_Consciousness', 354)\n",
      "('Overall Agitation', 6870)\n",
      "('Alzheimer Agitation', 388)\n",
      "('Overall Congnitive_Impairment', 45311)\n",
      "('Alzheimer Congnitive_Impairment', 1256)"
     ]
    }
   ],
   "source": [
    "#Patients having Anchor features Overall vs ALZ\n",
    "### Thought_Disturbance\n",
    "all_Thought_Disturbance = df_overall[df_overall['Thought_Disturbance'] == 1].select('patient_key')\n",
    "print('Overall Thought_Disturbance', all_Thought_Disturbance[['patient_key']].distinct().count())\n",
    "alz_Thought_Disturbance = df_alz[df_alz['Thought_Disturbance'] == 1].select('patient_key')\n",
    "print('Alzheimer Thought_Disturbance', alz_Thought_Disturbance[['patient_key']].distinct().count())\n",
    "\n",
    "### Abnormal_Behavior\n",
    "all_Thought_Disturbance = df_overall[df_overall['Abnormal_Behavior'] == 1].select('patient_key')\n",
    "print('Overall Abnormal_Behavior', all_Thought_Disturbance[['patient_key']].distinct().count())\n",
    "alz_Thought_Disturbance = df_alz[df_alz['Abnormal_Behavior'] == 1].select('patient_key')\n",
    "print('Alzheimer Abnormal_Behavior', alz_Thought_Disturbance[['patient_key']].distinct().count())\n",
    "\n",
    "### Suicidal_Intent\n",
    "all_Thought_Disturbance = df_overall[df_overall['Suicidal_Intent'] == 1].select('patient_key')\n",
    "print('Overall Suicidal_Intent', all_Thought_Disturbance[['patient_key']].distinct().count())\n",
    "alz_Thought_Disturbance = df_alz[df_alz['Suicidal_Intent'] == 1].select('patient_key')\n",
    "print('Alzheimer Suicidal_Intent', alz_Thought_Disturbance[['patient_key']].distinct().count())\n",
    "\n",
    "### Disorientated\n",
    "all_Thought_Disturbance = df_overall[df_overall['Disorientated'] == 1].select('patient_key')\n",
    "print('Overall Disorientated', all_Thought_Disturbance[['patient_key']].distinct().count())\n",
    "alz_Thought_Disturbance = df_alz[df_alz['Disorientated'] == 1].select('patient_key')\n",
    "print('Alzheimer Disorientated', alz_Thought_Disturbance[['patient_key']].distinct().count())\n",
    "\n",
    "\n",
    "### Mental_Health_Impairment\n",
    "all_Mental_Health_Impairment = df_overall[df_overall['Mental_Health_Impairment'] == 1].select('patient_key')\n",
    "print('Overall Mental_Health_Impairment', all_Mental_Health_Impairment[['patient_key']].distinct().count())\n",
    "alz_Mental_Health_Impairment = df_alz[df_alz['Mental_Health_Impairment'] == 1].select('patient_key')\n",
    "print('Alzheimer Mental_Health_Impairment', alz_Mental_Health_Impairment[['patient_key']].distinct().count())\n",
    "\n",
    "\n",
    "### Memory_Loss\n",
    "all_Thought_Disturbance = df_overall[df_overall['Memory_Loss'] == 1].select('patient_key')\n",
    "print('Overall Memory_Loss', all_Thought_Disturbance[['patient_key']].distinct().count())\n",
    "alz_Thought_Disturbance = df_alz[df_alz['Memory_Loss'] == 1].select('patient_key')\n",
    "print('Alzheimer Memory_Loss', alz_Thought_Disturbance[['patient_key']].distinct().count())\n",
    "\n",
    "### Clouded_Consciousness\n",
    "all_Thought_Disturbance = df_overall[df_overall['Clouded_Consciousness'] == 1].select('patient_key')\n",
    "print('Overall Clouded_Consciousness', all_Thought_Disturbance[['patient_key']].distinct().count())\n",
    "alz_Thought_Disturbance = df_alz[df_alz['Clouded_Consciousness'] == 1].select('patient_key')\n",
    "print('Alzheimer Clouded_Consciousness', alz_Thought_Disturbance[['patient_key']].distinct().count())\n",
    "\n",
    "### Agitation\n",
    "all_Thought_Disturbance = df_overall[df_overall['Agitation'] == 1].select('patient_key')\n",
    "print('Overall Agitation', all_Thought_Disturbance[['patient_key']].distinct().count())\n",
    "alz_Thought_Disturbance = df_alz[df_alz['Agitation'] == 1].select('patient_key')\n",
    "print('Alzheimer Agitation', alz_Thought_Disturbance[['patient_key']].distinct().count())\n",
    "\n",
    "### Congnitive_Impairment\n",
    "all_Thought_Disturbance = df_overall[df_overall['Congnitive_Impairment'] == 1].select('patient_key')\n",
    "print('Overall Congnitive_Impairment', all_Thought_Disturbance[['patient_key']].distinct().count())\n",
    "alz_Thought_Disturbance = df_alz[df_alz['Congnitive_Impairment'] == 1].select('patient_key')\n",
    "print('Alzheimer Congnitive_Impairment', alz_Thought_Disturbance[['patient_key']].distinct().count())"
   ]
  },
  {
   "cell_type": "code",
   "execution_count": 27,
   "id": "630a6173-5387-4c00-9d9e-a4ac4edac9a2",
   "metadata": {
    "execution": {
     "iopub.execute_input": "2022-05-29T09:09:48.333607Z",
     "iopub.status.busy": "2022-05-29T09:09:48.333440Z",
     "iopub.status.idle": "2022-05-29T09:46:39.978072Z",
     "shell.execute_reply": "2022-05-29T09:46:39.977592Z",
     "shell.execute_reply.started": "2022-05-29T09:09:48.333586Z"
    },
    "tags": []
   },
   "outputs": [
    {
     "data": {
      "application/vnd.jupyter.widget-view+json": {
       "model_id": "55054b2ca2334a93af8f7c4a088328d5",
       "version_major": 2,
       "version_minor": 0
      },
      "text/plain": [
       "VBox()"
      ]
     },
     "metadata": {},
     "output_type": "display_data"
    },
    {
     "data": {
      "application/vnd.jupyter.widget-view+json": {
       "model_id": "",
       "version_major": 2,
       "version_minor": 0
      },
      "text/plain": [
       "FloatProgress(value=0.0, bar_style='info', description='Progress:', layout=Layout(height='25px', width='50%'),…"
      ]
     },
     "metadata": {},
     "output_type": "display_data"
    },
    {
     "name": "stdout",
     "output_type": "stream",
     "text": [
      "('Alzheimer count', 1676)\n",
      "('all_Gender_M', 55901)\n",
      "('all_Gender_F', 62770)\n",
      "('alz_Gender_M', 795)\n",
      "('alz_Gender_F', 881)"
     ]
    }
   ],
   "source": [
    "### Total Patients having Alzheimer\n",
    "alz_cnt = df_alz[['patient_key']].distinct().count()\n",
    "print('Alzheimer count', alz_cnt)\n",
    "\n",
    "#Gender\n",
    "all_Gender_M = df_overall[df_overall['pat_gender'] == 'M'].select('patient_key')\n",
    "all_Gender_F = df_overall[df_overall['pat_gender'] == 'F'].select('patient_key')\n",
    "\n",
    "\n",
    "alz_Gender_M = df_alz[df_alz['pat_gender'] == 'M'].select('patient_key')\n",
    "alz_Gender_F = df_alz[df_alz['pat_gender'] == 'F'].select('patient_key')\n",
    "\n",
    "\n",
    "print('all_Gender_M', all_Gender_M[['patient_key']].distinct().count())\n",
    "print('all_Gender_F', all_Gender_F[['patient_key']].distinct().count())\n",
    "print('alz_Gender_M', alz_Gender_M[['patient_key']].distinct().count())\n",
    "print('alz_Gender_F', alz_Gender_F[['patient_key']].distinct().count())\n"
   ]
  },
  {
   "cell_type": "code",
   "execution_count": 28,
   "id": "48078c00-4b63-453e-96c2-e3af4cf4b028",
   "metadata": {
    "execution": {
     "iopub.execute_input": "2022-05-29T09:46:39.978994Z",
     "iopub.status.busy": "2022-05-29T09:46:39.978837Z",
     "iopub.status.idle": "2022-05-29T09:46:40.225027Z",
     "shell.execute_reply": "2022-05-29T09:46:40.224545Z",
     "shell.execute_reply.started": "2022-05-29T09:46:39.978974Z"
    },
    "tags": []
   },
   "outputs": [
    {
     "data": {
      "application/vnd.jupyter.widget-view+json": {
       "model_id": "c7fee19661544df8a645adc44c98c9dc",
       "version_major": 2,
       "version_minor": 0
      },
      "text/plain": [
       "VBox()"
      ]
     },
     "metadata": {},
     "output_type": "display_data"
    },
    {
     "data": {
      "application/vnd.jupyter.widget-view+json": {
       "model_id": "",
       "version_major": 2,
       "version_minor": 0
      },
      "text/plain": [
       "FloatProgress(value=0.0, bar_style='info', description='Progress:', layout=Layout(height='25px', width='50%'),…"
      ]
     },
     "metadata": {},
     "output_type": "display_data"
    }
   ],
   "source": [
    "from pyspark.sql.functions import when,col\n",
    "conditions = when(col(\"pat_age\") < 50, \"<50\").when(col(\"pat_age\").between(50,55), \"50-55\").when(col(\"pat_age\").between(55,60), \"55-60\").when(col(\"pat_age\").between(60,65), \"60-65\").when(col(\"pat_age\").between(65,70), \"65-70\").when(col(\"pat_age\").between(70,75), \"70-75\").when(col(\"pat_age\").between(75,80), \"75-80\").when(col(\"pat_age\").between(80,85), \"80-85\").when(col(\"pat_age\").between(85,90), \"85-90\").when(col(\"pat_age\").between(90,150), \">90\")\n",
    "df_alz = df_alz.withColumn(\"age_catg\", conditions)"
   ]
  },
  {
   "cell_type": "code",
   "execution_count": 29,
   "id": "be2f1cd3-8f8b-4318-b924-1c4cd25a6bb2",
   "metadata": {
    "execution": {
     "iopub.execute_input": "2022-05-29T09:46:40.226363Z",
     "iopub.status.busy": "2022-05-29T09:46:40.226198Z",
     "iopub.status.idle": "2022-05-29T09:57:55.344388Z",
     "shell.execute_reply": "2022-05-29T09:57:55.343911Z",
     "shell.execute_reply.started": "2022-05-29T09:46:40.226342Z"
    },
    "tags": []
   },
   "outputs": [
    {
     "data": {
      "application/vnd.jupyter.widget-view+json": {
       "model_id": "ccb5a8ecc38d41a38ca88e490fd372b9",
       "version_major": 2,
       "version_minor": 0
      },
      "text/plain": [
       "VBox()"
      ]
     },
     "metadata": {},
     "output_type": "display_data"
    },
    {
     "data": {
      "application/vnd.jupyter.widget-view+json": {
       "model_id": "",
       "version_major": 2,
       "version_minor": 0
      },
      "text/plain": [
       "FloatProgress(value=0.0, bar_style='info', description='Progress:', layout=Layout(height='25px', width='50%'),…"
      ]
     },
     "metadata": {},
     "output_type": "display_data"
    },
    {
     "name": "stdout",
     "output_type": "stream",
     "text": [
      "  age_catg  count\n",
      "0    80-85    354\n",
      "1    75-80    307\n",
      "2    70-75    281\n",
      "3    65-70    217\n",
      "4    60-65    174\n",
      "5    85-90    141\n",
      "6    55-60    134\n",
      "7    50-55     68"
     ]
    }
   ],
   "source": [
    "df_age = df_alz.select(['patient_key','age_catg']).drop_duplicates()\n",
    "df_age = df_age.groupBy('age_catg').count().orderBy('count', ascending=False).limit(10).toPandas()\n",
    "df_age"
   ]
  },
  {
   "cell_type": "code",
   "execution_count": 30,
   "id": "439b7435-26db-4251-8915-532a5b9c435b",
   "metadata": {
    "execution": {
     "iopub.execute_input": "2022-05-29T09:57:55.345336Z",
     "iopub.status.busy": "2022-05-29T09:57:55.345180Z",
     "iopub.status.idle": "2022-05-29T10:12:32.992827Z",
     "shell.execute_reply": "2022-05-29T10:12:32.992336Z",
     "shell.execute_reply.started": "2022-05-29T09:57:55.345315Z"
    },
    "tags": []
   },
   "outputs": [
    {
     "data": {
      "application/vnd.jupyter.widget-view+json": {
       "model_id": "63d033ee58e7481c91af5ebe5ccb73b4",
       "version_major": 2,
       "version_minor": 0
      },
      "text/plain": [
       "VBox()"
      ]
     },
     "metadata": {},
     "output_type": "display_data"
    },
    {
     "data": {
      "application/vnd.jupyter.widget-view+json": {
       "model_id": "",
       "version_major": 2,
       "version_minor": 0
      },
      "text/plain": [
       "FloatProgress(value=0.0, bar_style='info', description='Progress:', layout=Layout(height='25px', width='50%'),…"
      ]
     },
     "metadata": {},
     "output_type": "display_data"
    },
    {
     "name": "stdout",
     "output_type": "stream",
     "text": [
      "         pat_city  count\n",
      "0       CLEVELAND    220\n",
      "1           PARMA    123\n",
      "2          ELYRIA     69\n",
      "3          MENTOR     48\n",
      "4     PAINESVILLE     35\n",
      "5         CHARDON     31\n",
      "6  NORTH ROYALTON     30\n",
      "7        WESTLAKE     29\n",
      "8          EUCLID     27\n",
      "9       BEACHWOOD     25"
     ]
    }
   ],
   "source": [
    "df_city = df_alz.select(['patient_key','pat_city']).drop_duplicates()\n",
    "df_city = df_city.groupBy('pat_city').count().orderBy('count', ascending=False).limit(10).toPandas()\n",
    "df_city"
   ]
  },
  {
   "cell_type": "code",
   "execution_count": null,
   "id": "d7dcd153-ded0-465e-a7f7-2fbb555c2ce5",
   "metadata": {},
   "outputs": [],
   "source": []
  }
 ],
 "metadata": {
  "kernelspec": {
   "display_name": "PySpark",
   "language": "",
   "name": "pysparkkernel"
  },
  "language_info": {
   "codemirror_mode": {
    "name": "python",
    "version": 3
   },
   "mimetype": "text/x-python",
   "name": "pyspark",
   "pygments_lexer": "python3"
  }
 },
 "nbformat": 4,
 "nbformat_minor": 5
}
