{
 "cells": [
  {
   "cell_type": "code",
   "execution_count": 1,
   "id": "55d0e65d-09b9-4771-9b85-148ecad7c84e",
   "metadata": {
    "execution": {
     "iopub.execute_input": "2022-06-01T12:55:20.513974Z",
     "iopub.status.busy": "2022-06-01T12:55:20.513743Z",
     "iopub.status.idle": "2022-06-01T12:55:44.092529Z",
     "shell.execute_reply": "2022-06-01T12:55:44.092037Z",
     "shell.execute_reply.started": "2022-06-01T12:55:20.513946Z"
    },
    "tags": []
   },
   "outputs": [
    {
     "data": {
      "application/vnd.jupyter.widget-view+json": {
       "model_id": "aec190f0add443da8662fd303f7841fa",
       "version_major": 2,
       "version_minor": 0
      },
      "text/plain": [
       "VBox()"
      ]
     },
     "metadata": {},
     "output_type": "display_data"
    },
    {
     "name": "stdout",
     "output_type": "stream",
     "text": [
      "Starting Spark application\n"
     ]
    },
    {
     "data": {
      "text/html": [
       "<table>\n",
       "<tr><th>ID</th><th>YARN Application ID</th><th>Kind</th><th>State</th><th>Spark UI</th><th>Driver log</th><th>Current session?</th></tr><tr><td>0</td><td>application_1654087977069_0001</td><td>pyspark</td><td>idle</td><td><a target=\"_blank\" href=\"http://ip-172-31-29-255.ec2.internal:20888/proxy/application_1654087977069_0001/\" class=\"emr-proxy-link\" emr-resource=\"j-37DO1ZZSB91BA\n",
       "\" application-id=\"application_1654087977069_0001\">Link</a></td><td><a target=\"_blank\" href=\"http://ip-172-31-23-187.ec2.internal:8042/node/containerlogs/container_1654087977069_0001_01_000001/livy\" >Link</a></td><td>✔</td></tr></table>"
      ],
      "text/plain": [
       "<IPython.core.display.HTML object>"
      ]
     },
     "metadata": {},
     "output_type": "display_data"
    },
    {
     "data": {
      "application/vnd.jupyter.widget-view+json": {
       "model_id": "",
       "version_major": 2,
       "version_minor": 0
      },
      "text/plain": [
       "FloatProgress(value=0.0, bar_style='info', description='Progress:', layout=Layout(height='25px', width='50%'),…"
      ]
     },
     "metadata": {},
     "output_type": "display_data"
    },
    {
     "name": "stdout",
     "output_type": "stream",
     "text": [
      "SparkSession available as 'spark'.\n"
     ]
    },
    {
     "data": {
      "application/vnd.jupyter.widget-view+json": {
       "model_id": "",
       "version_major": 2,
       "version_minor": 0
      },
      "text/plain": [
       "FloatProgress(value=0.0, bar_style='info', description='Progress:', layout=Layout(height='25px', width='50%'),…"
      ]
     },
     "metadata": {},
     "output_type": "display_data"
    }
   ],
   "source": [
    "import os,re\n",
    "from pyspark.sql.functions import col, array_contains, array_position,year,to_date"
   ]
  },
  {
   "cell_type": "code",
   "execution_count": 2,
   "id": "d610ce8a-86cd-45e2-92b6-a5469ba0d54d",
   "metadata": {
    "execution": {
     "iopub.execute_input": "2022-06-01T12:55:44.093555Z",
     "iopub.status.busy": "2022-06-01T12:55:44.093390Z",
     "iopub.status.idle": "2022-06-01T12:55:44.139208Z",
     "shell.execute_reply": "2022-06-01T12:55:44.138728Z",
     "shell.execute_reply.started": "2022-06-01T12:55:44.093534Z"
    },
    "tags": []
   },
   "outputs": [
    {
     "data": {
      "text/html": [
       "Current session configs: <tt>{'proxyUser': 'assumed-role_AWSReservedSSO_AWSPowerUserAccess_b440364ff0937dc7_AntonyChandraVibin_Paulraj_premierinc_com', 'conf': {'spark.pyspark.python': 'python3', 'spark.pyspark.virtualenv.enabled': 'true', 'spark.pyspark.virtualenv.type': 'native', 'spark.pyspark.virtualenv.bin.path': '/usr/bin/virtualenv'}, 'kind': 'pyspark'}</tt><br>"
      ],
      "text/plain": [
       "<IPython.core.display.HTML object>"
      ]
     },
     "metadata": {},
     "output_type": "display_data"
    },
    {
     "data": {
      "text/html": [
       "<table>\n",
       "<tr><th>ID</th><th>YARN Application ID</th><th>Kind</th><th>State</th><th>Spark UI</th><th>Driver log</th><th>Current session?</th></tr><tr><td>0</td><td>application_1654087977069_0001</td><td>pyspark</td><td>idle</td><td><a target=\"_blank\" href=\"http://ip-172-31-29-255.ec2.internal:20888/proxy/application_1654087977069_0001/\" class=\"emr-proxy-link\" emr-resource=\"j-37DO1ZZSB91BA\n",
       "\" application-id=\"application_1654087977069_0001\">Link</a></td><td><a target=\"_blank\" href=\"http://ip-172-31-23-187.ec2.internal:8042/node/containerlogs/container_1654087977069_0001_01_000001/livy\" >Link</a></td><td>✔</td></tr></table>"
      ],
      "text/plain": [
       "<IPython.core.display.HTML object>"
      ]
     },
     "metadata": {},
     "output_type": "display_data"
    }
   ],
   "source": [
    "%%info"
   ]
  },
  {
   "cell_type": "code",
   "execution_count": 3,
   "id": "2f3344cc-51ad-414a-8c1f-a61f91c13b71",
   "metadata": {
    "execution": {
     "iopub.execute_input": "2022-06-01T12:55:44.140469Z",
     "iopub.status.busy": "2022-06-01T12:55:44.140306Z",
     "iopub.status.idle": "2022-06-01T12:56:10.855725Z",
     "shell.execute_reply": "2022-06-01T12:56:10.855200Z",
     "shell.execute_reply.started": "2022-06-01T12:55:44.140448Z"
    },
    "tags": []
   },
   "outputs": [
    {
     "name": "stdout",
     "output_type": "stream",
     "text": [
      "Starting Spark application\n"
     ]
    },
    {
     "data": {
      "text/html": [
       "<table>\n",
       "<tr><th>ID</th><th>YARN Application ID</th><th>Kind</th><th>State</th><th>Spark UI</th><th>Driver log</th><th>Current session?</th></tr><tr><td>1</td><td>application_1654087977069_0002</td><td>pyspark</td><td>idle</td><td><a target=\"_blank\" href=\"http://ip-172-31-29-255.ec2.internal:20888/proxy/application_1654087977069_0002/\" class=\"emr-proxy-link\" emr-resource=\"j-37DO1ZZSB91BA\n",
       "\" application-id=\"application_1654087977069_0002\">Link</a></td><td><a target=\"_blank\" href=\"http://ip-172-31-18-10.ec2.internal:8042/node/containerlogs/container_1654087977069_0002_01_000001/livy\" >Link</a></td><td>✔</td></tr></table>"
      ],
      "text/plain": [
       "<IPython.core.display.HTML object>"
      ]
     },
     "metadata": {},
     "output_type": "display_data"
    },
    {
     "data": {
      "application/vnd.jupyter.widget-view+json": {
       "model_id": "",
       "version_major": 2,
       "version_minor": 0
      },
      "text/plain": [
       "FloatProgress(value=0.0, bar_style='info', description='Progress:', layout=Layout(height='25px', width='50%'),…"
      ]
     },
     "metadata": {},
     "output_type": "display_data"
    },
    {
     "name": "stdout",
     "output_type": "stream",
     "text": [
      "SparkSession available as 'spark'.\n"
     ]
    },
    {
     "data": {
      "text/html": [
       "Current session configs: <tt>{'conf': {'spark.pyspark.python': 'python', 'spark.pyspark.virtualenv.enabled': 'true', 'spark.pyspark.virtualenv.type': 'native', 'spark.pyspark.virtualenv.bin.path': '/usr/bin/virtualenv'}, 'proxyUser': 'assumed-role_AWSReservedSSO_AWSPowerUserAccess_b440364ff0937dc7_AntonyChandraVibin_Paulraj_premierinc_com', 'kind': 'pyspark'}</tt><br>"
      ],
      "text/plain": [
       "<IPython.core.display.HTML object>"
      ]
     },
     "metadata": {},
     "output_type": "display_data"
    },
    {
     "data": {
      "text/html": [
       "<table>\n",
       "<tr><th>ID</th><th>YARN Application ID</th><th>Kind</th><th>State</th><th>Spark UI</th><th>Driver log</th><th>Current session?</th></tr><tr><td>1</td><td>application_1654087977069_0002</td><td>pyspark</td><td>idle</td><td><a target=\"_blank\" href=\"http://ip-172-31-29-255.ec2.internal:20888/proxy/application_1654087977069_0002/\" class=\"emr-proxy-link\" emr-resource=\"j-37DO1ZZSB91BA\n",
       "\" application-id=\"application_1654087977069_0002\">Link</a></td><td><a target=\"_blank\" href=\"http://ip-172-31-18-10.ec2.internal:8042/node/containerlogs/container_1654087977069_0002_01_000001/livy\" >Link</a></td><td>✔</td></tr></table>"
      ],
      "text/plain": [
       "<IPython.core.display.HTML object>"
      ]
     },
     "metadata": {},
     "output_type": "display_data"
    }
   ],
   "source": [
    "%%configure -f\n",
    "{ \"conf\":{\n",
    "          \"spark.pyspark.python\": \"python\",\n",
    "          \"spark.pyspark.virtualenv.enabled\": \"true\",\n",
    "          \"spark.pyspark.virtualenv.type\":\"native\",\n",
    "          \"spark.pyspark.virtualenv.bin.path\":\"/usr/bin/virtualenv\"\n",
    "         }\n",
    "}"
   ]
  },
  {
   "cell_type": "code",
   "execution_count": 4,
   "id": "68bf7f99-f247-42bb-a322-7053bd537e14",
   "metadata": {
    "execution": {
     "iopub.execute_input": "2022-06-01T12:56:10.856827Z",
     "iopub.status.busy": "2022-06-01T12:56:10.856672Z",
     "iopub.status.idle": "2022-06-01T12:56:11.620406Z",
     "shell.execute_reply": "2022-06-01T12:56:11.619902Z",
     "shell.execute_reply.started": "2022-06-01T12:56:10.856807Z"
    },
    "scrolled": true,
    "tags": []
   },
   "outputs": [
    {
     "data": {
      "application/vnd.jupyter.widget-view+json": {
       "model_id": "b7f8af34c1534ebbbf1ca6528105ab8f",
       "version_major": 2,
       "version_minor": 0
      },
      "text/plain": [
       "VBox()"
      ]
     },
     "metadata": {},
     "output_type": "display_data"
    },
    {
     "data": {
      "application/vnd.jupyter.widget-view+json": {
       "model_id": "",
       "version_major": 2,
       "version_minor": 0
      },
      "text/plain": [
       "FloatProgress(value=0.0, bar_style='info', description='Progress:', layout=Layout(height='25px', width='50%'),…"
      ]
     },
     "metadata": {},
     "output_type": "display_data"
    },
    {
     "name": "stdout",
     "output_type": "stream",
     "text": [
      "amazon-linux-extras (2.0.1)\n",
      "awscli (1.18.147)\n",
      "Babel (0.9.6)\n",
      "backports.ssl-match-hostname (3.5.0.1)\n",
      "beautifulsoup4 (4.9.3)\n",
      "botocore (1.18.6)\n",
      "cffi (1.6.0)\n",
      "chardet (2.2.1)\n",
      "click (7.1.2)\n",
      "cloud-init (19.3)\n",
      "colorama (0.3.2)\n",
      "configobj (4.7.2)\n",
      "cryptography (1.7.2)\n",
      "docutils (0.12)\n",
      "ec2-hibinit-agent (1.0.2)\n",
      "enum34 (1.0.4)\n",
      "futures (3.0.5)\n",
      "hibagent (1.1.0)\n",
      "idna (2.4)\n",
      "iniparse (0.4)\n",
      "ipaddress (1.0.16)\n",
      "javapackages (1.0.0)\n",
      "Jinja2 (2.7.2)\n",
      "jmespath (0.9.3)\n",
      "joblib (0.14.1)\n",
      "jsonpatch (1.2)\n",
      "jsonpointer (1.9)\n",
      "jsonschema (2.5.1)\n",
      "jwcrypto (0.4.2)\n",
      "kitchen (1.1.1)\n",
      "langtable (0.0.31)\n",
      "lockfile (0.9.1)\n",
      "lxml (3.2.1)\n",
      "MarkupSafe (0.11)\n",
      "mysqlclient (1.4.2)\n",
      "nltk (3.6.5)\n",
      "nose (1.3.4)\n",
      "numpy (1.16.5)\n",
      "oauthlib (2.0.1)\n",
      "Pillow (2.0.0)\n",
      "pip (9.0.1)\n",
      "ply (3.4)\n",
      "pyasn1 (0.1.9)\n",
      "pycparser (2.14)\n",
      "pycurl (7.19.0)\n",
      "pygpgme (0.3)\n",
      "pyliblzma (0.5.3)\n",
      "pyparsing (1.5.6)\n",
      "pystache (0.5.3)\n",
      "python-daemon (1.6)\n",
      "python-dateutil (2.6.0)\n",
      "python27-sagemaker-pyspark (1.4.1)\n",
      "pyxattr (0.5.1)\n",
      "PyYAML (3.10)\n",
      "regex (2021.10.21)\n",
      "repoze.lru (0.4)\n",
      "requests (2.6.0)\n",
      "rpm-python (4.11.3)\n",
      "rsa (3.4.1)\n",
      "s3transfer (0.3.3)\n",
      "setuptools (28.8.0)\n",
      "simplejson (3.2.0)\n",
      "six (1.9.0)\n",
      "tqdm (4.62.3)\n",
      "urlgrabber (3.10)\n",
      "urllib3 (1.25.9)\n",
      "virtualenv (15.1.0)\n",
      "wheel (0.29.0)\n",
      "windmill (1.6)\n",
      "yum-langpacks (0.4.2)\n",
      "yum-metadata-parser (1.1.4)\n",
      "\n",
      "DEPRECATION: The default format will switch to columns in the future. You can use --format=(legacy|columns) (or define a format=(legacy|columns) in your pip.conf under the [list] section) to disable this warning.\n",
      "You are using pip version 9.0.1, however version 22.1.2 is available.\n",
      "You should consider upgrading via the 'pip install --upgrade pip' command."
     ]
    }
   ],
   "source": [
    "sc.list_packages()"
   ]
  },
  {
   "cell_type": "code",
   "execution_count": 5,
   "id": "df8678f0-b774-4850-8bcf-d40242d34855",
   "metadata": {
    "execution": {
     "iopub.execute_input": "2022-06-01T12:56:11.621300Z",
     "iopub.status.busy": "2022-06-01T12:56:11.621143Z",
     "iopub.status.idle": "2022-06-01T12:56:20.941936Z",
     "shell.execute_reply": "2022-06-01T12:56:20.941437Z",
     "shell.execute_reply.started": "2022-06-01T12:56:11.621279Z"
    },
    "scrolled": true,
    "tags": []
   },
   "outputs": [
    {
     "data": {
      "application/vnd.jupyter.widget-view+json": {
       "model_id": "6dc16554f80f43838208c8c60f328c02",
       "version_major": 2,
       "version_minor": 0
      },
      "text/plain": [
       "VBox()"
      ]
     },
     "metadata": {},
     "output_type": "display_data"
    },
    {
     "data": {
      "application/vnd.jupyter.widget-view+json": {
       "model_id": "",
       "version_major": 2,
       "version_minor": 0
      },
      "text/plain": [
       "FloatProgress(value=0.0, bar_style='info', description='Progress:', layout=Layout(height='25px', width='50%'),…"
      ]
     },
     "metadata": {},
     "output_type": "display_data"
    },
    {
     "name": "stdout",
     "output_type": "stream",
     "text": [
      "number of rows: 61987184\n",
      "root\n",
      " |-- patient_key: long (nullable = true)\n",
      " |-- Entity: string (nullable = true)\n",
      " |-- Entity_label: string (nullable = true)\n",
      " |-- Is_Negated: boolean (nullable = true)\n",
      " |-- UMLS_CUI: string (nullable = true)\n",
      " |-- UMLS_Name: string (nullable = true)\n",
      " |-- UMLS_child_label: string (nullable = true)\n",
      " |-- UMLS_parent_label: string (nullable = true)\n",
      " |-- UMLS_Definition: string (nullable = true)\n",
      " |-- UMLS_Span: string (nullable = true)\n",
      " |-- Test_Name: string (nullable = true)\n",
      " |-- Modifier_Result: string (nullable = true)\n",
      " |-- Numeric_Result: string (nullable = true)\n",
      " |-- SNOMED: string (nullable = true)\n",
      " |-- ICD_Code: string (nullable = true)\n",
      " |-- Thought_Disturbance: long (nullable = true)\n",
      " |-- Abnormal_Behavior: long (nullable = true)\n",
      " |-- Suicidal_Intent: long (nullable = true)\n",
      " |-- Disorientated: long (nullable = true)\n",
      " |-- Mental_Health_Impairment: long (nullable = true)\n",
      " |-- Memory_Loss: long (nullable = true)\n",
      " |-- Clouded_Consciousness: long (nullable = true)\n",
      " |-- Agitation: long (nullable = true)\n",
      " |-- Congnitive_Impairment: long (nullable = true)\n",
      " |-- Anchors: long (nullable = true)\n",
      " |-- Alzheimer: long (nullable = true)\n",
      " |-- pat_last_name: string (nullable = true)\n",
      " |-- pat_first_name: string (nullable = true)\n",
      " |-- pat_mrn: long (nullable = true)\n",
      " |-- pat_dob: string (nullable = true)\n",
      " |-- pat_gender: string (nullable = true)\n",
      " |-- pat_race: string (nullable = true)\n",
      " |-- pat_ethinicity: string (nullable = true)\n",
      " |-- pat_city: string (nullable = true)\n",
      " |-- pat_zip: string (nullable = true)\n",
      " |-- pat_county: string (nullable = true)\n",
      " |-- pat_state: string (nullable = true)\n",
      " |-- pat_country: double (nullable = true)\n",
      " |-- pat_marital_status: string (nullable = true)\n",
      " |-- pat_smoking_status: double (nullable = true)\n",
      " |-- pat_status: string (nullable = true)"
     ]
    }
   ],
   "source": [
    "# Importing Result DataFrame\n",
    "df = spark.read.parquet('s3://pas-biogen-sagemaker/Antony/Ongoing_Output/Result_Par_Final.parquet')\n",
    "print(\"number of rows: \" + str(df.count()))\n",
    "df.printSchema()"
   ]
  },
  {
   "cell_type": "code",
   "execution_count": 6,
   "id": "6d45213f-7162-4329-8c97-136a2c3ed542",
   "metadata": {
    "execution": {
     "iopub.execute_input": "2022-06-01T12:56:20.942854Z",
     "iopub.status.busy": "2022-06-01T12:56:20.942697Z",
     "iopub.status.idle": "2022-06-01T12:56:22.207548Z",
     "shell.execute_reply": "2022-06-01T12:56:22.207048Z",
     "shell.execute_reply.started": "2022-06-01T12:56:20.942834Z"
    },
    "scrolled": true,
    "tags": []
   },
   "outputs": [
    {
     "data": {
      "application/vnd.jupyter.widget-view+json": {
       "model_id": "feac28d7b0994eee8ccbfc20bb4f7f35",
       "version_major": 2,
       "version_minor": 0
      },
      "text/plain": [
       "VBox()"
      ]
     },
     "metadata": {},
     "output_type": "display_data"
    },
    {
     "data": {
      "application/vnd.jupyter.widget-view+json": {
       "model_id": "",
       "version_major": 2,
       "version_minor": 0
      },
      "text/plain": [
       "FloatProgress(value=0.0, bar_style='info', description='Progress:', layout=Layout(height='25px', width='50%'),…"
      ]
     },
     "metadata": {},
     "output_type": "display_data"
    },
    {
     "name": "stdout",
     "output_type": "stream",
     "text": [
      "number of rows: 65873267\n",
      "root\n",
      " |-- index: double (nullable = true)\n",
      " |-- patient_key: long (nullable = true)\n",
      " |-- Entity: string (nullable = true)\n",
      " |-- Entity_label: string (nullable = true)\n",
      " |-- Is_Negated: boolean (nullable = true)\n",
      " |-- UMLS_CUI: string (nullable = true)\n",
      " |-- UMLS_Name: string (nullable = true)\n",
      " |-- UMLS_child_label: string (nullable = true)\n",
      " |-- UMLS_parent_label: string (nullable = true)\n",
      " |-- UMLS_Definition: string (nullable = true)\n",
      " |-- UMLS_Span: string (nullable = true)\n",
      " |-- Test_Name: string (nullable = true)\n",
      " |-- Modifier_Result: string (nullable = true)\n",
      " |-- Numeric_Result: string (nullable = true)\n",
      " |-- SNOMED: string (nullable = true)\n",
      " |-- ICD_Code: string (nullable = true)\n",
      " |-- Thought_Disturbance: long (nullable = true)\n",
      " |-- Abnormal_Behavior: long (nullable = true)\n",
      " |-- Suicidal_Intent: long (nullable = true)\n",
      " |-- Disorientated: long (nullable = true)\n",
      " |-- Mental_Health_Impairment: long (nullable = true)\n",
      " |-- Memory_Loss: long (nullable = true)\n",
      " |-- Clouded_Consciousness: long (nullable = true)\n",
      " |-- Agitation: long (nullable = true)\n",
      " |-- Congnitive_Impairment: long (nullable = true)\n",
      " |-- Anchors: long (nullable = true)\n",
      " |-- Alzheimer: long (nullable = true)\n",
      " |-- pat_last_name_x: string (nullable = true)\n",
      " |-- pat_first_name_x: string (nullable = true)\n",
      " |-- pat_mrn_x: double (nullable = true)\n",
      " |-- pat_dob_x: string (nullable = true)\n",
      " |-- pat_gender_x: string (nullable = true)\n",
      " |-- pat_race_x: string (nullable = true)\n",
      " |-- pat_ethinicity_x: string (nullable = true)\n",
      " |-- pat_city_x: string (nullable = true)\n",
      " |-- pat_zip_x: string (nullable = true)\n",
      " |-- pat_county_x: string (nullable = true)\n",
      " |-- pat_state_x: string (nullable = true)\n",
      " |-- pat_country_x: double (nullable = true)\n",
      " |-- pat_marital_status_x: string (nullable = true)\n",
      " |-- pat_smoking_status_x: double (nullable = true)\n",
      " |-- pat_status_x: string (nullable = true)\n",
      " |-- pat_last_name_y: string (nullable = true)\n",
      " |-- pat_first_name_y: string (nullable = true)\n",
      " |-- pat_mrn_y: long (nullable = true)\n",
      " |-- pat_dob_y: string (nullable = true)\n",
      " |-- pat_gender_y: string (nullable = true)\n",
      " |-- pat_race_y: string (nullable = true)\n",
      " |-- pat_ethinicity_y: string (nullable = true)\n",
      " |-- pat_city_y: string (nullable = true)\n",
      " |-- pat_zip_y: string (nullable = true)\n",
      " |-- pat_county_y: string (nullable = true)\n",
      " |-- pat_state_y: string (nullable = true)\n",
      " |-- pat_country_y: double (nullable = true)\n",
      " |-- pat_marital_status_y: string (nullable = true)\n",
      " |-- pat_smoking_status_y: double (nullable = true)\n",
      " |-- pat_status_y: string (nullable = true)"
     ]
    }
   ],
   "source": [
    "# Importing Generic DataFrame\n",
    "df_gen = spark.read.parquet('s3://pas-biogen-sagemaker/Antony/Ongoing_Output/Generic_Par_Final.parquet')\n",
    "print(\"number of rows: \" + str(df_gen.count()))\n",
    "df_gen.printSchema()"
   ]
  },
  {
   "cell_type": "markdown",
   "id": "ad5e2efa-e69d-4f74-84d1-f78f45f1c4f6",
   "metadata": {
    "execution": {
     "iopub.execute_input": "2022-05-25T07:50:36.471606Z",
     "iopub.status.busy": "2022-05-25T07:50:36.471389Z",
     "iopub.status.idle": "2022-05-25T07:50:36.520518Z",
     "shell.execute_reply": "2022-05-25T07:50:36.519866Z",
     "shell.execute_reply.started": "2022-05-25T07:50:36.471582Z"
    },
    "tags": []
   },
   "source": [
    "### Package Installation"
   ]
  },
  {
   "cell_type": "code",
   "execution_count": 7,
   "id": "c27fb7b1-dbad-409f-98a5-a93476d7e132",
   "metadata": {
    "execution": {
     "iopub.execute_input": "2022-06-01T12:56:22.208516Z",
     "iopub.status.busy": "2022-06-01T12:56:22.208357Z",
     "iopub.status.idle": "2022-06-01T12:56:39.540880Z",
     "shell.execute_reply": "2022-06-01T12:56:39.540391Z",
     "shell.execute_reply.started": "2022-06-01T12:56:22.208495Z"
    },
    "scrolled": true,
    "tags": []
   },
   "outputs": [
    {
     "data": {
      "application/vnd.jupyter.widget-view+json": {
       "model_id": "5f670dc481c145e6a86be79c02d761b1",
       "version_major": 2,
       "version_minor": 0
      },
      "text/plain": [
       "VBox()"
      ]
     },
     "metadata": {},
     "output_type": "display_data"
    },
    {
     "data": {
      "application/vnd.jupyter.widget-view+json": {
       "model_id": "",
       "version_major": 2,
       "version_minor": 0
      },
      "text/plain": [
       "FloatProgress(value=0.0, bar_style='info', description='Progress:', layout=Layout(height='25px', width='50%'),…"
      ]
     },
     "metadata": {},
     "output_type": "display_data"
    },
    {
     "name": "stdout",
     "output_type": "stream",
     "text": [
      "Collecting cython\n",
      "  Downloading https://files.pythonhosted.org/packages/a5/a8/a8480dc84e4677f966839035a66f2fd3a8a63e44f246571d77afa9045769/Cython-0.29.30-cp27-cp27mu-manylinux_2_5_x86_64.manylinux1_x86_64.whl (1.9MB)\n",
      "Installing collected packages: cython\n",
      "Successfully installed cython-0.29.30\n",
      "\n",
      "Collecting pandas\n",
      "  Downloading https://files.pythonhosted.org/packages/db/83/7d4008ffc2988066ff37f6a0bb6d7b60822367dcb36ba5e39aa7801fda54/pandas-0.24.2-cp27-cp27mu-manylinux1_x86_64.whl (10.1MB)\n",
      "Requirement already satisfied: python-dateutil>=2.5.0 in /usr/lib/python2.7/site-packages (from pandas)\n",
      "Requirement already satisfied: numpy>=1.12.0 in /usr/lib64/python2.7/site-packages (from pandas)\n",
      "Collecting pytz>=2011k (from pandas)\n",
      "  Downloading https://files.pythonhosted.org/packages/60/2e/dec1cc18c51b8df33c7c4d0a321b084cf38e1733b98f9d15018880fb4970/pytz-2022.1-py2.py3-none-any.whl (503kB)\n",
      "Requirement already satisfied: six>=1.5 in /usr/lib/python2.7/site-packages (from python-dateutil>=2.5.0->pandas)\n",
      "Installing collected packages: pytz, pandas\n",
      "Successfully installed pandas-0.24.2 pytz-2022.1\n",
      "\n",
      "Collecting matplotlib==3.1.1\n",
      "\n",
      "You are using pip version 9.0.1, however version 22.1.2 is available.\n",
      "You should consider upgrading via the 'pip install --upgrade pip' command.\n",
      "\n",
      "You are using pip version 9.0.1, however version 22.1.2 is available.\n",
      "You should consider upgrading via the 'pip install --upgrade pip' command.\n",
      "\n",
      "  Could not find a version that satisfies the requirement matplotlib==3.1.1 (from versions: 0.86, 0.86.1, 0.86.2, 0.91.0, 0.91.1, 1.0.1, 1.1.0, 1.1.1, 1.2.0, 1.2.1, 1.3.0, 1.3.1, 1.4.0, 1.4.1rc1, 1.4.1, 1.4.2, 1.4.3, 1.5.0, 1.5.1, 1.5.2, 1.5.3, 2.0.0b1, 2.0.0b2, 2.0.0b3, 2.0.0b4, 2.0.0rc1, 2.0.0rc2, 2.0.0, 2.0.1, 2.0.2, 2.1.0rc1, 2.1.0, 2.1.1, 2.1.2, 2.2.0rc1, 2.2.0, 2.2.2, 2.2.3, 2.2.4, 2.2.5)\n",
      "No matching distribution found for matplotlib==3.1.1\n",
      "You are using pip version 9.0.1, however version 22.1.2 is available.\n",
      "You should consider upgrading via the 'pip install --upgrade pip' command."
     ]
    }
   ],
   "source": [
    "sc.install_pypi_package(\"cython\")\n",
    "sc.install_pypi_package(\"pandas\") #Install pandas version 0.25.1 \n",
    "#sc.uninstall_package('cython')\n",
    "sc.install_pypi_package(\"matplotlib==3.1.1\")"
   ]
  },
  {
   "cell_type": "code",
   "execution_count": 8,
   "id": "84a8fd8a-8fa9-4316-9a5c-e095ed842b1c",
   "metadata": {
    "execution": {
     "iopub.execute_input": "2022-06-01T12:56:39.542496Z",
     "iopub.status.busy": "2022-06-01T12:56:39.542328Z",
     "iopub.status.idle": "2022-06-01T12:56:39.587045Z",
     "shell.execute_reply": "2022-06-01T12:56:39.586564Z",
     "shell.execute_reply.started": "2022-06-01T12:56:39.542474Z"
    },
    "tags": []
   },
   "outputs": [
    {
     "data": {
      "application/vnd.jupyter.widget-view+json": {
       "model_id": "7a8dd3f0f2574faa9e78479aefb23460",
       "version_major": 2,
       "version_minor": 0
      },
      "text/plain": [
       "VBox()"
      ]
     },
     "metadata": {},
     "output_type": "display_data"
    },
    {
     "data": {
      "application/vnd.jupyter.widget-view+json": {
       "model_id": "",
       "version_major": 2,
       "version_minor": 0
      },
      "text/plain": [
       "FloatProgress(value=0.0, bar_style='info', description='Progress:', layout=Layout(height='25px', width='50%'),…"
      ]
     },
     "metadata": {},
     "output_type": "display_data"
    }
   ],
   "source": [
    "import re"
   ]
  },
  {
   "cell_type": "code",
   "execution_count": 9,
   "id": "d7b8fb7c-a93b-4011-8a52-78f61ef21060",
   "metadata": {
    "execution": {
     "iopub.execute_input": "2022-06-01T12:56:39.588332Z",
     "iopub.status.busy": "2022-06-01T12:56:39.588172Z",
     "iopub.status.idle": "2022-06-01T12:56:40.350649Z",
     "shell.execute_reply": "2022-06-01T12:56:40.350152Z",
     "shell.execute_reply.started": "2022-06-01T12:56:39.588312Z"
    },
    "scrolled": true,
    "tags": []
   },
   "outputs": [
    {
     "data": {
      "application/vnd.jupyter.widget-view+json": {
       "model_id": "7b43b41e2698427e9c1f096d1b161780",
       "version_major": 2,
       "version_minor": 0
      },
      "text/plain": [
       "VBox()"
      ]
     },
     "metadata": {},
     "output_type": "display_data"
    },
    {
     "data": {
      "application/vnd.jupyter.widget-view+json": {
       "model_id": "",
       "version_major": 2,
       "version_minor": 0
      },
      "text/plain": [
       "FloatProgress(value=0.0, bar_style='info', description='Progress:', layout=Layout(height='25px', width='50%'),…"
      ]
     },
     "metadata": {},
     "output_type": "display_data"
    },
    {
     "name": "stdout",
     "output_type": "stream",
     "text": [
      "amazon-linux-extras (2.0.1)\n",
      "awscli (1.18.147)\n",
      "Babel (0.9.6)\n",
      "backports.ssl-match-hostname (3.5.0.1)\n",
      "beautifulsoup4 (4.9.3)\n",
      "botocore (1.18.6)\n",
      "cffi (1.6.0)\n",
      "chardet (2.2.1)\n",
      "click (7.1.2)\n",
      "cloud-init (19.3)\n",
      "colorama (0.3.2)\n",
      "configobj (4.7.2)\n",
      "cryptography (1.7.2)\n",
      "Cython (0.29.30)\n",
      "docutils (0.12)\n",
      "ec2-hibinit-agent (1.0.2)\n",
      "enum34 (1.0.4)\n",
      "futures (3.0.5)\n",
      "hibagent (1.1.0)\n",
      "idna (2.4)\n",
      "iniparse (0.4)\n",
      "ipaddress (1.0.16)\n",
      "javapackages (1.0.0)\n",
      "Jinja2 (2.7.2)\n",
      "jmespath (0.9.3)\n",
      "joblib (0.14.1)\n",
      "jsonpatch (1.2)\n",
      "jsonpointer (1.9)\n",
      "jsonschema (2.5.1)\n",
      "jwcrypto (0.4.2)\n",
      "kitchen (1.1.1)\n",
      "langtable (0.0.31)\n",
      "lockfile (0.9.1)\n",
      "lxml (3.2.1)\n",
      "MarkupSafe (0.11)\n",
      "mysqlclient (1.4.2)\n",
      "nltk (3.6.5)\n",
      "nose (1.3.4)\n",
      "numpy (1.16.5)\n",
      "oauthlib (2.0.1)\n",
      "pandas (0.24.2)\n",
      "Pillow (2.0.0)\n",
      "pip (9.0.1)\n",
      "ply (3.4)\n",
      "pyasn1 (0.1.9)\n",
      "pycparser (2.14)\n",
      "pycurl (7.19.0)\n",
      "pygpgme (0.3)\n",
      "pyliblzma (0.5.3)\n",
      "pyparsing (1.5.6)\n",
      "pystache (0.5.3)\n",
      "python-daemon (1.6)\n",
      "python-dateutil (2.6.0)\n",
      "python27-sagemaker-pyspark (1.4.1)\n",
      "pytz (2022.1)\n",
      "pyxattr (0.5.1)\n",
      "PyYAML (3.10)\n",
      "regex (2021.10.21)\n",
      "repoze.lru (0.4)\n",
      "requests (2.6.0)\n",
      "rpm-python (4.11.3)\n",
      "rsa (3.4.1)\n",
      "s3transfer (0.3.3)\n",
      "setuptools (28.8.0)\n",
      "simplejson (3.2.0)\n",
      "six (1.9.0)\n",
      "tqdm (4.62.3)\n",
      "urlgrabber (3.10)\n",
      "urllib3 (1.25.9)\n",
      "virtualenv (15.1.0)\n",
      "wheel (0.29.0)\n",
      "windmill (1.6)\n",
      "yum-langpacks (0.4.2)\n",
      "yum-metadata-parser (1.1.4)\n",
      "\n",
      "DEPRECATION: The default format will switch to columns in the future. You can use --format=(legacy|columns) (or define a format=(legacy|columns) in your pip.conf under the [list] section) to disable this warning.\n",
      "You are using pip version 9.0.1, however version 22.1.2 is available.\n",
      "You should consider upgrading via the 'pip install --upgrade pip' command."
     ]
    }
   ],
   "source": [
    "sc.list_packages()"
   ]
  },
  {
   "cell_type": "code",
   "execution_count": 10,
   "id": "5a8e79b6-bfff-4f8b-90a5-e8c1f5934ef7",
   "metadata": {
    "execution": {
     "iopub.execute_input": "2022-06-01T12:56:40.351603Z",
     "iopub.status.busy": "2022-06-01T12:56:40.351420Z",
     "iopub.status.idle": "2022-06-01T12:56:40.399009Z",
     "shell.execute_reply": "2022-06-01T12:56:40.398531Z",
     "shell.execute_reply.started": "2022-06-01T12:56:40.351560Z"
    },
    "tags": []
   },
   "outputs": [
    {
     "data": {
      "application/vnd.jupyter.widget-view+json": {
       "model_id": "f24e1fcc283d4eacad98a1b52bec7b81",
       "version_major": 2,
       "version_minor": 0
      },
      "text/plain": [
       "VBox()"
      ]
     },
     "metadata": {},
     "output_type": "display_data"
    },
    {
     "data": {
      "application/vnd.jupyter.widget-view+json": {
       "model_id": "",
       "version_major": 2,
       "version_minor": 0
      },
      "text/plain": [
       "FloatProgress(value=0.0, bar_style='info', description='Progress:', layout=Layout(height='25px', width='50%'),…"
      ]
     },
     "metadata": {},
     "output_type": "display_data"
    },
    {
     "name": "stderr",
     "output_type": "stream",
     "text": [
      "An error was encountered:\n",
      "No module named matplotlib.pyplot\n",
      "Traceback (most recent call last):\n",
      "ImportError: No module named matplotlib.pyplot\n",
      "\n"
     ]
    }
   ],
   "source": [
    "import matplotlib.pyplot as plt\n",
    "#import seaborn as sns"
   ]
  },
  {
   "cell_type": "markdown",
   "id": "c099e49e-211a-4255-904c-f478c705091a",
   "metadata": {},
   "source": [
    "#### Preprocessing"
   ]
  },
  {
   "cell_type": "code",
   "execution_count": 11,
   "id": "66afc9bb-0cea-40ea-a21f-6b2d53519de0",
   "metadata": {
    "execution": {
     "iopub.execute_input": "2022-06-01T12:56:40.399974Z",
     "iopub.status.busy": "2022-06-01T12:56:40.399815Z",
     "iopub.status.idle": "2022-06-01T12:56:41.163419Z",
     "shell.execute_reply": "2022-06-01T12:56:41.162922Z",
     "shell.execute_reply.started": "2022-06-01T12:56:40.399954Z"
    },
    "scrolled": true,
    "tags": []
   },
   "outputs": [
    {
     "data": {
      "application/vnd.jupyter.widget-view+json": {
       "model_id": "107329f1498a4d3bba0a52228d98cc04",
       "version_major": 2,
       "version_minor": 0
      },
      "text/plain": [
       "VBox()"
      ]
     },
     "metadata": {},
     "output_type": "display_data"
    },
    {
     "data": {
      "application/vnd.jupyter.widget-view+json": {
       "model_id": "",
       "version_major": 2,
       "version_minor": 0
      },
      "text/plain": [
       "FloatProgress(value=0.0, bar_style='info', description='Progress:', layout=Layout(height='25px', width='50%'),…"
      ]
     },
     "metadata": {},
     "output_type": "display_data"
    }
   ],
   "source": [
    "from pyspark.sql.functions import coalesce\n",
    "    \n",
    "df_gen = df_gen.withColumn(\"pat_last_name\",coalesce(df_gen.pat_last_name_x,df_gen.pat_last_name_y)) \n",
    "df_gen = df_gen.withColumn(\"pat_first_name\",coalesce(df_gen.pat_first_name_x,df_gen.pat_first_name_y)) \n",
    "df_gen = df_gen.withColumn(\"pat_mrn\",coalesce(df_gen.pat_mrn_x,df_gen.pat_mrn_y)) \n",
    "df_gen = df_gen.withColumn(\"pat_dob\",coalesce(df_gen.pat_dob_x,df_gen.pat_dob_y)) \n",
    "df_gen = df_gen.withColumn(\"pat_gender\",coalesce(df_gen.pat_gender_x,df_gen.pat_gender_y)) \n",
    "df_gen = df_gen.withColumn(\"pat_race\",coalesce(df_gen.pat_race_x,df_gen.pat_race_y)) \n",
    "df_gen = df_gen.withColumn(\"pat_ethinicity\",coalesce(df_gen.pat_ethinicity_x,df_gen.pat_ethinicity_y)) \n",
    "df_gen = df_gen.withColumn(\"pat_city\",coalesce(df_gen.pat_city_x,df_gen.pat_city_y)) \n",
    "df_gen = df_gen.withColumn(\"pat_zip\",coalesce(df_gen.pat_zip_x,df_gen.pat_zip_y)) \n",
    "df_gen = df_gen.withColumn(\"pat_county\",coalesce(df_gen.pat_county_x,df_gen.pat_county_y)) \n",
    "df_gen = df_gen.withColumn(\"pat_state\",coalesce(df_gen.pat_state_x,df_gen.pat_state_y)) \n",
    "df_gen = df_gen.withColumn(\"pat_marital_status\",coalesce(df_gen.pat_marital_status_x,df_gen.pat_marital_status_y)) \n",
    "df_gen = df_gen.withColumn(\"pat_smoking_status\",coalesce(df_gen.pat_smoking_status_x,df_gen.pat_smoking_status_y)) \n",
    "df_gen = df_gen.withColumn(\"pat_status\",coalesce(df_gen.pat_status_x,df_gen.pat_status_y)) "
   ]
  },
  {
   "cell_type": "markdown",
   "id": "f6204766-3e94-48df-b92b-46771d323f97",
   "metadata": {},
   "source": [
    "### Main Code"
   ]
  },
  {
   "cell_type": "code",
   "execution_count": 12,
   "id": "d1dd899f-aa14-4884-b209-7052bdf82917",
   "metadata": {
    "execution": {
     "iopub.execute_input": "2022-06-01T12:56:41.164345Z",
     "iopub.status.busy": "2022-06-01T12:56:41.164178Z",
     "iopub.status.idle": "2022-06-01T12:56:48.459937Z",
     "shell.execute_reply": "2022-06-01T12:56:48.459406Z",
     "shell.execute_reply.started": "2022-06-01T12:56:41.164323Z"
    },
    "tags": []
   },
   "outputs": [
    {
     "data": {
      "application/vnd.jupyter.widget-view+json": {
       "model_id": "91f1cc4477204e6db1f2a63025f4d1ad",
       "version_major": 2,
       "version_minor": 0
      },
      "text/plain": [
       "VBox()"
      ]
     },
     "metadata": {},
     "output_type": "display_data"
    },
    {
     "data": {
      "application/vnd.jupyter.widget-view+json": {
       "model_id": "",
       "version_major": 2,
       "version_minor": 0
      },
      "text/plain": [
       "FloatProgress(value=0.0, bar_style='info', description='Progress:', layout=Layout(height='25px', width='50%'),…"
      ]
     },
     "metadata": {},
     "output_type": "display_data"
    },
    {
     "name": "stdout",
     "output_type": "stream",
     "text": [
      "('Number of Unique Patients in Result: ', 73448)\n",
      "('Number of Unique Patients in Generic: ', 70731)"
     ]
    }
   ],
   "source": [
    "# Total number of patients\n",
    "num_of_books = df.select('patient_key').distinct().count()\n",
    "print('Number of Unique Patients in Result: ', num_of_books)\n",
    "num_of_books = df_gen.select('patient_key').distinct().count()\n",
    "print('Number of Unique Patients in Generic: ', num_of_books)"
   ]
  },
  {
   "cell_type": "code",
   "execution_count": 13,
   "id": "98eff117-64cc-473a-9b3a-6d42728d3082",
   "metadata": {
    "execution": {
     "iopub.execute_input": "2022-06-01T12:56:48.460857Z",
     "iopub.status.busy": "2022-06-01T12:56:48.460698Z",
     "iopub.status.idle": "2022-06-01T12:56:48.716112Z",
     "shell.execute_reply": "2022-06-01T12:56:48.715612Z",
     "shell.execute_reply.started": "2022-06-01T12:56:48.460837Z"
    },
    "tags": []
   },
   "outputs": [
    {
     "data": {
      "application/vnd.jupyter.widget-view+json": {
       "model_id": "44d56e7847074bdea2001b6c34e25aba",
       "version_major": 2,
       "version_minor": 0
      },
      "text/plain": [
       "VBox()"
      ]
     },
     "metadata": {},
     "output_type": "display_data"
    },
    {
     "data": {
      "application/vnd.jupyter.widget-view+json": {
       "model_id": "",
       "version_major": 2,
       "version_minor": 0
      },
      "text/plain": [
       "FloatProgress(value=0.0, bar_style='info', description='Progress:', layout=Layout(height='25px', width='50%'),…"
      ]
     },
     "metadata": {},
     "output_type": "display_data"
    }
   ],
   "source": [
    "# Fetch only the un negated values\n",
    "df_neg = df[df['Is_Negated'] == False]\n",
    "df_gen_neg = df_gen[df_gen['Is_Negated'] == False]"
   ]
  },
  {
   "cell_type": "code",
   "execution_count": 14,
   "id": "902da4e3-0857-43d5-9b2a-14ed9ff08b54",
   "metadata": {
    "execution": {
     "iopub.execute_input": "2022-06-01T12:56:48.717057Z",
     "iopub.status.busy": "2022-06-01T12:56:48.716897Z",
     "iopub.status.idle": "2022-06-01T12:56:54.248436Z",
     "shell.execute_reply": "2022-06-01T12:56:54.247750Z",
     "shell.execute_reply.started": "2022-06-01T12:56:48.717036Z"
    },
    "tags": []
   },
   "outputs": [
    {
     "data": {
      "application/vnd.jupyter.widget-view+json": {
       "model_id": "591ef00415ff4e14aff6d7fcec36e39f",
       "version_major": 2,
       "version_minor": 0
      },
      "text/plain": [
       "VBox()"
      ]
     },
     "metadata": {},
     "output_type": "display_data"
    },
    {
     "data": {
      "application/vnd.jupyter.widget-view+json": {
       "model_id": "",
       "version_major": 2,
       "version_minor": 0
      },
      "text/plain": [
       "FloatProgress(value=0.0, bar_style='info', description='Progress:', layout=Layout(height='25px', width='50%'),…"
      ]
     },
     "metadata": {},
     "output_type": "display_data"
    },
    {
     "name": "stdout",
     "output_type": "stream",
     "text": [
      "('Count Is_Negated Values - ', 51018830, '/', 61987184, ' which is ', 0, '%')"
     ]
    }
   ],
   "source": [
    "# COunt of negated values\n",
    "print('Count Is_Negated Values - ', df_neg.count() ,'/', df.count(), ' which is ', (int(df_neg.count())/int(df.count())* 100), '%')"
   ]
  },
  {
   "cell_type": "markdown",
   "id": "3028bb1c-ff78-4b27-a10a-ac08cc02e351",
   "metadata": {
    "tags": []
   },
   "source": [
    "#### Calculating age"
   ]
  },
  {
   "cell_type": "code",
   "execution_count": 15,
   "id": "54bc5b1d-fb3d-4ef5-aa9b-821c0fdd6ea6",
   "metadata": {
    "execution": {
     "iopub.execute_input": "2022-06-01T12:56:54.249381Z",
     "iopub.status.busy": "2022-06-01T12:56:54.249225Z",
     "iopub.status.idle": "2022-06-01T12:56:56.526483Z",
     "shell.execute_reply": "2022-06-01T12:56:56.525830Z",
     "shell.execute_reply.started": "2022-06-01T12:56:54.249360Z"
    },
    "scrolled": true,
    "tags": []
   },
   "outputs": [
    {
     "data": {
      "application/vnd.jupyter.widget-view+json": {
       "model_id": "a920003d5cf541029278663023efb2c7",
       "version_major": 2,
       "version_minor": 0
      },
      "text/plain": [
       "VBox()"
      ]
     },
     "metadata": {},
     "output_type": "display_data"
    },
    {
     "data": {
      "application/vnd.jupyter.widget-view+json": {
       "model_id": "",
       "version_major": 2,
       "version_minor": 0
      },
      "text/plain": [
       "FloatProgress(value=0.0, bar_style='info', description='Progress:', layout=Layout(height='25px', width='50%'),…"
      ]
     },
     "metadata": {},
     "output_type": "display_data"
    },
    {
     "name": "stdout",
     "output_type": "stream",
     "text": [
      "+-------+\n",
      "|pat_age|\n",
      "+-------+\n",
      "|     69|\n",
      "|     66|\n",
      "|     66|\n",
      "|     66|\n",
      "|     66|\n",
      "+-------+\n",
      "only showing top 5 rows"
     ]
    }
   ],
   "source": [
    "from pyspark.sql.functions import substring, col\n",
    "#Result\n",
    "df_neg = df_neg.withColumn(\"year\", substring(col(\"pat_dob\"), 7, 10))\n",
    "df_neg = df_neg.withColumn(\"age\", (2022 - df_neg['year']))\n",
    "df_neg = df_neg.withColumn(\"pat_age\",df_neg.age.cast('int'))\n",
    "\n",
    "#Generic\n",
    "df_gen_neg = df_gen_neg.withColumn(\"year\", substring(col(\"pat_dob\"), 7, 10))\n",
    "df_gen_neg = df_gen_neg.withColumn(\"age\", (2022 - df_gen_neg['year']))\n",
    "df_gen_neg = df_gen_neg.withColumn(\"pat_age\",df_gen_neg.age.cast('int'))\n",
    "\n",
    "df_gen_neg[['pat_age']].show(5)"
   ]
  },
  {
   "cell_type": "markdown",
   "id": "83b0e691-8669-4bef-90e3-0a5138b78b10",
   "metadata": {},
   "source": [
    "#### Aggregating the output values"
   ]
  },
  {
   "cell_type": "code",
   "execution_count": 16,
   "id": "eb88206c-9129-4046-a9ee-579518c1bd92",
   "metadata": {
    "execution": {
     "iopub.execute_input": "2022-06-01T12:56:56.527443Z",
     "iopub.status.busy": "2022-06-01T12:56:56.527285Z",
     "iopub.status.idle": "2022-06-01T12:56:56.580488Z",
     "shell.execute_reply": "2022-06-01T12:56:56.579875Z",
     "shell.execute_reply.started": "2022-06-01T12:56:56.527422Z"
    },
    "tags": []
   },
   "outputs": [
    {
     "data": {
      "application/vnd.jupyter.widget-view+json": {
       "model_id": "eb3f88c9123f42d880590dd663c9a838",
       "version_major": 2,
       "version_minor": 0
      },
      "text/plain": [
       "VBox()"
      ]
     },
     "metadata": {},
     "output_type": "display_data"
    },
    {
     "data": {
      "application/vnd.jupyter.widget-view+json": {
       "model_id": "",
       "version_major": 2,
       "version_minor": 0
      },
      "text/plain": [
       "FloatProgress(value=0.0, bar_style='info', description='Progress:', layout=Layout(height='25px', width='50%'),…"
      ]
     },
     "metadata": {},
     "output_type": "display_data"
    },
    {
     "name": "stdout",
     "output_type": "stream",
     "text": [
      "['index', 'patient_key', 'Entity', 'Entity_label', 'Is_Negated', 'UMLS_CUI', 'UMLS_Name', 'UMLS_child_label', 'UMLS_parent_label', 'UMLS_Definition', 'UMLS_Span', 'Test_Name', 'Modifier_Result', 'Numeric_Result', 'SNOMED', 'ICD_Code', 'Thought_Disturbance', 'Abnormal_Behavior', 'Suicidal_Intent', 'Disorientated', 'Mental_Health_Impairment', 'Memory_Loss', 'Clouded_Consciousness', 'Agitation', 'Congnitive_Impairment', 'Anchors', 'Alzheimer', 'pat_last_name_x', 'pat_first_name_x', 'pat_mrn_x', 'pat_dob_x', 'pat_gender_x', 'pat_race_x', 'pat_ethinicity_x', 'pat_city_x', 'pat_zip_x', 'pat_county_x', 'pat_state_x', 'pat_country_x', 'pat_marital_status_x', 'pat_smoking_status_x', 'pat_status_x', 'pat_last_name_y', 'pat_first_name_y', 'pat_mrn_y', 'pat_dob_y', 'pat_gender_y', 'pat_race_y', 'pat_ethinicity_y', 'pat_city_y', 'pat_zip_y', 'pat_county_y', 'pat_state_y', 'pat_country_y', 'pat_marital_status_y', 'pat_smoking_status_y', 'pat_status_y', 'pat_last_name', 'pat_first_name', 'pat_mrn', 'pat_dob', 'pat_gender', 'pat_race', 'pat_ethinicity', 'pat_city', 'pat_zip', 'pat_county', 'pat_state', 'pat_marital_status', 'pat_smoking_status', 'pat_status', 'year', 'age', 'pat_age']"
     ]
    }
   ],
   "source": [
    "df_gen_neg.columns"
   ]
  },
  {
   "cell_type": "code",
   "execution_count": 17,
   "id": "1409fa50-86a7-4027-9fb5-fcaf472d72c0",
   "metadata": {
    "execution": {
     "iopub.execute_input": "2022-06-01T12:56:56.581423Z",
     "iopub.status.busy": "2022-06-01T12:56:56.581271Z",
     "iopub.status.idle": "2022-06-01T12:56:56.833606Z",
     "shell.execute_reply": "2022-06-01T12:56:56.833108Z",
     "shell.execute_reply.started": "2022-06-01T12:56:56.581403Z"
    },
    "scrolled": true,
    "tags": []
   },
   "outputs": [
    {
     "data": {
      "application/vnd.jupyter.widget-view+json": {
       "model_id": "a9683672c80042fdaff82d508e961860",
       "version_major": 2,
       "version_minor": 0
      },
      "text/plain": [
       "VBox()"
      ]
     },
     "metadata": {},
     "output_type": "display_data"
    },
    {
     "data": {
      "application/vnd.jupyter.widget-view+json": {
       "model_id": "",
       "version_major": 2,
       "version_minor": 0
      },
      "text/plain": [
       "FloatProgress(value=0.0, bar_style='info', description='Progress:', layout=Layout(height='25px', width='50%'),…"
      ]
     },
     "metadata": {},
     "output_type": "display_data"
    }
   ],
   "source": [
    "from pyspark.sql import functions as F\n",
    "df_result_neg_filter = df_neg.groupBy(df_neg['patient_key']).agg(F.first(df_neg['pat_first_name']), F.first(df_neg['pat_last_name']),F.first(df_neg['pat_mrn']),F.first(df_neg['pat_gender']),F.first(df_neg['pat_race']),F.first(df_neg['pat_ethinicity']),F.first(df_neg['pat_city']),F.first(df_neg['pat_zip']),F.first(df_neg['pat_county']),F.first(df_neg['pat_state']),F.first(df_neg['pat_marital_status']),F.first(df_neg['pat_smoking_status']),F.first(df_neg['pat_status']),\n",
    "                                                   F.max(df_neg['pat_dob']),F.max(df_neg['pat_age']), F.max(df_neg['Thought_Disturbance']), F.max(df_neg['Abnormal_Behavior']), F.max(df_neg['Suicidal_Intent']), F.max(df_neg['Disorientated']), F.max(df_neg['Mental_Health_Impairment']), F.max(df_neg['Memory_Loss']), F.max(df_neg['Clouded_Consciousness']), F.max(df_neg['Agitation']), F.max(df_neg['Congnitive_Impairment']),F.max(df_neg['Alzheimer']))\n",
    "\n",
    "\n",
    "df_generic_neg_filter = df_gen_neg.groupBy(df_gen_neg['patient_key']).agg(F.first(df_gen_neg['pat_first_name']), F.first(df_gen_neg['pat_last_name']),F.first(df_gen_neg['pat_mrn']),F.first(df_gen_neg['pat_gender']),F.first(df_gen_neg['pat_race']),F.first(df_gen_neg['pat_ethinicity']),F.first(df_gen_neg['pat_city']),F.first(df_gen_neg['pat_zip']),F.first(df_gen_neg['pat_county']),F.first(df_gen_neg['pat_state']),F.first(df_gen_neg['pat_marital_status']),F.first(df_gen_neg['pat_smoking_status']),F.first(df_gen_neg['pat_status']),\n",
    "                                                   F.max(df_gen_neg['pat_dob']),F.max(df_gen_neg['pat_age']), F.max(df_gen_neg['Thought_Disturbance']), F.max(df_gen_neg['Abnormal_Behavior']), F.max(df_gen_neg['Suicidal_Intent']), F.max(df_gen_neg['Disorientated']), F.max(df_gen_neg['Mental_Health_Impairment']), F.max(df_gen_neg['Memory_Loss']), F.max(df_gen_neg['Clouded_Consciousness']), F.max(df_gen_neg['Agitation']), F.max(df_gen_neg['Congnitive_Impairment']),F.max(df_gen_neg['Alzheimer']))\n",
    "\n",
    "# Overall Data\n",
    "df_res_overall = df.groupBy(df['patient_key']).agg(F.first(df['pat_first_name']), F.first(df['pat_last_name']),F.first(df['pat_mrn']),F.first(df['pat_gender']),F.first(df['pat_race']),F.first(df['pat_ethinicity']),F.first(df['pat_city']),F.first(df['pat_zip']),F.first(df['pat_county']),F.first(df['pat_state']),F.first(df['pat_marital_status']),F.first(df['pat_smoking_status']),F.first(df['pat_status']),\n",
    "                                                   F.max(df['Thought_Disturbance']), F.max(df['Abnormal_Behavior']), F.max(df['Suicidal_Intent']), F.max(df['Disorientated']), F.max(df['Mental_Health_Impairment']), F.max(df['Memory_Loss']), F.max(df['Clouded_Consciousness']), F.max(df['Agitation']), F.max(df['Congnitive_Impairment']),F.max(df['Alzheimer']))\n",
    "\n",
    "df_gen_overall = df_gen.groupBy(df_gen['patient_key']).agg(F.first(df_gen['pat_first_name']), F.first(df_gen['pat_last_name']),F.first(df_gen['pat_mrn']),F.first(df_gen['pat_gender']),F.first(df_gen['pat_race']),F.first(df_gen['pat_ethinicity']),F.first(df_gen['pat_city']),F.first(df_gen['pat_zip']),F.first(df_gen['pat_county']),F.first(df_gen['pat_state']),F.first(df_gen['pat_marital_status']),F.first(df_gen['pat_smoking_status']),F.first(df_gen['pat_status']),\n",
    "                                                   F.max(df_gen['Thought_Disturbance']), F.max(df_gen['Abnormal_Behavior']), F.max(df_gen['Suicidal_Intent']), F.max(df_gen['Disorientated']), F.max(df_gen['Mental_Health_Impairment']), F.max(df_gen['Memory_Loss']), F.max(df_gen['Clouded_Consciousness']), F.max(df_gen['Agitation']), F.max(df_gen['Congnitive_Impairment']),F.max(df_gen['Alzheimer']))"
   ]
  },
  {
   "cell_type": "code",
   "execution_count": 18,
   "id": "a868ab5c-4b9b-4a6d-bc41-4028c393e693",
   "metadata": {
    "execution": {
     "iopub.execute_input": "2022-06-01T12:56:56.834526Z",
     "iopub.status.busy": "2022-06-01T12:56:56.834366Z",
     "iopub.status.idle": "2022-06-01T12:56:57.090612Z",
     "shell.execute_reply": "2022-06-01T12:56:57.090134Z",
     "shell.execute_reply.started": "2022-06-01T12:56:56.834505Z"
    },
    "tags": []
   },
   "outputs": [
    {
     "data": {
      "application/vnd.jupyter.widget-view+json": {
       "model_id": "4a59c2d6ca8a42e587d0db9da1ea6c09",
       "version_major": 2,
       "version_minor": 0
      },
      "text/plain": [
       "VBox()"
      ]
     },
     "metadata": {},
     "output_type": "display_data"
    },
    {
     "data": {
      "application/vnd.jupyter.widget-view+json": {
       "model_id": "",
       "version_major": 2,
       "version_minor": 0
      },
      "text/plain": [
       "FloatProgress(value=0.0, bar_style='info', description='Progress:', layout=Layout(height='25px', width='50%'),…"
      ]
     },
     "metadata": {},
     "output_type": "display_data"
    }
   ],
   "source": [
    "#Rename Columns\n",
    "new_names = ['patient_key', 'pat_first_name', 'pat_last_name', 'pat_mrn', 'pat_gender', 'pat_race', 'pat_ethinicity', 'pat_city', 'pat_zip', 'pat_county', 'pat_state', 'pat_marital_status', 'pat_smoking_status', 'pat_status', 'pat_dob','pat_age', 'Thought_Disturbance', 'Abnormal_Behavior', 'Suicidal_Intent', 'Disorientated', 'Mental_Health_Impairment', 'Memory_Loss', 'Clouded_Consciousness', 'Agitation', 'Congnitive_Impairment', 'Alzheimer']\n",
    "df_result_neg_filter = df_result_neg_filter.toDF(*new_names)\n",
    "df_generic_neg_filter = df_generic_neg_filter.toDF(*new_names)\n",
    "overall_names = ['patient_key', 'pat_first_name', 'pat_last_name', 'pat_mrn', 'pat_gender', 'pat_race', 'pat_ethinicity', 'pat_city', 'pat_zip', 'pat_county', 'pat_state', 'pat_marital_status', 'pat_smoking_status', 'pat_status', 'Thought_Disturbance', 'Abnormal_Behavior', 'Suicidal_Intent', 'Disorientated', 'Mental_Health_Impairment', 'Memory_Loss', 'Clouded_Consciousness', 'Agitation', 'Congnitive_Impairment', 'Alzheimer']\n",
    "df_res_overall = df_res_overall.toDF(*overall_names)\n",
    "df_gen_overall = df_gen_overall.toDF(*overall_names)"
   ]
  },
  {
   "cell_type": "code",
   "execution_count": 19,
   "id": "21cec0b2-2f2d-44e5-ae8d-d0f4d82eef1c",
   "metadata": {
    "execution": {
     "iopub.execute_input": "2022-06-01T12:56:57.091523Z",
     "iopub.status.busy": "2022-06-01T12:56:57.091364Z",
     "iopub.status.idle": "2022-06-01T12:56:57.135912Z",
     "shell.execute_reply": "2022-06-01T12:56:57.135382Z",
     "shell.execute_reply.started": "2022-06-01T12:56:57.091503Z"
    },
    "tags": []
   },
   "outputs": [
    {
     "data": {
      "application/vnd.jupyter.widget-view+json": {
       "model_id": "55ff4966b1d54c8bae99f74d20efb14c",
       "version_major": 2,
       "version_minor": 0
      },
      "text/plain": [
       "VBox()"
      ]
     },
     "metadata": {},
     "output_type": "display_data"
    },
    {
     "data": {
      "application/vnd.jupyter.widget-view+json": {
       "model_id": "",
       "version_major": 2,
       "version_minor": 0
      },
      "text/plain": [
       "FloatProgress(value=0.0, bar_style='info', description='Progress:', layout=Layout(height='25px', width='50%'),…"
      ]
     },
     "metadata": {},
     "output_type": "display_data"
    }
   ],
   "source": [
    "# Function to merge Dataframe\n",
    "from functools import reduce\n",
    "from pyspark.sql import DataFrame\n",
    "def unionAll(*dfs):\n",
    "    return reduce(DataFrame.unionAll, dfs)"
   ]
  },
  {
   "cell_type": "code",
   "execution_count": 20,
   "id": "c3cc1796-c26d-4482-8bd2-507c1c3f39f5",
   "metadata": {
    "execution": {
     "iopub.execute_input": "2022-06-01T12:56:57.136808Z",
     "iopub.status.busy": "2022-06-01T12:56:57.136655Z",
     "iopub.status.idle": "2022-06-01T12:56:57.745418Z",
     "shell.execute_reply": "2022-06-01T12:56:57.744887Z",
     "shell.execute_reply.started": "2022-06-01T12:56:57.136788Z"
    },
    "tags": []
   },
   "outputs": [
    {
     "data": {
      "application/vnd.jupyter.widget-view+json": {
       "model_id": "afceadfd6e844cfbb8b68d83631a0233",
       "version_major": 2,
       "version_minor": 0
      },
      "text/plain": [
       "VBox()"
      ]
     },
     "metadata": {},
     "output_type": "display_data"
    },
    {
     "data": {
      "application/vnd.jupyter.widget-view+json": {
       "model_id": "",
       "version_major": 2,
       "version_minor": 0
      },
      "text/plain": [
       "FloatProgress(value=0.0, bar_style='info', description='Progress:', layout=Layout(height='25px', width='50%'),…"
      ]
     },
     "metadata": {},
     "output_type": "display_data"
    }
   ],
   "source": [
    "#Merge Dataframe\n",
    "df_negated = unionAll(df_result_neg_filter,df_generic_neg_filter)\n",
    "df_overall = unionAll(df_res_overall,df_gen_overall)"
   ]
  },
  {
   "cell_type": "code",
   "execution_count": 21,
   "id": "7b99e2d2-6840-4771-b760-1ca6b8e39d57",
   "metadata": {
    "execution": {
     "iopub.execute_input": "2022-06-01T12:56:57.746347Z",
     "iopub.status.busy": "2022-06-01T12:56:57.746190Z",
     "iopub.status.idle": "2022-06-01T12:56:58.000116Z",
     "shell.execute_reply": "2022-06-01T12:56:57.999597Z",
     "shell.execute_reply.started": "2022-06-01T12:56:57.746327Z"
    },
    "tags": []
   },
   "outputs": [
    {
     "data": {
      "application/vnd.jupyter.widget-view+json": {
       "model_id": "7b4b38df8ba248ae8bc5d1d64a8bd739",
       "version_major": 2,
       "version_minor": 0
      },
      "text/plain": [
       "VBox()"
      ]
     },
     "metadata": {},
     "output_type": "display_data"
    },
    {
     "data": {
      "application/vnd.jupyter.widget-view+json": {
       "model_id": "",
       "version_major": 2,
       "version_minor": 0
      },
      "text/plain": [
       "FloatProgress(value=0.0, bar_style='info', description='Progress:', layout=Layout(height='25px', width='50%'),…"
      ]
     },
     "metadata": {},
     "output_type": "display_data"
    }
   ],
   "source": [
    "df_negated = df_negated.withColumn(\"pat_zip\",df_negated.pat_zip.cast('int'))\n",
    "df_overall = df_overall.withColumn(\"pat_zip\",df_overall.pat_zip.cast('int'))\n",
    "from pyspark.sql.functions import *\n",
    "df_negated = df_negated.withColumn('pat_gender', regexp_replace('pat_gender', 'Female', 'F'))\n",
    "df_negated = df_negated.withColumn('pat_gender', regexp_replace('pat_gender', 'Male', 'M'))\n",
    "df_overall = df_overall.withColumn('pat_gender', regexp_replace('pat_gender', 'Female', 'F'))\n",
    "df_overall = df_overall.withColumn('pat_gender', regexp_replace('pat_gender', 'Male', 'M'))"
   ]
  },
  {
   "cell_type": "code",
   "execution_count": 22,
   "id": "a87ecd29-efc1-4438-bd0b-e32dc6b2a513",
   "metadata": {
    "execution": {
     "iopub.execute_input": "2022-06-01T12:56:58.001046Z",
     "iopub.status.busy": "2022-06-01T12:56:58.000889Z",
     "iopub.status.idle": "2022-06-01T12:56:58.256895Z",
     "shell.execute_reply": "2022-06-01T12:56:58.256423Z",
     "shell.execute_reply.started": "2022-06-01T12:56:58.001025Z"
    },
    "tags": []
   },
   "outputs": [
    {
     "data": {
      "application/vnd.jupyter.widget-view+json": {
       "model_id": "7b5ec891fdc24bc9b4e35ae3b7bc1b6e",
       "version_major": 2,
       "version_minor": 0
      },
      "text/plain": [
       "VBox()"
      ]
     },
     "metadata": {},
     "output_type": "display_data"
    },
    {
     "data": {
      "application/vnd.jupyter.widget-view+json": {
       "model_id": "",
       "version_major": 2,
       "version_minor": 0
      },
      "text/plain": [
       "FloatProgress(value=0.0, bar_style='info', description='Progress:', layout=Layout(height='25px', width='50%'),…"
      ]
     },
     "metadata": {},
     "output_type": "display_data"
    }
   ],
   "source": [
    "df_negated = df_negated.groupBy(df_negated['patient_key']).agg(F.first(df_negated['pat_first_name']), F.first(df_negated['pat_last_name']),F.first(df_negated['pat_mrn']),F.first(df_negated['pat_gender']),F.first(df_negated['pat_race']),F.first(df_negated['pat_ethinicity']),F.first(df_negated['pat_city']),F.first(df_negated['pat_zip']),F.first(df_negated['pat_county']),F.first(df_negated['pat_state']),F.first(df_negated['pat_marital_status']),F.first(df_negated['pat_smoking_status']),F.first(df_negated['pat_status']),\n",
    "                                                   F.max(df_negated['pat_dob']),F.max(df_negated['pat_age']), F.max(df_negated['Thought_Disturbance']), F.max(df_negated['Abnormal_Behavior']), F.max(df_negated['Suicidal_Intent']), F.max(df_negated['Disorientated']), F.max(df_negated['Mental_Health_Impairment']), F.max(df_negated['Memory_Loss']), F.max(df_negated['Clouded_Consciousness']), F.max(df_negated['Agitation']), F.max(df_negated['Congnitive_Impairment']),F.max(df_negated['Alzheimer']))\n",
    "\n",
    "df_overall = df_overall.groupBy(df_overall['patient_key']).agg(F.first(df_overall['pat_first_name']), F.first(df_overall['pat_last_name']),F.first(df_overall['pat_mrn']),F.first(df_overall['pat_gender']),F.first(df_overall['pat_race']),F.first(df_overall['pat_ethinicity']),F.first(df_overall['pat_city']),F.first(df_overall['pat_zip']),F.first(df_overall['pat_county']),F.first(df_overall['pat_state']),F.first(df_overall['pat_marital_status']),F.first(df_overall['pat_smoking_status']),F.first(df_overall['pat_status']),\n",
    "                                                   F.max(df_overall['Thought_Disturbance']), F.max(df_overall['Abnormal_Behavior']), F.max(df_overall['Suicidal_Intent']), F.max(df_overall['Disorientated']), F.max(df_overall['Mental_Health_Impairment']), F.max(df_overall['Memory_Loss']), F.max(df_overall['Clouded_Consciousness']), F.max(df_overall['Agitation']), F.max(df_overall['Congnitive_Impairment']),F.max(df_overall['Alzheimer']))\n"
   ]
  },
  {
   "cell_type": "code",
   "execution_count": 23,
   "id": "21c5e87f-af44-499d-ae43-3b31ab8bc184",
   "metadata": {
    "execution": {
     "iopub.execute_input": "2022-06-01T12:56:58.258794Z",
     "iopub.status.busy": "2022-06-01T12:56:58.258631Z",
     "iopub.status.idle": "2022-06-01T12:56:58.506822Z",
     "shell.execute_reply": "2022-06-01T12:56:58.506324Z",
     "shell.execute_reply.started": "2022-06-01T12:56:58.258773Z"
    },
    "tags": []
   },
   "outputs": [
    {
     "data": {
      "application/vnd.jupyter.widget-view+json": {
       "model_id": "b1d2d5410e3143eeb2675365f7d90465",
       "version_major": 2,
       "version_minor": 0
      },
      "text/plain": [
       "VBox()"
      ]
     },
     "metadata": {},
     "output_type": "display_data"
    },
    {
     "data": {
      "application/vnd.jupyter.widget-view+json": {
       "model_id": "",
       "version_major": 2,
       "version_minor": 0
      },
      "text/plain": [
       "FloatProgress(value=0.0, bar_style='info', description='Progress:', layout=Layout(height='25px', width='50%'),…"
      ]
     },
     "metadata": {},
     "output_type": "display_data"
    }
   ],
   "source": [
    "#Rename Columns\n",
    "new_names = ['patient_key', 'pat_first_name', 'pat_last_name', 'pat_mrn', 'pat_gender', 'pat_race', 'pat_ethinicity', 'pat_city', 'pat_zip', 'pat_county', 'pat_state', 'pat_marital_status', 'pat_smoking_status', 'pat_status', 'pat_dob','pat_age', 'Thought_Disturbance', 'Abnormal_Behavior', 'Suicidal_Intent', 'Disorientated', 'Mental_Health_Impairment', 'Memory_Loss', 'Clouded_Consciousness', 'Agitation', 'Congnitive_Impairment', 'Alzheimer']\n",
    "df_negated = df_negated.toDF(*new_names)\n",
    "overall_names = ['patient_key', 'pat_first_name', 'pat_last_name', 'pat_mrn', 'pat_gender', 'pat_race', 'pat_ethinicity', 'pat_city', 'pat_zip', 'pat_county', 'pat_state', 'pat_marital_status', 'pat_smoking_status', 'pat_status', 'Thought_Disturbance', 'Abnormal_Behavior', 'Suicidal_Intent', 'Disorientated', 'Mental_Health_Impairment', 'Memory_Loss', 'Clouded_Consciousness', 'Agitation', 'Congnitive_Impairment', 'Alzheimer']\n",
    "df_overall = df_overall.toDF(*overall_names)"
   ]
  },
  {
   "cell_type": "markdown",
   "id": "4042a59e-e6a2-44d5-891f-af2b04583127",
   "metadata": {},
   "source": [
    "#### Viewing ALzheimer Patients"
   ]
  },
  {
   "cell_type": "code",
   "execution_count": 24,
   "id": "bba175ab-a9bd-4b9c-8cc6-ffaab6de1c49",
   "metadata": {
    "execution": {
     "iopub.execute_input": "2022-06-01T12:56:58.507819Z",
     "iopub.status.busy": "2022-06-01T12:56:58.507654Z",
     "iopub.status.idle": "2022-06-01T12:58:08.018283Z",
     "shell.execute_reply": "2022-06-01T12:58:08.017760Z",
     "shell.execute_reply.started": "2022-06-01T12:56:58.507799Z"
    },
    "tags": []
   },
   "outputs": [
    {
     "data": {
      "application/vnd.jupyter.widget-view+json": {
       "model_id": "b152a3f71092474bb101d7ef02b9ba6b",
       "version_major": 2,
       "version_minor": 0
      },
      "text/plain": [
       "VBox()"
      ]
     },
     "metadata": {},
     "output_type": "display_data"
    },
    {
     "data": {
      "application/vnd.jupyter.widget-view+json": {
       "model_id": "",
       "version_major": 2,
       "version_minor": 0
      },
      "text/plain": [
       "FloatProgress(value=0.0, bar_style='info', description='Progress:', layout=Layout(height='25px', width='50%'),…"
      ]
     },
     "metadata": {},
     "output_type": "display_data"
    },
    {
     "name": "stdout",
     "output_type": "stream",
     "text": [
      "+-----------+--------------+-------------+----------+--------+--------------+--------------+---------+------------------+\n",
      "|patient_key|pat_first_name|pat_last_name|pat_gender|pat_race|pat_ethinicity|      pat_city|  pat_zip|pat_marital_status|\n",
      "+-----------+--------------+-------------+----------+--------+--------------+--------------+---------+------------------+\n",
      "|     483529|          MARY|        YOUNG|         F|   Black|  Not Hispanic|     CLEVELAND|441281926|                 M|\n",
      "|     875166|        SANDRA|     FLANAGAN|         F|   Black|  Not Hispanic|     CLEVELAND|441057407|                 S|\n",
      "|     910278|        RONALD|        YOUNG|         M|   Black|  Not Hispanic|     CLEVELAND|441101134|                 S|\n",
      "|     938044|       MICHAEL|      SABELLI|         M|   White|  Not Hispanic|         PARMA|    44134|                 S|\n",
      "|     945104|       KENNETH|         REDD|         M|   Black|  Not Hispanic|     CLEVELAND|441063501|                 S|\n",
      "|     950201|        STEVEN|    GOLDSCHER|         M|   White|  Not Hispanic|   PEPPER PIKE|441245617|                 S|\n",
      "|    1153839|         JAMES|        CLARK|         M|   White|  Not Hispanic| CLEVELAND HTS|    44118|                 S|\n",
      "|    1257311|        SANITA|        PERRY|         F|   Black|  Not Hispanic| CLEVELAND HTS|441211349|                 S|\n",
      "|    1353167|        ROBERT|         SIMS|         M|   Black|  Not Hispanic|EAST CLEVELAND|441181123|                 M|\n",
      "|    1404108|       DEBORAH|       DORTCH|         F|   Black|  Not Hispanic|        EUCLID|    44132|                 S|\n",
      "+-----------+--------------+-------------+----------+--------+--------------+--------------+---------+------------------+\n",
      "only showing top 10 rows"
     ]
    }
   ],
   "source": [
    "df_negated[df_negated['Alzheimer'] == 1].select(['patient_key','pat_first_name', 'pat_last_name', 'pat_gender', 'pat_race', 'pat_ethinicity', 'pat_city', 'pat_zip', 'pat_marital_status']).show(10)"
   ]
  },
  {
   "cell_type": "code",
   "execution_count": 25,
   "id": "44bb8770-5157-4f85-97db-b48a68667bfb",
   "metadata": {
    "execution": {
     "iopub.execute_input": "2022-06-01T12:58:08.019435Z",
     "iopub.status.busy": "2022-06-01T12:58:08.019269Z",
     "iopub.status.idle": "2022-06-01T12:59:31.570360Z",
     "shell.execute_reply": "2022-06-01T12:59:31.569805Z",
     "shell.execute_reply.started": "2022-06-01T12:58:08.019414Z"
    },
    "tags": []
   },
   "outputs": [
    {
     "data": {
      "application/vnd.jupyter.widget-view+json": {
       "model_id": "e0dc575c9ea44fe29e48cb926fa8d2c5",
       "version_major": 2,
       "version_minor": 0
      },
      "text/plain": [
       "VBox()"
      ]
     },
     "metadata": {},
     "output_type": "display_data"
    },
    {
     "data": {
      "application/vnd.jupyter.widget-view+json": {
       "model_id": "",
       "version_major": 2,
       "version_minor": 0
      },
      "text/plain": [
       "FloatProgress(value=0.0, bar_style='info', description='Progress:', layout=Layout(height='25px', width='50%'),…"
      ]
     },
     "metadata": {},
     "output_type": "display_data"
    },
    {
     "name": "stdout",
     "output_type": "stream",
     "text": [
      "+-----------+--------------+-------------+----------+--------+--------------+--------------+---------+------------------+\n",
      "|patient_key|pat_first_name|pat_last_name|pat_gender|pat_race|pat_ethinicity|      pat_city|  pat_zip|pat_marital_status|\n",
      "+-----------+--------------+-------------+----------+--------+--------------+--------------+---------+------------------+\n",
      "|     483529|          MARY|        YOUNG|         F|   Black|  Not Hispanic|     CLEVELAND|441281926|                 M|\n",
      "|     875166|        SANDRA|     FLANAGAN|         F|   Black|  Not Hispanic|     CLEVELAND|441057407|                 S|\n",
      "|     910278|        RONALD|        YOUNG|         M|   Black|  Not Hispanic|     CLEVELAND|441101134|                 S|\n",
      "|     938044|       MICHAEL|      SABELLI|         M|   White|  Not Hispanic|         PARMA|    44134|                 S|\n",
      "|     945104|       KENNETH|         REDD|         M|   Black|  Not Hispanic|     CLEVELAND|441063501|                 S|\n",
      "|     950201|        STEVEN|    GOLDSCHER|         M|   White|  Not Hispanic|   PEPPER PIKE|441245617|                 S|\n",
      "|    1153839|         JAMES|        CLARK|         M|   White|  Not Hispanic| CLEVELAND HTS|    44118|                 S|\n",
      "|    1257311|        SANITA|        PERRY|         F|   Black|  Not Hispanic| CLEVELAND HTS|441211349|                 S|\n",
      "|    1353167|        ROBERT|         SIMS|         M|   Black|  Not Hispanic|EAST CLEVELAND|441181123|                 M|\n",
      "|    1404108|       DEBORAH|       DORTCH|         F|   Black|  Not Hispanic|        EUCLID|    44132|                 S|\n",
      "+-----------+--------------+-------------+----------+--------+--------------+--------------+---------+------------------+\n",
      "only showing top 10 rows"
     ]
    }
   ],
   "source": [
    "df_negated[df_negated['Alzheimer'] == 1].select(['patient_key','pat_first_name', 'pat_last_name', 'pat_gender', 'pat_race', 'pat_ethinicity', 'pat_city', 'pat_zip', 'pat_marital_status']).show(10)"
   ]
  },
  {
   "cell_type": "markdown",
   "id": "1a4f5533-ea5a-466b-9145-00a4c2f6c7cf",
   "metadata": {},
   "source": [
    "#### Alzheimer Patients vs Overall Patients"
   ]
  },
  {
   "cell_type": "code",
   "execution_count": 26,
   "id": "c1fe4f67-a1d4-4ea7-9413-10a764611a80",
   "metadata": {
    "execution": {
     "iopub.execute_input": "2022-06-01T12:59:31.571515Z",
     "iopub.status.busy": "2022-06-01T12:59:31.571342Z",
     "iopub.status.idle": "2022-06-01T12:59:31.832679Z",
     "shell.execute_reply": "2022-06-01T12:59:31.831978Z",
     "shell.execute_reply.started": "2022-06-01T12:59:31.571493Z"
    },
    "tags": []
   },
   "outputs": [
    {
     "data": {
      "application/vnd.jupyter.widget-view+json": {
       "model_id": "fc23e7a858004bddbd6913a943a70bcb",
       "version_major": 2,
       "version_minor": 0
      },
      "text/plain": [
       "VBox()"
      ]
     },
     "metadata": {},
     "output_type": "display_data"
    },
    {
     "data": {
      "application/vnd.jupyter.widget-view+json": {
       "model_id": "",
       "version_major": 2,
       "version_minor": 0
      },
      "text/plain": [
       "FloatProgress(value=0.0, bar_style='info', description='Progress:', layout=Layout(height='25px', width='50%'),…"
      ]
     },
     "metadata": {},
     "output_type": "display_data"
    }
   ],
   "source": [
    "#Patients having Alzheimer\n",
    "#Result\n",
    "df_alz = df_negated[df_negated['Alzheimer'] == 1].dropDuplicates()"
   ]
  },
  {
   "cell_type": "code",
   "execution_count": 27,
   "id": "98fc3fbf-cb69-4af3-b6cb-e1862a431f73",
   "metadata": {
    "execution": {
     "iopub.execute_input": "2022-06-01T12:59:31.833755Z",
     "iopub.status.busy": "2022-06-01T12:59:31.833567Z",
     "iopub.status.idle": "2022-06-01T13:01:53.541806Z",
     "shell.execute_reply": "2022-06-01T13:01:53.541313Z",
     "shell.execute_reply.started": "2022-06-01T12:59:31.833733Z"
    },
    "scrolled": true,
    "tags": []
   },
   "outputs": [
    {
     "data": {
      "application/vnd.jupyter.widget-view+json": {
       "model_id": "8340500ca271472bba474f0d553b4136",
       "version_major": 2,
       "version_minor": 0
      },
      "text/plain": [
       "VBox()"
      ]
     },
     "metadata": {},
     "output_type": "display_data"
    },
    {
     "data": {
      "application/vnd.jupyter.widget-view+json": {
       "model_id": "",
       "version_major": 2,
       "version_minor": 0
      },
      "text/plain": [
       "FloatProgress(value=0.0, bar_style='info', description='Progress:', layout=Layout(height='25px', width='50%'),…"
      ]
     },
     "metadata": {},
     "output_type": "display_data"
    },
    {
     "name": "stdout",
     "output_type": "stream",
     "text": [
      "1587"
     ]
    }
   ],
   "source": [
    "df_alz.count()"
   ]
  },
  {
   "cell_type": "code",
   "execution_count": 28,
   "id": "88299dae-d597-4f3c-9d56-25beaf14fb48",
   "metadata": {
    "execution": {
     "iopub.execute_input": "2022-06-01T13:01:53.542985Z",
     "iopub.status.busy": "2022-06-01T13:01:53.542824Z",
     "iopub.status.idle": "2022-06-01T13:04:11.207113Z",
     "shell.execute_reply": "2022-06-01T13:04:11.206636Z",
     "shell.execute_reply.started": "2022-06-01T13:01:53.542965Z"
    },
    "scrolled": true,
    "tags": []
   },
   "outputs": [
    {
     "data": {
      "application/vnd.jupyter.widget-view+json": {
       "model_id": "cb697c44281c4c08a227384531ff2287",
       "version_major": 2,
       "version_minor": 0
      },
      "text/plain": [
       "VBox()"
      ]
     },
     "metadata": {},
     "output_type": "display_data"
    },
    {
     "data": {
      "application/vnd.jupyter.widget-view+json": {
       "model_id": "",
       "version_major": 2,
       "version_minor": 0
      },
      "text/plain": [
       "FloatProgress(value=0.0, bar_style='info', description='Progress:', layout=Layout(height='25px', width='50%'),…"
      ]
     },
     "metadata": {},
     "output_type": "display_data"
    }
   ],
   "source": [
    "#Saving CSV\n",
    "df_negated.coalesce(1).write.format(\"csv\").mode(\"append\").save(\"s3://pas-biogen-sagemaker/Antony/Ongoing_Output/Alzheimer_Ongoing\",header = 'true')"
   ]
  },
  {
   "cell_type": "code",
   "execution_count": null,
   "id": "04f84692-76d4-48f0-8cf5-236b99d5aab1",
   "metadata": {},
   "outputs": [],
   "source": []
  },
  {
   "cell_type": "code",
   "execution_count": 29,
   "id": "7971cc79-8b6d-4a11-9dda-8d0b217396e4",
   "metadata": {
    "execution": {
     "iopub.execute_input": "2022-05-28T17:56:59.165708Z",
     "iopub.status.busy": "2022-05-28T17:56:59.165547Z",
     "iopub.status.idle": "2022-05-28T17:57:02.430339Z",
     "shell.execute_reply": "2022-05-28T17:57:02.429836Z",
     "shell.execute_reply.started": "2022-05-28T17:56:59.165687Z"
    },
    "tags": []
   },
   "outputs": [
    {
     "data": {
      "application/vnd.jupyter.widget-view+json": {
       "model_id": "8269f93d10a949a5ae6f43c4642be21c",
       "version_major": 2,
       "version_minor": 0
      },
      "text/plain": [
       "VBox()"
      ]
     },
     "metadata": {},
     "output_type": "display_data"
    },
    {
     "data": {
      "application/vnd.jupyter.widget-view+json": {
       "model_id": "",
       "version_major": 2,
       "version_minor": 0
      },
      "text/plain": [
       "FloatProgress(value=0.0, bar_style='info', description='Progress:', layout=Layout(height='25px', width='50%'),…"
      ]
     },
     "metadata": {},
     "output_type": "display_data"
    },
    {
     "name": "stdout",
     "output_type": "stream",
     "text": [
      "('Total number of patients: ', 90997)"
     ]
    }
   ],
   "source": [
    "print(\"Total number of patients: \", df_overall[['patient_key']].distinct().count())"
   ]
  },
  {
   "cell_type": "code",
   "execution_count": 30,
   "id": "76587061-2052-4ef7-b109-541695fa94bf",
   "metadata": {
    "execution": {
     "iopub.execute_input": "2022-05-28T17:57:02.431271Z",
     "iopub.status.busy": "2022-05-28T17:57:02.431109Z",
     "iopub.status.idle": "2022-05-28T17:59:04.003178Z",
     "shell.execute_reply": "2022-05-28T17:59:04.002655Z",
     "shell.execute_reply.started": "2022-05-28T17:57:02.431251Z"
    },
    "tags": []
   },
   "outputs": [
    {
     "data": {
      "application/vnd.jupyter.widget-view+json": {
       "model_id": "269978fca21443abb445938a3227c718",
       "version_major": 2,
       "version_minor": 0
      },
      "text/plain": [
       "VBox()"
      ]
     },
     "metadata": {},
     "output_type": "display_data"
    },
    {
     "data": {
      "application/vnd.jupyter.widget-view+json": {
       "model_id": "",
       "version_major": 2,
       "version_minor": 0
      },
      "text/plain": [
       "FloatProgress(value=0.0, bar_style='info', description='Progress:', layout=Layout(height='25px', width='50%'),…"
      ]
     },
     "metadata": {},
     "output_type": "display_data"
    },
    {
     "name": "stdout",
     "output_type": "stream",
     "text": [
      "('Total number of patients having Alzheimer: ', 1587)"
     ]
    }
   ],
   "source": [
    "print(\"Total number of patients having Alzheimer: \", df_alz[['patient_key']].distinct().count())"
   ]
  },
  {
   "cell_type": "code",
   "execution_count": 31,
   "id": "e7022ad1-0510-4853-a370-858a0da3085e",
   "metadata": {
    "execution": {
     "iopub.execute_input": "2022-05-28T17:59:04.004161Z",
     "iopub.status.busy": "2022-05-28T17:59:04.003994Z",
     "iopub.status.idle": "2022-05-28T18:20:08.606498Z",
     "shell.execute_reply": "2022-05-28T18:20:08.605989Z",
     "shell.execute_reply.started": "2022-05-28T17:59:04.004140Z"
    },
    "tags": []
   },
   "outputs": [
    {
     "data": {
      "application/vnd.jupyter.widget-view+json": {
       "model_id": "9d454bbcaa394887b50ed8b30c5a1e45",
       "version_major": 2,
       "version_minor": 0
      },
      "text/plain": [
       "VBox()"
      ]
     },
     "metadata": {},
     "output_type": "display_data"
    },
    {
     "data": {
      "application/vnd.jupyter.widget-view+json": {
       "model_id": "",
       "version_major": 2,
       "version_minor": 0
      },
      "text/plain": [
       "FloatProgress(value=0.0, bar_style='info', description='Progress:', layout=Layout(height='25px', width='50%'),…"
      ]
     },
     "metadata": {},
     "output_type": "display_data"
    },
    {
     "name": "stdout",
     "output_type": "stream",
     "text": [
      "('Overall Thought_Disturbance', 11429)\n",
      "('Alzheimer Thought_Disturbance', 387)\n",
      "('Overall Abnormal_Behavior', 30109)\n",
      "('Alzheimer Abnormal_Behavior', 750)\n",
      "('Overall Suicidal_Intent', 20391)\n",
      "('Alzheimer Suicidal_Intent', 362)\n",
      "('Overall Disorientated', 565)\n",
      "('Alzheimer Disorientated', 40)\n",
      "('Overall Mental_Health_Impairment', 3835)\n",
      "('Alzheimer Mental_Health_Impairment', 219)\n",
      "('Overall Memory_Loss', 3998)\n",
      "('Alzheimer Memory_Loss', 239)\n",
      "('Overall Clouded_Consciousness', 4376)\n",
      "('Alzheimer Clouded_Consciousness', 215)\n",
      "('Overall Agitation', 5113)\n",
      "('Alzheimer Agitation', 197)\n",
      "('Overall Congnitive_Impairment', 30678)\n",
      "('Alzheimer Congnitive_Impairment', 913)"
     ]
    }
   ],
   "source": [
    "#Patients having Anchor features Overall vs ALZ\n",
    "### Thought_Disturbance\n",
    "all_Thought_Disturbance = df_overall[df_overall['Thought_Disturbance'] == 1].select('patient_key')\n",
    "print('Overall Thought_Disturbance', all_Thought_Disturbance[['patient_key']].distinct().count())\n",
    "alz_Thought_Disturbance = df_alz[df_alz['Thought_Disturbance'] == 1].select('patient_key')\n",
    "print('Alzheimer Thought_Disturbance', alz_Thought_Disturbance[['patient_key']].distinct().count())\n",
    "\n",
    "### Abnormal_Behavior\n",
    "all_Thought_Disturbance = df_overall[df_overall['Abnormal_Behavior'] == 1].select('patient_key')\n",
    "print('Overall Abnormal_Behavior', all_Thought_Disturbance[['patient_key']].distinct().count())\n",
    "alz_Thought_Disturbance = df_alz[df_alz['Abnormal_Behavior'] == 1].select('patient_key')\n",
    "print('Alzheimer Abnormal_Behavior', alz_Thought_Disturbance[['patient_key']].distinct().count())\n",
    "\n",
    "### Suicidal_Intent\n",
    "all_Thought_Disturbance = df_overall[df_overall['Suicidal_Intent'] == 1].select('patient_key')\n",
    "print('Overall Suicidal_Intent', all_Thought_Disturbance[['patient_key']].distinct().count())\n",
    "alz_Thought_Disturbance = df_alz[df_alz['Suicidal_Intent'] == 1].select('patient_key')\n",
    "print('Alzheimer Suicidal_Intent', alz_Thought_Disturbance[['patient_key']].distinct().count())\n",
    "\n",
    "### Disorientated\n",
    "all_Thought_Disturbance = df_overall[df_overall['Disorientated'] == 1].select('patient_key')\n",
    "print('Overall Disorientated', all_Thought_Disturbance[['patient_key']].distinct().count())\n",
    "alz_Thought_Disturbance = df_alz[df_alz['Disorientated'] == 1].select('patient_key')\n",
    "print('Alzheimer Disorientated', alz_Thought_Disturbance[['patient_key']].distinct().count())\n",
    "\n",
    "\n",
    "### Mental_Health_Impairment\n",
    "all_Mental_Health_Impairment = df_overall[df_overall['Mental_Health_Impairment'] == 1].select('patient_key')\n",
    "print('Overall Mental_Health_Impairment', all_Mental_Health_Impairment[['patient_key']].distinct().count())\n",
    "alz_Mental_Health_Impairment = df_alz[df_alz['Mental_Health_Impairment'] == 1].select('patient_key')\n",
    "print('Alzheimer Mental_Health_Impairment', alz_Mental_Health_Impairment[['patient_key']].distinct().count())\n",
    "\n",
    "\n",
    "### Memory_Loss\n",
    "all_Thought_Disturbance = df_overall[df_overall['Memory_Loss'] == 1].select('patient_key')\n",
    "print('Overall Memory_Loss', all_Thought_Disturbance[['patient_key']].distinct().count())\n",
    "alz_Thought_Disturbance = df_alz[df_alz['Memory_Loss'] == 1].select('patient_key')\n",
    "print('Alzheimer Memory_Loss', alz_Thought_Disturbance[['patient_key']].distinct().count())\n",
    "\n",
    "### Clouded_Consciousness\n",
    "all_Thought_Disturbance = df_overall[df_overall['Clouded_Consciousness'] == 1].select('patient_key')\n",
    "print('Overall Clouded_Consciousness', all_Thought_Disturbance[['patient_key']].distinct().count())\n",
    "alz_Thought_Disturbance = df_alz[df_alz['Clouded_Consciousness'] == 1].select('patient_key')\n",
    "print('Alzheimer Clouded_Consciousness', alz_Thought_Disturbance[['patient_key']].distinct().count())\n",
    "\n",
    "### Agitation\n",
    "all_Thought_Disturbance = df_overall[df_overall['Agitation'] == 1].select('patient_key')\n",
    "print('Overall Agitation', all_Thought_Disturbance[['patient_key']].distinct().count())\n",
    "alz_Thought_Disturbance = df_alz[df_alz['Agitation'] == 1].select('patient_key')\n",
    "print('Alzheimer Agitation', alz_Thought_Disturbance[['patient_key']].distinct().count())\n",
    "\n",
    "### Congnitive_Impairment\n",
    "all_Thought_Disturbance = df_overall[df_overall['Congnitive_Impairment'] == 1].select('patient_key')\n",
    "print('Overall Congnitive_Impairment', all_Thought_Disturbance[['patient_key']].distinct().count())\n",
    "alz_Thought_Disturbance = df_alz[df_alz['Congnitive_Impairment'] == 1].select('patient_key')\n",
    "print('Alzheimer Congnitive_Impairment', alz_Thought_Disturbance[['patient_key']].distinct().count())"
   ]
  },
  {
   "cell_type": "code",
   "execution_count": 32,
   "id": "a66b40c3-ca72-44ee-8316-731c9f632415",
   "metadata": {
    "execution": {
     "iopub.execute_input": "2022-05-28T18:20:08.607452Z",
     "iopub.status.busy": "2022-05-28T18:20:08.607286Z",
     "iopub.status.idle": "2022-05-28T18:27:43.848748Z",
     "shell.execute_reply": "2022-05-28T18:27:43.848170Z",
     "shell.execute_reply.started": "2022-05-28T18:20:08.607431Z"
    },
    "tags": []
   },
   "outputs": [
    {
     "data": {
      "application/vnd.jupyter.widget-view+json": {
       "model_id": "16847b180d574dbc8a298b6aeb57192d",
       "version_major": 2,
       "version_minor": 0
      },
      "text/plain": [
       "VBox()"
      ]
     },
     "metadata": {},
     "output_type": "display_data"
    },
    {
     "data": {
      "application/vnd.jupyter.widget-view+json": {
       "model_id": "",
       "version_major": 2,
       "version_minor": 0
      },
      "text/plain": [
       "FloatProgress(value=0.0, bar_style='info', description='Progress:', layout=Layout(height='25px', width='50%'),…"
      ]
     },
     "metadata": {},
     "output_type": "display_data"
    },
    {
     "name": "stdout",
     "output_type": "stream",
     "text": [
      "('Alzheimer count', 1587)\n",
      "('all_Gender_M', 40612)\n",
      "('all_Gender_F', 50383)\n",
      "('alz_Gender_M', 640)\n",
      "('alz_Gender_F', 947)"
     ]
    }
   ],
   "source": [
    "### Total Patients having Alzheimer\n",
    "alz_cnt = df_alz[['patient_key']].distinct().count()\n",
    "print('Alzheimer count', alz_cnt)\n",
    "\n",
    "#Gender\n",
    "all_Gender_M = df_overall[df_overall['pat_gender'] == 'M'].select('patient_key')\n",
    "all_Gender_F = df_overall[df_overall['pat_gender'] == 'F'].select('patient_key')\n",
    "\n",
    "\n",
    "alz_Gender_M = df_alz[df_alz['pat_gender'] == 'M'].select('patient_key')\n",
    "alz_Gender_F = df_alz[df_alz['pat_gender'] == 'F'].select('patient_key')\n",
    "\n",
    "\n",
    "print('all_Gender_M', all_Gender_M[['patient_key']].distinct().count())\n",
    "print('all_Gender_F', all_Gender_F[['patient_key']].distinct().count())\n",
    "print('alz_Gender_M', alz_Gender_M[['patient_key']].distinct().count())\n",
    "print('alz_Gender_F', alz_Gender_F[['patient_key']].distinct().count())\n"
   ]
  },
  {
   "cell_type": "markdown",
   "id": "fc4ae51d-1832-44b9-90a2-4a0be22f5d3c",
   "metadata": {},
   "source": [
    "#### Visualization"
   ]
  },
  {
   "cell_type": "code",
   "execution_count": 33,
   "id": "02c89fdb-41c7-4873-98c9-6786a5f500e7",
   "metadata": {
    "execution": {
     "iopub.execute_input": "2022-05-28T18:27:43.849752Z",
     "iopub.status.busy": "2022-05-28T18:27:43.849570Z",
     "iopub.status.idle": "2022-05-28T18:27:43.929632Z",
     "shell.execute_reply": "2022-05-28T18:27:43.928857Z",
     "shell.execute_reply.started": "2022-05-28T18:27:43.849729Z"
    },
    "scrolled": true,
    "tags": []
   },
   "outputs": [
    {
     "ename": "ModuleNotFoundError",
     "evalue": "No module named 'matplotlib'",
     "output_type": "error",
     "traceback": [
      "\u001b[0;31m---------------------------------------------------------------------------\u001b[0m",
      "\u001b[0;31mModuleNotFoundError\u001b[0m                       Traceback (most recent call last)",
      "\u001b[0;32m<ipython-input-33-a3bd8ba78c07>\u001b[0m in \u001b[0;36m<module>\u001b[0;34m\u001b[0m\n\u001b[0;32m----> 1\u001b[0;31m \u001b[0mget_ipython\u001b[0m\u001b[0;34m(\u001b[0m\u001b[0;34m)\u001b[0m\u001b[0;34m.\u001b[0m\u001b[0mrun_line_magic\u001b[0m\u001b[0;34m(\u001b[0m\u001b[0;34m'matplotlib'\u001b[0m\u001b[0;34m,\u001b[0m \u001b[0;34m'inline'\u001b[0m\u001b[0;34m)\u001b[0m\u001b[0;34m\u001b[0m\u001b[0;34m\u001b[0m\u001b[0m\n\u001b[0m\u001b[1;32m      2\u001b[0m \u001b[0;32mimport\u001b[0m \u001b[0mmatplotlib\u001b[0m\u001b[0;34m.\u001b[0m\u001b[0mpyplot\u001b[0m \u001b[0;32mas\u001b[0m \u001b[0mplt\u001b[0m\u001b[0;34m\u001b[0m\u001b[0;34m\u001b[0m\u001b[0m\n\u001b[1;32m      3\u001b[0m \u001b[0;31m#import seaborn as sns\u001b[0m\u001b[0;34m\u001b[0m\u001b[0;34m\u001b[0m\u001b[0;34m\u001b[0m\u001b[0m\n\u001b[1;32m      4\u001b[0m \u001b[0;34m\u001b[0m\u001b[0m\n\u001b[1;32m      5\u001b[0m \u001b[0;34m\u001b[0m\u001b[0m\n",
      "\u001b[0;32m/mnt/notebook-env/lib/python3.7/site-packages/IPython/core/interactiveshell.py\u001b[0m in \u001b[0;36mrun_line_magic\u001b[0;34m(self, magic_name, line, _stack_depth)\u001b[0m\n\u001b[1;32m   2349\u001b[0m                 \u001b[0mkwargs\u001b[0m\u001b[0;34m[\u001b[0m\u001b[0;34m'local_ns'\u001b[0m\u001b[0;34m]\u001b[0m \u001b[0;34m=\u001b[0m \u001b[0mself\u001b[0m\u001b[0;34m.\u001b[0m\u001b[0mget_local_scope\u001b[0m\u001b[0;34m(\u001b[0m\u001b[0mstack_depth\u001b[0m\u001b[0;34m)\u001b[0m\u001b[0;34m\u001b[0m\u001b[0;34m\u001b[0m\u001b[0m\n\u001b[1;32m   2350\u001b[0m             \u001b[0;32mwith\u001b[0m \u001b[0mself\u001b[0m\u001b[0;34m.\u001b[0m\u001b[0mbuiltin_trap\u001b[0m\u001b[0;34m:\u001b[0m\u001b[0;34m\u001b[0m\u001b[0;34m\u001b[0m\u001b[0m\n\u001b[0;32m-> 2351\u001b[0;31m                 \u001b[0mresult\u001b[0m \u001b[0;34m=\u001b[0m \u001b[0mfn\u001b[0m\u001b[0;34m(\u001b[0m\u001b[0;34m*\u001b[0m\u001b[0margs\u001b[0m\u001b[0;34m,\u001b[0m \u001b[0;34m**\u001b[0m\u001b[0mkwargs\u001b[0m\u001b[0;34m)\u001b[0m\u001b[0;34m\u001b[0m\u001b[0;34m\u001b[0m\u001b[0m\n\u001b[0m\u001b[1;32m   2352\u001b[0m             \u001b[0;32mreturn\u001b[0m \u001b[0mresult\u001b[0m\u001b[0;34m\u001b[0m\u001b[0;34m\u001b[0m\u001b[0m\n\u001b[1;32m   2353\u001b[0m \u001b[0;34m\u001b[0m\u001b[0m\n",
      "\u001b[0;32m/mnt/notebook-env/lib/python3.7/site-packages/decorator.py\u001b[0m in \u001b[0;36mfun\u001b[0;34m(*args, **kw)\u001b[0m\n\u001b[1;32m    230\u001b[0m             \u001b[0;32mif\u001b[0m \u001b[0;32mnot\u001b[0m \u001b[0mkwsyntax\u001b[0m\u001b[0;34m:\u001b[0m\u001b[0;34m\u001b[0m\u001b[0;34m\u001b[0m\u001b[0m\n\u001b[1;32m    231\u001b[0m                 \u001b[0margs\u001b[0m\u001b[0;34m,\u001b[0m \u001b[0mkw\u001b[0m \u001b[0;34m=\u001b[0m \u001b[0mfix\u001b[0m\u001b[0;34m(\u001b[0m\u001b[0margs\u001b[0m\u001b[0;34m,\u001b[0m \u001b[0mkw\u001b[0m\u001b[0;34m,\u001b[0m \u001b[0msig\u001b[0m\u001b[0;34m)\u001b[0m\u001b[0;34m\u001b[0m\u001b[0;34m\u001b[0m\u001b[0m\n\u001b[0;32m--> 232\u001b[0;31m             \u001b[0;32mreturn\u001b[0m \u001b[0mcaller\u001b[0m\u001b[0;34m(\u001b[0m\u001b[0mfunc\u001b[0m\u001b[0;34m,\u001b[0m \u001b[0;34m*\u001b[0m\u001b[0;34m(\u001b[0m\u001b[0mextras\u001b[0m \u001b[0;34m+\u001b[0m \u001b[0margs\u001b[0m\u001b[0;34m)\u001b[0m\u001b[0;34m,\u001b[0m \u001b[0;34m**\u001b[0m\u001b[0mkw\u001b[0m\u001b[0;34m)\u001b[0m\u001b[0;34m\u001b[0m\u001b[0;34m\u001b[0m\u001b[0m\n\u001b[0m\u001b[1;32m    233\u001b[0m     \u001b[0mfun\u001b[0m\u001b[0;34m.\u001b[0m\u001b[0m__name__\u001b[0m \u001b[0;34m=\u001b[0m \u001b[0mfunc\u001b[0m\u001b[0;34m.\u001b[0m\u001b[0m__name__\u001b[0m\u001b[0;34m\u001b[0m\u001b[0;34m\u001b[0m\u001b[0m\n\u001b[1;32m    234\u001b[0m     \u001b[0mfun\u001b[0m\u001b[0;34m.\u001b[0m\u001b[0m__doc__\u001b[0m \u001b[0;34m=\u001b[0m \u001b[0mfunc\u001b[0m\u001b[0;34m.\u001b[0m\u001b[0m__doc__\u001b[0m\u001b[0;34m\u001b[0m\u001b[0;34m\u001b[0m\u001b[0m\n",
      "\u001b[0;32m/mnt/notebook-env/lib/python3.7/site-packages/IPython/core/magic.py\u001b[0m in \u001b[0;36m<lambda>\u001b[0;34m(f, *a, **k)\u001b[0m\n\u001b[1;32m    185\u001b[0m     \u001b[0;31m# but it's overkill for just that one bit of state.\u001b[0m\u001b[0;34m\u001b[0m\u001b[0;34m\u001b[0m\u001b[0;34m\u001b[0m\u001b[0m\n\u001b[1;32m    186\u001b[0m     \u001b[0;32mdef\u001b[0m \u001b[0mmagic_deco\u001b[0m\u001b[0;34m(\u001b[0m\u001b[0marg\u001b[0m\u001b[0;34m)\u001b[0m\u001b[0;34m:\u001b[0m\u001b[0;34m\u001b[0m\u001b[0;34m\u001b[0m\u001b[0m\n\u001b[0;32m--> 187\u001b[0;31m         \u001b[0mcall\u001b[0m \u001b[0;34m=\u001b[0m \u001b[0;32mlambda\u001b[0m \u001b[0mf\u001b[0m\u001b[0;34m,\u001b[0m \u001b[0;34m*\u001b[0m\u001b[0ma\u001b[0m\u001b[0;34m,\u001b[0m \u001b[0;34m**\u001b[0m\u001b[0mk\u001b[0m\u001b[0;34m:\u001b[0m \u001b[0mf\u001b[0m\u001b[0;34m(\u001b[0m\u001b[0;34m*\u001b[0m\u001b[0ma\u001b[0m\u001b[0;34m,\u001b[0m \u001b[0;34m**\u001b[0m\u001b[0mk\u001b[0m\u001b[0;34m)\u001b[0m\u001b[0;34m\u001b[0m\u001b[0;34m\u001b[0m\u001b[0m\n\u001b[0m\u001b[1;32m    188\u001b[0m \u001b[0;34m\u001b[0m\u001b[0m\n\u001b[1;32m    189\u001b[0m         \u001b[0;32mif\u001b[0m \u001b[0mcallable\u001b[0m\u001b[0;34m(\u001b[0m\u001b[0marg\u001b[0m\u001b[0;34m)\u001b[0m\u001b[0;34m:\u001b[0m\u001b[0;34m\u001b[0m\u001b[0;34m\u001b[0m\u001b[0m\n",
      "\u001b[0;32m/mnt/notebook-env/lib/python3.7/site-packages/IPython/core/magics/pylab.py\u001b[0m in \u001b[0;36mmatplotlib\u001b[0;34m(self, line)\u001b[0m\n\u001b[1;32m     97\u001b[0m             \u001b[0mprint\u001b[0m\u001b[0;34m(\u001b[0m\u001b[0;34m\"Available matplotlib backends: %s\"\u001b[0m \u001b[0;34m%\u001b[0m \u001b[0mbackends_list\u001b[0m\u001b[0;34m)\u001b[0m\u001b[0;34m\u001b[0m\u001b[0;34m\u001b[0m\u001b[0m\n\u001b[1;32m     98\u001b[0m         \u001b[0;32melse\u001b[0m\u001b[0;34m:\u001b[0m\u001b[0;34m\u001b[0m\u001b[0;34m\u001b[0m\u001b[0m\n\u001b[0;32m---> 99\u001b[0;31m             \u001b[0mgui\u001b[0m\u001b[0;34m,\u001b[0m \u001b[0mbackend\u001b[0m \u001b[0;34m=\u001b[0m \u001b[0mself\u001b[0m\u001b[0;34m.\u001b[0m\u001b[0mshell\u001b[0m\u001b[0;34m.\u001b[0m\u001b[0menable_matplotlib\u001b[0m\u001b[0;34m(\u001b[0m\u001b[0margs\u001b[0m\u001b[0;34m.\u001b[0m\u001b[0mgui\u001b[0m\u001b[0;34m.\u001b[0m\u001b[0mlower\u001b[0m\u001b[0;34m(\u001b[0m\u001b[0;34m)\u001b[0m \u001b[0;32mif\u001b[0m \u001b[0misinstance\u001b[0m\u001b[0;34m(\u001b[0m\u001b[0margs\u001b[0m\u001b[0;34m.\u001b[0m\u001b[0mgui\u001b[0m\u001b[0;34m,\u001b[0m \u001b[0mstr\u001b[0m\u001b[0;34m)\u001b[0m \u001b[0;32melse\u001b[0m \u001b[0margs\u001b[0m\u001b[0;34m.\u001b[0m\u001b[0mgui\u001b[0m\u001b[0;34m)\u001b[0m\u001b[0;34m\u001b[0m\u001b[0;34m\u001b[0m\u001b[0m\n\u001b[0m\u001b[1;32m    100\u001b[0m             \u001b[0mself\u001b[0m\u001b[0;34m.\u001b[0m\u001b[0m_show_matplotlib_backend\u001b[0m\u001b[0;34m(\u001b[0m\u001b[0margs\u001b[0m\u001b[0;34m.\u001b[0m\u001b[0mgui\u001b[0m\u001b[0;34m,\u001b[0m \u001b[0mbackend\u001b[0m\u001b[0;34m)\u001b[0m\u001b[0;34m\u001b[0m\u001b[0;34m\u001b[0m\u001b[0m\n\u001b[1;32m    101\u001b[0m \u001b[0;34m\u001b[0m\u001b[0m\n",
      "\u001b[0;32m/mnt/notebook-env/lib/python3.7/site-packages/IPython/core/interactiveshell.py\u001b[0m in \u001b[0;36menable_matplotlib\u001b[0;34m(self, gui)\u001b[0m\n\u001b[1;32m   3518\u001b[0m         \"\"\"\n\u001b[1;32m   3519\u001b[0m         \u001b[0;32mfrom\u001b[0m \u001b[0mIPython\u001b[0m\u001b[0;34m.\u001b[0m\u001b[0mcore\u001b[0m \u001b[0;32mimport\u001b[0m \u001b[0mpylabtools\u001b[0m \u001b[0;32mas\u001b[0m \u001b[0mpt\u001b[0m\u001b[0;34m\u001b[0m\u001b[0;34m\u001b[0m\u001b[0m\n\u001b[0;32m-> 3520\u001b[0;31m         \u001b[0;32mfrom\u001b[0m \u001b[0mmatplotlib_inline\u001b[0m\u001b[0;34m.\u001b[0m\u001b[0mbackend_inline\u001b[0m \u001b[0;32mimport\u001b[0m \u001b[0mconfigure_inline_support\u001b[0m\u001b[0;34m\u001b[0m\u001b[0;34m\u001b[0m\u001b[0m\n\u001b[0m\u001b[1;32m   3521\u001b[0m         \u001b[0mgui\u001b[0m\u001b[0;34m,\u001b[0m \u001b[0mbackend\u001b[0m \u001b[0;34m=\u001b[0m \u001b[0mpt\u001b[0m\u001b[0;34m.\u001b[0m\u001b[0mfind_gui_and_backend\u001b[0m\u001b[0;34m(\u001b[0m\u001b[0mgui\u001b[0m\u001b[0;34m,\u001b[0m \u001b[0mself\u001b[0m\u001b[0;34m.\u001b[0m\u001b[0mpylab_gui_select\u001b[0m\u001b[0;34m)\u001b[0m\u001b[0;34m\u001b[0m\u001b[0;34m\u001b[0m\u001b[0m\n\u001b[1;32m   3522\u001b[0m \u001b[0;34m\u001b[0m\u001b[0m\n",
      "\u001b[0;32m/mnt/notebook-env/lib/python3.7/site-packages/matplotlib_inline/backend_inline.py\u001b[0m in \u001b[0;36m<module>\u001b[0;34m\u001b[0m\n\u001b[1;32m      4\u001b[0m \u001b[0;31m# Distributed under the terms of the BSD 3-Clause License.\u001b[0m\u001b[0;34m\u001b[0m\u001b[0;34m\u001b[0m\u001b[0;34m\u001b[0m\u001b[0m\n\u001b[1;32m      5\u001b[0m \u001b[0;34m\u001b[0m\u001b[0m\n\u001b[0;32m----> 6\u001b[0;31m \u001b[0;32mimport\u001b[0m \u001b[0mmatplotlib\u001b[0m\u001b[0;34m\u001b[0m\u001b[0;34m\u001b[0m\u001b[0m\n\u001b[0m\u001b[1;32m      7\u001b[0m from matplotlib.backends.backend_agg import (  # noqa\n\u001b[1;32m      8\u001b[0m     \u001b[0mnew_figure_manager\u001b[0m\u001b[0;34m,\u001b[0m\u001b[0;34m\u001b[0m\u001b[0;34m\u001b[0m\u001b[0m\n",
      "\u001b[0;31mModuleNotFoundError\u001b[0m: No module named 'matplotlib'"
     ]
    }
   ],
   "source": [
    "%matplotlib inline\n",
    "import matplotlib.pyplot as plt\n",
    "#import seaborn as sns\n",
    "\n",
    "\n",
    "#sns.set()\n",
    "plt.clf()"
   ]
  },
  {
   "cell_type": "code",
   "execution_count": 34,
   "id": "dabf5e77-0229-4891-a3a1-91681d2e2c59",
   "metadata": {
    "execution": {
     "iopub.execute_input": "2022-05-28T18:29:23.527515Z",
     "iopub.status.busy": "2022-05-28T18:29:23.527288Z",
     "iopub.status.idle": "2022-05-28T18:29:23.777836Z",
     "shell.execute_reply": "2022-05-28T18:29:23.777328Z",
     "shell.execute_reply.started": "2022-05-28T18:29:23.527491Z"
    },
    "tags": []
   },
   "outputs": [
    {
     "data": {
      "application/vnd.jupyter.widget-view+json": {
       "model_id": "6f543ae8a4fc43ce9d93f481e238944c",
       "version_major": 2,
       "version_minor": 0
      },
      "text/plain": [
       "VBox()"
      ]
     },
     "metadata": {},
     "output_type": "display_data"
    },
    {
     "data": {
      "application/vnd.jupyter.widget-view+json": {
       "model_id": "",
       "version_major": 2,
       "version_minor": 0
      },
      "text/plain": [
       "FloatProgress(value=0.0, bar_style='info', description='Progress:', layout=Layout(height='25px', width='50%'),…"
      ]
     },
     "metadata": {},
     "output_type": "display_data"
    }
   ],
   "source": [
    "from pyspark.sql.functions import when,col\n",
    "conditions = when(col(\"pat_age\") < 50, \"<50\").when(col(\"pat_age\").between(50,55), \"50-55\").when(col(\"pat_age\").between(55,60), \"55-60\").when(col(\"pat_age\").between(60,65), \"60-65\").when(col(\"pat_age\").between(65,70), \"65-70\").when(col(\"pat_age\").between(70,75), \"70-75\").when(col(\"pat_age\").between(75,80), \"75-80\").when(col(\"pat_age\").between(80,85), \"80-85\").when(col(\"pat_age\").between(85,90), \"85-90\").when(col(\"pat_age\").between(90,150), \">90\")\n",
    "df_alz = df_alz.withColumn(\"age_catg\", conditions)"
   ]
  },
  {
   "cell_type": "code",
   "execution_count": 35,
   "id": "03cd20c8-8693-4cf5-bbd5-551d4674ffc5",
   "metadata": {
    "execution": {
     "iopub.execute_input": "2022-05-28T18:29:24.897236Z",
     "iopub.status.busy": "2022-05-28T18:29:24.896979Z",
     "iopub.status.idle": "2022-05-28T18:31:50.545939Z",
     "shell.execute_reply": "2022-05-28T18:31:50.545429Z",
     "shell.execute_reply.started": "2022-05-28T18:29:24.897211Z"
    },
    "tags": []
   },
   "outputs": [
    {
     "data": {
      "application/vnd.jupyter.widget-view+json": {
       "model_id": "fa43fd99d1724e57bee19747017451f3",
       "version_major": 2,
       "version_minor": 0
      },
      "text/plain": [
       "VBox()"
      ]
     },
     "metadata": {},
     "output_type": "display_data"
    },
    {
     "data": {
      "application/vnd.jupyter.widget-view+json": {
       "model_id": "",
       "version_major": 2,
       "version_minor": 0
      },
      "text/plain": [
       "FloatProgress(value=0.0, bar_style='info', description='Progress:', layout=Layout(height='25px', width='50%'),…"
      ]
     },
     "metadata": {},
     "output_type": "display_data"
    },
    {
     "name": "stdout",
     "output_type": "stream",
     "text": [
      "  age_catg  count\n",
      "0    75-80    287\n",
      "1    70-75    279\n",
      "2    65-70    261\n",
      "3    80-85    250\n",
      "4    60-65    193\n",
      "5    55-60    134\n",
      "6    85-90    101\n",
      "7    50-55     82"
     ]
    }
   ],
   "source": [
    "df_age = df_alz.select(['patient_key','age_catg']).drop_duplicates()\n",
    "df_age = df_age.groupBy('age_catg').count().orderBy('count', ascending=False).limit(10).toPandas()\n",
    "df_age"
   ]
  },
  {
   "cell_type": "code",
   "execution_count": null,
   "id": "c3c9b5c0-0d0d-40ab-b460-6012561444d8",
   "metadata": {
    "execution": {
     "iopub.status.busy": "2022-05-28T18:27:43.931922Z",
     "iopub.status.idle": "2022-05-28T18:27:43.932156Z",
     "shell.execute_reply": "2022-05-28T18:27:43.932054Z"
    },
    "tags": []
   },
   "outputs": [],
   "source": [
    "plt.clf()\n",
    "labels = [rating for rating in df_age['age_catg']]\n",
    "reviews = [num_reviews for num_reviews in df_age['count']]\n",
    "colors = ['#00876c', '#89c079', '#fff392', '#fc9e5a', '#de425b']\n",
    "fig, ax = plt.subplots(figsize=(8,5))\n",
    "w,a,b = ax.pie(reviews, autopct='%1.1f%%', colors=colors)\n",
    "plt.title('Distribution of star ratings for books')\n",
    "ax.legend(w, labels, title=\"Star Ratings\", loc=\"center left\", bbox_to_anchor=(1, 0, 0.5, 1))"
   ]
  },
  {
   "cell_type": "code",
   "execution_count": 36,
   "id": "67b92528-16e8-4874-81ca-e2c5b0f4a059",
   "metadata": {
    "execution": {
     "iopub.execute_input": "2022-05-28T18:31:50.546949Z",
     "iopub.status.busy": "2022-05-28T18:31:50.546785Z",
     "iopub.status.idle": "2022-05-28T18:34:06.173638Z",
     "shell.execute_reply": "2022-05-28T18:34:06.173092Z",
     "shell.execute_reply.started": "2022-05-28T18:31:50.546927Z"
    },
    "tags": []
   },
   "outputs": [
    {
     "data": {
      "application/vnd.jupyter.widget-view+json": {
       "model_id": "6f9670b413c34e3a9f6368cf825bf3c8",
       "version_major": 2,
       "version_minor": 0
      },
      "text/plain": [
       "VBox()"
      ]
     },
     "metadata": {},
     "output_type": "display_data"
    },
    {
     "data": {
      "application/vnd.jupyter.widget-view+json": {
       "model_id": "",
       "version_major": 2,
       "version_minor": 0
      },
      "text/plain": [
       "FloatProgress(value=0.0, bar_style='info', description='Progress:', layout=Layout(height='25px', width='50%'),…"
      ]
     },
     "metadata": {},
     "output_type": "display_data"
    },
    {
     "name": "stdout",
     "output_type": "stream",
     "text": [
      "         pat_city  count\n",
      "0       CLEVELAND    192\n",
      "1           PARMA    126\n",
      "2          ELYRIA     68\n",
      "3     SEVEN HILLS     56\n",
      "4          MENTOR     56\n",
      "5  NORTH ROYALTON     42\n",
      "6     PAINESVILLE     35\n",
      "7         RAVENNA     29\n",
      "8          EUCLID     29\n",
      "9         ASHLAND     28"
     ]
    }
   ],
   "source": [
    "df_city = df_alz.select(['patient_key','pat_city']).drop_duplicates()\n",
    "df_city = df_city.groupBy('pat_city').count().orderBy('count', ascending=False).limit(10).toPandas()\n",
    "df_city"
   ]
  },
  {
   "cell_type": "code",
   "execution_count": null,
   "id": "863c9257-77c6-467d-9b16-23ef6db6a741",
   "metadata": {
    "execution": {
     "iopub.status.busy": "2022-05-28T18:27:43.933516Z",
     "iopub.status.idle": "2022-05-28T18:27:43.933813Z",
     "shell.execute_reply": "2022-05-28T18:27:43.933696Z"
    },
    "tags": []
   },
   "outputs": [],
   "source": [
    "all_Gender_M = df_overall[df_overall['pat_gender'] == 'M'].select('patient_key')\n",
    "#all_Gender_F = df_overall[df_overall['pat_gender'] == 'F'].select('patient_key')"
   ]
  },
  {
   "cell_type": "code",
   "execution_count": null,
   "id": "ccc04dfe-f253-4c25-b46e-ed96aa238ef6",
   "metadata": {},
   "outputs": [],
   "source": []
  }
 ],
 "metadata": {
  "kernelspec": {
   "display_name": "PySpark",
   "language": "",
   "name": "pysparkkernel"
  },
  "language_info": {
   "codemirror_mode": {
    "name": "python",
    "version": 3
   },
   "mimetype": "text/x-python",
   "name": "pyspark",
   "pygments_lexer": "python3"
  }
 },
 "nbformat": 4,
 "nbformat_minor": 5
}
