{
 "cells": [
  {
   "cell_type": "code",
   "execution_count": 1,
   "id": "90425961-3ad5-4352-8bf7-7433c342c457",
   "metadata": {
    "execution": {
     "iopub.execute_input": "2022-05-28T08:38:25.014184Z",
     "iopub.status.busy": "2022-05-28T08:38:25.013953Z",
     "iopub.status.idle": "2022-05-28T08:38:45.809312Z",
     "shell.execute_reply": "2022-05-28T08:38:45.808806Z",
     "shell.execute_reply.started": "2022-05-28T08:38:25.014159Z"
    },
    "tags": []
   },
   "outputs": [
    {
     "data": {
      "application/vnd.jupyter.widget-view+json": {
       "model_id": "6eacdce1f5ad449a91a9cdd223655025",
       "version_major": 2,
       "version_minor": 0
      },
      "text/plain": [
       "VBox()"
      ]
     },
     "metadata": {},
     "output_type": "display_data"
    },
    {
     "name": "stdout",
     "output_type": "stream",
     "text": [
      "Starting Spark application\n"
     ]
    },
    {
     "data": {
      "text/html": [
       "<table>\n",
       "<tr><th>ID</th><th>YARN Application ID</th><th>Kind</th><th>State</th><th>Spark UI</th><th>Driver log</th><th>Current session?</th></tr><tr><td>4</td><td>application_1653719621549_0005</td><td>pyspark</td><td>idle</td><td><a target=\"_blank\" href=\"http://ip-172-31-18-160.ec2.internal:20888/proxy/application_1653719621549_0005/\" class=\"emr-proxy-link\" emr-resource=\"j-8WZHPSIOZHY4\n",
       "\" application-id=\"application_1653719621549_0005\">Link</a></td><td><a target=\"_blank\" href=\"http://ip-172-31-31-101.ec2.internal:8042/node/containerlogs/container_1653719621549_0005_01_000001/livy\" >Link</a></td><td>✔</td></tr></table>"
      ],
      "text/plain": [
       "<IPython.core.display.HTML object>"
      ]
     },
     "metadata": {},
     "output_type": "display_data"
    },
    {
     "data": {
      "application/vnd.jupyter.widget-view+json": {
       "model_id": "",
       "version_major": 2,
       "version_minor": 0
      },
      "text/plain": [
       "FloatProgress(value=0.0, bar_style='info', description='Progress:', layout=Layout(height='25px', width='50%'),…"
      ]
     },
     "metadata": {},
     "output_type": "display_data"
    },
    {
     "name": "stdout",
     "output_type": "stream",
     "text": [
      "SparkSession available as 'spark'.\n"
     ]
    },
    {
     "data": {
      "application/vnd.jupyter.widget-view+json": {
       "model_id": "",
       "version_major": 2,
       "version_minor": 0
      },
      "text/plain": [
       "FloatProgress(value=0.0, bar_style='info', description='Progress:', layout=Layout(height='25px', width='50%'),…"
      ]
     },
     "metadata": {},
     "output_type": "display_data"
    }
   ],
   "source": [
    "import os,re\n",
    "from pyspark.sql.functions import col, array_contains, array_position,year,to_date"
   ]
  },
  {
   "cell_type": "code",
   "execution_count": 2,
   "id": "425e6a2b-f342-4191-a123-bc33ea7b6951",
   "metadata": {
    "execution": {
     "iopub.execute_input": "2022-05-28T08:38:45.810380Z",
     "iopub.status.busy": "2022-05-28T08:38:45.810193Z",
     "iopub.status.idle": "2022-05-28T08:38:45.853210Z",
     "shell.execute_reply": "2022-05-28T08:38:45.852734Z",
     "shell.execute_reply.started": "2022-05-28T08:38:45.810358Z"
    },
    "tags": []
   },
   "outputs": [
    {
     "data": {
      "text/html": [
       "Current session configs: <tt>{'proxyUser': 'assumed-role_AWSReservedSSO_AWSPowerUserAccess_b440364ff0937dc7_AntonyChandraVibin_Paulraj_premierinc_com', 'conf': {'spark.pyspark.python': 'python3', 'spark.pyspark.virtualenv.enabled': 'true', 'spark.pyspark.virtualenv.type': 'native', 'spark.pyspark.virtualenv.bin.path': '/usr/bin/virtualenv'}, 'kind': 'pyspark'}</tt><br>"
      ],
      "text/plain": [
       "<IPython.core.display.HTML object>"
      ]
     },
     "metadata": {},
     "output_type": "display_data"
    },
    {
     "data": {
      "text/html": [
       "<table>\n",
       "<tr><th>ID</th><th>YARN Application ID</th><th>Kind</th><th>State</th><th>Spark UI</th><th>Driver log</th><th>Current session?</th></tr><tr><td>1</td><td>application_1653719621549_0002</td><td>pyspark</td><td>busy</td><td><a target=\"_blank\" href=\"http://ip-172-31-18-160.ec2.internal:20888/proxy/application_1653719621549_0002/\" class=\"emr-proxy-link\" emr-resource=\"j-8WZHPSIOZHY4\n",
       "\" application-id=\"application_1653719621549_0002\">Link</a></td><td><a target=\"_blank\" href=\"http://ip-172-31-27-22.ec2.internal:8042/node/containerlogs/container_1653719621549_0002_01_000001/livy\" >Link</a></td><td></td></tr><tr><td>3</td><td>application_1653719621549_0004</td><td>pyspark</td><td>idle</td><td><a target=\"_blank\" href=\"http://ip-172-31-18-160.ec2.internal:20888/proxy/application_1653719621549_0004/\" class=\"emr-proxy-link\" emr-resource=\"j-8WZHPSIOZHY4\n",
       "\" application-id=\"application_1653719621549_0004\">Link</a></td><td><a target=\"_blank\" href=\"http://ip-172-31-22-75.ec2.internal:8042/node/containerlogs/container_1653719621549_0004_01_000001/livy\" >Link</a></td><td></td></tr><tr><td>4</td><td>application_1653719621549_0005</td><td>pyspark</td><td>idle</td><td><a target=\"_blank\" href=\"http://ip-172-31-18-160.ec2.internal:20888/proxy/application_1653719621549_0005/\" class=\"emr-proxy-link\" emr-resource=\"j-8WZHPSIOZHY4\n",
       "\" application-id=\"application_1653719621549_0005\">Link</a></td><td><a target=\"_blank\" href=\"http://ip-172-31-31-101.ec2.internal:8042/node/containerlogs/container_1653719621549_0005_01_000001/livy\" >Link</a></td><td>✔</td></tr></table>"
      ],
      "text/plain": [
       "<IPython.core.display.HTML object>"
      ]
     },
     "metadata": {},
     "output_type": "display_data"
    }
   ],
   "source": [
    "%%info"
   ]
  },
  {
   "cell_type": "code",
   "execution_count": 3,
   "id": "161b21a6-1bb9-45c2-8ff7-28d0d241ab56",
   "metadata": {
    "execution": {
     "iopub.execute_input": "2022-05-28T08:38:45.854438Z",
     "iopub.status.busy": "2022-05-28T08:38:45.854256Z",
     "iopub.status.idle": "2022-05-28T08:39:14.660308Z",
     "shell.execute_reply": "2022-05-28T08:39:14.659816Z",
     "shell.execute_reply.started": "2022-05-28T08:38:45.854416Z"
    },
    "tags": []
   },
   "outputs": [
    {
     "name": "stdout",
     "output_type": "stream",
     "text": [
      "Starting Spark application\n"
     ]
    },
    {
     "data": {
      "text/html": [
       "<table>\n",
       "<tr><th>ID</th><th>YARN Application ID</th><th>Kind</th><th>State</th><th>Spark UI</th><th>Driver log</th><th>Current session?</th></tr><tr><td>5</td><td>application_1653719621549_0006</td><td>pyspark</td><td>idle</td><td><a target=\"_blank\" href=\"http://ip-172-31-18-160.ec2.internal:20888/proxy/application_1653719621549_0006/\" class=\"emr-proxy-link\" emr-resource=\"j-8WZHPSIOZHY4\n",
       "\" application-id=\"application_1653719621549_0006\">Link</a></td><td><a target=\"_blank\" href=\"http://ip-172-31-31-101.ec2.internal:8042/node/containerlogs/container_1653719621549_0006_01_000001/livy\" >Link</a></td><td>✔</td></tr></table>"
      ],
      "text/plain": [
       "<IPython.core.display.HTML object>"
      ]
     },
     "metadata": {},
     "output_type": "display_data"
    },
    {
     "data": {
      "application/vnd.jupyter.widget-view+json": {
       "model_id": "",
       "version_major": 2,
       "version_minor": 0
      },
      "text/plain": [
       "FloatProgress(value=0.0, bar_style='info', description='Progress:', layout=Layout(height='25px', width='50%'),…"
      ]
     },
     "metadata": {},
     "output_type": "display_data"
    },
    {
     "name": "stdout",
     "output_type": "stream",
     "text": [
      "SparkSession available as 'spark'.\n"
     ]
    },
    {
     "data": {
      "text/html": [
       "Current session configs: <tt>{'conf': {'spark.pyspark.python': 'python', 'spark.pyspark.virtualenv.enabled': 'true', 'spark.pyspark.virtualenv.type': 'native', 'spark.pyspark.virtualenv.bin.path': '/usr/bin/virtualenv'}, 'proxyUser': 'assumed-role_AWSReservedSSO_AWSPowerUserAccess_b440364ff0937dc7_AntonyChandraVibin_Paulraj_premierinc_com', 'kind': 'pyspark'}</tt><br>"
      ],
      "text/plain": [
       "<IPython.core.display.HTML object>"
      ]
     },
     "metadata": {},
     "output_type": "display_data"
    },
    {
     "data": {
      "text/html": [
       "<table>\n",
       "<tr><th>ID</th><th>YARN Application ID</th><th>Kind</th><th>State</th><th>Spark UI</th><th>Driver log</th><th>Current session?</th></tr><tr><td>1</td><td>application_1653719621549_0002</td><td>pyspark</td><td>busy</td><td><a target=\"_blank\" href=\"http://ip-172-31-18-160.ec2.internal:20888/proxy/application_1653719621549_0002/\" class=\"emr-proxy-link\" emr-resource=\"j-8WZHPSIOZHY4\n",
       "\" application-id=\"application_1653719621549_0002\">Link</a></td><td><a target=\"_blank\" href=\"http://ip-172-31-27-22.ec2.internal:8042/node/containerlogs/container_1653719621549_0002_01_000001/livy\" >Link</a></td><td></td></tr><tr><td>3</td><td>application_1653719621549_0004</td><td>pyspark</td><td>idle</td><td><a target=\"_blank\" href=\"http://ip-172-31-18-160.ec2.internal:20888/proxy/application_1653719621549_0004/\" class=\"emr-proxy-link\" emr-resource=\"j-8WZHPSIOZHY4\n",
       "\" application-id=\"application_1653719621549_0004\">Link</a></td><td><a target=\"_blank\" href=\"http://ip-172-31-22-75.ec2.internal:8042/node/containerlogs/container_1653719621549_0004_01_000001/livy\" >Link</a></td><td></td></tr><tr><td>5</td><td>application_1653719621549_0006</td><td>pyspark</td><td>idle</td><td><a target=\"_blank\" href=\"http://ip-172-31-18-160.ec2.internal:20888/proxy/application_1653719621549_0006/\" class=\"emr-proxy-link\" emr-resource=\"j-8WZHPSIOZHY4\n",
       "\" application-id=\"application_1653719621549_0006\">Link</a></td><td><a target=\"_blank\" href=\"http://ip-172-31-31-101.ec2.internal:8042/node/containerlogs/container_1653719621549_0006_01_000001/livy\" >Link</a></td><td>✔</td></tr></table>"
      ],
      "text/plain": [
       "<IPython.core.display.HTML object>"
      ]
     },
     "metadata": {},
     "output_type": "display_data"
    }
   ],
   "source": [
    "%%configure -f\n",
    "{ \"conf\":{\n",
    "          \"spark.pyspark.python\": \"python\",\n",
    "          \"spark.pyspark.virtualenv.enabled\": \"true\",\n",
    "          \"spark.pyspark.virtualenv.type\":\"native\",\n",
    "          \"spark.pyspark.virtualenv.bin.path\":\"/usr/bin/virtualenv\"\n",
    "         }\n",
    "}"
   ]
  },
  {
   "cell_type": "markdown",
   "id": "9c64846d-ea0b-4373-8d5a-eb7f9191d5f4",
   "metadata": {},
   "source": [
    "#### Installing Packages"
   ]
  },
  {
   "cell_type": "code",
   "execution_count": 4,
   "id": "54f952f3-8064-442e-918c-2a79a96b4c8c",
   "metadata": {
    "execution": {
     "iopub.execute_input": "2022-05-28T08:39:14.661387Z",
     "iopub.status.busy": "2022-05-28T08:39:14.661224Z",
     "iopub.status.idle": "2022-05-28T08:39:42.018046Z",
     "shell.execute_reply": "2022-05-28T08:39:42.017533Z",
     "shell.execute_reply.started": "2022-05-28T08:39:14.661366Z"
    },
    "scrolled": true,
    "tags": []
   },
   "outputs": [
    {
     "data": {
      "application/vnd.jupyter.widget-view+json": {
       "model_id": "633d9b95066f4bd8a4cf5863c6a67cef",
       "version_major": 2,
       "version_minor": 0
      },
      "text/plain": [
       "VBox()"
      ]
     },
     "metadata": {},
     "output_type": "display_data"
    },
    {
     "data": {
      "application/vnd.jupyter.widget-view+json": {
       "model_id": "",
       "version_major": 2,
       "version_minor": 0
      },
      "text/plain": [
       "FloatProgress(value=0.0, bar_style='info', description='Progress:', layout=Layout(height='25px', width='50%'),…"
      ]
     },
     "metadata": {},
     "output_type": "display_data"
    },
    {
     "name": "stdout",
     "output_type": "stream",
     "text": [
      "Collecting time\n",
      "\n",
      "Collecting cython\n",
      "  Using cached https://files.pythonhosted.org/packages/a5/a8/a8480dc84e4677f966839035a66f2fd3a8a63e44f246571d77afa9045769/Cython-0.29.30-cp27-cp27mu-manylinux_2_5_x86_64.manylinux1_x86_64.whl\n",
      "Installing collected packages: cython\n",
      "Successfully installed cython-0.29.30\n",
      "\n",
      "Collecting boto3\n",
      "  Using cached https://files.pythonhosted.org/packages/5a/fd/d814f9cbefebbea88977628d11b860b5d564ba6f16f64c378e2da2a36405/boto3-1.17.112-py2.py3-none-any.whl\n",
      "Collecting s3transfer<0.5.0,>=0.4.0 (from boto3)\n",
      "  Using cached https://files.pythonhosted.org/packages/63/d0/693477c688348654ddc21dcdce0817653a294aa43f41771084c25e7ff9c7/s3transfer-0.4.2-py2.py3-none-any.whl\n",
      "Requirement already satisfied: jmespath<1.0.0,>=0.7.1 in /usr/lib/python2.7/site-packages (from boto3)\n",
      "Collecting botocore<1.21.0,>=1.20.112 (from boto3)\n",
      "  Using cached https://files.pythonhosted.org/packages/c7/ea/11c3beca131920f552602b98d7ba9fc5b46bee6a59cbd48a95a85cbb8f41/botocore-1.20.112-py2.py3-none-any.whl\n",
      "Requirement already satisfied: futures<4.0.0,>=2.2.0; python_version == \"2.7\" in /usr/lib/python2.7/site-packages (from s3transfer<0.5.0,>=0.4.0->boto3)\n",
      "Requirement already satisfied: urllib3<1.27,>=1.25.4 in /usr/lib/python2.7/site-packages (from botocore<1.21.0,>=1.20.112->boto3)\n",
      "Requirement already satisfied: python-dateutil<3.0.0,>=2.1 in /usr/lib/python2.7/site-packages (from botocore<1.21.0,>=1.20.112->boto3)\n",
      "Requirement already satisfied: six>=1.5 in /usr/lib/python2.7/site-packages (from python-dateutil<3.0.0,>=2.1->botocore<1.21.0,>=1.20.112->boto3)\n",
      "Installing collected packages: botocore, s3transfer, boto3\n",
      "  Found existing installation: botocore 1.18.6\n",
      "    Not uninstalling botocore at /usr/lib/python2.7/site-packages, outside environment /tmp/1653727152379-0\n",
      "  Found existing installation: s3transfer 0.3.3\n",
      "    Not uninstalling s3transfer at /usr/lib/python2.7/site-packages, outside environment /tmp/1653727152379-0\n",
      "Successfully installed boto3-1.17.112 botocore-1.20.112 s3transfer-0.4.2\n",
      "\n",
      "Collecting s3fs\n",
      "Requirement already satisfied: botocore>=1.12.91 in /mnt/tmp/1653727152379-0/lib/python2.7/site-packages (from s3fs)\n",
      "Collecting six>=1.12.0 (from s3fs)\n",
      "  Using cached https://files.pythonhosted.org/packages/d9/5a/e7c31adbe875f2abbb91bd84cf2dc52d792b5a01506781dbcf25c91daf11/six-1.16.0-py2.py3-none-any.whl\n",
      "Requirement already satisfied: boto3>=1.9.91 in /mnt/tmp/1653727152379-0/lib/python2.7/site-packages (from s3fs)\n",
      "Requirement already satisfied: urllib3<1.27,>=1.25.4 in /usr/lib/python2.7/site-packages (from botocore>=1.12.91->s3fs)\n",
      "Requirement already satisfied: jmespath<1.0.0,>=0.7.1 in /usr/lib/python2.7/site-packages (from botocore>=1.12.91->s3fs)\n",
      "Requirement already satisfied: python-dateutil<3.0.0,>=2.1 in /usr/lib/python2.7/site-packages (from botocore>=1.12.91->s3fs)\n",
      "Requirement already satisfied: s3transfer<0.5.0,>=0.4.0 in /mnt/tmp/1653727152379-0/lib/python2.7/site-packages (from boto3>=1.9.91->s3fs)\n",
      "Requirement already satisfied: futures<4.0.0,>=2.2.0; python_version == \"2.7\" in /usr/lib/python2.7/site-packages (from s3transfer<0.5.0,>=0.4.0->boto3>=1.9.91->s3fs)\n",
      "Installing collected packages: six, s3fs\n",
      "  Found existing installation: six 1.9.0\n",
      "    Not uninstalling six at /usr/lib/python2.7/site-packages, outside environment /tmp/1653727152379-0\n",
      "Successfully installed s3fs-0.2.2 six-1.16.0\n",
      "\n",
      "Collecting pandas\n",
      "  Using cached https://files.pythonhosted.org/packages/db/83/7d4008ffc2988066ff37f6a0bb6d7b60822367dcb36ba5e39aa7801fda54/pandas-0.24.2-cp27-cp27mu-manylinux1_x86_64.whl\n",
      "Requirement already satisfied: python-dateutil>=2.5.0 in /usr/lib/python2.7/site-packages (from pandas)\n",
      "Requirement already satisfied: numpy>=1.12.0 in /usr/lib64/python2.7/site-packages (from pandas)\n",
      "Collecting pytz>=2011k (from pandas)\n",
      "  Using cached https://files.pythonhosted.org/packages/60/2e/dec1cc18c51b8df33c7c4d0a321b084cf38e1733b98f9d15018880fb4970/pytz-2022.1-py2.py3-none-any.whl\n",
      "Requirement already satisfied: six>=1.5 in /mnt/tmp/1653727152379-0/lib/python2.7/site-packages (from python-dateutil>=2.5.0->pandas)\n",
      "Installing collected packages: pytz, pandas\n",
      "Successfully installed pandas-0.24.2 pytz-2022.1\n",
      "\n",
      "Collecting matplotlib==3.1.1\n",
      "\n",
      "  Could not find a version that satisfies the requirement time (from versions: )\n",
      "No matching distribution found for time\n",
      "You are using pip version 9.0.1, however version 22.1.1 is available.\n",
      "You should consider upgrading via the 'pip install --upgrade pip' command.\n",
      "\n",
      "You are using pip version 9.0.1, however version 22.1.1 is available.\n",
      "You should consider upgrading via the 'pip install --upgrade pip' command.\n",
      "\n",
      "You are using pip version 9.0.1, however version 22.1.1 is available.\n",
      "You should consider upgrading via the 'pip install --upgrade pip' command.\n",
      "\n",
      "You are using pip version 9.0.1, however version 22.1.1 is available.\n",
      "You should consider upgrading via the 'pip install --upgrade pip' command.\n",
      "\n",
      "You are using pip version 9.0.1, however version 22.1.1 is available.\n",
      "You should consider upgrading via the 'pip install --upgrade pip' command.\n",
      "\n",
      "  Could not find a version that satisfies the requirement matplotlib==3.1.1 (from versions: 0.86, 0.86.1, 0.86.2, 0.91.0, 0.91.1, 1.0.1, 1.1.0, 1.1.1, 1.2.0, 1.2.1, 1.3.0, 1.3.1, 1.4.0, 1.4.1rc1, 1.4.1, 1.4.2, 1.4.3, 1.5.0, 1.5.1, 1.5.2, 1.5.3, 2.0.0b1, 2.0.0b2, 2.0.0b3, 2.0.0b4, 2.0.0rc1, 2.0.0rc2, 2.0.0, 2.0.1, 2.0.2, 2.1.0rc1, 2.1.0, 2.1.1, 2.1.2, 2.2.0rc1, 2.2.0, 2.2.2, 2.2.3, 2.2.4, 2.2.5)\n",
      "No matching distribution found for matplotlib==3.1.1\n",
      "You are using pip version 9.0.1, however version 22.1.1 is available.\n",
      "You should consider upgrading via the 'pip install --upgrade pip' command."
     ]
    }
   ],
   "source": [
    "#sc.uninstall_package('pandas')\n",
    "sc.install_pypi_package(\"time\")\n",
    "sc.install_pypi_package(\"cython\")\n",
    "sc.install_pypi_package(\"boto3\")\n",
    "sc.install_pypi_package(\"s3fs\")\n",
    "sc.install_pypi_package(\"pandas\") #Install pandas version 0.25.1 \n",
    "sc.install_pypi_package(\"matplotlib==3.1.1\")"
   ]
  },
  {
   "cell_type": "code",
   "execution_count": 5,
   "id": "4b7d4555-8a10-471d-8594-532991c5d1e0",
   "metadata": {
    "execution": {
     "iopub.execute_input": "2022-05-28T08:39:42.019005Z",
     "iopub.status.busy": "2022-05-28T08:39:42.018847Z",
     "iopub.status.idle": "2022-05-28T08:39:42.775397Z",
     "shell.execute_reply": "2022-05-28T08:39:42.774900Z",
     "shell.execute_reply.started": "2022-05-28T08:39:42.018984Z"
    },
    "scrolled": true,
    "tags": []
   },
   "outputs": [
    {
     "data": {
      "application/vnd.jupyter.widget-view+json": {
       "model_id": "b47bbf7bfa9b44dfb775fda9bfaec02f",
       "version_major": 2,
       "version_minor": 0
      },
      "text/plain": [
       "VBox()"
      ]
     },
     "metadata": {},
     "output_type": "display_data"
    },
    {
     "data": {
      "application/vnd.jupyter.widget-view+json": {
       "model_id": "",
       "version_major": 2,
       "version_minor": 0
      },
      "text/plain": [
       "FloatProgress(value=0.0, bar_style='info', description='Progress:', layout=Layout(height='25px', width='50%'),…"
      ]
     },
     "metadata": {},
     "output_type": "display_data"
    },
    {
     "name": "stdout",
     "output_type": "stream",
     "text": [
      "amazon-linux-extras (2.0.1)\n",
      "awscli (1.18.147)\n",
      "Babel (0.9.6)\n",
      "backports.ssl-match-hostname (3.5.0.1)\n",
      "beautifulsoup4 (4.9.3)\n",
      "boto3 (1.17.112)\n",
      "botocore (1.20.112)\n",
      "cffi (1.6.0)\n",
      "chardet (2.2.1)\n",
      "click (7.1.2)\n",
      "cloud-init (19.3)\n",
      "colorama (0.3.2)\n",
      "configobj (4.7.2)\n",
      "cryptography (1.7.2)\n",
      "Cython (0.29.30)\n",
      "docutils (0.12)\n",
      "ec2-hibinit-agent (1.0.2)\n",
      "enum34 (1.0.4)\n",
      "futures (3.0.5)\n",
      "hibagent (1.1.0)\n",
      "idna (2.4)\n",
      "iniparse (0.4)\n",
      "ipaddress (1.0.16)\n",
      "javapackages (1.0.0)\n",
      "Jinja2 (2.7.2)\n",
      "jmespath (0.9.3)\n",
      "joblib (0.14.1)\n",
      "jsonpatch (1.2)\n",
      "jsonpointer (1.9)\n",
      "jsonschema (2.5.1)\n",
      "jwcrypto (0.4.2)\n",
      "kitchen (1.1.1)\n",
      "langtable (0.0.31)\n",
      "lockfile (0.9.1)\n",
      "lxml (3.2.1)\n",
      "MarkupSafe (0.11)\n",
      "mysqlclient (1.4.2)\n",
      "nltk (3.6.5)\n",
      "nose (1.3.4)\n",
      "numpy (1.16.5)\n",
      "oauthlib (2.0.1)\n",
      "pandas (0.24.2)\n",
      "Pillow (2.0.0)\n",
      "pip (9.0.1)\n",
      "ply (3.4)\n",
      "pyasn1 (0.1.9)\n",
      "pycparser (2.14)\n",
      "pycurl (7.19.0)\n",
      "pygpgme (0.3)\n",
      "pyliblzma (0.5.3)\n",
      "pyparsing (1.5.6)\n",
      "pystache (0.5.3)\n",
      "python-daemon (1.6)\n",
      "python-dateutil (2.6.0)\n",
      "python27-sagemaker-pyspark (1.4.1)\n",
      "pytz (2022.1)\n",
      "pyxattr (0.5.1)\n",
      "PyYAML (3.10)\n",
      "regex (2021.10.21)\n",
      "repoze.lru (0.4)\n",
      "requests (2.6.0)\n",
      "rpm-python (4.11.3)\n",
      "rsa (3.4.1)\n",
      "s3fs (0.2.2)\n",
      "s3transfer (0.4.2)\n",
      "setuptools (28.8.0)\n",
      "simplejson (3.2.0)\n",
      "six (1.16.0)\n",
      "tqdm (4.62.3)\n",
      "urlgrabber (3.10)\n",
      "urllib3 (1.25.9)\n",
      "virtualenv (15.1.0)\n",
      "wheel (0.29.0)\n",
      "windmill (1.6)\n",
      "yum-langpacks (0.4.2)\n",
      "yum-metadata-parser (1.1.4)\n",
      "\n",
      "DEPRECATION: The default format will switch to columns in the future. You can use --format=(legacy|columns) (or define a format=(legacy|columns) in your pip.conf under the [list] section) to disable this warning.\n",
      "You are using pip version 9.0.1, however version 22.1.1 is available.\n",
      "You should consider upgrading via the 'pip install --upgrade pip' command."
     ]
    }
   ],
   "source": [
    "sc.list_packages()"
   ]
  },
  {
   "cell_type": "markdown",
   "id": "c5fd3fc8-1fef-42f3-bc1d-1e8524cb02f4",
   "metadata": {},
   "source": [
    "#### Demographic Data"
   ]
  },
  {
   "cell_type": "code",
   "execution_count": 6,
   "id": "dad1c8ba-3ec4-48d9-9e26-0d4132b914c3",
   "metadata": {
    "execution": {
     "iopub.execute_input": "2022-05-28T08:39:42.776294Z",
     "iopub.status.busy": "2022-05-28T08:39:42.776129Z",
     "iopub.status.idle": "2022-05-28T08:39:48.048194Z",
     "shell.execute_reply": "2022-05-28T08:39:48.047697Z",
     "shell.execute_reply.started": "2022-05-28T08:39:42.776273Z"
    },
    "tags": []
   },
   "outputs": [
    {
     "data": {
      "application/vnd.jupyter.widget-view+json": {
       "model_id": "a9f6889f73c84ac0a0e8efa8922081fd",
       "version_major": 2,
       "version_minor": 0
      },
      "text/plain": [
       "VBox()"
      ]
     },
     "metadata": {},
     "output_type": "display_data"
    },
    {
     "data": {
      "application/vnd.jupyter.widget-view+json": {
       "model_id": "",
       "version_major": 2,
       "version_minor": 0
      },
      "text/plain": [
       "FloatProgress(value=0.0, bar_style='info', description='Progress:', layout=Layout(height='25px', width='50%'),…"
      ]
     },
     "metadata": {},
     "output_type": "display_data"
    }
   ],
   "source": [
    "df_demographic = spark.read.option(\"header\",True).csv(\"s3://pas-biogen-sagemaker/nlp/uh/onetime-historical/2020/University_Hospital_UH_Patient_Information_19_11_2020.csv\")"
   ]
  },
  {
   "cell_type": "code",
   "execution_count": 7,
   "id": "42030eb4-d23a-49a9-9d33-42e73d407f5d",
   "metadata": {
    "execution": {
     "iopub.execute_input": "2022-05-28T08:39:48.049106Z",
     "iopub.status.busy": "2022-05-28T08:39:48.048946Z",
     "iopub.status.idle": "2022-05-28T08:39:51.599459Z",
     "shell.execute_reply": "2022-05-28T08:39:51.598869Z",
     "shell.execute_reply.started": "2022-05-28T08:39:48.049085Z"
    },
    "tags": []
   },
   "outputs": [
    {
     "data": {
      "application/vnd.jupyter.widget-view+json": {
       "model_id": "4faba5309e834b5884df110a17cecc01",
       "version_major": 2,
       "version_minor": 0
      },
      "text/plain": [
       "VBox()"
      ]
     },
     "metadata": {},
     "output_type": "display_data"
    },
    {
     "data": {
      "application/vnd.jupyter.widget-view+json": {
       "model_id": "",
       "version_major": 2,
       "version_minor": 0
      },
      "text/plain": [
       "FloatProgress(value=0.0, bar_style='info', description='Progress:', layout=Layout(height='25px', width='50%'),…"
      ]
     },
     "metadata": {},
     "output_type": "display_data"
    },
    {
     "name": "stdout",
     "output_type": "stream",
     "text": [
      "453874\n",
      "['patient_key', 'pat_last_name', 'pat_first_name', 'pat_mrn', 'pat_dob', 'pat_gender', 'pat_race', 'pat_ethinicity', 'pat_city', 'pat_zip', 'pat_county', 'pat_state', 'pat_country', 'pat_marital_status', 'pat_smoking_status', 'pat_status']"
     ]
    }
   ],
   "source": [
    "### Remove duplicate values\n",
    "print(df_demographic.count())\n",
    "df_demographic = df_demographic.dropDuplicates(['patient_key'])\n",
    "print(df_demographic.columns)"
   ]
  },
  {
   "cell_type": "markdown",
   "id": "c2cff57b-fd03-4fc7-9c14-56b14ac37a50",
   "metadata": {},
   "source": [
    "#### Anchor Features"
   ]
  },
  {
   "cell_type": "code",
   "execution_count": 8,
   "id": "a8d32675-baf6-495d-864e-9994a3525378",
   "metadata": {
    "execution": {
     "iopub.execute_input": "2022-05-28T08:39:51.601078Z",
     "iopub.status.busy": "2022-05-28T08:39:51.600910Z",
     "iopub.status.idle": "2022-05-28T08:39:52.356734Z",
     "shell.execute_reply": "2022-05-28T08:39:52.356222Z",
     "shell.execute_reply.started": "2022-05-28T08:39:51.601057Z"
    },
    "tags": []
   },
   "outputs": [
    {
     "data": {
      "application/vnd.jupyter.widget-view+json": {
       "model_id": "ed06c62d669d4415b9dd21883ca0fd2d",
       "version_major": 2,
       "version_minor": 0
      },
      "text/plain": [
       "VBox()"
      ]
     },
     "metadata": {},
     "output_type": "display_data"
    },
    {
     "data": {
      "application/vnd.jupyter.widget-view+json": {
       "model_id": "",
       "version_major": 2,
       "version_minor": 0
      },
      "text/plain": [
       "FloatProgress(value=0.0, bar_style='info', description='Progress:', layout=Layout(height='25px', width='50%'),…"
      ]
     },
     "metadata": {},
     "output_type": "display_data"
    }
   ],
   "source": [
    "df_anchor=spark.read.option(\"header\",True).csv(\"s3://pas-biogen-sagemaker/nlp/Anchor_roll_up_new.csv\")"
   ]
  },
  {
   "cell_type": "code",
   "execution_count": 9,
   "id": "59db3175-bd19-46e9-95c6-b2f467030160",
   "metadata": {
    "execution": {
     "iopub.execute_input": "2022-05-28T08:39:52.357883Z",
     "iopub.status.busy": "2022-05-28T08:39:52.357718Z",
     "iopub.status.idle": "2022-05-28T08:39:52.408005Z",
     "shell.execute_reply": "2022-05-28T08:39:52.407470Z",
     "shell.execute_reply.started": "2022-05-28T08:39:52.357862Z"
    },
    "tags": []
   },
   "outputs": [
    {
     "data": {
      "application/vnd.jupyter.widget-view+json": {
       "model_id": "c21206a30d3449d89340d393f89b6f04",
       "version_major": 2,
       "version_minor": 0
      },
      "text/plain": [
       "VBox()"
      ]
     },
     "metadata": {},
     "output_type": "display_data"
    },
    {
     "data": {
      "application/vnd.jupyter.widget-view+json": {
       "model_id": "",
       "version_major": 2,
       "version_minor": 0
      },
      "text/plain": [
       "FloatProgress(value=0.0, bar_style='info', description='Progress:', layout=Layout(height='25px', width='50%'),…"
      ]
     },
     "metadata": {},
     "output_type": "display_data"
    },
    {
     "name": "stdout",
     "output_type": "stream",
     "text": [
      "['Thought_Disturbance', 'Abnormal_Behavior', 'Suicidal_Intent', 'Disorientated', 'Mental_Health_Impairment', 'Memory_Loss', 'Clouded_Consciousness', 'Agitation', 'Congnitive_Impairment']"
     ]
    }
   ],
   "source": [
    "df_anchor = df_anchor.drop('Anchors')\n",
    "df_anchor.columns"
   ]
  },
  {
   "cell_type": "code",
   "execution_count": 10,
   "id": "a807d86d-6bb4-4571-b243-e29749878c27",
   "metadata": {
    "execution": {
     "iopub.execute_input": "2022-05-28T08:39:52.409003Z",
     "iopub.status.busy": "2022-05-28T08:39:52.408837Z",
     "iopub.status.idle": "2022-05-28T08:39:55.868479Z",
     "shell.execute_reply": "2022-05-28T08:39:55.867889Z",
     "shell.execute_reply.started": "2022-05-28T08:39:52.408981Z"
    },
    "tags": []
   },
   "outputs": [
    {
     "data": {
      "application/vnd.jupyter.widget-view+json": {
       "model_id": "11d7c7421548447aae915fee08107350",
       "version_major": 2,
       "version_minor": 0
      },
      "text/plain": [
       "VBox()"
      ]
     },
     "metadata": {},
     "output_type": "display_data"
    },
    {
     "data": {
      "application/vnd.jupyter.widget-view+json": {
       "model_id": "",
       "version_major": 2,
       "version_minor": 0
      },
      "text/plain": [
       "FloatProgress(value=0.0, bar_style='info', description='Progress:', layout=Layout(height='25px', width='50%'),…"
      ]
     },
     "metadata": {},
     "output_type": "display_data"
    }
   ],
   "source": [
    "lst_Thought_Disturbance = list(df_anchor.select('Thought_Disturbance').toPandas()['Thought_Disturbance'])\n",
    "lst_Abnormal_Behavior = list(df_anchor.select('Abnormal_Behavior').toPandas()['Abnormal_Behavior'])\n",
    "lst_Suicidal_Intent = list(df_anchor.select('Suicidal_Intent').toPandas()['Suicidal_Intent'])\n",
    "lst_Disorientated = list(df_anchor.select('Disorientated').toPandas()['Disorientated'])\n",
    "lst_Mental_Health_Impairment = list(df_anchor.select('Mental_Health_Impairment').toPandas()['Mental_Health_Impairment'])\n",
    "lst_Memory_Loss = list(df_anchor.select('Memory_Loss').toPandas()['Memory_Loss'])\n",
    "lst_Clouded_Consciousness = list(df_anchor.select('Clouded_Consciousness').toPandas()['Clouded_Consciousness'])\n",
    "lst_Agitation = list(df_anchor.select('Agitation').toPandas()['Agitation'])\n",
    "lst_Congnitive_Impairment = list(df_anchor.select('Congnitive_Impairment').toPandas()['Congnitive_Impairment'])"
   ]
  },
  {
   "cell_type": "code",
   "execution_count": 11,
   "id": "50fed27f-a5a1-45e0-a879-189bc288beb2",
   "metadata": {
    "execution": {
     "iopub.execute_input": "2022-05-28T08:39:55.869445Z",
     "iopub.status.busy": "2022-05-28T08:39:55.869278Z",
     "iopub.status.idle": "2022-05-28T08:39:55.922635Z",
     "shell.execute_reply": "2022-05-28T08:39:55.921957Z",
     "shell.execute_reply.started": "2022-05-28T08:39:55.869423Z"
    },
    "tags": []
   },
   "outputs": [
    {
     "data": {
      "application/vnd.jupyter.widget-view+json": {
       "model_id": "126bc706140f466eacbfb6637ba3d6d7",
       "version_major": 2,
       "version_minor": 0
      },
      "text/plain": [
       "VBox()"
      ]
     },
     "metadata": {},
     "output_type": "display_data"
    },
    {
     "data": {
      "application/vnd.jupyter.widget-view+json": {
       "model_id": "",
       "version_major": 2,
       "version_minor": 0
      },
      "text/plain": [
       "FloatProgress(value=0.0, bar_style='info', description='Progress:', layout=Layout(height='25px', width='50%'),…"
      ]
     },
     "metadata": {},
     "output_type": "display_data"
    }
   ],
   "source": [
    "# List of CUI, ICD10, Snomed for Alzheimer Disease\n",
    "lst_cui = ['C0002395',\n",
    " 'C0236640',\n",
    " 'C0236644',\n",
    " 'C0236645',\n",
    " 'C0236646',\n",
    " 'C0236647',\n",
    " 'C0236648',\n",
    " 'C0236649',\n",
    " 'C0333736',\n",
    " 'C0338445',\n",
    " 'C0338446',\n",
    " 'C0338449',\n",
    " 'C0338450',\n",
    " 'C0338458',\n",
    " 'C0338459',\n",
    " 'C0349078',\n",
    " 'C0424954',\n",
    " 'C0450989',\n",
    " 'C0477364',\n",
    " 'C0494463',\n",
    " 'C0750901',\n",
    " 'C1271045',\n",
    " 'C1863051',\n",
    " 'C3241944',\n",
    " 'C3494731',\n",
    " 'C3662845',\n",
    " 'C3665464',\n",
    " 'C3697680',\n",
    " 'C3697863',\n",
    " 'C3697898',\n",
    " 'C3698264',\n",
    " 'C3698286',\n",
    " 'C3698287',\n",
    " 'C4075209',\n",
    " 'C4075348',\n",
    " 'C4273575',\n",
    " 'C4302404',\n",
    " 'C4303482',\n",
    " 'C4518848',\n",
    " 'C0085400',\n",
    " 'C0752347',\n",
    " 'C2316550',\n",
    " 'C2316551',\n",
    " 'C3532942']\n",
    "\n",
    "lst_icd10 = ['G30',\n",
    " 'G30.9',\n",
    " 'F00.2',\n",
    " 'G30.8',\n",
    " 'G30.1',\n",
    " 'F00.1',\n",
    " 'G30.0',\n",
    " 'F00.0',\n",
    " 'F00',\n",
    " 'F00.9']\n",
    "\n",
    "lst_snomed = ['26929004',\n",
    " '66108005',\n",
    " '65096006',\n",
    " '54502004',\n",
    " '10532003',\n",
    " '55009008',\n",
    " '26852004',\n",
    " '4817008',\n",
    " '29209006',\n",
    " '230265002',\n",
    " '230266001',\n",
    " '230268000',\n",
    " '230269008',\n",
    " '230279005',\n",
    " '230280008',\n",
    " '161108005',\n",
    " '273269001',\n",
    " '416975007',\n",
    " '416780008',\n",
    " '394877006',\n",
    " '230267005',\n",
    " '6475002',\n",
    " '429161000124103',\n",
    " '1581000119101',\n",
    " '105421000119105',\n",
    " '698955006',\n",
    " '698954005',\n",
    " '97751000119108',\n",
    " '142001000119106',\n",
    " '141991000119109',\n",
    " '714359006',\n",
    " '714360001',\n",
    " '142011000119109',\n",
    " '722600006',\n",
    " '721219005',\n",
    " '16219201000119101',\n",
    " '85775002',\n",
    " '80098002',\n",
    " '431531007',\n",
    " '432954006',\n",
    " '79341000119107']"
   ]
  },
  {
   "cell_type": "code",
   "execution_count": 12,
   "id": "e1bc87a5-4a39-4097-a27e-7fae87747274",
   "metadata": {
    "execution": {
     "iopub.execute_input": "2022-05-28T08:39:55.923945Z",
     "iopub.status.busy": "2022-05-28T08:39:55.923703Z",
     "iopub.status.idle": "2022-05-28T08:39:56.174684Z",
     "shell.execute_reply": "2022-05-28T08:39:56.174155Z",
     "shell.execute_reply.started": "2022-05-28T08:39:55.923912Z"
    },
    "tags": []
   },
   "outputs": [
    {
     "data": {
      "application/vnd.jupyter.widget-view+json": {
       "model_id": "7f0e65832ee8462eadbe543227e36c08",
       "version_major": 2,
       "version_minor": 0
      },
      "text/plain": [
       "VBox()"
      ]
     },
     "metadata": {},
     "output_type": "display_data"
    },
    {
     "data": {
      "application/vnd.jupyter.widget-view+json": {
       "model_id": "",
       "version_major": 2,
       "version_minor": 0
      },
      "text/plain": [
       "FloatProgress(value=0.0, bar_style='info', description='Progress:', layout=Layout(height='25px', width='50%'),…"
      ]
     },
     "metadata": {},
     "output_type": "display_data"
    }
   ],
   "source": [
    "# ALzheimer CUI, ICD10 and SNOMED\n",
    "columns = ['lst_cui']\n",
    "df_lst_cui = spark.createDataFrame(zip(lst_cui), columns)\n",
    "columns = ['lst_icd10']\n",
    "df_lst_icd10 = spark.createDataFrame(zip(lst_icd10), columns)\n",
    "columns = ['lst_snomed']\n",
    "df_lst_snomed = spark.createDataFrame(zip(lst_snomed), columns)"
   ]
  },
  {
   "cell_type": "code",
   "execution_count": 13,
   "id": "d47e6c3a-14e9-4534-bbb9-144b4a73ff39",
   "metadata": {
    "execution": {
     "iopub.execute_input": "2022-05-28T08:39:56.175571Z",
     "iopub.status.busy": "2022-05-28T08:39:56.175413Z",
     "iopub.status.idle": "2022-05-28T08:39:56.931551Z",
     "shell.execute_reply": "2022-05-28T08:39:56.931053Z",
     "shell.execute_reply.started": "2022-05-28T08:39:56.175550Z"
    },
    "tags": []
   },
   "outputs": [
    {
     "data": {
      "application/vnd.jupyter.widget-view+json": {
       "model_id": "e388bd9dfbc24b1095c49e56a4a5a014",
       "version_major": 2,
       "version_minor": 0
      },
      "text/plain": [
       "VBox()"
      ]
     },
     "metadata": {},
     "output_type": "display_data"
    },
    {
     "data": {
      "application/vnd.jupyter.widget-view+json": {
       "model_id": "",
       "version_major": 2,
       "version_minor": 0
      },
      "text/plain": [
       "FloatProgress(value=0.0, bar_style='info', description='Progress:', layout=Layout(height='25px', width='50%'),…"
      ]
     },
     "metadata": {},
     "output_type": "display_data"
    },
    {
     "name": "stdout",
     "output_type": "stream",
     "text": [
      "+--------+\n",
      "| lst_cui|\n",
      "+--------+\n",
      "|C0002395|\n",
      "|C0236640|\n",
      "|C0236644|\n",
      "|C0236645|\n",
      "|C0236646|\n",
      "+--------+\n",
      "only showing top 5 rows"
     ]
    }
   ],
   "source": [
    "df_lst_cui.show(5)"
   ]
  },
  {
   "cell_type": "code",
   "execution_count": 14,
   "id": "8b2dda71-8338-4a05-8160-65c99504658d",
   "metadata": {
    "execution": {
     "iopub.execute_input": "2022-05-28T08:39:56.932501Z",
     "iopub.status.busy": "2022-05-28T08:39:56.932337Z",
     "iopub.status.idle": "2022-05-28T08:39:57.693211Z",
     "shell.execute_reply": "2022-05-28T08:39:57.692683Z",
     "shell.execute_reply.started": "2022-05-28T08:39:56.932479Z"
    },
    "tags": []
   },
   "outputs": [
    {
     "data": {
      "application/vnd.jupyter.widget-view+json": {
       "model_id": "f242ec676c07450db9df71a9bb554da6",
       "version_major": 2,
       "version_minor": 0
      },
      "text/plain": [
       "VBox()"
      ]
     },
     "metadata": {},
     "output_type": "display_data"
    },
    {
     "data": {
      "application/vnd.jupyter.widget-view+json": {
       "model_id": "",
       "version_major": 2,
       "version_minor": 0
      },
      "text/plain": [
       "FloatProgress(value=0.0, bar_style='info', description='Progress:', layout=Layout(height='25px', width='50%'),…"
      ]
     },
     "metadata": {},
     "output_type": "display_data"
    },
    {
     "name": "stdout",
     "output_type": "stream",
     "text": [
      "/tmp/1653727152379-0/lib/python2.7/site-packages/boto3/compat.py:86: PythonDeprecationWarning: Boto3 will no longer support Python 2.7 starting July 15, 2021. To continue receiving service updates, bug fixes, and security updates please upgrade to Python 3.6 or later. More information can be found here: https://aws.amazon.com/blogs/developer/announcing-end-of-support-for-python-2-7-in-aws-sdk-for-python-and-aws-cli-v1/\n",
      "  warnings.warn(warning, PythonDeprecationWarning)"
     ]
    }
   ],
   "source": [
    "import boto3\n",
    "#s3://pas-biogen-sagemaker/Antony/Preprocessing/Ongoing/\n",
    "s3 = boto3.resource('s3')\n",
    "my_bucket = s3.Bucket('pas-biogen-sagemaker')\n",
    "chunks=[]\n",
    "for object_summary in my_bucket.objects.filter(Prefix=\"nlp/uh/onetime-historical/2020/raw_notes/results_UMLS/CSV/\"):\n",
    "    if '.parquet' in str(object_summary.key):\n",
    "        chunks.append(object_summary.key)"
   ]
  },
  {
   "cell_type": "code",
   "execution_count": 15,
   "id": "84ed1073-8b31-45f8-bf6c-dc07b812b14f",
   "metadata": {
    "execution": {
     "iopub.execute_input": "2022-05-28T08:39:57.694195Z",
     "iopub.status.busy": "2022-05-28T08:39:57.694030Z",
     "iopub.status.idle": "2022-05-28T08:39:57.740886Z",
     "shell.execute_reply": "2022-05-28T08:39:57.740402Z",
     "shell.execute_reply.started": "2022-05-28T08:39:57.694174Z"
    },
    "tags": []
   },
   "outputs": [
    {
     "data": {
      "application/vnd.jupyter.widget-view+json": {
       "model_id": "f7f3769b9567454f8067b9616d5a1c6e",
       "version_major": 2,
       "version_minor": 0
      },
      "text/plain": [
       "VBox()"
      ]
     },
     "metadata": {},
     "output_type": "display_data"
    },
    {
     "data": {
      "application/vnd.jupyter.widget-view+json": {
       "model_id": "",
       "version_major": 2,
       "version_minor": 0
      },
      "text/plain": [
       "FloatProgress(value=0.0, bar_style='info', description='Progress:', layout=Layout(height='25px', width='50%'),…"
      ]
     },
     "metadata": {},
     "output_type": "display_data"
    },
    {
     "name": "stdout",
     "output_type": "stream",
     "text": [
      "20"
     ]
    }
   ],
   "source": [
    "len(chunks)"
   ]
  },
  {
   "cell_type": "code",
   "execution_count": 16,
   "id": "fd1f0857-f784-41ed-8ad7-7cf52ad6653e",
   "metadata": {
    "execution": {
     "iopub.execute_input": "2022-05-28T08:39:57.741800Z",
     "iopub.status.busy": "2022-05-28T08:39:57.741639Z",
     "iopub.status.idle": "2022-05-28T08:39:57.996906Z",
     "shell.execute_reply": "2022-05-28T08:39:57.996382Z",
     "shell.execute_reply.started": "2022-05-28T08:39:57.741779Z"
    },
    "tags": []
   },
   "outputs": [
    {
     "data": {
      "application/vnd.jupyter.widget-view+json": {
       "model_id": "8ca74151fe82471885a3d87b4531ac4a",
       "version_major": 2,
       "version_minor": 0
      },
      "text/plain": [
       "VBox()"
      ]
     },
     "metadata": {},
     "output_type": "display_data"
    },
    {
     "data": {
      "application/vnd.jupyter.widget-view+json": {
       "model_id": "",
       "version_major": 2,
       "version_minor": 0
      },
      "text/plain": [
       "FloatProgress(value=0.0, bar_style='info', description='Progress:', layout=Layout(height='25px', width='50%'),…"
      ]
     },
     "metadata": {},
     "output_type": "display_data"
    }
   ],
   "source": [
    "import s3fs\n",
    "import pandas as pd\n",
    "import time\n",
    "from pyspark.sql.functions import arrays_overlap, array\n",
    "from pyspark.sql import udf,DataFrame\n",
    "import functools\n",
    "import pyspark.sql.functions as F\n",
    "import sys"
   ]
  },
  {
   "cell_type": "code",
   "execution_count": 17,
   "id": "4184c88a-8ea8-46a8-a95e-0352951ad7c5",
   "metadata": {
    "execution": {
     "iopub.execute_input": "2022-05-28T08:39:57.997851Z",
     "iopub.status.busy": "2022-05-28T08:39:57.997689Z",
     "iopub.status.idle": "2022-05-28T08:39:58.078344Z",
     "shell.execute_reply": "2022-05-28T08:39:58.077652Z",
     "shell.execute_reply.started": "2022-05-28T08:39:57.997830Z"
    },
    "tags": []
   },
   "outputs": [
    {
     "data": {
      "application/vnd.jupyter.widget-view+json": {
       "model_id": "d3a8d659310e4838a5ccaf109d194a00",
       "version_major": 2,
       "version_minor": 0
      },
      "text/plain": [
       "VBox()"
      ]
     },
     "metadata": {},
     "output_type": "display_data"
    },
    {
     "data": {
      "application/vnd.jupyter.widget-view+json": {
       "model_id": "",
       "version_major": 2,
       "version_minor": 0
      },
      "text/plain": [
       "FloatProgress(value=0.0, bar_style='info', description='Progress:', layout=Layout(height='25px', width='50%'),…"
      ]
     },
     "metadata": {},
     "output_type": "display_data"
    }
   ],
   "source": [
    "def my_print(text):\n",
    "    sys.stdout.write(str(text))\n",
    "    sys.stdout.flush()"
   ]
  },
  {
   "cell_type": "code",
   "execution_count": 19,
   "id": "969b13dd-1a59-47b5-b07e-a72a93987d4b",
   "metadata": {
    "execution": {
     "iopub.execute_input": "2022-05-28T08:40:18.171591Z",
     "iopub.status.busy": "2022-05-28T08:40:18.171356Z",
     "iopub.status.idle": "2022-05-28T08:40:18.930441Z",
     "shell.execute_reply": "2022-05-28T08:40:18.929918Z",
     "shell.execute_reply.started": "2022-05-28T08:40:18.171566Z"
    },
    "scrolled": true,
    "tags": []
   },
   "outputs": [
    {
     "data": {
      "application/vnd.jupyter.widget-view+json": {
       "model_id": "8f31a85afae84280b7088c848e441cf9",
       "version_major": 2,
       "version_minor": 0
      },
      "text/plain": [
       "VBox()"
      ]
     },
     "metadata": {},
     "output_type": "display_data"
    },
    {
     "data": {
      "application/vnd.jupyter.widget-view+json": {
       "model_id": "",
       "version_major": 2,
       "version_minor": 0
      },
      "text/plain": [
       "FloatProgress(value=0.0, bar_style='info', description='Progress:', layout=Layout(height='25px', width='50%'),…"
      ]
     },
     "metadata": {},
     "output_type": "display_data"
    }
   ],
   "source": [
    "s3 = s3fs.S3FileSystem(anon=False)\n",
    "count = 0\n",
    "output_dfs = []\n",
    "\n",
    "for chunk in chunks:\n",
    "    start_time = time.time()\n",
    "    count += 1\n",
    "    df_final = spark.read.parquet('s3://pas-biogen-sagemaker/'+ chunk)\n",
    "    \n",
    "    #text = 'Size of Data '+ str(count) + ' - '+ str(df_final.count())\n",
    "    #my_print(text)\n",
    "    \n",
    "    df_final =df_final.withColumnRenamed('Concept_ID','UMLS_CUI')\n",
    "    break\n",
    "    df_anchor2 = df_anchor.withColumn('UMLS_CUI',df_anchor['Thought_Disturbance'])\n",
    "    df_anchor2 = df_anchor2[['UMLS_CUI']]\n",
    "    df_final = df_final.join(df_anchor2.withColumn('Thought_Disturbance', F.lit(True)), 'UMLS_CUI', 'left').fillna(False)\n",
    "\n",
    "    df_anchor2 = df_anchor.withColumn('UMLS_CUI',df_anchor['Abnormal_Behavior'])\n",
    "    df_anchor2 = df_anchor2[['UMLS_CUI']]\n",
    "    df_final = df_final.join(df_anchor2.withColumn('Abnormal_Behavior', F.lit(True)), 'UMLS_CUI', 'left').fillna(False)\n",
    "\n",
    "    df_anchor2 = df_anchor.withColumn('UMLS_CUI',df_anchor['Suicidal_Intent'])\n",
    "    df_anchor2 = df_anchor2[['UMLS_CUI']]\n",
    "    df_final = df_final.join(df_anchor2.withColumn('Suicidal_Intent', F.lit(True)), 'UMLS_CUI', 'left').fillna(False)\n",
    "\n",
    "    df_anchor2 = df_anchor.withColumn('UMLS_CUI',df_anchor['Disorientated'])\n",
    "    df_anchor2 = df_anchor2[['UMLS_CUI']]\n",
    "    df_final = df_final.join(df_anchor2.withColumn('Disorientated', F.lit(True)), 'UMLS_CUI', 'left').fillna(False)\n",
    "\n",
    "    df_anchor2 = df_anchor.withColumn('UMLS_CUI',df_anchor['Mental_Health_Impairment'])\n",
    "    df_anchor2 = df_anchor2[['UMLS_CUI']]\n",
    "    df_final = df_final.join(df_anchor2.withColumn('Mental_Health_Impairment', F.lit(True)), 'UMLS_CUI', 'left').fillna(False)\n",
    "\n",
    "    df_anchor2 = df_anchor.withColumn('UMLS_CUI',df_anchor['Memory_Loss'])\n",
    "    df_anchor2 = df_anchor2[['UMLS_CUI']]\n",
    "    df_final = df_final.join(df_anchor2.withColumn('Memory_Loss', F.lit(True)), 'UMLS_CUI', 'left').fillna(False)\n",
    "\n",
    "    df_anchor2 = df_anchor.withColumn('UMLS_CUI',df_anchor['Clouded_Consciousness'])\n",
    "    df_anchor2 = df_anchor2[['UMLS_CUI']]\n",
    "    df_final = df_final.join(df_anchor2.withColumn('Clouded_Consciousness', F.lit(True)), 'UMLS_CUI', 'left').fillna(False)\n",
    "\n",
    "    df_anchor2 = df_anchor.withColumn('UMLS_CUI',df_anchor['Agitation'])\n",
    "    df_anchor2 = df_anchor2[['UMLS_CUI']]\n",
    "    df_final = df_final.join(df_anchor2.withColumn('Agitation', F.lit(True)), 'UMLS_CUI', 'left').fillna(False)\n",
    "\n",
    "    df_anchor2 = df_anchor.withColumn('UMLS_CUI',df_anchor['Congnitive_Impairment'])\n",
    "    df_anchor2 = df_anchor2[['UMLS_CUI']]\n",
    "    df_final = df_final.join(df_anchor2.withColumn('Congnitive_Impairment', F.lit(True)), 'UMLS_CUI', 'left').fillna(False)\n",
    "\n",
    "    df_anchor2 = df_lst_cui.withColumn('UMLS_CUI',df_lst_cui['lst_cui'])\n",
    "    df_anchor2 = df_anchor2[['UMLS_CUI']]\n",
    "    df_final = df_final.join(df_anchor2.withColumn('Alzheimer', F.lit(True)), 'UMLS_CUI', 'left').fillna(False)\n",
    "\n",
    "    output_dfs.append(df_final)\n",
    "    df_final2 = functools.reduce(DataFrame.union, output_dfs)\n",
    "    \n",
    "    df_final2 = df_final2.withColumn(\"patient_key\",df_final2.patient_key.cast('int'))\n",
    "    df_demographic = df_demographic.withColumn(\"patient_key\",df_demographic.patient_key.cast('int'))\n",
    "    \n",
    "    df_final3 = df_final2.join(df_demographic,['patient_key'],how='inner')  \n",
    "    df_final3 = df_final3.dropDuplicates()\n",
    "df_final3.coalesce(1).write.format(\"parquet\").mode(\"append\").save(\"s3://pas-biogen-sagemaker/Antony/Ongoing_Output/2020_Historical\")\n",
    "#df_final3.coalesce(1).write.parquet(\"s3://pas-biogen-sagemaker/Antony/Ongoing_Output/2019_historical\")\n",
    "\n",
    "\n",
    "#time_taken = ((time.time() - start_time) / 60)\n",
    "#text = str(count) + \"- \" + \"Time Taken - \" + str(time_taken) + \" min\"\n",
    "#my_print(text)"
   ]
  },
  {
   "cell_type": "code",
   "execution_count": 21,
   "id": "5d71af7b-1b5f-43a5-97ce-dbd7f1494778",
   "metadata": {
    "execution": {
     "iopub.execute_input": "2022-05-28T08:44:21.633079Z",
     "iopub.status.busy": "2022-05-28T08:44:21.632849Z",
     "iopub.status.idle": "2022-05-28T08:48:15.529978Z",
     "shell.execute_reply": "2022-05-28T08:48:15.529488Z",
     "shell.execute_reply.started": "2022-05-28T08:44:21.633055Z"
    },
    "tags": []
   },
   "outputs": [
    {
     "data": {
      "application/vnd.jupyter.widget-view+json": {
       "model_id": "6ad28dfe8e9e4f99a33d96bbb73e54c6",
       "version_major": 2,
       "version_minor": 0
      },
      "text/plain": [
       "VBox()"
      ]
     },
     "metadata": {},
     "output_type": "display_data"
    },
    {
     "data": {
      "application/vnd.jupyter.widget-view+json": {
       "model_id": "",
       "version_major": 2,
       "version_minor": 0
      },
      "text/plain": [
       "FloatProgress(value=0.0, bar_style='info', description='Progress:', layout=Layout(height='25px', width='50%'),…"
      ]
     },
     "metadata": {},
     "output_type": "display_data"
    }
   ],
   "source": [
    "df_final.coalesce(1).write.format(\"parquet\").mode(\"append\").save(\"s3://pas-biogen-sagemaker/Antony/Ongoing_Output/2020/temp.parquet\")"
   ]
  },
  {
   "cell_type": "markdown",
   "id": "5e4b7bf3-bcce-48d7-ad31-edbf4fb25382",
   "metadata": {},
   "source": [
    "## ROugh Work"
   ]
  },
  {
   "cell_type": "code",
   "execution_count": 18,
   "id": "6911f2d4-75bb-4a56-a5c2-af17676d53ed",
   "metadata": {
    "execution": {
     "iopub.execute_input": "2022-05-27T14:41:20.317828Z",
     "iopub.status.busy": "2022-05-27T14:41:20.317669Z",
     "iopub.status.idle": "2022-05-27T14:41:45.646911Z",
     "shell.execute_reply": "2022-05-27T14:41:45.646433Z",
     "shell.execute_reply.started": "2022-05-27T14:41:20.317808Z"
    },
    "tags": []
   },
   "outputs": [
    {
     "data": {
      "application/vnd.jupyter.widget-view+json": {
       "model_id": "90881fc8293a4823acb8389dc4aae45b",
       "version_major": 2,
       "version_minor": 0
      },
      "text/plain": [
       "VBox()"
      ]
     },
     "metadata": {},
     "output_type": "display_data"
    },
    {
     "data": {
      "application/vnd.jupyter.widget-view+json": {
       "model_id": "",
       "version_major": 2,
       "version_minor": 0
      },
      "text/plain": [
       "FloatProgress(value=0.0, bar_style='info', description='Progress:', layout=Layout(height='25px', width='50%'),…"
      ]
     },
     "metadata": {},
     "output_type": "display_data"
    },
    {
     "name": "stdout",
     "output_type": "stream",
     "text": [
      "31540279"
     ]
    }
   ],
   "source": [
    "df_final.count()"
   ]
  },
  {
   "cell_type": "code",
   "execution_count": 42,
   "id": "d97b159a-f2f1-4a07-b7f0-23cfe9394cac",
   "metadata": {
    "execution": {
     "iopub.execute_input": "2022-05-28T07:50:14.072013Z",
     "iopub.status.busy": "2022-05-28T07:50:14.071786Z",
     "iopub.status.idle": "2022-05-28T07:50:14.119137Z",
     "shell.execute_reply": "2022-05-28T07:50:14.118618Z",
     "shell.execute_reply.started": "2022-05-28T07:50:14.071988Z"
    }
   },
   "outputs": [
    {
     "data": {
      "application/vnd.jupyter.widget-view+json": {
       "model_id": "11f7df21f69743bcaed242fa23aaf247",
       "version_major": 2,
       "version_minor": 0
      },
      "text/plain": [
       "VBox()"
      ]
     },
     "metadata": {},
     "output_type": "display_data"
    },
    {
     "data": {
      "application/vnd.jupyter.widget-view+json": {
       "model_id": "",
       "version_major": 2,
       "version_minor": 0
      },
      "text/plain": [
       "FloatProgress(value=0.0, bar_style='info', description='Progress:', layout=Layout(height='25px', width='50%'),…"
      ]
     },
     "metadata": {},
     "output_type": "display_data"
    }
   ],
   "source": [
    "import sys\n",
    "\n",
    "def my_print(text):\n",
    "    sys.stdout.write(str(text))\n",
    "    sys.stdout.flush()"
   ]
  },
  {
   "cell_type": "code",
   "execution_count": 43,
   "id": "505a198b-3732-4220-bd09-65c059a5f18f",
   "metadata": {
    "execution": {
     "iopub.execute_input": "2022-05-28T07:53:14.335369Z",
     "iopub.status.busy": "2022-05-28T07:53:14.335145Z",
     "iopub.status.idle": "2022-05-28T07:53:14.381546Z",
     "shell.execute_reply": "2022-05-28T07:53:14.381053Z",
     "shell.execute_reply.started": "2022-05-28T07:53:14.335344Z"
    }
   },
   "outputs": [
    {
     "data": {
      "application/vnd.jupyter.widget-view+json": {
       "model_id": "b8ff9dbe2dc74bad80ae2120f612d91c",
       "version_major": 2,
       "version_minor": 0
      },
      "text/plain": [
       "VBox()"
      ]
     },
     "metadata": {},
     "output_type": "display_data"
    },
    {
     "data": {
      "application/vnd.jupyter.widget-view+json": {
       "model_id": "",
       "version_major": 2,
       "version_minor": 0
      },
      "text/plain": [
       "FloatProgress(value=0.0, bar_style='info', description='Progress:', layout=Layout(height='25px', width='50%'),…"
      ]
     },
     "metadata": {},
     "output_type": "display_data"
    },
    {
     "name": "stdout",
     "output_type": "stream",
     "text": [
      "hello this is printed"
     ]
    }
   ],
   "source": [
    "text = \"hello this is printed\"\n",
    "my_print(text)"
   ]
  },
  {
   "cell_type": "code",
   "execution_count": 41,
   "id": "4f08abbf-d8ff-4a0d-8eb5-157d6472a334",
   "metadata": {
    "execution": {
     "iopub.execute_input": "2022-05-28T07:44:28.650002Z",
     "iopub.status.busy": "2022-05-28T07:44:28.649775Z",
     "iopub.status.idle": "2022-05-28T07:50:04.874804Z",
     "shell.execute_reply": "2022-05-28T07:50:04.874218Z",
     "shell.execute_reply.started": "2022-05-28T07:44:28.649977Z"
    }
   },
   "outputs": [
    {
     "data": {
      "application/vnd.jupyter.widget-view+json": {
       "model_id": "ff562ede9d6d4340aef4c6a8acd67b70",
       "version_major": 2,
       "version_minor": 0
      },
      "text/plain": [
       "VBox()"
      ]
     },
     "metadata": {},
     "output_type": "display_data"
    },
    {
     "data": {
      "application/vnd.jupyter.widget-view+json": {
       "model_id": "",
       "version_major": 2,
       "version_minor": 0
      },
      "text/plain": [
       "FloatProgress(value=0.0, bar_style='info', description='Progress:', layout=Layout(height='25px', width='50%'),…"
      ]
     },
     "metadata": {},
     "output_type": "display_data"
    }
   ],
   "source": [
    "df_final.coalesce(1).write.parquet(\"s3://pas-biogen-sagemaker/Antony/Ongoing_Output/2019_historical\")"
   ]
  },
  {
   "cell_type": "code",
   "execution_count": null,
   "id": "cf19420d-2d0b-471d-a0eb-b548ced97fb8",
   "metadata": {
    "tags": []
   },
   "outputs": [],
   "source": [
    "import pyspark.sql.functions as F\n",
    "\n",
    "df_anchor2 = df_anchor.withColumn('UMLS_CUI',df_anchor['Thought_Disturbance'])\n",
    "df_anchor2 = df_anchor2[['UMLS_CUI']]\n",
    "df_final = df_final.join(df_anchor2.withColumn('Thought_Disturbance', F.lit(True)), 'UMLS_CUI', 'left').fillna(False)\n",
    "\n",
    "df_anchor2 = df_anchor.withColumn('UMLS_CUI',df_anchor['Abnormal_Behavior'])\n",
    "df_anchor2 = df_anchor2[['UMLS_CUI']]\n",
    "df_final = df_final.join(df_anchor2.withColumn('Abnormal_Behavior', F.lit(True)), 'UMLS_CUI', 'left').fillna(False)\n",
    "\n",
    "df_anchor2 = df_anchor.withColumn('UMLS_CUI',df_anchor['Suicidal_Intent'])\n",
    "df_anchor2 = df_anchor2[['UMLS_CUI']]\n",
    "df_final = df_final.join(df_anchor2.withColumn('Suicidal_Intent', F.lit(True)), 'UMLS_CUI', 'left').fillna(False)\n",
    "\n",
    "df_anchor2 = df_anchor.withColumn('UMLS_CUI',df_anchor['Disorientated'])\n",
    "df_anchor2 = df_anchor2[['UMLS_CUI']]\n",
    "df_final = df_final.join(df_anchor2.withColumn('Disorientated', F.lit(True)), 'UMLS_CUI', 'left').fillna(False)\n",
    "\n",
    "df_anchor2 = df_anchor.withColumn('UMLS_CUI',df_anchor['Mental_Health_Impairment'])\n",
    "df_anchor2 = df_anchor2[['UMLS_CUI']]\n",
    "df_final = df_final.join(df_anchor2.withColumn('Mental_Health_Impairment', F.lit(True)), 'UMLS_CUI', 'left').fillna(False)\n",
    "\n",
    "df_anchor2 = df_anchor.withColumn('UMLS_CUI',df_anchor['Memory_Loss'])\n",
    "df_anchor2 = df_anchor2[['UMLS_CUI']]\n",
    "df_final = df_final.join(df_anchor2.withColumn('Memory_Loss', F.lit(True)), 'UMLS_CUI', 'left').fillna(False)\n",
    "\n",
    "df_anchor2 = df_anchor.withColumn('UMLS_CUI',df_anchor['Clouded_Consciousness'])\n",
    "df_anchor2 = df_anchor2[['UMLS_CUI']]\n",
    "df_final = df_final.join(df_anchor2.withColumn('Clouded_Consciousness', F.lit(True)), 'UMLS_CUI', 'left').fillna(False)\n",
    "\n",
    "df_anchor2 = df_anchor.withColumn('UMLS_CUI',df_anchor['Agitation'])\n",
    "df_anchor2 = df_anchor2[['UMLS_CUI']]\n",
    "df_final = df_final.join(df_anchor2.withColumn('Agitation', F.lit(True)), 'UMLS_CUI', 'left').fillna(False)\n",
    "\n",
    "df_anchor2 = df_anchor.withColumn('UMLS_CUI',df_anchor['Congnitive_Impairment'])\n",
    "df_anchor2 = df_anchor2[['UMLS_CUI']]\n",
    "df_final = df_final.join(df_anchor2.withColumn('Congnitive_Impairment', F.lit(True)), 'UMLS_CUI', 'left').fillna(False)\n",
    "\n",
    "df_anchor2 = df_lst_cui.withColumn('UMLS_CUI',df_lst_cui['lst_cui'])\n",
    "df_anchor2 = df_anchor2[['UMLS_CUI']]\n",
    "df_final = df_final.join(df_anchor2.withColumn('Alzheimer', F.lit(True)), 'UMLS_CUI', 'left').fillna(False)"
   ]
  },
  {
   "cell_type": "code",
   "execution_count": null,
   "id": "98e3af83-e9da-479a-8666-0d136d691161",
   "metadata": {
    "tags": []
   },
   "outputs": [],
   "source": [
    "print(df_final[df_final['Alzheimer'] == 1].distinct().count())"
   ]
  },
  {
   "cell_type": "code",
   "execution_count": 38,
   "id": "4844b7eb-7158-4ee5-a9ad-3f23fbc00d9a",
   "metadata": {
    "execution": {
     "iopub.execute_input": "2022-05-28T07:32:40.066397Z",
     "iopub.status.busy": "2022-05-28T07:32:40.066132Z",
     "iopub.status.idle": "2022-05-28T07:32:40.118339Z",
     "shell.execute_reply": "2022-05-28T07:32:40.117800Z",
     "shell.execute_reply.started": "2022-05-28T07:32:40.066369Z"
    },
    "tags": []
   },
   "outputs": [
    {
     "data": {
      "application/vnd.jupyter.widget-view+json": {
       "model_id": "2e30ad255b8d48f79fe7413f257c5485",
       "version_major": 2,
       "version_minor": 0
      },
      "text/plain": [
       "VBox()"
      ]
     },
     "metadata": {},
     "output_type": "display_data"
    },
    {
     "data": {
      "application/vnd.jupyter.widget-view+json": {
       "model_id": "",
       "version_major": 2,
       "version_minor": 0
      },
      "text/plain": [
       "FloatProgress(value=0.0, bar_style='info', description='Progress:', layout=Layout(height='25px', width='50%'),…"
      ]
     },
     "metadata": {},
     "output_type": "display_data"
    }
   ],
   "source": [
    "output = df_final2.join(df_demographic,['patient_key'],how='inner')  "
   ]
  },
  {
   "cell_type": "code",
   "execution_count": 40,
   "id": "00a1fafa-17a5-4449-9247-5b08087c174c",
   "metadata": {
    "execution": {
     "iopub.execute_input": "2022-05-28T07:35:19.448859Z",
     "iopub.status.busy": "2022-05-28T07:35:19.448637Z",
     "iopub.status.idle": "2022-05-28T07:36:22.903801Z",
     "shell.execute_reply": "2022-05-28T07:36:22.903277Z",
     "shell.execute_reply.started": "2022-05-28T07:35:19.448835Z"
    },
    "tags": []
   },
   "outputs": [
    {
     "data": {
      "application/vnd.jupyter.widget-view+json": {
       "model_id": "6fbb55bc7f7649228741e32566289b91",
       "version_major": 2,
       "version_minor": 0
      },
      "text/plain": [
       "VBox()"
      ]
     },
     "metadata": {},
     "output_type": "display_data"
    },
    {
     "data": {
      "application/vnd.jupyter.widget-view+json": {
       "model_id": "",
       "version_major": 2,
       "version_minor": 0
      },
      "text/plain": [
       "FloatProgress(value=0.0, bar_style='info', description='Progress:', layout=Layout(height='25px', width='50%'),…"
      ]
     },
     "metadata": {},
     "output_type": "display_data"
    },
    {
     "name": "stdout",
     "output_type": "stream",
     "text": [
      "+-----------+--------+-----------+\n",
      "|patient_key|UMLS_CUI|provider_id|\n",
      "+-----------+--------+-----------+\n",
      "|     800966|C1704653| 1033124813|\n",
      "|    1639971|C0013770| SRN0050793|\n",
      "|    1385981|C0024779| 1053367250|\n",
      "|    1385981|C0024779| 1053367250|\n",
      "|    3025611|C3890564| SRN0006317|\n",
      "|   72124940|C3899513| SRN0030667|\n",
      "|   72285645|C2063616| 1740414457|\n",
      "|   72285645|C2063616| 1740414457|\n",
      "|   72285645|C2063616| 1740414457|\n",
      "|   72285645|C2063616| 1740414457|\n",
      "|   72377207|C0024779| SRN0040897|\n",
      "|   72377207|C0024779| SRN0040897|\n",
      "|   72377207|C0024779| SRN0040897|\n",
      "|   72377207|C3814778| SRN0040897|\n",
      "|    2161568|C3543515| SRN0023779|\n",
      "|    7659660|C0007012| SRN0014151|\n",
      "|   72020812|C0024779| 1568466290|\n",
      "|   72020812|C0024779| 1568466290|\n",
      "|    8026121|C0402015| SRN0047207|\n",
      "|    3145184|C3543515| 1962516690|\n",
      "+-----------+--------+-----------+\n",
      "only showing top 20 rows"
     ]
    }
   ],
   "source": [
    "output[['patient_key','UMLS_CUI','provider_id']].show()"
   ]
  },
  {
   "cell_type": "code",
   "execution_count": 25,
   "id": "6c084ffc-ac76-44e6-91dc-f94c04cd9a7e",
   "metadata": {
    "execution": {
     "iopub.execute_input": "2022-05-27T14:44:22.816365Z",
     "iopub.status.busy": "2022-05-27T14:44:22.816140Z",
     "iopub.status.idle": "2022-05-27T14:44:22.860699Z",
     "shell.execute_reply": "2022-05-27T14:44:22.860196Z",
     "shell.execute_reply.started": "2022-05-27T14:44:22.816341Z"
    }
   },
   "outputs": [
    {
     "data": {
      "application/vnd.jupyter.widget-view+json": {
       "model_id": "060a50095d6745c49d8647b8a5e7d717",
       "version_major": 2,
       "version_minor": 0
      },
      "text/plain": [
       "VBox()"
      ]
     },
     "metadata": {},
     "output_type": "display_data"
    },
    {
     "data": {
      "application/vnd.jupyter.widget-view+json": {
       "model_id": "",
       "version_major": 2,
       "version_minor": 0
      },
      "text/plain": [
       "FloatProgress(value=0.0, bar_style='info', description='Progress:', layout=Layout(height='25px', width='50%'),…"
      ]
     },
     "metadata": {},
     "output_type": "display_data"
    },
    {
     "name": "stdout",
     "output_type": "stream",
     "text": [
      "['patient_key', 'UMLS_CUI', 'provider_id', 'facility_id', 'text', 'label', 'negex', 'span', 'UMLS_Name', 'TUIs', 'Child_semantic_label', 'Parent_semantic_label', 'Similarity_Score', 'Thought_Disturbance', 'Abnormal_Behavior', 'Suicidal_Intent', 'Disorientated', 'Mental_Health_Impairment', 'Memory_Loss', 'Clouded_Consciousness', 'Agitation', 'Congnitive_Impairment', 'Alzheimer', 'pat_last_name', 'pat_first_name', 'pat_mrn', 'pat_dob', 'pat_gender', 'pat_race', 'pat_ethinicity', 'pat_city', 'pat_zip', 'pat_county', 'pat_state', 'pat_country', 'pat_marital_status', 'pat_smoking_status', 'pat_status']"
     ]
    }
   ],
   "source": [
    "output.columns"
   ]
  },
  {
   "cell_type": "code",
   "execution_count": 34,
   "id": "542c4342-3a70-4960-9f1f-ecaac13b1538",
   "metadata": {
    "execution": {
     "iopub.execute_input": "2022-05-27T15:00:46.226815Z",
     "iopub.status.busy": "2022-05-27T15:00:46.226598Z",
     "iopub.status.idle": "2022-05-27T15:01:09.552905Z",
     "shell.execute_reply": "2022-05-27T15:01:09.552375Z",
     "shell.execute_reply.started": "2022-05-27T15:00:46.226792Z"
    },
    "tags": []
   },
   "outputs": [
    {
     "data": {
      "application/vnd.jupyter.widget-view+json": {
       "model_id": "5dc8ed7a48c44d6ba73c25d663b27917",
       "version_major": 2,
       "version_minor": 0
      },
      "text/plain": [
       "VBox()"
      ]
     },
     "metadata": {},
     "output_type": "display_data"
    },
    {
     "data": {
      "application/vnd.jupyter.widget-view+json": {
       "model_id": "",
       "version_major": 2,
       "version_minor": 0
      },
      "text/plain": [
       "FloatProgress(value=0.0, bar_style='info', description='Progress:', layout=Layout(height='25px', width='50%'),…"
      ]
     },
     "metadata": {},
     "output_type": "display_data"
    },
    {
     "name": "stdout",
     "output_type": "stream",
     "text": [
      "31539959"
     ]
    }
   ],
   "source": [
    "op2 = df_final[df_final['Alzheimer'] == 0]\n",
    "op2.count()"
   ]
  },
  {
   "cell_type": "code",
   "execution_count": 35,
   "id": "09f5789c-cad9-46f7-8f82-2e8b0e924541",
   "metadata": {
    "execution": {
     "iopub.execute_input": "2022-05-27T15:01:09.553953Z",
     "iopub.status.busy": "2022-05-27T15:01:09.553793Z",
     "iopub.status.idle": "2022-05-27T15:02:49.219890Z",
     "shell.execute_reply": "2022-05-27T15:02:49.219415Z",
     "shell.execute_reply.started": "2022-05-27T15:01:09.553933Z"
    },
    "tags": []
   },
   "outputs": [
    {
     "data": {
      "application/vnd.jupyter.widget-view+json": {
       "model_id": "bd7932a4b6a74a129e8082199084f771",
       "version_major": 2,
       "version_minor": 0
      },
      "text/plain": [
       "VBox()"
      ]
     },
     "metadata": {},
     "output_type": "display_data"
    },
    {
     "data": {
      "application/vnd.jupyter.widget-view+json": {
       "model_id": "",
       "version_major": 2,
       "version_minor": 0
      },
      "text/plain": [
       "FloatProgress(value=0.0, bar_style='info', description='Progress:', layout=Layout(height='25px', width='50%'),…"
      ]
     },
     "metadata": {},
     "output_type": "display_data"
    },
    {
     "name": "stdout",
     "output_type": "stream",
     "text": [
      "5479\n",
      "1411\n",
      "3688\n",
      "3595\n",
      "75\n",
      "8451\n",
      "3077\n",
      "2131"
     ]
    }
   ],
   "source": [
    "print(op2[op2['Congnitive_Impairment']==1].count())\n",
    "print(op2[op2['Thought_Disturbance']==1].count())\n",
    "print(op2[op2['Abnormal_Behavior']==1].count())\n",
    "print(op2[op2['Suicidal_Intent']==1].count())\n",
    "print(op2[op2['Disorientated']==1].count())\n",
    "print(op2[op2['Mental_Health_Impairment']==1].count())\n",
    "print(op2[op2['Memory_Loss']==1].count())\n",
    "print(op2[op2['Clouded_Consciousness']==1].count())"
   ]
  },
  {
   "cell_type": "code",
   "execution_count": null,
   "id": "49e216c1-0f67-4656-abba-033182e38ef3",
   "metadata": {},
   "outputs": [],
   "source": []
  }
 ],
 "metadata": {
  "kernelspec": {
   "display_name": "PySpark",
   "language": "",
   "name": "pysparkkernel"
  },
  "language_info": {
   "codemirror_mode": {
    "name": "python",
    "version": 3
   },
   "mimetype": "text/x-python",
   "name": "pyspark",
   "pygments_lexer": "python3"
  }
 },
 "nbformat": 4,
 "nbformat_minor": 5
}
