{
 "cells": [
  {
   "cell_type": "code",
   "execution_count": 1,
   "id": "90425961-3ad5-4352-8bf7-7433c342c457",
   "metadata": {
    "execution": {
     "iopub.execute_input": "2022-05-28T06:47:27.226349Z",
     "iopub.status.busy": "2022-05-28T06:47:27.226093Z",
     "iopub.status.idle": "2022-05-28T06:47:50.786189Z",
     "shell.execute_reply": "2022-05-28T06:47:50.785684Z",
     "shell.execute_reply.started": "2022-05-28T06:47:27.226299Z"
    },
    "tags": []
   },
   "outputs": [
    {
     "data": {
      "application/vnd.jupyter.widget-view+json": {
       "model_id": "8bca11c0b928486781fb21c9980cf990",
       "version_major": 2,
       "version_minor": 0
      },
      "text/plain": [
       "VBox()"
      ]
     },
     "metadata": {},
     "output_type": "display_data"
    },
    {
     "name": "stdout",
     "output_type": "stream",
     "text": [
      "Starting Spark application\n"
     ]
    },
    {
     "data": {
      "text/html": [
       "<table>\n",
       "<tr><th>ID</th><th>YARN Application ID</th><th>Kind</th><th>State</th><th>Spark UI</th><th>Driver log</th><th>Current session?</th></tr><tr><td>0</td><td>application_1653719621549_0001</td><td>pyspark</td><td>idle</td><td><a target=\"_blank\" href=\"http://ip-172-31-18-160.ec2.internal:20888/proxy/application_1653719621549_0001/\" class=\"emr-proxy-link\" emr-resource=\"j-8WZHPSIOZHY4\n",
       "\" application-id=\"application_1653719621549_0001\">Link</a></td><td><a target=\"_blank\" href=\"http://ip-172-31-22-75.ec2.internal:8042/node/containerlogs/container_1653719621549_0001_01_000001/livy\" >Link</a></td><td>✔</td></tr></table>"
      ],
      "text/plain": [
       "<IPython.core.display.HTML object>"
      ]
     },
     "metadata": {},
     "output_type": "display_data"
    },
    {
     "data": {
      "application/vnd.jupyter.widget-view+json": {
       "model_id": "",
       "version_major": 2,
       "version_minor": 0
      },
      "text/plain": [
       "FloatProgress(value=0.0, bar_style='info', description='Progress:', layout=Layout(height='25px', width='50%'),…"
      ]
     },
     "metadata": {},
     "output_type": "display_data"
    },
    {
     "name": "stdout",
     "output_type": "stream",
     "text": [
      "SparkSession available as 'spark'.\n"
     ]
    },
    {
     "data": {
      "application/vnd.jupyter.widget-view+json": {
       "model_id": "",
       "version_major": 2,
       "version_minor": 0
      },
      "text/plain": [
       "FloatProgress(value=0.0, bar_style='info', description='Progress:', layout=Layout(height='25px', width='50%'),…"
      ]
     },
     "metadata": {},
     "output_type": "display_data"
    }
   ],
   "source": [
    "import os,re\n",
    "from pyspark.sql.functions import col, array_contains, array_position,year,to_date"
   ]
  },
  {
   "cell_type": "code",
   "execution_count": 2,
   "id": "425e6a2b-f342-4191-a123-bc33ea7b6951",
   "metadata": {
    "execution": {
     "iopub.execute_input": "2022-05-28T06:47:50.787262Z",
     "iopub.status.busy": "2022-05-28T06:47:50.787094Z",
     "iopub.status.idle": "2022-05-28T06:47:50.833822Z",
     "shell.execute_reply": "2022-05-28T06:47:50.833329Z",
     "shell.execute_reply.started": "2022-05-28T06:47:50.787241Z"
    },
    "tags": []
   },
   "outputs": [
    {
     "data": {
      "text/html": [
       "Current session configs: <tt>{'proxyUser': 'assumed-role_AWSReservedSSO_AWSPowerUserAccess_b440364ff0937dc7_AntonyChandraVibin_Paulraj_premierinc_com', 'conf': {'spark.pyspark.python': 'python3', 'spark.pyspark.virtualenv.enabled': 'true', 'spark.pyspark.virtualenv.type': 'native', 'spark.pyspark.virtualenv.bin.path': '/usr/bin/virtualenv'}, 'kind': 'pyspark'}</tt><br>"
      ],
      "text/plain": [
       "<IPython.core.display.HTML object>"
      ]
     },
     "metadata": {},
     "output_type": "display_data"
    },
    {
     "data": {
      "text/html": [
       "<table>\n",
       "<tr><th>ID</th><th>YARN Application ID</th><th>Kind</th><th>State</th><th>Spark UI</th><th>Driver log</th><th>Current session?</th></tr><tr><td>0</td><td>application_1653719621549_0001</td><td>pyspark</td><td>idle</td><td><a target=\"_blank\" href=\"http://ip-172-31-18-160.ec2.internal:20888/proxy/application_1653719621549_0001/\" class=\"emr-proxy-link\" emr-resource=\"j-8WZHPSIOZHY4\n",
       "\" application-id=\"application_1653719621549_0001\">Link</a></td><td><a target=\"_blank\" href=\"http://ip-172-31-22-75.ec2.internal:8042/node/containerlogs/container_1653719621549_0001_01_000001/livy\" >Link</a></td><td>✔</td></tr></table>"
      ],
      "text/plain": [
       "<IPython.core.display.HTML object>"
      ]
     },
     "metadata": {},
     "output_type": "display_data"
    }
   ],
   "source": [
    "%%info"
   ]
  },
  {
   "cell_type": "code",
   "execution_count": 3,
   "id": "161b21a6-1bb9-45c2-8ff7-28d0d241ab56",
   "metadata": {
    "execution": {
     "iopub.execute_input": "2022-05-28T06:47:50.835037Z",
     "iopub.status.busy": "2022-05-28T06:47:50.834874Z",
     "iopub.status.idle": "2022-05-28T06:48:17.536317Z",
     "shell.execute_reply": "2022-05-28T06:48:17.535670Z",
     "shell.execute_reply.started": "2022-05-28T06:47:50.835016Z"
    },
    "tags": []
   },
   "outputs": [
    {
     "name": "stdout",
     "output_type": "stream",
     "text": [
      "Starting Spark application\n"
     ]
    },
    {
     "data": {
      "text/html": [
       "<table>\n",
       "<tr><th>ID</th><th>YARN Application ID</th><th>Kind</th><th>State</th><th>Spark UI</th><th>Driver log</th><th>Current session?</th></tr><tr><td>1</td><td>application_1653719621549_0002</td><td>pyspark</td><td>idle</td><td><a target=\"_blank\" href=\"http://ip-172-31-18-160.ec2.internal:20888/proxy/application_1653719621549_0002/\" class=\"emr-proxy-link\" emr-resource=\"j-8WZHPSIOZHY4\n",
       "\" application-id=\"application_1653719621549_0002\">Link</a></td><td><a target=\"_blank\" href=\"http://ip-172-31-27-22.ec2.internal:8042/node/containerlogs/container_1653719621549_0002_01_000001/livy\" >Link</a></td><td>✔</td></tr></table>"
      ],
      "text/plain": [
       "<IPython.core.display.HTML object>"
      ]
     },
     "metadata": {},
     "output_type": "display_data"
    },
    {
     "data": {
      "application/vnd.jupyter.widget-view+json": {
       "model_id": "",
       "version_major": 2,
       "version_minor": 0
      },
      "text/plain": [
       "FloatProgress(value=0.0, bar_style='info', description='Progress:', layout=Layout(height='25px', width='50%'),…"
      ]
     },
     "metadata": {},
     "output_type": "display_data"
    },
    {
     "name": "stdout",
     "output_type": "stream",
     "text": [
      "SparkSession available as 'spark'.\n"
     ]
    },
    {
     "data": {
      "text/html": [
       "Current session configs: <tt>{'conf': {'spark.pyspark.python': 'python', 'spark.pyspark.virtualenv.enabled': 'true', 'spark.pyspark.virtualenv.type': 'native', 'spark.pyspark.virtualenv.bin.path': '/usr/bin/virtualenv'}, 'proxyUser': 'assumed-role_AWSReservedSSO_AWSPowerUserAccess_b440364ff0937dc7_AntonyChandraVibin_Paulraj_premierinc_com', 'kind': 'pyspark'}</tt><br>"
      ],
      "text/plain": [
       "<IPython.core.display.HTML object>"
      ]
     },
     "metadata": {},
     "output_type": "display_data"
    },
    {
     "data": {
      "text/html": [
       "<table>\n",
       "<tr><th>ID</th><th>YARN Application ID</th><th>Kind</th><th>State</th><th>Spark UI</th><th>Driver log</th><th>Current session?</th></tr><tr><td>1</td><td>application_1653719621549_0002</td><td>pyspark</td><td>idle</td><td><a target=\"_blank\" href=\"http://ip-172-31-18-160.ec2.internal:20888/proxy/application_1653719621549_0002/\" class=\"emr-proxy-link\" emr-resource=\"j-8WZHPSIOZHY4\n",
       "\" application-id=\"application_1653719621549_0002\">Link</a></td><td><a target=\"_blank\" href=\"http://ip-172-31-27-22.ec2.internal:8042/node/containerlogs/container_1653719621549_0002_01_000001/livy\" >Link</a></td><td>✔</td></tr></table>"
      ],
      "text/plain": [
       "<IPython.core.display.HTML object>"
      ]
     },
     "metadata": {},
     "output_type": "display_data"
    }
   ],
   "source": [
    "%%configure -f\n",
    "{ \"conf\":{\n",
    "          \"spark.pyspark.python\": \"python\",\n",
    "          \"spark.pyspark.virtualenv.enabled\": \"true\",\n",
    "          \"spark.pyspark.virtualenv.type\":\"native\",\n",
    "          \"spark.pyspark.virtualenv.bin.path\":\"/usr/bin/virtualenv\"\n",
    "         }\n",
    "}"
   ]
  },
  {
   "cell_type": "markdown",
   "id": "9c64846d-ea0b-4373-8d5a-eb7f9191d5f4",
   "metadata": {},
   "source": [
    "#### Installing Packages"
   ]
  },
  {
   "cell_type": "code",
   "execution_count": 8,
   "id": "54f952f3-8064-442e-918c-2a79a96b4c8c",
   "metadata": {
    "execution": {
     "iopub.execute_input": "2022-05-28T12:25:12.499018Z",
     "iopub.status.busy": "2022-05-28T12:25:12.498801Z",
     "iopub.status.idle": "2022-05-28T12:29:00.560531Z",
     "shell.execute_reply": "2022-05-28T12:29:00.560046Z",
     "shell.execute_reply.started": "2022-05-28T12:25:12.498995Z"
    },
    "scrolled": true,
    "tags": []
   },
   "outputs": [
    {
     "data": {
      "application/vnd.jupyter.widget-view+json": {
       "model_id": "04e0d8f7c30f4f2489fbe323dca6ab91",
       "version_major": 2,
       "version_minor": 0
      },
      "text/plain": [
       "VBox()"
      ]
     },
     "metadata": {},
     "output_type": "display_data"
    },
    {
     "data": {
      "application/vnd.jupyter.widget-view+json": {
       "model_id": "",
       "version_major": 2,
       "version_minor": 0
      },
      "text/plain": [
       "FloatProgress(value=0.0, bar_style='info', description='Progress:', layout=Layout(height='25px', width='50%'),…"
      ]
     },
     "metadata": {},
     "output_type": "display_data"
    },
    {
     "name": "stdout",
     "output_type": "stream",
     "text": [
      "Collecting time\n",
      "\n",
      "Collecting cython\n",
      "  Downloading https://files.pythonhosted.org/packages/ad/58/015e95071f70522c71d54bf5deddffbca07967bfebc78e7ae0e545723d84/Cython-0.29.30-cp37-cp37m-manylinux_2_5_x86_64.manylinux1_x86_64.whl (2.0MB)\n",
      "Installing collected packages: cython\n",
      "Successfully installed cython-0.29.30\n",
      "\n",
      "Collecting boto3\n",
      "  Downloading https://files.pythonhosted.org/packages/c2/c3/18ac54b3f712bd09642c2d9135b24517c6ad107bb9e1467d7c6343a4943e/boto3-1.23.9-py3-none-any.whl (132kB)\n",
      "Collecting botocore<1.27.0,>=1.26.9 (from boto3)\n",
      "  Downloading https://files.pythonhosted.org/packages/09/b8/794e0bd260198538ded90c26b353ddb632eab01950d4e7e2e2b8ee510d12/botocore-1.26.10-py3-none-any.whl (8.8MB)\n",
      "Requirement already satisfied: jmespath<2.0.0,>=0.7.1 in /usr/local/lib/python3.7/site-packages (from boto3)\n",
      "Collecting s3transfer<0.6.0,>=0.5.0 (from boto3)\n",
      "  Downloading https://files.pythonhosted.org/packages/7b/9c/f51775ebe7df5a7aa4e7c79ed671bde94e154bd968aca8d65bb24aba0c8c/s3transfer-0.5.2-py3-none-any.whl (79kB)\n",
      "Collecting urllib3<1.27,>=1.25.4 (from botocore<1.27.0,>=1.26.9->boto3)\n",
      "  Downloading https://files.pythonhosted.org/packages/ec/03/062e6444ce4baf1eac17a6a0ebfe36bb1ad05e1df0e20b110de59c278498/urllib3-1.26.9-py2.py3-none-any.whl (138kB)\n",
      "Collecting python-dateutil<3.0.0,>=2.1 (from botocore<1.27.0,>=1.26.9->boto3)\n",
      "  Downloading https://files.pythonhosted.org/packages/36/7a/87837f39d0296e723bb9b62bbb257d0355c7f6128853c78955f57342a56d/python_dateutil-2.8.2-py2.py3-none-any.whl (247kB)\n",
      "Requirement already satisfied: six>=1.5 in /usr/local/lib/python3.7/site-packages (from python-dateutil<3.0.0,>=2.1->botocore<1.27.0,>=1.26.9->boto3)\n",
      "Installing collected packages: urllib3, python-dateutil, botocore, s3transfer, boto3\n",
      "Successfully installed boto3-1.23.9 botocore-1.26.10 python-dateutil-2.8.2 s3transfer-0.5.2 urllib3-1.26.9\n",
      "\n",
      "Collecting s3fs\n",
      "  Downloading https://files.pythonhosted.org/packages/f5/65/dd14d312b9d3d73023e7e56ae52295e5a96583077702cd8d71e3c5f80f7a/s3fs-2022.5.0-py3-none-any.whl\n",
      "Collecting aiohttp<=4 (from s3fs)\n",
      "  Downloading https://files.pythonhosted.org/packages/dd/fe/80c594d62a7ff07730fd2cfc3a058498087436d8c938243e0610d1928f0e/aiohttp-3.8.1-cp37-cp37m-manylinux_2_5_x86_64.manylinux1_x86_64.manylinux_2_12_x86_64.manylinux2010_x86_64.whl (1.1MB)\n",
      "Collecting fsspec==2022.5.0 (from s3fs)\n",
      "  Downloading https://files.pythonhosted.org/packages/bd/4c/166d788feff5c739b833342945bbba406581095fb6c4a056113fae646b5c/fsspec-2022.5.0-py3-none-any.whl (140kB)\n",
      "Collecting aiobotocore~=2.3.0 (from s3fs)\n",
      "  Downloading https://files.pythonhosted.org/packages/b4/7e/60912dbc1087232539fc05ed21eff242a95656cf694826c95ab5e241ad23/aiobotocore-2.3.2.tar.gz (104kB)\n",
      "Collecting typing-extensions>=3.7.4; python_version < \"3.8\" (from aiohttp<=4->s3fs)\n",
      "  Downloading https://files.pythonhosted.org/packages/75/e1/932e06004039dd670c9d5e1df0cd606bf46e29a28e65d5bb28e894ea29c9/typing_extensions-4.2.0-py3-none-any.whl\n",
      "Collecting aiosignal>=1.1.2 (from aiohttp<=4->s3fs)\n",
      "  Downloading https://files.pythonhosted.org/packages/3b/87/fe94898f2d44a93a35d5aa74671ed28094d80753a1113d68b799fab6dc22/aiosignal-1.2.0-py3-none-any.whl\n",
      "Collecting charset-normalizer<3.0,>=2.0 (from aiohttp<=4->s3fs)\n",
      "  Downloading https://files.pythonhosted.org/packages/06/b3/24afc8868eba069a7f03650ac750a778862dc34941a4bebeb58706715726/charset_normalizer-2.0.12-py3-none-any.whl\n",
      "Collecting yarl<2.0,>=1.0 (from aiohttp<=4->s3fs)\n",
      "  Downloading https://files.pythonhosted.org/packages/80/7f/af3ecdf87e8e41da7b133f1d61f82745f8c862bdade3b56addee3ad23956/yarl-1.7.2-cp37-cp37m-manylinux_2_5_x86_64.manylinux1_x86_64.manylinux_2_12_x86_64.manylinux2010_x86_64.whl (271kB)\n",
      "Collecting multidict<7.0,>=4.5 (from aiohttp<=4->s3fs)\n",
      "  Downloading https://files.pythonhosted.org/packages/fa/a7/71c253cdb8a1528802bac7503bf82fe674367e4055b09c28846fdfa4ab90/multidict-6.0.2.tar.gz (50kB)\n",
      "Collecting attrs>=17.3.0 (from aiohttp<=4->s3fs)\n",
      "  Downloading https://files.pythonhosted.org/packages/be/be/7abce643bfdf8ca01c48afa2ddf8308c2308b0c3b239a44e57d020afa0ef/attrs-21.4.0-py2.py3-none-any.whl (60kB)\n",
      "Collecting async-timeout<5.0,>=4.0.0a3 (from aiohttp<=4->s3fs)\n",
      "  Downloading https://files.pythonhosted.org/packages/d6/c1/8991e7c5385b897b8c020cdaad718c5b087a6626d1d11a23e1ea87e325a7/async_timeout-4.0.2-py3-none-any.whl\n",
      "Collecting frozenlist>=1.1.1 (from aiohttp<=4->s3fs)\n",
      "  Downloading https://files.pythonhosted.org/packages/d1/ae/e4437fe5b5ba0fbccdaf8ecde8e3b6e8903793ca638c4706d034c0969ce1/frozenlist-1.3.0-cp37-cp37m-manylinux_2_5_x86_64.manylinux1_x86_64.manylinux_2_17_x86_64.manylinux2014_x86_64.whl (144kB)\n",
      "Collecting asynctest==0.13.0; python_version < \"3.8\" (from aiohttp<=4->s3fs)\n",
      "  Downloading https://files.pythonhosted.org/packages/e8/b6/8d17e169d577ca7678b11cd0d3ceebb0a6089a7f4a2de4b945fe4b1c86db/asynctest-0.13.0-py3-none-any.whl\n",
      "Collecting botocore<1.24.22,>=1.24.21 (from aiobotocore~=2.3.0->s3fs)\n",
      "  Downloading https://files.pythonhosted.org/packages/7e/44/1a5fa260bd89f06feeb0cfe647af9f0ad3e3858b2ad387e9e292c2a0baa6/botocore-1.24.21-py3-none-any.whl (8.6MB)\n",
      "Collecting wrapt>=1.10.10 (from aiobotocore~=2.3.0->s3fs)\n",
      "  Downloading https://files.pythonhosted.org/packages/49/a8/528295a24655f901148177355edb6a22b84abb2abfadacc1675643c1434a/wrapt-1.14.1-cp37-cp37m-manylinux_2_5_x86_64.manylinux1_x86_64.manylinux_2_17_x86_64.manylinux2014_x86_64.whl (75kB)\n",
      "Collecting aioitertools>=0.5.1 (from aiobotocore~=2.3.0->s3fs)\n",
      "  Downloading https://files.pythonhosted.org/packages/b4/20/8af729fab3df6827407b060211ffffe79e0d220fba0c4f768de599f3cbe3/aioitertools-0.10.0-py3-none-any.whl\n",
      "Collecting idna>=2.0 (from yarl<2.0,>=1.0->aiohttp<=4->s3fs)\n",
      "  Downloading https://files.pythonhosted.org/packages/04/a2/d918dcd22354d8958fe113e1a3630137e0fc8b44859ade3063982eacd2a4/idna-3.3-py3-none-any.whl (61kB)\n",
      "Requirement already satisfied: urllib3<1.27,>=1.25.4 in /mnt/tmp/1653740622167-0/lib/python3.7/site-packages (from botocore<1.24.22,>=1.24.21->aiobotocore~=2.3.0->s3fs)\n",
      "Requirement already satisfied: jmespath<2.0.0,>=0.7.1 in /usr/local/lib/python3.7/site-packages (from botocore<1.24.22,>=1.24.21->aiobotocore~=2.3.0->s3fs)\n",
      "Requirement already satisfied: python-dateutil<3.0.0,>=2.1 in /mnt/tmp/1653740622167-0/lib/python3.7/site-packages (from botocore<1.24.22,>=1.24.21->aiobotocore~=2.3.0->s3fs)\n",
      "Requirement already satisfied: six>=1.5 in /usr/local/lib/python3.7/site-packages (from python-dateutil<3.0.0,>=2.1->botocore<1.24.22,>=1.24.21->aiobotocore~=2.3.0->s3fs)\n",
      "Building wheels for collected packages: aiobotocore, multidict\n",
      "  Running setup.py bdist_wheel for aiobotocore: started\n",
      "  Running setup.py bdist_wheel for aiobotocore: finished with status 'done'\n",
      "  Stored in directory: /var/lib/livy/.cache/pip/wheels/96/9e/df/18627cbd5cdcad23931cca4784d516adf093c93f30aeb14f26\n",
      "  Running setup.py bdist_wheel for multidict: started\n",
      "  Running setup.py bdist_wheel for multidict: finished with status 'error'\n",
      "  Complete output from command /tmp/1653740622167-0/bin/python -u -c \"import setuptools, tokenize;__file__='/mnt/tmp/pip-build-a7eepjgr/multidict/setup.py';f=getattr(tokenize, 'open', open)(__file__);code=f.read().replace('\\r\\n', '\\n');f.close();exec(compile(code, __file__, 'exec'))\" bdist_wheel -d /tmp/tmpee2nzmtqpip-wheel- --python-tag cp37:\n",
      "  *********************\n",
      "  * Accelerated build *\n",
      "  *********************\n",
      "  /usr/lib64/python3.7/distutils/dist.py:274: UserWarning: Unknown distribution option: 'project_urls'\n",
      "    warnings.warn(msg)\n",
      "  running bdist_wheel\n",
      "  running build\n",
      "  running build_py\n",
      "  creating build\n",
      "  creating build/lib.linux-x86_64-3.7\n",
      "  creating build/lib.linux-x86_64-3.7/multidict\n",
      "  copying multidict/__init__.py -> build/lib.linux-x86_64-3.7/multidict\n",
      "  copying multidict/_abc.py -> build/lib.linux-x86_64-3.7/multidict\n",
      "  copying multidict/_compat.py -> build/lib.linux-x86_64-3.7/multidict\n",
      "  copying multidict/_multidict_base.py -> build/lib.linux-x86_64-3.7/multidict\n",
      "  copying multidict/_multidict_py.py -> build/lib.linux-x86_64-3.7/multidict\n",
      "  running egg_info\n",
      "  writing multidict.egg-info/PKG-INFO\n",
      "  writing dependency_links to multidict.egg-info/dependency_links.txt\n",
      "  writing top-level names to multidict.egg-info/top_level.txt\n",
      "  warning: manifest_maker: standard file '-c' not found\n",
      "  \n",
      "  reading manifest file 'multidict.egg-info/SOURCES.txt'\n",
      "  reading manifest template 'MANIFEST.in'\n",
      "  warning: no previously-included files matching '*.pyc' found anywhere in distribution\n",
      "  warning: no previously-included files found matching 'multidict/_multidict.html'\n",
      "  warning: no previously-included files found matching 'multidict/*.so'\n",
      "  warning: no previously-included files found matching 'multidict/*.pyd'\n",
      "  warning: no previously-included files found matching 'multidict/*.pyd'\n",
      "  no previously-included directories found matching 'docs/_build'\n",
      "  writing manifest file 'multidict.egg-info/SOURCES.txt'\n",
      "  copying multidict/__init__.pyi -> build/lib.linux-x86_64-3.7/multidict\n",
      "  copying multidict/py.typed -> build/lib.linux-x86_64-3.7/multidict\n",
      "  running build_ext\n",
      "  building 'multidict._multidict' extension\n",
      "  creating build/temp.linux-x86_64-3.7\n",
      "  creating build/temp.linux-x86_64-3.7/multidict\n",
      "  gcc -pthread -Wno-unused-result -Wsign-compare -DNDEBUG -O2 -g -pipe -Wall -Wp,-D_FORTIFY_SOURCE=2 -fexceptions -fstack-protector-strong --param=ssp-buffer-size=4 -grecord-gcc-switches -m64 -mtune=generic -D_GNU_SOURCE -fPIC -fwrapv -fPIC -I/usr/include/python3.7m -c multidict/_multidict.c -o build/temp.linux-x86_64-3.7/multidict/_multidict.o -O2 -std=c99 -Wall -Wsign-compare -Wconversion -fno-strict-aliasing -pedantic\n",
      "  multidict/_multidict.c:1:10: fatal error: Python.h: No such file or directory\n",
      "   #include \"Python.h\"\n",
      "            ^~~~~~~~~~\n",
      "  compilation terminated.\n",
      "  error: command 'gcc' failed with exit status 1\n",
      "  \n",
      "  ----------------------------------------\n",
      "  Running setup.py clean for multidict\n",
      "Successfully built aiobotocore\n",
      "Failed to build multidict\n",
      "Installing collected packages: typing-extensions, frozenlist, aiosignal, charset-normalizer, idna, multidict, yarl, attrs, async-timeout, asynctest, aiohttp, fsspec, botocore, wrapt, aioitertools, aiobotocore, s3fs\n",
      "  Running setup.py install for multidict: started\n",
      "    Running setup.py install for multidict: finished with status 'error'\n",
      "    Complete output from command /tmp/1653740622167-0/bin/python -u -c \"import setuptools, tokenize;__file__='/mnt/tmp/pip-build-a7eepjgr/multidict/setup.py';f=getattr(tokenize, 'open', open)(__file__);code=f.read().replace('\\r\\n', '\\n');f.close();exec(compile(code, __file__, 'exec'))\" install --record /tmp/pip-ube8gapy-record/install-record.txt --single-version-externally-managed --compile --install-headers /tmp/1653740622167-0/include/site/python3.7/multidict:\n",
      "    *********************\n",
      "    * Accelerated build *\n",
      "    *********************\n",
      "    /usr/lib64/python3.7/distutils/dist.py:274: UserWarning: Unknown distribution option: 'project_urls'\n",
      "      warnings.warn(msg)\n",
      "    running install\n",
      "    running build\n",
      "    running build_py\n",
      "    creating build\n",
      "    creating build/lib.linux-x86_64-3.7\n",
      "    creating build/lib.linux-x86_64-3.7/multidict\n",
      "    copying multidict/__init__.py -> build/lib.linux-x86_64-3.7/multidict\n",
      "    copying multidict/_abc.py -> build/lib.linux-x86_64-3.7/multidict\n",
      "    copying multidict/_compat.py -> build/lib.linux-x86_64-3.7/multidict\n",
      "    copying multidict/_multidict_base.py -> build/lib.linux-x86_64-3.7/multidict\n",
      "    copying multidict/_multidict_py.py -> build/lib.linux-x86_64-3.7/multidict\n",
      "    running egg_info\n",
      "    writing multidict.egg-info/PKG-INFO\n",
      "    writing dependency_links to multidict.egg-info/dependency_links.txt\n",
      "    writing top-level names to multidict.egg-info/top_level.txt\n",
      "    warning: manifest_maker: standard file '-c' not found\n",
      "    \n",
      "    reading manifest file 'multidict.egg-info/SOURCES.txt'\n",
      "    reading manifest template 'MANIFEST.in'\n",
      "    warning: no previously-included files matching '*.pyc' found anywhere in distribution\n",
      "    warning: no previously-included files found matching 'multidict/_multidict.html'\n",
      "    warning: no previously-included files found matching 'multidict/*.so'\n",
      "    warning: no previously-included files found matching 'multidict/*.pyd'\n",
      "    warning: no previously-included files found matching 'multidict/*.pyd'\n",
      "    no previously-included directories found matching 'docs/_build'\n",
      "    writing manifest file 'multidict.egg-info/SOURCES.txt'\n",
      "    copying multidict/__init__.pyi -> build/lib.linux-x86_64-3.7/multidict\n",
      "    copying multidict/py.typed -> build/lib.linux-x86_64-3.7/multidict\n",
      "    running build_ext\n",
      "    building 'multidict._multidict' extension\n",
      "    creating build/temp.linux-x86_64-3.7\n",
      "    creating build/temp.linux-x86_64-3.7/multidict\n",
      "    gcc -pthread -Wno-unused-result -Wsign-compare -DNDEBUG -O2 -g -pipe -Wall -Wp,-D_FORTIFY_SOURCE=2 -fexceptions -fstack-protector-strong --param=ssp-buffer-size=4 -grecord-gcc-switches -m64 -mtune=generic -D_GNU_SOURCE -fPIC -fwrapv -fPIC -I/usr/include/python3.7m -c multidict/_multidict.c -o build/temp.linux-x86_64-3.7/multidict/_multidict.o -O2 -std=c99 -Wall -Wsign-compare -Wconversion -fno-strict-aliasing -pedantic\n",
      "    multidict/_multidict.c:1:10: fatal error: Python.h: No such file or directory\n",
      "     #include \"Python.h\"\n",
      "              ^~~~~~~~~~\n",
      "    compilation terminated.\n",
      "    error: command 'gcc' failed with exit status 1\n",
      "    \n",
      "    ----------------------------------------\n",
      "\n",
      "Collecting pandas\n",
      "  Downloading https://files.pythonhosted.org/packages/99/f0/f99700ef327e51d291efdf4a6de29e685c4d198cbf8531541fc84d169e0e/pandas-1.3.5.tar.gz (4.7MB)\n",
      "Building wheels for collected packages: unknown, unknown\n",
      "  Running setup.py bdist_wheel for unknown: started\n",
      "  Running setup.py bdist_wheel for unknown: finished with status 'error'\n",
      "  Complete output from command /tmp/1653740622167-0/bin/python -u -c \"import setuptools, tokenize;__file__='/mnt/tmp/pip-build-gtl7s2xe/pandas/setup.py';f=getattr(tokenize, 'open', open)(__file__);code=f.read().replace('\\r\\n', '\\n');f.close();exec(compile(code, __file__, 'exec'))\" bdist_wheel -d /tmp/tmpesbf8k04pip-wheel- --python-tag cp37:\n",
      "  running bdist_wheel\n",
      "  running build\n",
      "  running build_ext\n",
      "  building 'pandas._libs.algos' extension\n",
      "  creating build\n",
      "  creating build/temp.linux-x86_64-3.7\n",
      "  creating build/temp.linux-x86_64-3.7/pandas\n",
      "  creating build/temp.linux-x86_64-3.7/pandas/_libs\n",
      "  gcc -pthread -Wno-unused-result -Wsign-compare -DNDEBUG -O2 -g -pipe -Wall -Wp,-D_FORTIFY_SOURCE=2 -fexceptions -fstack-protector-strong --param=ssp-buffer-size=4 -grecord-gcc-switches -m64 -mtune=generic -D_GNU_SOURCE -fPIC -fwrapv -fPIC -DNPY_NO_DEPRECATED_API=0 -I./pandas/_libs -Ipandas/_libs/src/klib -I/usr/local/lib64/python3.7/site-packages/numpy/core/include -I/usr/include/python3.7m -c pandas/_libs/algos.c -o build/temp.linux-x86_64-3.7/pandas/_libs/algos.o\n",
      "  pandas/_libs/algos.c:41:10: fatal error: Python.h: No such file or directory\n",
      "   #include \"Python.h\"\n",
      "            ^~~~~~~~~~\n",
      "  compilation terminated.\n",
      "  error: command 'gcc' failed with exit status 1\n",
      "  \n",
      "  ----------------------------------------\n",
      "  Running setup.py clean for unknown\n",
      "  Running setup.py bdist_wheel for unknown: started\n",
      "  Running setup.py bdist_wheel for unknown: still running...\n",
      "  Running setup.py bdist_wheel for unknown: finished with status 'error'\n",
      "  Complete output from command /tmp/1653740622167-0/bin/python -u -c \"import setuptools, tokenize;__file__='/mnt/tmp/pip-build-gtl7s2xe/pandas/setup.py';f=getattr(tokenize, 'open', open)(__file__);code=f.read().replace('\\r\\n', '\\n');f.close();exec(compile(code, __file__, 'exec'))\" bdist_wheel -d /tmp/tmpwh63ypempip-wheel- --python-tag cp37:\n",
      "  Compiling pandas/_libs/algos.pyx because it changed.\n",
      "  Compiling pandas/_libs/arrays.pyx because it changed.\n",
      "  Compiling pandas/_libs/groupby.pyx because it changed.\n",
      "  Compiling pandas/_libs/hashing.pyx because it changed.\n",
      "  Compiling pandas/_libs/hashtable.pyx because it changed.\n",
      "  Compiling pandas/_libs/index.pyx because it changed.\n",
      "  Compiling pandas/_libs/indexing.pyx because it changed.\n",
      "  Compiling pandas/_libs/internals.pyx because it changed.\n",
      "  Compiling pandas/_libs/interval.pyx because it changed.\n",
      "  Compiling pandas/_libs/join.pyx because it changed.\n",
      "  Compiling pandas/_libs/lib.pyx because it changed.\n",
      "  Compiling pandas/_libs/missing.pyx because it changed.\n",
      "  Compiling pandas/_libs/parsers.pyx because it changed.\n",
      "  Compiling pandas/_libs/reduction.pyx because it changed.\n",
      "  Compiling pandas/_libs/ops.pyx because it changed.\n",
      "  Compiling pandas/_libs/ops_dispatch.pyx because it changed.\n",
      "  Compiling pandas/_libs/properties.pyx because it changed.\n",
      "  Compiling pandas/_libs/reshape.pyx because it changed.\n",
      "  Compiling pandas/_libs/sparse.pyx because it changed.\n",
      "  Compiling pandas/_libs/tslib.pyx because it changed.\n",
      "  Compiling pandas/_libs/tslibs/base.pyx because it changed.\n",
      "  Compiling pandas/_libs/tslibs/ccalendar.pyx because it changed.\n",
      "  Compiling pandas/_libs/tslibs/dtypes.pyx because it changed.\n",
      "  Compiling pandas/_libs/tslibs/conversion.pyx because it changed.\n",
      "  Compiling pandas/_libs/tslibs/fields.pyx because it changed.\n",
      "  Compiling pandas/_libs/tslibs/nattype.pyx because it changed.\n",
      "  Compiling pandas/_libs/tslibs/np_datetime.pyx because it changed.\n",
      "  Compiling pandas/_libs/tslibs/offsets.pyx because it changed.\n",
      "  Compiling pandas/_libs/tslibs/parsing.pyx because it changed.\n",
      "  Compiling pandas/_libs/tslibs/period.pyx because it changed.\n",
      "  Compiling pandas/_libs/tslibs/strptime.pyx because it changed.\n",
      "  Compiling pandas/_libs/tslibs/timedeltas.pyx because it changed.\n",
      "  Compiling pandas/_libs/tslibs/timestamps.pyx because it changed.\n",
      "  Compiling pandas/_libs/tslibs/timezones.pyx because it changed.\n",
      "  Compiling pandas/_libs/tslibs/tzconversion.pyx because it changed.\n",
      "  Compiling pandas/_libs/tslibs/vectorized.pyx because it changed.\n",
      "  Compiling pandas/_libs/testing.pyx because it changed.\n",
      "  Compiling pandas/_libs/window/aggregations.pyx because it changed.\n",
      "  Compiling pandas/_libs/window/indexers.pyx because it changed.\n",
      "  Compiling pandas/_libs/writers.pyx because it changed.\n",
      "  Compiling pandas/io/sas/sas.pyx because it changed.\n",
      "  [ 1/41] Cythonizing pandas/_libs/algos.pyx\n",
      "  [ 2/41] Cythonizing pandas/_libs/arrays.pyx\n",
      "  [ 3/41] Cythonizing pandas/_libs/groupby.pyx\n",
      "  [ 4/41] Cythonizing pandas/_libs/hashing.pyx\n",
      "  [ 5/41] Cythonizing pandas/_libs/hashtable.pyx\n",
      "  [ 6/41] Cythonizing pandas/_libs/index.pyx\n",
      "  [ 7/41] Cythonizing pandas/_libs/indexing.pyx\n",
      "  [ 8/41] Cythonizing pandas/_libs/internals.pyx\n",
      "  [ 9/41] Cythonizing pandas/_libs/interval.pyx\n",
      "  [10/41] Cythonizing pandas/_libs/join.pyx\n",
      "  [11/41] Cythonizing pandas/_libs/lib.pyx\n",
      "  [12/41] Cythonizing pandas/_libs/missing.pyx\n",
      "  [13/41] Cythonizing pandas/_libs/ops.pyx\n",
      "  [14/41] Cythonizing pandas/_libs/ops_dispatch.pyx\n",
      "  [15/41] Cythonizing pandas/_libs/parsers.pyx\n",
      "  [16/41] Cythonizing pandas/_libs/properties.pyx\n",
      "  [17/41] Cythonizing pandas/_libs/reduction.pyx\n",
      "  [18/41] Cythonizing pandas/_libs/reshape.pyx\n",
      "  [19/41] Cythonizing pandas/_libs/sparse.pyx\n",
      "  [20/41] Cythonizing pandas/_libs/testing.pyx\n",
      "  [21/41] Cythonizing pandas/_libs/tslib.pyx\n",
      "  [22/41] Cythonizing pandas/_libs/tslibs/base.pyx\n",
      "  [23/41] Cythonizing pandas/_libs/tslibs/ccalendar.pyx\n",
      "  [24/41] Cythonizing pandas/_libs/tslibs/conversion.pyx\n",
      "  [25/41] Cythonizing pandas/_libs/tslibs/dtypes.pyx\n",
      "  [26/41] Cythonizing pandas/_libs/tslibs/fields.pyx\n",
      "  [27/41] Cythonizing pandas/_libs/tslibs/nattype.pyx\n",
      "  [28/41] Cythonizing pandas/_libs/tslibs/np_datetime.pyx\n",
      "  [29/41] Cythonizing pandas/_libs/tslibs/offsets.pyx\n",
      "  [30/41] Cythonizing pandas/_libs/tslibs/parsing.pyx\n",
      "  [31/41] Cythonizing pandas/_libs/tslibs/period.pyx\n",
      "  [32/41] Cythonizing pandas/_libs/tslibs/strptime.pyx\n",
      "  [33/41] Cythonizing pandas/_libs/tslibs/timedeltas.pyx\n",
      "  [34/41] Cythonizing pandas/_libs/tslibs/timestamps.pyx\n",
      "  [35/41] Cythonizing pandas/_libs/tslibs/timezones.pyx\n",
      "  [36/41] Cythonizing pandas/_libs/tslibs/tzconversion.pyx\n",
      "  [37/41] Cythonizing pandas/_libs/tslibs/vectorized.pyx\n",
      "  [38/41] Cythonizing pandas/_libs/window/aggregations.pyx\n",
      "  [39/41] Cythonizing pandas/_libs/window/indexers.pyx\n",
      "  [40/41] Cythonizing pandas/_libs/writers.pyx\n",
      "  [41/41] Cythonizing pandas/io/sas/sas.pyx\n",
      "  running bdist_wheel\n",
      "  running build\n",
      "  running build_ext\n",
      "  building 'pandas._libs.algos' extension\n",
      "  creating build\n",
      "  creating build/temp.linux-x86_64-3.7\n",
      "  creating build/temp.linux-x86_64-3.7/pandas\n",
      "  creating build/temp.linux-x86_64-3.7/pandas/_libs\n",
      "  gcc -pthread -Wno-unused-result -Wsign-compare -DNDEBUG -O2 -g -pipe -Wall -Wp,-D_FORTIFY_SOURCE=2 -fexceptions -fstack-protector-strong --param=ssp-buffer-size=4 -grecord-gcc-switches -m64 -mtune=generic -D_GNU_SOURCE -fPIC -fwrapv -fPIC -DNPY_NO_DEPRECATED_API=0 -I./pandas/_libs -Ipandas/_libs/src/klib -I/usr/local/lib64/python3.7/site-packages/numpy/core/include -I/usr/include/python3.7m -c pandas/_libs/algos.c -o build/temp.linux-x86_64-3.7/pandas/_libs/algos.o\n",
      "  pandas/_libs/algos.c:41:10: fatal error: Python.h: No such file or directory\n",
      "   #include \"Python.h\"\n",
      "            ^~~~~~~~~~\n",
      "  compilation terminated.\n",
      "  error: command 'gcc' failed with exit status 1\n",
      "  \n",
      "  ----------------------------------------\n",
      "  Running setup.py clean for unknown\n",
      "Failed to build unknown unknown\n",
      "Installing collected packages: unknown\n",
      "  Running setup.py install for unknown: started\n",
      "    Running setup.py install for unknown: still running...\n",
      "    Running setup.py install for unknown: finished with status 'error'\n",
      "    Complete output from command /tmp/1653740622167-0/bin/python -u -c \"import setuptools, tokenize;__file__='/mnt/tmp/pip-build-gtl7s2xe/pandas/setup.py';f=getattr(tokenize, 'open', open)(__file__);code=f.read().replace('\\r\\n', '\\n');f.close();exec(compile(code, __file__, 'exec'))\" install --record /tmp/pip-g1fgk_oh-record/install-record.txt --single-version-externally-managed --compile --install-headers /tmp/1653740622167-0/include/site/python3.7/unknown:\n",
      "    Compiling pandas/_libs/algos.pyx because it changed.\n",
      "    Compiling pandas/_libs/arrays.pyx because it changed.\n",
      "    Compiling pandas/_libs/groupby.pyx because it changed.\n",
      "    Compiling pandas/_libs/hashing.pyx because it changed.\n",
      "    Compiling pandas/_libs/hashtable.pyx because it changed.\n",
      "    Compiling pandas/_libs/index.pyx because it changed.\n",
      "    Compiling pandas/_libs/indexing.pyx because it changed.\n",
      "    Compiling pandas/_libs/internals.pyx because it changed.\n",
      "    Compiling pandas/_libs/interval.pyx because it changed.\n",
      "    Compiling pandas/_libs/join.pyx because it changed.\n",
      "    Compiling pandas/_libs/lib.pyx because it changed.\n",
      "    Compiling pandas/_libs/missing.pyx because it changed.\n",
      "    Compiling pandas/_libs/parsers.pyx because it changed.\n",
      "    Compiling pandas/_libs/reduction.pyx because it changed.\n",
      "    Compiling pandas/_libs/ops.pyx because it changed.\n",
      "    Compiling pandas/_libs/ops_dispatch.pyx because it changed.\n",
      "    Compiling pandas/_libs/properties.pyx because it changed.\n",
      "    Compiling pandas/_libs/reshape.pyx because it changed.\n",
      "    Compiling pandas/_libs/sparse.pyx because it changed.\n",
      "    Compiling pandas/_libs/tslib.pyx because it changed.\n",
      "    Compiling pandas/_libs/tslibs/base.pyx because it changed.\n",
      "    Compiling pandas/_libs/tslibs/ccalendar.pyx because it changed.\n",
      "    Compiling pandas/_libs/tslibs/dtypes.pyx because it changed.\n",
      "    Compiling pandas/_libs/tslibs/conversion.pyx because it changed.\n",
      "    Compiling pandas/_libs/tslibs/fields.pyx because it changed.\n",
      "    Compiling pandas/_libs/tslibs/nattype.pyx because it changed.\n",
      "    Compiling pandas/_libs/tslibs/np_datetime.pyx because it changed.\n",
      "    Compiling pandas/_libs/tslibs/offsets.pyx because it changed.\n",
      "    Compiling pandas/_libs/tslibs/parsing.pyx because it changed.\n",
      "    Compiling pandas/_libs/tslibs/period.pyx because it changed.\n",
      "    Compiling pandas/_libs/tslibs/strptime.pyx because it changed.\n",
      "    Compiling pandas/_libs/tslibs/timedeltas.pyx because it changed.\n",
      "    Compiling pandas/_libs/tslibs/timestamps.pyx because it changed.\n",
      "    Compiling pandas/_libs/tslibs/timezones.pyx because it changed.\n",
      "    Compiling pandas/_libs/tslibs/tzconversion.pyx because it changed.\n",
      "    Compiling pandas/_libs/tslibs/vectorized.pyx because it changed.\n",
      "    Compiling pandas/_libs/testing.pyx because it changed.\n",
      "    Compiling pandas/_libs/window/aggregations.pyx because it changed.\n",
      "    Compiling pandas/_libs/window/indexers.pyx because it changed.\n",
      "    Compiling pandas/_libs/writers.pyx because it changed.\n",
      "    Compiling pandas/io/sas/sas.pyx because it changed.\n",
      "    [ 1/41] Cythonizing pandas/_libs/algos.pyx\n",
      "    [ 2/41] Cythonizing pandas/_libs/arrays.pyx\n",
      "    [ 3/41] Cythonizing pandas/_libs/groupby.pyx\n",
      "    [ 4/41] Cythonizing pandas/_libs/hashing.pyx\n",
      "    [ 5/41] Cythonizing pandas/_libs/hashtable.pyx\n",
      "    [ 6/41] Cythonizing pandas/_libs/index.pyx\n",
      "    [ 7/41] Cythonizing pandas/_libs/indexing.pyx\n",
      "    [ 8/41] Cythonizing pandas/_libs/internals.pyx\n",
      "    [ 9/41] Cythonizing pandas/_libs/interval.pyx\n",
      "    [10/41] Cythonizing pandas/_libs/join.pyx\n",
      "    [11/41] Cythonizing pandas/_libs/lib.pyx\n",
      "    [12/41] Cythonizing pandas/_libs/missing.pyx\n",
      "    [13/41] Cythonizing pandas/_libs/ops.pyx\n",
      "    [14/41] Cythonizing pandas/_libs/ops_dispatch.pyx\n",
      "    [15/41] Cythonizing pandas/_libs/parsers.pyx\n",
      "    [16/41] Cythonizing pandas/_libs/properties.pyx\n",
      "    [17/41] Cythonizing pandas/_libs/reduction.pyx\n",
      "    [18/41] Cythonizing pandas/_libs/reshape.pyx\n",
      "    [19/41] Cythonizing pandas/_libs/sparse.pyx\n",
      "    [20/41] Cythonizing pandas/_libs/testing.pyx\n",
      "    [21/41] Cythonizing pandas/_libs/tslib.pyx\n",
      "    [22/41] Cythonizing pandas/_libs/tslibs/base.pyx\n",
      "    [23/41] Cythonizing pandas/_libs/tslibs/ccalendar.pyx\n",
      "    [24/41] Cythonizing pandas/_libs/tslibs/conversion.pyx\n",
      "    [25/41] Cythonizing pandas/_libs/tslibs/dtypes.pyx\n",
      "    [26/41] Cythonizing pandas/_libs/tslibs/fields.pyx\n",
      "    [27/41] Cythonizing pandas/_libs/tslibs/nattype.pyx\n",
      "    [28/41] Cythonizing pandas/_libs/tslibs/np_datetime.pyx\n",
      "    [29/41] Cythonizing pandas/_libs/tslibs/offsets.pyx\n",
      "    [30/41] Cythonizing pandas/_libs/tslibs/parsing.pyx\n",
      "    [31/41] Cythonizing pandas/_libs/tslibs/period.pyx\n",
      "    [32/41] Cythonizing pandas/_libs/tslibs/strptime.pyx\n",
      "    [33/41] Cythonizing pandas/_libs/tslibs/timedeltas.pyx\n",
      "    [34/41] Cythonizing pandas/_libs/tslibs/timestamps.pyx\n",
      "    [35/41] Cythonizing pandas/_libs/tslibs/timezones.pyx\n",
      "    [36/41] Cythonizing pandas/_libs/tslibs/tzconversion.pyx\n",
      "    [37/41] Cythonizing pandas/_libs/tslibs/vectorized.pyx\n",
      "    [38/41] Cythonizing pandas/_libs/window/aggregations.pyx\n",
      "    [39/41] Cythonizing pandas/_libs/window/indexers.pyx\n",
      "    [40/41] Cythonizing pandas/_libs/writers.pyx\n",
      "    [41/41] Cythonizing pandas/io/sas/sas.pyx\n",
      "    running install\n",
      "    running build\n",
      "    running build_ext\n",
      "    building 'pandas._libs.algos' extension\n",
      "    creating build\n",
      "    creating build/temp.linux-x86_64-3.7\n",
      "    creating build/temp.linux-x86_64-3.7/pandas\n",
      "    creating build/temp.linux-x86_64-3.7/pandas/_libs\n",
      "    gcc -pthread -Wno-unused-result -Wsign-compare -DNDEBUG -O2 -g -pipe -Wall -Wp,-D_FORTIFY_SOURCE=2 -fexceptions -fstack-protector-strong --param=ssp-buffer-size=4 -grecord-gcc-switches -m64 -mtune=generic -D_GNU_SOURCE -fPIC -fwrapv -fPIC -DNPY_NO_DEPRECATED_API=0 -I./pandas/_libs -Ipandas/_libs/src/klib -I/usr/local/lib64/python3.7/site-packages/numpy/core/include -I/usr/include/python3.7m -c pandas/_libs/algos.c -o build/temp.linux-x86_64-3.7/pandas/_libs/algos.o\n",
      "    pandas/_libs/algos.c:41:10: fatal error: Python.h: No such file or directory\n",
      "     #include \"Python.h\"\n",
      "              ^~~~~~~~~~\n",
      "    compilation terminated.\n",
      "    error: command 'gcc' failed with exit status 1\n",
      "    \n",
      "    ----------------------------------------\n",
      "\n",
      "Collecting matplotlib==3.1.1\n",
      "  Downloading https://files.pythonhosted.org/packages/19/7a/60bd79c5d79559150f8bba866dd7d434f0a170312e4d15e8aefa5faba294/matplotlib-3.1.1-cp37-cp37m-manylinux1_x86_64.whl (13.1MB)\n",
      "Requirement already satisfied: python-dateutil>=2.1 in /mnt/tmp/1653740622167-0/lib/python3.7/site-packages (from matplotlib==3.1.1)\n",
      "Collecting pyparsing!=2.0.4,!=2.1.2,!=2.1.6,>=2.0.1 (from matplotlib==3.1.1)\n",
      "  Downloading https://files.pythonhosted.org/packages/6c/10/a7d0fa5baea8fe7b50f448ab742f26f52b80bfca85ac2be9d35cdd9a3246/pyparsing-3.0.9-py3-none-any.whl (98kB)\n",
      "Collecting cycler>=0.10 (from matplotlib==3.1.1)\n",
      "  Downloading https://files.pythonhosted.org/packages/5c/f9/695d6bedebd747e5eb0fe8fad57b72fdf25411273a39791cde838d5a8f51/cycler-0.11.0-py3-none-any.whl\n",
      "Requirement already satisfied: numpy>=1.11 in /usr/local/lib64/python3.7/site-packages (from matplotlib==3.1.1)\n",
      "Collecting kiwisolver>=1.0.1 (from matplotlib==3.1.1)\n",
      "  Downloading https://files.pythonhosted.org/packages/51/50/9a9a94afa26c50fc5d9127272737806990aa698c7a1c220b8e5075e70304/kiwisolver-1.4.2-cp37-cp37m-manylinux_2_5_x86_64.manylinux1_x86_64.whl (1.1MB)\n",
      "Requirement already satisfied: six>=1.5 in /usr/local/lib/python3.7/site-packages (from python-dateutil>=2.1->matplotlib==3.1.1)\n",
      "Requirement already satisfied: typing-extensions; python_version < \"3.8\" in /mnt/tmp/1653740622167-0/lib/python3.7/site-packages (from kiwisolver>=1.0.1->matplotlib==3.1.1)\n",
      "Installing collected packages: pyparsing, cycler, kiwisolver, matplotlib\n",
      "Successfully installed cycler-0.11.0 kiwisolver-1.4.2 matplotlib-3.1.1 pyparsing-3.0.9\n",
      "\n",
      "  Could not find a version that satisfies the requirement time (from versions: )\n",
      "No matching distribution found for time\n",
      "You are using pip version 9.0.1, however version 22.1.1 is available.\n",
      "You should consider upgrading via the 'pip install --upgrade pip' command.\n",
      "\n",
      "You are using pip version 9.0.1, however version 22.1.1 is available.\n",
      "You should consider upgrading via the 'pip install --upgrade pip' command.\n",
      "\n",
      "You are using pip version 9.0.1, however version 22.1.1 is available.\n",
      "You should consider upgrading via the 'pip install --upgrade pip' command.\n",
      "\n",
      "  Ignoring async-generator: markers 'python_version < \"3.7\"' don't match your environment\n",
      "  Failed building wheel for multidict\n",
      "Command \"/tmp/1653740622167-0/bin/python -u -c \"import setuptools, tokenize;__file__='/mnt/tmp/pip-build-a7eepjgr/multidict/setup.py';f=getattr(tokenize, 'open', open)(__file__);code=f.read().replace('\\r\\n', '\\n');f.close();exec(compile(code, __file__, 'exec'))\" install --record /tmp/pip-ube8gapy-record/install-record.txt --single-version-externally-managed --compile --install-headers /tmp/1653740622167-0/include/site/python3.7/multidict\" failed with error code 1 in /mnt/tmp/pip-build-a7eepjgr/multidict/\n",
      "You are using pip version 9.0.1, however version 22.1.1 is available.\n",
      "You should consider upgrading via the 'pip install --upgrade pip' command.\n",
      "\n",
      "  Running setup.py (path:/mnt/tmp/pip-build-gtl7s2xe/pandas/setup.py) egg_info for package pandas produced metadata for project name unknown. Fix your #egg=pandas fragments.\n",
      "  Failed building wheel for unknown\n",
      "  Failed building wheel for unknown\n",
      "Command \"/tmp/1653740622167-0/bin/python -u -c \"import setuptools, tokenize;__file__='/mnt/tmp/pip-build-gtl7s2xe/pandas/setup.py';f=getattr(tokenize, 'open', open)(__file__);code=f.read().replace('\\r\\n', '\\n');f.close();exec(compile(code, __file__, 'exec'))\" install --record /tmp/pip-g1fgk_oh-record/install-record.txt --single-version-externally-managed --compile --install-headers /tmp/1653740622167-0/include/site/python3.7/unknown\" failed with error code 1 in /mnt/tmp/pip-build-gtl7s2xe/pandas/\n",
      "You are using pip version 9.0.1, however version 22.1.1 is available.\n",
      "You should consider upgrading via the 'pip install --upgrade pip' command.\n",
      "\n",
      "You are using pip version 9.0.1, however version 22.1.1 is available.\n",
      "You should consider upgrading via the 'pip install --upgrade pip' command."
     ]
    }
   ],
   "source": [
    "#sc.uninstall_package('pandas')\n",
    "sc.install_pypi_package(\"time\")\n",
    "sc.install_pypi_package(\"cython\")\n",
    "sc.install_pypi_package(\"boto3\")\n",
    "sc.install_pypi_package(\"s3fs\")\n",
    "sc.install_pypi_package(\"pandas\") #Install pandas version 0.25.1 \n",
    "sc.install_pypi_package(\"matplotlib==3.1.1\")"
   ]
  },
  {
   "cell_type": "code",
   "execution_count": null,
   "id": "4b7d4555-8a10-471d-8594-532991c5d1e0",
   "metadata": {
    "scrolled": true,
    "tags": []
   },
   "outputs": [],
   "source": [
    "sc.list_packages()"
   ]
  },
  {
   "cell_type": "markdown",
   "id": "c5fd3fc8-1fef-42f3-bc1d-1e8524cb02f4",
   "metadata": {},
   "source": [
    "#### Demographic Data"
   ]
  },
  {
   "cell_type": "code",
   "execution_count": 2,
   "id": "dad1c8ba-3ec4-48d9-9e26-0d4132b914c3",
   "metadata": {
    "execution": {
     "iopub.execute_input": "2022-05-28T12:24:19.917763Z",
     "iopub.status.busy": "2022-05-28T12:24:19.917543Z",
     "iopub.status.idle": "2022-05-28T12:24:27.311028Z",
     "shell.execute_reply": "2022-05-28T12:24:27.310550Z",
     "shell.execute_reply.started": "2022-05-28T12:24:19.917740Z"
    },
    "tags": []
   },
   "outputs": [
    {
     "data": {
      "application/vnd.jupyter.widget-view+json": {
       "model_id": "6db9bb035ac2440caacfdfe660a1970a",
       "version_major": 2,
       "version_minor": 0
      },
      "text/plain": [
       "VBox()"
      ]
     },
     "metadata": {},
     "output_type": "display_data"
    },
    {
     "data": {
      "application/vnd.jupyter.widget-view+json": {
       "model_id": "",
       "version_major": 2,
       "version_minor": 0
      },
      "text/plain": [
       "FloatProgress(value=0.0, bar_style='info', description='Progress:', layout=Layout(height='25px', width='50%'),…"
      ]
     },
     "metadata": {},
     "output_type": "display_data"
    }
   ],
   "source": [
    "df_demographic=spark.read.option(\"header\",True).csv(\"s3://pas-biogen-sagemaker/nlp/uh/onetime-historical/04-27-2021/demographics.csv\")"
   ]
  },
  {
   "cell_type": "code",
   "execution_count": 3,
   "id": "42030eb4-d23a-49a9-9d33-42e73d407f5d",
   "metadata": {
    "execution": {
     "iopub.execute_input": "2022-05-28T12:24:33.366108Z",
     "iopub.status.busy": "2022-05-28T12:24:33.365890Z",
     "iopub.status.idle": "2022-05-28T12:24:36.645840Z",
     "shell.execute_reply": "2022-05-28T12:24:36.645327Z",
     "shell.execute_reply.started": "2022-05-28T12:24:33.366083Z"
    },
    "tags": []
   },
   "outputs": [
    {
     "data": {
      "application/vnd.jupyter.widget-view+json": {
       "model_id": "9772990eb2cf4aa7819374fc3a4d0813",
       "version_major": 2,
       "version_minor": 0
      },
      "text/plain": [
       "VBox()"
      ]
     },
     "metadata": {},
     "output_type": "display_data"
    },
    {
     "data": {
      "application/vnd.jupyter.widget-view+json": {
       "model_id": "",
       "version_major": 2,
       "version_minor": 0
      },
      "text/plain": [
       "FloatProgress(value=0.0, bar_style='info', description='Progress:', layout=Layout(height='25px', width='50%'),…"
      ]
     },
     "metadata": {},
     "output_type": "display_data"
    },
    {
     "name": "stdout",
     "output_type": "stream",
     "text": [
      "310824\n",
      "['patient_key', 'pat_last_name', 'pat_first_name', 'pat_mrn', 'pat_dob', 'pat_gender', 'pat_race', 'pat_ethinicity', 'pat_city', 'pat_zip', 'pat_county', 'pat_state', 'pat_country', 'pat_marital_status', 'pat_smoking_status', 'pat_status']"
     ]
    }
   ],
   "source": [
    "### Remove duplicate values\n",
    "print(df_demographic.count())\n",
    "df_demographic = df_demographic.dropDuplicates(['patient_key'])\n",
    "print(df_demographic.columns)"
   ]
  },
  {
   "cell_type": "markdown",
   "id": "c2cff57b-fd03-4fc7-9c14-56b14ac37a50",
   "metadata": {},
   "source": [
    "#### Anchor Features"
   ]
  },
  {
   "cell_type": "code",
   "execution_count": 4,
   "id": "a8d32675-baf6-495d-864e-9994a3525378",
   "metadata": {
    "execution": {
     "iopub.execute_input": "2022-05-28T12:24:45.971920Z",
     "iopub.status.busy": "2022-05-28T12:24:45.971687Z",
     "iopub.status.idle": "2022-05-28T12:24:46.734143Z",
     "shell.execute_reply": "2022-05-28T12:24:46.733625Z",
     "shell.execute_reply.started": "2022-05-28T12:24:45.971895Z"
    },
    "tags": []
   },
   "outputs": [
    {
     "data": {
      "application/vnd.jupyter.widget-view+json": {
       "model_id": "2942efcb58954cd79f3291000e9eb4f1",
       "version_major": 2,
       "version_minor": 0
      },
      "text/plain": [
       "VBox()"
      ]
     },
     "metadata": {},
     "output_type": "display_data"
    },
    {
     "data": {
      "application/vnd.jupyter.widget-view+json": {
       "model_id": "",
       "version_major": 2,
       "version_minor": 0
      },
      "text/plain": [
       "FloatProgress(value=0.0, bar_style='info', description='Progress:', layout=Layout(height='25px', width='50%'),…"
      ]
     },
     "metadata": {},
     "output_type": "display_data"
    }
   ],
   "source": [
    "df_anchor=spark.read.option(\"header\",True).csv(\"s3://pas-biogen-sagemaker/nlp/Anchor_roll_up_new.csv\")"
   ]
  },
  {
   "cell_type": "code",
   "execution_count": 16,
   "id": "59db3175-bd19-46e9-95c6-b2f467030160",
   "metadata": {
    "execution": {
     "iopub.execute_input": "2022-05-28T12:29:35.224500Z",
     "iopub.status.busy": "2022-05-28T12:29:35.224280Z",
     "iopub.status.idle": "2022-05-28T12:29:35.266905Z",
     "shell.execute_reply": "2022-05-28T12:29:35.266405Z",
     "shell.execute_reply.started": "2022-05-28T12:29:35.224476Z"
    },
    "tags": []
   },
   "outputs": [
    {
     "data": {
      "application/vnd.jupyter.widget-view+json": {
       "model_id": "47979a96f1c24d70a61d4e60892ce745",
       "version_major": 2,
       "version_minor": 0
      },
      "text/plain": [
       "VBox()"
      ]
     },
     "metadata": {},
     "output_type": "display_data"
    },
    {
     "data": {
      "application/vnd.jupyter.widget-view+json": {
       "model_id": "",
       "version_major": 2,
       "version_minor": 0
      },
      "text/plain": [
       "FloatProgress(value=0.0, bar_style='info', description='Progress:', layout=Layout(height='25px', width='50%'),…"
      ]
     },
     "metadata": {},
     "output_type": "display_data"
    },
    {
     "name": "stdout",
     "output_type": "stream",
     "text": [
      "['Thought_Disturbance', 'Abnormal_Behavior', 'Suicidal_Intent', 'Disorientated', 'Mental_Health_Impairment', 'Memory_Loss', 'Clouded_Consciousness', 'Agitation', 'Congnitive_Impairment']"
     ]
    }
   ],
   "source": [
    "df_anchor = df_anchor.drop('Anchors')\n",
    "df_anchor.columns"
   ]
  },
  {
   "cell_type": "code",
   "execution_count": 17,
   "id": "a807d86d-6bb4-4571-b243-e29749878c27",
   "metadata": {
    "execution": {
     "iopub.execute_input": "2022-05-28T12:29:36.187762Z",
     "iopub.status.busy": "2022-05-28T12:29:36.187548Z",
     "iopub.status.idle": "2022-05-28T12:29:36.236985Z",
     "shell.execute_reply": "2022-05-28T12:29:36.236504Z",
     "shell.execute_reply.started": "2022-05-28T12:29:36.187738Z"
    },
    "tags": []
   },
   "outputs": [
    {
     "data": {
      "application/vnd.jupyter.widget-view+json": {
       "model_id": "374b370532d043ca9145adf53ed3508e",
       "version_major": 2,
       "version_minor": 0
      },
      "text/plain": [
       "VBox()"
      ]
     },
     "metadata": {},
     "output_type": "display_data"
    },
    {
     "data": {
      "application/vnd.jupyter.widget-view+json": {
       "model_id": "",
       "version_major": 2,
       "version_minor": 0
      },
      "text/plain": [
       "FloatProgress(value=0.0, bar_style='info', description='Progress:', layout=Layout(height='25px', width='50%'),…"
      ]
     },
     "metadata": {},
     "output_type": "display_data"
    },
    {
     "name": "stderr",
     "output_type": "stream",
     "text": [
      "An error was encountered:\n",
      "Pandas >= 0.19.2 must be installed; however, it was not found.\n",
      "Traceback (most recent call last):\n",
      "  File \"/usr/lib/spark/python/lib/pyspark.zip/pyspark/sql/dataframe.py\", line 2086, in toPandas\n",
      "    require_minimum_pandas_version()\n",
      "  File \"/usr/lib/spark/python/lib/pyspark.zip/pyspark/sql/utils.py\", line 129, in require_minimum_pandas_version\n",
      "    \"it was not found.\" % minimum_pandas_version)\n",
      "ImportError: Pandas >= 0.19.2 must be installed; however, it was not found.\n",
      "\n"
     ]
    }
   ],
   "source": [
    "lst_Thought_Disturbance = list(df_anchor.select('Thought_Disturbance').toPandas()['Thought_Disturbance'])\n",
    "lst_Abnormal_Behavior = list(df_anchor.select('Abnormal_Behavior').toPandas()['Abnormal_Behavior'])\n",
    "lst_Suicidal_Intent = list(df_anchor.select('Suicidal_Intent').toPandas()['Suicidal_Intent'])\n",
    "lst_Disorientated = list(df_anchor.select('Disorientated').toPandas()['Disorientated'])\n",
    "lst_Mental_Health_Impairment = list(df_anchor.select('Mental_Health_Impairment').toPandas()['Mental_Health_Impairment'])\n",
    "lst_Memory_Loss = list(df_anchor.select('Memory_Loss').toPandas()['Memory_Loss'])\n",
    "lst_Clouded_Consciousness = list(df_anchor.select('Clouded_Consciousness').toPandas()['Clouded_Consciousness'])\n",
    "lst_Agitation = list(df_anchor.select('Agitation').toPandas()['Agitation'])\n",
    "lst_Congnitive_Impairment = list(df_anchor.select('Congnitive_Impairment').toPandas()['Congnitive_Impairment'])"
   ]
  },
  {
   "cell_type": "code",
   "execution_count": 10,
   "id": "50fed27f-a5a1-45e0-a879-189bc288beb2",
   "metadata": {
    "execution": {
     "iopub.execute_input": "2022-05-28T12:29:00.605804Z",
     "iopub.status.busy": "2022-05-28T12:29:00.605642Z",
     "iopub.status.idle": "2022-05-28T12:29:00.657986Z",
     "shell.execute_reply": "2022-05-28T12:29:00.657500Z",
     "shell.execute_reply.started": "2022-05-28T12:29:00.605784Z"
    },
    "tags": []
   },
   "outputs": [
    {
     "data": {
      "application/vnd.jupyter.widget-view+json": {
       "model_id": "03ab5345597d4836b1f2b9ff0aec24cd",
       "version_major": 2,
       "version_minor": 0
      },
      "text/plain": [
       "VBox()"
      ]
     },
     "metadata": {},
     "output_type": "display_data"
    },
    {
     "data": {
      "application/vnd.jupyter.widget-view+json": {
       "model_id": "",
       "version_major": 2,
       "version_minor": 0
      },
      "text/plain": [
       "FloatProgress(value=0.0, bar_style='info', description='Progress:', layout=Layout(height='25px', width='50%'),…"
      ]
     },
     "metadata": {},
     "output_type": "display_data"
    }
   ],
   "source": [
    "# List of CUI, ICD10, Snomed for Alzheimer Disease\n",
    "lst_cui = ['C0002395',\n",
    " 'C0236640',\n",
    " 'C0236644',\n",
    " 'C0236645',\n",
    " 'C0236646',\n",
    " 'C0236647',\n",
    " 'C0236648',\n",
    " 'C0236649',\n",
    " 'C0333736',\n",
    " 'C0338445',\n",
    " 'C0338446',\n",
    " 'C0338449',\n",
    " 'C0338450',\n",
    " 'C0338458',\n",
    " 'C0338459',\n",
    " 'C0349078',\n",
    " 'C0424954',\n",
    " 'C0450989',\n",
    " 'C0477364',\n",
    " 'C0494463',\n",
    " 'C0750901',\n",
    " 'C1271045',\n",
    " 'C1863051',\n",
    " 'C3241944',\n",
    " 'C3494731',\n",
    " 'C3662845',\n",
    " 'C3665464',\n",
    " 'C3697680',\n",
    " 'C3697863',\n",
    " 'C3697898',\n",
    " 'C3698264',\n",
    " 'C3698286',\n",
    " 'C3698287',\n",
    " 'C4075209',\n",
    " 'C4075348',\n",
    " 'C4273575',\n",
    " 'C4302404',\n",
    " 'C4303482',\n",
    " 'C4518848',\n",
    " 'C0085400',\n",
    " 'C0752347',\n",
    " 'C2316550',\n",
    " 'C2316551',\n",
    " 'C3532942']\n",
    "\n",
    "lst_icd10 = ['G30',\n",
    " 'G30.9',\n",
    " 'F00.2',\n",
    " 'G30.8',\n",
    " 'G30.1',\n",
    " 'F00.1',\n",
    " 'G30.0',\n",
    " 'F00.0',\n",
    " 'F00',\n",
    " 'F00.9']\n",
    "\n",
    "lst_snomed = ['26929004',\n",
    " '66108005',\n",
    " '65096006',\n",
    " '54502004',\n",
    " '10532003',\n",
    " '55009008',\n",
    " '26852004',\n",
    " '4817008',\n",
    " '29209006',\n",
    " '230265002',\n",
    " '230266001',\n",
    " '230268000',\n",
    " '230269008',\n",
    " '230279005',\n",
    " '230280008',\n",
    " '161108005',\n",
    " '273269001',\n",
    " '416975007',\n",
    " '416780008',\n",
    " '394877006',\n",
    " '230267005',\n",
    " '6475002',\n",
    " '429161000124103',\n",
    " '1581000119101',\n",
    " '105421000119105',\n",
    " '698955006',\n",
    " '698954005',\n",
    " '97751000119108',\n",
    " '142001000119106',\n",
    " '141991000119109',\n",
    " '714359006',\n",
    " '714360001',\n",
    " '142011000119109',\n",
    " '722600006',\n",
    " '721219005',\n",
    " '16219201000119101',\n",
    " '85775002',\n",
    " '80098002',\n",
    " '431531007',\n",
    " '432954006',\n",
    " '79341000119107']"
   ]
  },
  {
   "cell_type": "code",
   "execution_count": 11,
   "id": "e1bc87a5-4a39-4097-a27e-7fae87747274",
   "metadata": {
    "execution": {
     "iopub.execute_input": "2022-05-28T12:29:00.659093Z",
     "iopub.status.busy": "2022-05-28T12:29:00.658933Z",
     "iopub.status.idle": "2022-05-28T12:29:00.910700Z",
     "shell.execute_reply": "2022-05-28T12:29:00.910040Z",
     "shell.execute_reply.started": "2022-05-28T12:29:00.659072Z"
    },
    "tags": []
   },
   "outputs": [
    {
     "data": {
      "application/vnd.jupyter.widget-view+json": {
       "model_id": "b0ed9eb1d47043bfac48033a7c4cb75d",
       "version_major": 2,
       "version_minor": 0
      },
      "text/plain": [
       "VBox()"
      ]
     },
     "metadata": {},
     "output_type": "display_data"
    },
    {
     "data": {
      "application/vnd.jupyter.widget-view+json": {
       "model_id": "",
       "version_major": 2,
       "version_minor": 0
      },
      "text/plain": [
       "FloatProgress(value=0.0, bar_style='info', description='Progress:', layout=Layout(height='25px', width='50%'),…"
      ]
     },
     "metadata": {},
     "output_type": "display_data"
    }
   ],
   "source": [
    "# ALzheimer CUI, ICD10 and SNOMED\n",
    "columns = ['lst_cui']\n",
    "df_lst_cui = spark.createDataFrame(zip(lst_cui), columns)\n",
    "columns = ['lst_icd10']\n",
    "df_lst_icd10 = spark.createDataFrame(zip(lst_icd10), columns)\n",
    "columns = ['lst_snomed']\n",
    "df_lst_snomed = spark.createDataFrame(zip(lst_snomed), columns)"
   ]
  },
  {
   "cell_type": "code",
   "execution_count": 12,
   "id": "d47e6c3a-14e9-4534-bbb9-144b4a73ff39",
   "metadata": {
    "execution": {
     "iopub.execute_input": "2022-05-28T12:29:00.911805Z",
     "iopub.status.busy": "2022-05-28T12:29:00.911643Z",
     "iopub.status.idle": "2022-05-28T12:29:20.237134Z",
     "shell.execute_reply": "2022-05-28T12:29:20.236648Z",
     "shell.execute_reply.started": "2022-05-28T12:29:00.911784Z"
    },
    "tags": []
   },
   "outputs": [
    {
     "data": {
      "application/vnd.jupyter.widget-view+json": {
       "model_id": "e4a9d77cff454979b96a8d79764c7de6",
       "version_major": 2,
       "version_minor": 0
      },
      "text/plain": [
       "VBox()"
      ]
     },
     "metadata": {},
     "output_type": "display_data"
    },
    {
     "data": {
      "application/vnd.jupyter.widget-view+json": {
       "model_id": "",
       "version_major": 2,
       "version_minor": 0
      },
      "text/plain": [
       "FloatProgress(value=0.0, bar_style='info', description='Progress:', layout=Layout(height='25px', width='50%'),…"
      ]
     },
     "metadata": {},
     "output_type": "display_data"
    },
    {
     "name": "stdout",
     "output_type": "stream",
     "text": [
      "+--------+\n",
      "| lst_cui|\n",
      "+--------+\n",
      "|C0002395|\n",
      "|C0236640|\n",
      "|C0236644|\n",
      "|C0236645|\n",
      "|C0236646|\n",
      "+--------+\n",
      "only showing top 5 rows"
     ]
    }
   ],
   "source": [
    "df_lst_cui.show(5)"
   ]
  },
  {
   "cell_type": "code",
   "execution_count": 13,
   "id": "8b2dda71-8338-4a05-8160-65c99504658d",
   "metadata": {
    "execution": {
     "iopub.execute_input": "2022-05-28T12:29:20.238056Z",
     "iopub.status.busy": "2022-05-28T12:29:20.237897Z",
     "iopub.status.idle": "2022-05-28T12:29:20.988849Z",
     "shell.execute_reply": "2022-05-28T12:29:20.988371Z",
     "shell.execute_reply.started": "2022-05-28T12:29:20.238035Z"
    },
    "tags": []
   },
   "outputs": [
    {
     "data": {
      "application/vnd.jupyter.widget-view+json": {
       "model_id": "4f9359a54268458f8ac04df03eef1475",
       "version_major": 2,
       "version_minor": 0
      },
      "text/plain": [
       "VBox()"
      ]
     },
     "metadata": {},
     "output_type": "display_data"
    },
    {
     "data": {
      "application/vnd.jupyter.widget-view+json": {
       "model_id": "",
       "version_major": 2,
       "version_minor": 0
      },
      "text/plain": [
       "FloatProgress(value=0.0, bar_style='info', description='Progress:', layout=Layout(height='25px', width='50%'),…"
      ]
     },
     "metadata": {},
     "output_type": "display_data"
    }
   ],
   "source": [
    "import boto3\n",
    "#s3://pas-biogen-sagemaker/Antony/Preprocessing/Ongoing/\n",
    "s3 = boto3.resource('s3')\n",
    "my_bucket = s3.Bucket('pas-biogen-sagemaker')\n",
    "chunks=[]\n",
    "for object_summary in my_bucket.objects.filter(Prefix=\"nlp/uh/onetime-historical/04-27-2021/raw_notes/results_UMLS/CSV/\"):\n",
    "    if '.parquet' in str(object_summary.key):\n",
    "        chunks.append(object_summary.key)  \n"
   ]
  },
  {
   "cell_type": "code",
   "execution_count": 14,
   "id": "84ed1073-8b31-45f8-bf6c-dc07b812b14f",
   "metadata": {
    "execution": {
     "iopub.execute_input": "2022-05-28T12:29:20.989786Z",
     "iopub.status.busy": "2022-05-28T12:29:20.989628Z",
     "iopub.status.idle": "2022-05-28T12:29:21.030365Z",
     "shell.execute_reply": "2022-05-28T12:29:21.029895Z",
     "shell.execute_reply.started": "2022-05-28T12:29:20.989766Z"
    },
    "tags": []
   },
   "outputs": [
    {
     "data": {
      "application/vnd.jupyter.widget-view+json": {
       "model_id": "9c553c34b349452da1047ae16f83ce3e",
       "version_major": 2,
       "version_minor": 0
      },
      "text/plain": [
       "VBox()"
      ]
     },
     "metadata": {},
     "output_type": "display_data"
    },
    {
     "data": {
      "application/vnd.jupyter.widget-view+json": {
       "model_id": "",
       "version_major": 2,
       "version_minor": 0
      },
      "text/plain": [
       "FloatProgress(value=0.0, bar_style='info', description='Progress:', layout=Layout(height='25px', width='50%'),…"
      ]
     },
     "metadata": {},
     "output_type": "display_data"
    },
    {
     "name": "stdout",
     "output_type": "stream",
     "text": [
      "11"
     ]
    }
   ],
   "source": [
    "len(chunks)"
   ]
  },
  {
   "cell_type": "code",
   "execution_count": 15,
   "id": "fd1f0857-f784-41ed-8ad7-7cf52ad6653e",
   "metadata": {
    "execution": {
     "iopub.execute_input": "2022-05-28T12:29:21.031662Z",
     "iopub.status.busy": "2022-05-28T12:29:21.031502Z",
     "iopub.status.idle": "2022-05-28T12:29:21.072905Z",
     "shell.execute_reply": "2022-05-28T12:29:21.072452Z",
     "shell.execute_reply.started": "2022-05-28T12:29:21.031641Z"
    },
    "tags": []
   },
   "outputs": [
    {
     "data": {
      "application/vnd.jupyter.widget-view+json": {
       "model_id": "c0065f3f6f984893b364088058c34ac6",
       "version_major": 2,
       "version_minor": 0
      },
      "text/plain": [
       "VBox()"
      ]
     },
     "metadata": {},
     "output_type": "display_data"
    },
    {
     "data": {
      "application/vnd.jupyter.widget-view+json": {
       "model_id": "",
       "version_major": 2,
       "version_minor": 0
      },
      "text/plain": [
       "FloatProgress(value=0.0, bar_style='info', description='Progress:', layout=Layout(height='25px', width='50%'),…"
      ]
     },
     "metadata": {},
     "output_type": "display_data"
    },
    {
     "name": "stderr",
     "output_type": "stream",
     "text": [
      "An error was encountered:\n",
      "No module named 's3fs'\n",
      "Traceback (most recent call last):\n",
      "ModuleNotFoundError: No module named 's3fs'\n",
      "\n"
     ]
    }
   ],
   "source": [
    "import s3fs\n",
    "import pandas as pd\n",
    "import time\n",
    "from pyspark.sql.functions import arrays_overlap, array\n",
    "from pyspark.sql import udf,DataFrame\n",
    "import pyspark.sql.functions as F\n",
    "import functools\n",
    "import sys"
   ]
  },
  {
   "cell_type": "code",
   "execution_count": 51,
   "id": "4184c88a-8ea8-46a8-a95e-0352951ad7c5",
   "metadata": {
    "execution": {
     "iopub.execute_input": "2022-05-28T07:55:16.762891Z",
     "iopub.status.busy": "2022-05-28T07:55:16.762655Z",
     "iopub.status.idle": "2022-05-28T07:55:16.809236Z",
     "shell.execute_reply": "2022-05-28T07:55:16.808737Z",
     "shell.execute_reply.started": "2022-05-28T07:55:16.762865Z"
    },
    "tags": []
   },
   "outputs": [
    {
     "data": {
      "application/vnd.jupyter.widget-view+json": {
       "model_id": "878abef720ef49b18909c106f9a73d38",
       "version_major": 2,
       "version_minor": 0
      },
      "text/plain": [
       "VBox()"
      ]
     },
     "metadata": {},
     "output_type": "display_data"
    },
    {
     "data": {
      "application/vnd.jupyter.widget-view+json": {
       "model_id": "",
       "version_major": 2,
       "version_minor": 0
      },
      "text/plain": [
       "FloatProgress(value=0.0, bar_style='info', description='Progress:', layout=Layout(height='25px', width='50%'),…"
      ]
     },
     "metadata": {},
     "output_type": "display_data"
    }
   ],
   "source": [
    "def my_print(text):\n",
    "    sys.stdout.write(str(text))\n",
    "    sys.stdout.flush()"
   ]
  },
  {
   "cell_type": "code",
   "execution_count": 58,
   "id": "969b13dd-1a59-47b5-b07e-a72a93987d4b",
   "metadata": {
    "execution": {
     "iopub.execute_input": "2022-05-28T08:10:32.341865Z",
     "iopub.status.busy": "2022-05-28T08:10:32.341642Z",
     "iopub.status.idle": "2022-05-28T09:22:35.480204Z",
     "shell.execute_reply": "2022-05-28T09:22:35.479694Z",
     "shell.execute_reply.started": "2022-05-28T08:10:32.341842Z"
    },
    "scrolled": true,
    "tags": []
   },
   "outputs": [
    {
     "data": {
      "application/vnd.jupyter.widget-view+json": {
       "model_id": "7ab053e025544929a730fad167e5380e",
       "version_major": 2,
       "version_minor": 0
      },
      "text/plain": [
       "VBox()"
      ]
     },
     "metadata": {},
     "output_type": "display_data"
    },
    {
     "data": {
      "application/vnd.jupyter.widget-view+json": {
       "model_id": "",
       "version_major": 2,
       "version_minor": 0
      },
      "text/plain": [
       "FloatProgress(value=0.0, bar_style='info', description='Progress:', layout=Layout(height='25px', width='50%'),…"
      ]
     },
     "metadata": {},
     "output_type": "display_data"
    }
   ],
   "source": [
    "s3 = s3fs.S3FileSystem(anon=False)\n",
    "count = 0\n",
    "output_dfs = []\n",
    "\n",
    "for chunk in chunks:\n",
    "    start_time = time.time()\n",
    "    count += 1\n",
    "    df_final = spark.read.parquet('s3://pas-biogen-sagemaker/'+ chunk)\n",
    "    \n",
    "    #text = 'Size of Data '+ str(count) + ' - '+ str(df_final.count())\n",
    "    #my_print(text)\n",
    "    \n",
    "    df_final =df_final.withColumnRenamed('Concept_ID','UMLS_CUI')\n",
    "\n",
    "    df_anchor2 = df_anchor.withColumn('UMLS_CUI',df_anchor['Thought_Disturbance'])\n",
    "    df_anchor2 = df_anchor2[['UMLS_CUI']]\n",
    "    df_final = df_final.join(df_anchor2.withColumn('Thought_Disturbance', F.lit(True)), 'UMLS_CUI', 'left').fillna(False)\n",
    "\n",
    "    df_anchor2 = df_anchor.withColumn('UMLS_CUI',df_anchor['Abnormal_Behavior'])\n",
    "    df_anchor2 = df_anchor2[['UMLS_CUI']]\n",
    "    df_final = df_final.join(df_anchor2.withColumn('Abnormal_Behavior', F.lit(True)), 'UMLS_CUI', 'left').fillna(False)\n",
    "\n",
    "    df_anchor2 = df_anchor.withColumn('UMLS_CUI',df_anchor['Suicidal_Intent'])\n",
    "    df_anchor2 = df_anchor2[['UMLS_CUI']]\n",
    "    df_final = df_final.join(df_anchor2.withColumn('Suicidal_Intent', F.lit(True)), 'UMLS_CUI', 'left').fillna(False)\n",
    "\n",
    "    df_anchor2 = df_anchor.withColumn('UMLS_CUI',df_anchor['Disorientated'])\n",
    "    df_anchor2 = df_anchor2[['UMLS_CUI']]\n",
    "    df_final = df_final.join(df_anchor2.withColumn('Disorientated', F.lit(True)), 'UMLS_CUI', 'left').fillna(False)\n",
    "\n",
    "    df_anchor2 = df_anchor.withColumn('UMLS_CUI',df_anchor['Mental_Health_Impairment'])\n",
    "    df_anchor2 = df_anchor2[['UMLS_CUI']]\n",
    "    df_final = df_final.join(df_anchor2.withColumn('Mental_Health_Impairment', F.lit(True)), 'UMLS_CUI', 'left').fillna(False)\n",
    "\n",
    "    df_anchor2 = df_anchor.withColumn('UMLS_CUI',df_anchor['Memory_Loss'])\n",
    "    df_anchor2 = df_anchor2[['UMLS_CUI']]\n",
    "    df_final = df_final.join(df_anchor2.withColumn('Memory_Loss', F.lit(True)), 'UMLS_CUI', 'left').fillna(False)\n",
    "\n",
    "    df_anchor2 = df_anchor.withColumn('UMLS_CUI',df_anchor['Clouded_Consciousness'])\n",
    "    df_anchor2 = df_anchor2[['UMLS_CUI']]\n",
    "    df_final = df_final.join(df_anchor2.withColumn('Clouded_Consciousness', F.lit(True)), 'UMLS_CUI', 'left').fillna(False)\n",
    "\n",
    "    df_anchor2 = df_anchor.withColumn('UMLS_CUI',df_anchor['Agitation'])\n",
    "    df_anchor2 = df_anchor2[['UMLS_CUI']]\n",
    "    df_final = df_final.join(df_anchor2.withColumn('Agitation', F.lit(True)), 'UMLS_CUI', 'left').fillna(False)\n",
    "\n",
    "    df_anchor2 = df_anchor.withColumn('UMLS_CUI',df_anchor['Congnitive_Impairment'])\n",
    "    df_anchor2 = df_anchor2[['UMLS_CUI']]\n",
    "    df_final = df_final.join(df_anchor2.withColumn('Congnitive_Impairment', F.lit(True)), 'UMLS_CUI', 'left').fillna(False)\n",
    "\n",
    "    df_anchor2 = df_lst_cui.withColumn('UMLS_CUI',df_lst_cui['lst_cui'])\n",
    "    df_anchor2 = df_anchor2[['UMLS_CUI']]\n",
    "    df_final = df_final.join(df_anchor2.withColumn('Alzheimer', F.lit(True)), 'UMLS_CUI', 'left').fillna(False)\n",
    "\n",
    "    output_dfs.append(df_final)\n",
    "    df_final2 = functools.reduce(DataFrame.union, output_dfs)\n",
    "    \n",
    "    df_final2 = df_final2.withColumn(\"patient_key\",df_final2.patient_key.cast('int'))\n",
    "    df_demographic = df_demographic.withColumn(\"patient_key\",df_demographic.patient_key.cast('int'))\n",
    "    \n",
    "    df_final3 = df_final2.join(df_demographic,['patient_key'],how='inner')  \n",
    "    df_final3 = df_final3.dropDuplicates()\n",
    "\n",
    "df_final3.coalesce(1).write.parquet(\"s3://pas-biogen-sagemaker/Antony/Ongoing_Output/2021_historical\")\n",
    "\n",
    "#time_taken = ((time.time() - start_time) / 60)\n",
    "#text = str(count) + \"- \" + \"Time Taken - \" + str(time_taken) + \" min\"\n",
    "#my_print(text)"
   ]
  },
  {
   "cell_type": "code",
   "execution_count": 56,
   "id": "fcfc805f-f8f9-4ee0-8f86-baaa7f60ff18",
   "metadata": {
    "execution": {
     "iopub.execute_input": "2022-05-28T08:07:18.287787Z",
     "iopub.status.busy": "2022-05-28T08:07:18.287555Z",
     "iopub.status.idle": "2022-05-28T08:07:43.614593Z",
     "shell.execute_reply": "2022-05-28T08:07:43.614046Z",
     "shell.execute_reply.started": "2022-05-28T08:07:18.287762Z"
    },
    "tags": []
   },
   "outputs": [
    {
     "data": {
      "application/vnd.jupyter.widget-view+json": {
       "model_id": "2462e4465ad7490787d9adaf3927b6ba",
       "version_major": 2,
       "version_minor": 0
      },
      "text/plain": [
       "VBox()"
      ]
     },
     "metadata": {},
     "output_type": "display_data"
    },
    {
     "data": {
      "application/vnd.jupyter.widget-view+json": {
       "model_id": "",
       "version_major": 2,
       "version_minor": 0
      },
      "text/plain": [
       "FloatProgress(value=0.0, bar_style='info', description='Progress:', layout=Layout(height='25px', width='50%'),…"
      ]
     },
     "metadata": {},
     "output_type": "display_data"
    },
    {
     "name": "stdout",
     "output_type": "stream",
     "text": [
      "Size of Data 1 - 31540279"
     ]
    }
   ],
   "source": [
    "time_taken = ((time.time() - start_time) / 60)\n",
    "text = 'Size of Data '+ str(count) + ' - '+ str(df_final.count())\n",
    "my_print(text)"
   ]
  },
  {
   "cell_type": "code",
   "execution_count": 36,
   "id": "096112b3-2d3b-4713-b2a2-e486b81f87dd",
   "metadata": {
    "execution": {
     "iopub.execute_input": "2022-05-28T07:31:17.168575Z",
     "iopub.status.busy": "2022-05-28T07:31:17.168335Z",
     "iopub.status.idle": "2022-05-28T07:31:17.214485Z",
     "shell.execute_reply": "2022-05-28T07:31:17.213978Z",
     "shell.execute_reply.started": "2022-05-28T07:31:17.168550Z"
    },
    "tags": []
   },
   "outputs": [
    {
     "data": {
      "application/vnd.jupyter.widget-view+json": {
       "model_id": "56019c2bd9e64bd78ccf50c05aee05cd",
       "version_major": 2,
       "version_minor": 0
      },
      "text/plain": [
       "VBox()"
      ]
     },
     "metadata": {},
     "output_type": "display_data"
    },
    {
     "data": {
      "application/vnd.jupyter.widget-view+json": {
       "model_id": "",
       "version_major": 2,
       "version_minor": 0
      },
      "text/plain": [
       "FloatProgress(value=0.0, bar_style='info', description='Progress:', layout=Layout(height='25px', width='50%'),…"
      ]
     },
     "metadata": {},
     "output_type": "display_data"
    }
   ],
   "source": [
    "df_final2 = df_final2.withColumn(\"patient_key\",df_final2.patient_key.cast('int'))\n",
    "df_demographic = df_demographic.withColumn(\"patient_key\",df_demographic.patient_key.cast('int'))"
   ]
  },
  {
   "cell_type": "code",
   "execution_count": 37,
   "id": "7f3e22fc-c99c-49b8-ab67-3a492436ee48",
   "metadata": {
    "execution": {
     "iopub.execute_input": "2022-05-28T07:31:18.902175Z",
     "iopub.status.busy": "2022-05-28T07:31:18.901953Z",
     "iopub.status.idle": "2022-05-28T07:31:18.948118Z",
     "shell.execute_reply": "2022-05-28T07:31:18.947629Z",
     "shell.execute_reply.started": "2022-05-28T07:31:18.902150Z"
    },
    "tags": []
   },
   "outputs": [
    {
     "data": {
      "application/vnd.jupyter.widget-view+json": {
       "model_id": "456dedf496d24f4d80ba0a370c16aeed",
       "version_major": 2,
       "version_minor": 0
      },
      "text/plain": [
       "VBox()"
      ]
     },
     "metadata": {},
     "output_type": "display_data"
    },
    {
     "data": {
      "application/vnd.jupyter.widget-view+json": {
       "model_id": "",
       "version_major": 2,
       "version_minor": 0
      },
      "text/plain": [
       "FloatProgress(value=0.0, bar_style='info', description='Progress:', layout=Layout(height='25px', width='50%'),…"
      ]
     },
     "metadata": {},
     "output_type": "display_data"
    },
    {
     "name": "stdout",
     "output_type": "stream",
     "text": [
      "root\n",
      " |-- patient_key: integer (nullable = true)\n",
      " |-- pat_last_name: string (nullable = true)\n",
      " |-- pat_first_name: string (nullable = true)\n",
      " |-- pat_mrn: string (nullable = true)\n",
      " |-- pat_dob: string (nullable = true)\n",
      " |-- pat_gender: string (nullable = true)\n",
      " |-- pat_race: string (nullable = true)\n",
      " |-- pat_ethinicity: string (nullable = true)\n",
      " |-- pat_city: string (nullable = true)\n",
      " |-- pat_zip: string (nullable = true)\n",
      " |-- pat_county: string (nullable = true)\n",
      " |-- pat_state: string (nullable = true)\n",
      " |-- pat_country: string (nullable = true)\n",
      " |-- pat_marital_status: string (nullable = true)\n",
      " |-- pat_smoking_status: string (nullable = true)\n",
      " |-- pat_status: string (nullable = true)"
     ]
    }
   ],
   "source": [
    "df_demographic.printSchema()"
   ]
  },
  {
   "cell_type": "code",
   "execution_count": 35,
   "id": "3b92ef14-8c04-41a6-bff6-7fbe6f59ebe7",
   "metadata": {
    "execution": {
     "iopub.execute_input": "2022-05-28T07:30:55.434535Z",
     "iopub.status.busy": "2022-05-28T07:30:55.434256Z",
     "iopub.status.idle": "2022-05-28T07:30:55.479729Z",
     "shell.execute_reply": "2022-05-28T07:30:55.479231Z",
     "shell.execute_reply.started": "2022-05-28T07:30:55.434507Z"
    },
    "tags": []
   },
   "outputs": [
    {
     "data": {
      "application/vnd.jupyter.widget-view+json": {
       "model_id": "445d109f1ae14e64861bb386939f981e",
       "version_major": 2,
       "version_minor": 0
      },
      "text/plain": [
       "VBox()"
      ]
     },
     "metadata": {},
     "output_type": "display_data"
    },
    {
     "data": {
      "application/vnd.jupyter.widget-view+json": {
       "model_id": "",
       "version_major": 2,
       "version_minor": 0
      },
      "text/plain": [
       "FloatProgress(value=0.0, bar_style='info', description='Progress:', layout=Layout(height='25px', width='50%'),…"
      ]
     },
     "metadata": {},
     "output_type": "display_data"
    },
    {
     "name": "stdout",
     "output_type": "stream",
     "text": [
      "root\n",
      " |-- UMLS_CUI: string (nullable = true)\n",
      " |-- patient_key: integer (nullable = true)\n",
      " |-- provider_id: string (nullable = true)\n",
      " |-- facility_id: string (nullable = true)\n",
      " |-- text: string (nullable = true)\n",
      " |-- label: string (nullable = true)\n",
      " |-- negex: boolean (nullable = false)\n",
      " |-- span: string (nullable = true)\n",
      " |-- UMLS_Name: string (nullable = true)\n",
      " |-- TUIs: string (nullable = true)\n",
      " |-- Child_semantic_label: string (nullable = true)\n",
      " |-- Parent_semantic_label: string (nullable = true)\n",
      " |-- Similarity_Score: double (nullable = true)\n",
      " |-- Thought_Disturbance: boolean (nullable = false)\n",
      " |-- Abnormal_Behavior: boolean (nullable = false)\n",
      " |-- Suicidal_Intent: boolean (nullable = false)\n",
      " |-- Disorientated: boolean (nullable = false)\n",
      " |-- Mental_Health_Impairment: boolean (nullable = false)\n",
      " |-- Memory_Loss: boolean (nullable = false)\n",
      " |-- Clouded_Consciousness: boolean (nullable = false)\n",
      " |-- Agitation: boolean (nullable = false)\n",
      " |-- Congnitive_Impairment: boolean (nullable = false)\n",
      " |-- Alzheimer: boolean (nullable = false)"
     ]
    }
   ],
   "source": [
    "df_final2.printSchema()"
   ]
  },
  {
   "cell_type": "markdown",
   "id": "5e4b7bf3-bcce-48d7-ad31-edbf4fb25382",
   "metadata": {},
   "source": [
    "## ROugh Work"
   ]
  },
  {
   "cell_type": "code",
   "execution_count": 18,
   "id": "6911f2d4-75bb-4a56-a5c2-af17676d53ed",
   "metadata": {
    "execution": {
     "iopub.execute_input": "2022-05-27T14:41:20.317828Z",
     "iopub.status.busy": "2022-05-27T14:41:20.317669Z",
     "iopub.status.idle": "2022-05-27T14:41:45.646911Z",
     "shell.execute_reply": "2022-05-27T14:41:45.646433Z",
     "shell.execute_reply.started": "2022-05-27T14:41:20.317808Z"
    },
    "tags": []
   },
   "outputs": [
    {
     "data": {
      "application/vnd.jupyter.widget-view+json": {
       "model_id": "90881fc8293a4823acb8389dc4aae45b",
       "version_major": 2,
       "version_minor": 0
      },
      "text/plain": [
       "VBox()"
      ]
     },
     "metadata": {},
     "output_type": "display_data"
    },
    {
     "data": {
      "application/vnd.jupyter.widget-view+json": {
       "model_id": "",
       "version_major": 2,
       "version_minor": 0
      },
      "text/plain": [
       "FloatProgress(value=0.0, bar_style='info', description='Progress:', layout=Layout(height='25px', width='50%'),…"
      ]
     },
     "metadata": {},
     "output_type": "display_data"
    },
    {
     "name": "stdout",
     "output_type": "stream",
     "text": [
      "31540279"
     ]
    }
   ],
   "source": [
    "df_final.count()"
   ]
  },
  {
   "cell_type": "code",
   "execution_count": 42,
   "id": "d97b159a-f2f1-4a07-b7f0-23cfe9394cac",
   "metadata": {
    "execution": {
     "iopub.execute_input": "2022-05-28T07:50:14.072013Z",
     "iopub.status.busy": "2022-05-28T07:50:14.071786Z",
     "iopub.status.idle": "2022-05-28T07:50:14.119137Z",
     "shell.execute_reply": "2022-05-28T07:50:14.118618Z",
     "shell.execute_reply.started": "2022-05-28T07:50:14.071988Z"
    }
   },
   "outputs": [
    {
     "data": {
      "application/vnd.jupyter.widget-view+json": {
       "model_id": "11f7df21f69743bcaed242fa23aaf247",
       "version_major": 2,
       "version_minor": 0
      },
      "text/plain": [
       "VBox()"
      ]
     },
     "metadata": {},
     "output_type": "display_data"
    },
    {
     "data": {
      "application/vnd.jupyter.widget-view+json": {
       "model_id": "",
       "version_major": 2,
       "version_minor": 0
      },
      "text/plain": [
       "FloatProgress(value=0.0, bar_style='info', description='Progress:', layout=Layout(height='25px', width='50%'),…"
      ]
     },
     "metadata": {},
     "output_type": "display_data"
    }
   ],
   "source": [
    "import sys\n",
    "\n",
    "def my_print(text):\n",
    "    sys.stdout.write(str(text))\n",
    "    sys.stdout.flush()"
   ]
  },
  {
   "cell_type": "code",
   "execution_count": 43,
   "id": "505a198b-3732-4220-bd09-65c059a5f18f",
   "metadata": {
    "execution": {
     "iopub.execute_input": "2022-05-28T07:53:14.335369Z",
     "iopub.status.busy": "2022-05-28T07:53:14.335145Z",
     "iopub.status.idle": "2022-05-28T07:53:14.381546Z",
     "shell.execute_reply": "2022-05-28T07:53:14.381053Z",
     "shell.execute_reply.started": "2022-05-28T07:53:14.335344Z"
    }
   },
   "outputs": [
    {
     "data": {
      "application/vnd.jupyter.widget-view+json": {
       "model_id": "b8ff9dbe2dc74bad80ae2120f612d91c",
       "version_major": 2,
       "version_minor": 0
      },
      "text/plain": [
       "VBox()"
      ]
     },
     "metadata": {},
     "output_type": "display_data"
    },
    {
     "data": {
      "application/vnd.jupyter.widget-view+json": {
       "model_id": "",
       "version_major": 2,
       "version_minor": 0
      },
      "text/plain": [
       "FloatProgress(value=0.0, bar_style='info', description='Progress:', layout=Layout(height='25px', width='50%'),…"
      ]
     },
     "metadata": {},
     "output_type": "display_data"
    },
    {
     "name": "stdout",
     "output_type": "stream",
     "text": [
      "hello this is printed"
     ]
    }
   ],
   "source": [
    "text = \"hello this is printed\"\n",
    "my_print(text)"
   ]
  },
  {
   "cell_type": "code",
   "execution_count": 41,
   "id": "4f08abbf-d8ff-4a0d-8eb5-157d6472a334",
   "metadata": {
    "execution": {
     "iopub.execute_input": "2022-05-28T07:44:28.650002Z",
     "iopub.status.busy": "2022-05-28T07:44:28.649775Z",
     "iopub.status.idle": "2022-05-28T07:50:04.874804Z",
     "shell.execute_reply": "2022-05-28T07:50:04.874218Z",
     "shell.execute_reply.started": "2022-05-28T07:44:28.649977Z"
    }
   },
   "outputs": [
    {
     "data": {
      "application/vnd.jupyter.widget-view+json": {
       "model_id": "ff562ede9d6d4340aef4c6a8acd67b70",
       "version_major": 2,
       "version_minor": 0
      },
      "text/plain": [
       "VBox()"
      ]
     },
     "metadata": {},
     "output_type": "display_data"
    },
    {
     "data": {
      "application/vnd.jupyter.widget-view+json": {
       "model_id": "",
       "version_major": 2,
       "version_minor": 0
      },
      "text/plain": [
       "FloatProgress(value=0.0, bar_style='info', description='Progress:', layout=Layout(height='25px', width='50%'),…"
      ]
     },
     "metadata": {},
     "output_type": "display_data"
    }
   ],
   "source": [
    "df_final.coalesce(1).write.parquet(\"s3://pas-biogen-sagemaker/Antony/Ongoing_Output/2019_historical\")"
   ]
  },
  {
   "cell_type": "code",
   "execution_count": null,
   "id": "cf19420d-2d0b-471d-a0eb-b548ced97fb8",
   "metadata": {
    "tags": []
   },
   "outputs": [],
   "source": [
    "import pyspark.sql.functions as F\n",
    "\n",
    "df_anchor2 = df_anchor.withColumn('UMLS_CUI',df_anchor['Thought_Disturbance'])\n",
    "df_anchor2 = df_anchor2[['UMLS_CUI']]\n",
    "df_final = df_final.join(df_anchor2.withColumn('Thought_Disturbance', F.lit(True)), 'UMLS_CUI', 'left').fillna(False)\n",
    "\n",
    "df_anchor2 = df_anchor.withColumn('UMLS_CUI',df_anchor['Abnormal_Behavior'])\n",
    "df_anchor2 = df_anchor2[['UMLS_CUI']]\n",
    "df_final = df_final.join(df_anchor2.withColumn('Abnormal_Behavior', F.lit(True)), 'UMLS_CUI', 'left').fillna(False)\n",
    "\n",
    "df_anchor2 = df_anchor.withColumn('UMLS_CUI',df_anchor['Suicidal_Intent'])\n",
    "df_anchor2 = df_anchor2[['UMLS_CUI']]\n",
    "df_final = df_final.join(df_anchor2.withColumn('Suicidal_Intent', F.lit(True)), 'UMLS_CUI', 'left').fillna(False)\n",
    "\n",
    "df_anchor2 = df_anchor.withColumn('UMLS_CUI',df_anchor['Disorientated'])\n",
    "df_anchor2 = df_anchor2[['UMLS_CUI']]\n",
    "df_final = df_final.join(df_anchor2.withColumn('Disorientated', F.lit(True)), 'UMLS_CUI', 'left').fillna(False)\n",
    "\n",
    "df_anchor2 = df_anchor.withColumn('UMLS_CUI',df_anchor['Mental_Health_Impairment'])\n",
    "df_anchor2 = df_anchor2[['UMLS_CUI']]\n",
    "df_final = df_final.join(df_anchor2.withColumn('Mental_Health_Impairment', F.lit(True)), 'UMLS_CUI', 'left').fillna(False)\n",
    "\n",
    "df_anchor2 = df_anchor.withColumn('UMLS_CUI',df_anchor['Memory_Loss'])\n",
    "df_anchor2 = df_anchor2[['UMLS_CUI']]\n",
    "df_final = df_final.join(df_anchor2.withColumn('Memory_Loss', F.lit(True)), 'UMLS_CUI', 'left').fillna(False)\n",
    "\n",
    "df_anchor2 = df_anchor.withColumn('UMLS_CUI',df_anchor['Clouded_Consciousness'])\n",
    "df_anchor2 = df_anchor2[['UMLS_CUI']]\n",
    "df_final = df_final.join(df_anchor2.withColumn('Clouded_Consciousness', F.lit(True)), 'UMLS_CUI', 'left').fillna(False)\n",
    "\n",
    "df_anchor2 = df_anchor.withColumn('UMLS_CUI',df_anchor['Agitation'])\n",
    "df_anchor2 = df_anchor2[['UMLS_CUI']]\n",
    "df_final = df_final.join(df_anchor2.withColumn('Agitation', F.lit(True)), 'UMLS_CUI', 'left').fillna(False)\n",
    "\n",
    "df_anchor2 = df_anchor.withColumn('UMLS_CUI',df_anchor['Congnitive_Impairment'])\n",
    "df_anchor2 = df_anchor2[['UMLS_CUI']]\n",
    "df_final = df_final.join(df_anchor2.withColumn('Congnitive_Impairment', F.lit(True)), 'UMLS_CUI', 'left').fillna(False)\n",
    "\n",
    "df_anchor2 = df_lst_cui.withColumn('UMLS_CUI',df_lst_cui['lst_cui'])\n",
    "df_anchor2 = df_anchor2[['UMLS_CUI']]\n",
    "df_final = df_final.join(df_anchor2.withColumn('Alzheimer', F.lit(True)), 'UMLS_CUI', 'left').fillna(False)"
   ]
  },
  {
   "cell_type": "code",
   "execution_count": null,
   "id": "98e3af83-e9da-479a-8666-0d136d691161",
   "metadata": {
    "tags": []
   },
   "outputs": [],
   "source": [
    "print(df_final[df_final['Alzheimer'] == 1].distinct().count())"
   ]
  },
  {
   "cell_type": "code",
   "execution_count": 38,
   "id": "4844b7eb-7158-4ee5-a9ad-3f23fbc00d9a",
   "metadata": {
    "execution": {
     "iopub.execute_input": "2022-05-28T07:32:40.066397Z",
     "iopub.status.busy": "2022-05-28T07:32:40.066132Z",
     "iopub.status.idle": "2022-05-28T07:32:40.118339Z",
     "shell.execute_reply": "2022-05-28T07:32:40.117800Z",
     "shell.execute_reply.started": "2022-05-28T07:32:40.066369Z"
    },
    "tags": []
   },
   "outputs": [
    {
     "data": {
      "application/vnd.jupyter.widget-view+json": {
       "model_id": "2e30ad255b8d48f79fe7413f257c5485",
       "version_major": 2,
       "version_minor": 0
      },
      "text/plain": [
       "VBox()"
      ]
     },
     "metadata": {},
     "output_type": "display_data"
    },
    {
     "data": {
      "application/vnd.jupyter.widget-view+json": {
       "model_id": "",
       "version_major": 2,
       "version_minor": 0
      },
      "text/plain": [
       "FloatProgress(value=0.0, bar_style='info', description='Progress:', layout=Layout(height='25px', width='50%'),…"
      ]
     },
     "metadata": {},
     "output_type": "display_data"
    }
   ],
   "source": [
    "output = df_final2.join(df_demographic,['patient_key'],how='inner')  "
   ]
  },
  {
   "cell_type": "code",
   "execution_count": 40,
   "id": "00a1fafa-17a5-4449-9247-5b08087c174c",
   "metadata": {
    "execution": {
     "iopub.execute_input": "2022-05-28T07:35:19.448859Z",
     "iopub.status.busy": "2022-05-28T07:35:19.448637Z",
     "iopub.status.idle": "2022-05-28T07:36:22.903801Z",
     "shell.execute_reply": "2022-05-28T07:36:22.903277Z",
     "shell.execute_reply.started": "2022-05-28T07:35:19.448835Z"
    },
    "tags": []
   },
   "outputs": [
    {
     "data": {
      "application/vnd.jupyter.widget-view+json": {
       "model_id": "6fbb55bc7f7649228741e32566289b91",
       "version_major": 2,
       "version_minor": 0
      },
      "text/plain": [
       "VBox()"
      ]
     },
     "metadata": {},
     "output_type": "display_data"
    },
    {
     "data": {
      "application/vnd.jupyter.widget-view+json": {
       "model_id": "",
       "version_major": 2,
       "version_minor": 0
      },
      "text/plain": [
       "FloatProgress(value=0.0, bar_style='info', description='Progress:', layout=Layout(height='25px', width='50%'),…"
      ]
     },
     "metadata": {},
     "output_type": "display_data"
    },
    {
     "name": "stdout",
     "output_type": "stream",
     "text": [
      "+-----------+--------+-----------+\n",
      "|patient_key|UMLS_CUI|provider_id|\n",
      "+-----------+--------+-----------+\n",
      "|     800966|C1704653| 1033124813|\n",
      "|    1639971|C0013770| SRN0050793|\n",
      "|    1385981|C0024779| 1053367250|\n",
      "|    1385981|C0024779| 1053367250|\n",
      "|    3025611|C3890564| SRN0006317|\n",
      "|   72124940|C3899513| SRN0030667|\n",
      "|   72285645|C2063616| 1740414457|\n",
      "|   72285645|C2063616| 1740414457|\n",
      "|   72285645|C2063616| 1740414457|\n",
      "|   72285645|C2063616| 1740414457|\n",
      "|   72377207|C0024779| SRN0040897|\n",
      "|   72377207|C0024779| SRN0040897|\n",
      "|   72377207|C0024779| SRN0040897|\n",
      "|   72377207|C3814778| SRN0040897|\n",
      "|    2161568|C3543515| SRN0023779|\n",
      "|    7659660|C0007012| SRN0014151|\n",
      "|   72020812|C0024779| 1568466290|\n",
      "|   72020812|C0024779| 1568466290|\n",
      "|    8026121|C0402015| SRN0047207|\n",
      "|    3145184|C3543515| 1962516690|\n",
      "+-----------+--------+-----------+\n",
      "only showing top 20 rows"
     ]
    }
   ],
   "source": [
    "output[['patient_key','UMLS_CUI','provider_id']].show()"
   ]
  },
  {
   "cell_type": "code",
   "execution_count": 25,
   "id": "6c084ffc-ac76-44e6-91dc-f94c04cd9a7e",
   "metadata": {
    "execution": {
     "iopub.execute_input": "2022-05-27T14:44:22.816365Z",
     "iopub.status.busy": "2022-05-27T14:44:22.816140Z",
     "iopub.status.idle": "2022-05-27T14:44:22.860699Z",
     "shell.execute_reply": "2022-05-27T14:44:22.860196Z",
     "shell.execute_reply.started": "2022-05-27T14:44:22.816341Z"
    }
   },
   "outputs": [
    {
     "data": {
      "application/vnd.jupyter.widget-view+json": {
       "model_id": "060a50095d6745c49d8647b8a5e7d717",
       "version_major": 2,
       "version_minor": 0
      },
      "text/plain": [
       "VBox()"
      ]
     },
     "metadata": {},
     "output_type": "display_data"
    },
    {
     "data": {
      "application/vnd.jupyter.widget-view+json": {
       "model_id": "",
       "version_major": 2,
       "version_minor": 0
      },
      "text/plain": [
       "FloatProgress(value=0.0, bar_style='info', description='Progress:', layout=Layout(height='25px', width='50%'),…"
      ]
     },
     "metadata": {},
     "output_type": "display_data"
    },
    {
     "name": "stdout",
     "output_type": "stream",
     "text": [
      "['patient_key', 'UMLS_CUI', 'provider_id', 'facility_id', 'text', 'label', 'negex', 'span', 'UMLS_Name', 'TUIs', 'Child_semantic_label', 'Parent_semantic_label', 'Similarity_Score', 'Thought_Disturbance', 'Abnormal_Behavior', 'Suicidal_Intent', 'Disorientated', 'Mental_Health_Impairment', 'Memory_Loss', 'Clouded_Consciousness', 'Agitation', 'Congnitive_Impairment', 'Alzheimer', 'pat_last_name', 'pat_first_name', 'pat_mrn', 'pat_dob', 'pat_gender', 'pat_race', 'pat_ethinicity', 'pat_city', 'pat_zip', 'pat_county', 'pat_state', 'pat_country', 'pat_marital_status', 'pat_smoking_status', 'pat_status']"
     ]
    }
   ],
   "source": [
    "output.columns"
   ]
  },
  {
   "cell_type": "code",
   "execution_count": 34,
   "id": "542c4342-3a70-4960-9f1f-ecaac13b1538",
   "metadata": {
    "execution": {
     "iopub.execute_input": "2022-05-27T15:00:46.226815Z",
     "iopub.status.busy": "2022-05-27T15:00:46.226598Z",
     "iopub.status.idle": "2022-05-27T15:01:09.552905Z",
     "shell.execute_reply": "2022-05-27T15:01:09.552375Z",
     "shell.execute_reply.started": "2022-05-27T15:00:46.226792Z"
    },
    "tags": []
   },
   "outputs": [
    {
     "data": {
      "application/vnd.jupyter.widget-view+json": {
       "model_id": "5dc8ed7a48c44d6ba73c25d663b27917",
       "version_major": 2,
       "version_minor": 0
      },
      "text/plain": [
       "VBox()"
      ]
     },
     "metadata": {},
     "output_type": "display_data"
    },
    {
     "data": {
      "application/vnd.jupyter.widget-view+json": {
       "model_id": "",
       "version_major": 2,
       "version_minor": 0
      },
      "text/plain": [
       "FloatProgress(value=0.0, bar_style='info', description='Progress:', layout=Layout(height='25px', width='50%'),…"
      ]
     },
     "metadata": {},
     "output_type": "display_data"
    },
    {
     "name": "stdout",
     "output_type": "stream",
     "text": [
      "31539959"
     ]
    }
   ],
   "source": [
    "op2 = df_final[df_final['Alzheimer'] == 0]\n",
    "op2.count()"
   ]
  },
  {
   "cell_type": "code",
   "execution_count": 35,
   "id": "09f5789c-cad9-46f7-8f82-2e8b0e924541",
   "metadata": {
    "execution": {
     "iopub.execute_input": "2022-05-27T15:01:09.553953Z",
     "iopub.status.busy": "2022-05-27T15:01:09.553793Z",
     "iopub.status.idle": "2022-05-27T15:02:49.219890Z",
     "shell.execute_reply": "2022-05-27T15:02:49.219415Z",
     "shell.execute_reply.started": "2022-05-27T15:01:09.553933Z"
    },
    "tags": []
   },
   "outputs": [
    {
     "data": {
      "application/vnd.jupyter.widget-view+json": {
       "model_id": "bd7932a4b6a74a129e8082199084f771",
       "version_major": 2,
       "version_minor": 0
      },
      "text/plain": [
       "VBox()"
      ]
     },
     "metadata": {},
     "output_type": "display_data"
    },
    {
     "data": {
      "application/vnd.jupyter.widget-view+json": {
       "model_id": "",
       "version_major": 2,
       "version_minor": 0
      },
      "text/plain": [
       "FloatProgress(value=0.0, bar_style='info', description='Progress:', layout=Layout(height='25px', width='50%'),…"
      ]
     },
     "metadata": {},
     "output_type": "display_data"
    },
    {
     "name": "stdout",
     "output_type": "stream",
     "text": [
      "5479\n",
      "1411\n",
      "3688\n",
      "3595\n",
      "75\n",
      "8451\n",
      "3077\n",
      "2131"
     ]
    }
   ],
   "source": [
    "print(op2[op2['Congnitive_Impairment']==1].count())\n",
    "print(op2[op2['Thought_Disturbance']==1].count())\n",
    "print(op2[op2['Abnormal_Behavior']==1].count())\n",
    "print(op2[op2['Suicidal_Intent']==1].count())\n",
    "print(op2[op2['Disorientated']==1].count())\n",
    "print(op2[op2['Mental_Health_Impairment']==1].count())\n",
    "print(op2[op2['Memory_Loss']==1].count())\n",
    "print(op2[op2['Clouded_Consciousness']==1].count())"
   ]
  },
  {
   "cell_type": "code",
   "execution_count": null,
   "id": "49e216c1-0f67-4656-abba-033182e38ef3",
   "metadata": {},
   "outputs": [],
   "source": []
  }
 ],
 "metadata": {
  "kernelspec": {
   "display_name": "PySpark",
   "language": "",
   "name": "pysparkkernel"
  },
  "language_info": {
   "codemirror_mode": {
    "name": "python",
    "version": 3
   },
   "mimetype": "text/x-python",
   "name": "pyspark",
   "pygments_lexer": "python3"
  }
 },
 "nbformat": 4,
 "nbformat_minor": 5
}
