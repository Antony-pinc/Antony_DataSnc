{
 "cells": [
  {
   "cell_type": "code",
   "execution_count": 1,
   "id": "f14abfa0-9d52-44f3-84e5-46fdf19bb0bb",
   "metadata": {
    "execution": {
     "iopub.execute_input": "2022-05-26T10:35:50.619705Z",
     "iopub.status.busy": "2022-05-26T10:35:50.619488Z",
     "iopub.status.idle": "2022-05-26T10:36:08.406603Z",
     "shell.execute_reply": "2022-05-26T10:36:08.406103Z",
     "shell.execute_reply.started": "2022-05-26T10:35:50.619680Z"
    },
    "tags": []
   },
   "outputs": [
    {
     "data": {
      "application/vnd.jupyter.widget-view+json": {
       "model_id": "ca0b60e4fad54e468d25aa66cd7c7060",
       "version_major": 2,
       "version_minor": 0
      },
      "text/plain": [
       "VBox()"
      ]
     },
     "metadata": {},
     "output_type": "display_data"
    },
    {
     "name": "stdout",
     "output_type": "stream",
     "text": [
      "Starting Spark application\n"
     ]
    },
    {
     "data": {
      "text/html": [
       "<table>\n",
       "<tr><th>ID</th><th>YARN Application ID</th><th>Kind</th><th>State</th><th>Spark UI</th><th>Driver log</th><th>Current session?</th></tr><tr><td>4</td><td>application_1653556795446_0005</td><td>pyspark</td><td>idle</td><td><a target=\"_blank\" href=\"http://ip-172-31-17-96.ec2.internal:20888/proxy/application_1653556795446_0005/\" class=\"emr-proxy-link\" emr-resource=\"j-38X8J0J4CPRBN\n",
       "\" application-id=\"application_1653556795446_0005\">Link</a></td><td><a target=\"_blank\" href=\"http://ip-172-31-25-145.ec2.internal:8042/node/containerlogs/container_1653556795446_0005_01_000001/livy\" >Link</a></td><td>✔</td></tr></table>"
      ],
      "text/plain": [
       "<IPython.core.display.HTML object>"
      ]
     },
     "metadata": {},
     "output_type": "display_data"
    },
    {
     "data": {
      "application/vnd.jupyter.widget-view+json": {
       "model_id": "",
       "version_major": 2,
       "version_minor": 0
      },
      "text/plain": [
       "FloatProgress(value=0.0, bar_style='info', description='Progress:', layout=Layout(height='25px', width='50%'),…"
      ]
     },
     "metadata": {},
     "output_type": "display_data"
    },
    {
     "name": "stdout",
     "output_type": "stream",
     "text": [
      "SparkSession available as 'spark'.\n"
     ]
    },
    {
     "data": {
      "application/vnd.jupyter.widget-view+json": {
       "model_id": "",
       "version_major": 2,
       "version_minor": 0
      },
      "text/plain": [
       "FloatProgress(value=0.0, bar_style='info', description='Progress:', layout=Layout(height='25px', width='50%'),…"
      ]
     },
     "metadata": {},
     "output_type": "display_data"
    }
   ],
   "source": [
    "import os,re\n",
    "from pyspark.sql.functions import col, array_contains, array_position,year,to_date"
   ]
  },
  {
   "cell_type": "code",
   "execution_count": 2,
   "id": "ddcd3dc3-7cfb-4c1e-8020-edb63afe871d",
   "metadata": {
    "execution": {
     "iopub.execute_input": "2022-05-25T07:43:01.928927Z",
     "iopub.status.busy": "2022-05-25T07:43:01.928596Z",
     "iopub.status.idle": "2022-05-25T07:43:13.485593Z",
     "shell.execute_reply": "2022-05-25T07:43:13.484912Z",
     "shell.execute_reply.started": "2022-05-25T07:43:01.928885Z"
    },
    "tags": []
   },
   "outputs": [
    {
     "data": {
      "application/vnd.jupyter.widget-view+json": {
       "model_id": "a38e987c54834c13bdb2189f317c5e34",
       "version_major": 2,
       "version_minor": 0
      },
      "text/plain": [
       "VBox()"
      ]
     },
     "metadata": {},
     "output_type": "display_data"
    },
    {
     "data": {
      "application/vnd.jupyter.widget-view+json": {
       "model_id": "",
       "version_major": 2,
       "version_minor": 0
      },
      "text/plain": [
       "FloatProgress(value=0.0, bar_style='info', description='Progress:', layout=Layout(height='25px', width='50%'),…"
      ]
     },
     "metadata": {},
     "output_type": "display_data"
    },
    {
     "name": "stdout",
     "output_type": "stream",
     "text": [
      "number of rows: 61987184\n",
      "   \n",
      "https://en.wikipedia.org/wiki/Muhakamat_al-Lughatayn\n",
      "   \n",
      "root\n",
      " |-- patient_key: long (nullable = true)\n",
      " |-- Entity: string (nullable = true)\n",
      " |-- Entity_label: string (nullable = true)\n",
      " |-- Is_Negated: boolean (nullable = true)\n",
      " |-- UMLS_CUI: string (nullable = true)\n",
      " |-- UMLS_Name: string (nullable = true)\n",
      " |-- UMLS_child_label: string (nullable = true)\n",
      " |-- UMLS_parent_label: string (nullable = true)\n",
      " |-- UMLS_Definition: string (nullable = true)\n",
      " |-- UMLS_Span: string (nullable = true)\n",
      " |-- Test_Name: string (nullable = true)\n",
      " |-- Modifier_Result: string (nullable = true)\n",
      " |-- Numeric_Result: string (nullable = true)\n",
      " |-- SNOMED: string (nullable = true)\n",
      " |-- ICD_Code: string (nullable = true)\n",
      " |-- Thought_Disturbance: long (nullable = true)\n",
      " |-- Abnormal_Behavior: long (nullable = true)\n",
      " |-- Suicidal_Intent: long (nullable = true)\n",
      " |-- Disorientated: long (nullable = true)\n",
      " |-- Mental_Health_Impairment: long (nullable = true)\n",
      " |-- Memory_Loss: long (nullable = true)\n",
      " |-- Clouded_Consciousness: long (nullable = true)\n",
      " |-- Agitation: long (nullable = true)\n",
      " |-- Congnitive_Impairment: long (nullable = true)\n",
      " |-- Anchors: long (nullable = true)\n",
      " |-- Alzheimer: long (nullable = true)\n",
      " |-- pat_last_name: string (nullable = true)\n",
      " |-- pat_first_name: string (nullable = true)\n",
      " |-- pat_mrn: long (nullable = true)\n",
      " |-- pat_dob: string (nullable = true)\n",
      " |-- pat_gender: string (nullable = true)\n",
      " |-- pat_race: string (nullable = true)\n",
      " |-- pat_ethinicity: string (nullable = true)\n",
      " |-- pat_city: string (nullable = true)\n",
      " |-- pat_zip: string (nullable = true)\n",
      " |-- pat_county: string (nullable = true)\n",
      " |-- pat_state: string (nullable = true)\n",
      " |-- pat_country: double (nullable = true)\n",
      " |-- pat_marital_status: string (nullable = true)\n",
      " |-- pat_smoking_status: double (nullable = true)\n",
      " |-- pat_status: string (nullable = true)"
     ]
    }
   ],
   "source": [
    "# Importing DataFrame\n",
    "df = spark.read.parquet('s3://pas-biogen-sagemaker/Antony/Ongoing_Output/Result_Par_Final.parquet')\n",
    "print(\"number of rows: \" + str(df.count()), \"   \", \"https://en.wikipedia.org/wiki/Muhakamat_al-Lughatayn\" , \"   \", sep=os.linesep)\n",
    "df.printSchema()"
   ]
  },
  {
   "cell_type": "code",
   "execution_count": 3,
   "id": "4e7c3b5e-451c-436f-b3d1-c62ea566448e",
   "metadata": {
    "execution": {
     "iopub.execute_input": "2022-05-25T07:43:13.486721Z",
     "iopub.status.busy": "2022-05-25T07:43:13.486554Z",
     "iopub.status.idle": "2022-05-25T07:43:13.538873Z",
     "shell.execute_reply": "2022-05-25T07:43:13.538281Z",
     "shell.execute_reply.started": "2022-05-25T07:43:13.486699Z"
    },
    "tags": []
   },
   "outputs": [
    {
     "data": {
      "application/vnd.jupyter.widget-view+json": {
       "model_id": "d789099f60e3491db26fb3271b116357",
       "version_major": 2,
       "version_minor": 0
      },
      "text/plain": [
       "VBox()"
      ]
     },
     "metadata": {},
     "output_type": "display_data"
    },
    {
     "data": {
      "application/vnd.jupyter.widget-view+json": {
       "model_id": "",
       "version_major": 2,
       "version_minor": 0
      },
      "text/plain": [
       "FloatProgress(value=0.0, bar_style='info', description='Progress:', layout=Layout(height='25px', width='50%'),…"
      ]
     },
     "metadata": {},
     "output_type": "display_data"
    },
    {
     "name": "stdout",
     "output_type": "stream",
     "text": [
      "['patient_key', 'Entity', 'Entity_label', 'Is_Negated', 'UMLS_CUI', 'UMLS_Name', 'UMLS_child_label', 'UMLS_parent_label', 'UMLS_Definition', 'UMLS_Span', 'Test_Name', 'Modifier_Result', 'Numeric_Result', 'SNOMED', 'ICD_Code', 'Thought_Disturbance', 'Abnormal_Behavior', 'Suicidal_Intent', 'Disorientated', 'Mental_Health_Impairment', 'Memory_Loss', 'Clouded_Consciousness', 'Agitation', 'Congnitive_Impairment', 'Anchors', 'Alzheimer', 'pat_last_name', 'pat_first_name', 'pat_mrn', 'pat_dob', 'pat_gender', 'pat_race', 'pat_ethinicity', 'pat_city', 'pat_zip', 'pat_county', 'pat_state', 'pat_country', 'pat_marital_status', 'pat_smoking_status', 'pat_status']"
     ]
    }
   ],
   "source": [
    "# Name of columns\n",
    "print(df.columns)"
   ]
  },
  {
   "cell_type": "code",
   "execution_count": 5,
   "id": "86635f07-d36e-46d2-8c3b-9c62c5a322aa",
   "metadata": {
    "execution": {
     "iopub.execute_input": "2022-05-26T10:37:04.050432Z",
     "iopub.status.busy": "2022-05-26T10:37:04.050195Z",
     "iopub.status.idle": "2022-05-26T10:37:15.360071Z",
     "shell.execute_reply": "2022-05-26T10:37:15.359588Z",
     "shell.execute_reply.started": "2022-05-26T10:37:04.050408Z"
    },
    "scrolled": true,
    "tags": []
   },
   "outputs": [
    {
     "data": {
      "application/vnd.jupyter.widget-view+json": {
       "model_id": "8e9d6846bedd433a9125d8795f7b5d80",
       "version_major": 2,
       "version_minor": 0
      },
      "text/plain": [
       "VBox()"
      ]
     },
     "metadata": {},
     "output_type": "display_data"
    },
    {
     "data": {
      "application/vnd.jupyter.widget-view+json": {
       "model_id": "",
       "version_major": 2,
       "version_minor": 0
      },
      "text/plain": [
       "FloatProgress(value=0.0, bar_style='info', description='Progress:', layout=Layout(height='25px', width='50%'),…"
      ]
     },
     "metadata": {},
     "output_type": "display_data"
    },
    {
     "name": "stdout",
     "output_type": "stream",
     "text": [
      "Uninstalling matplotlib-3.1.1:\n",
      "  Successfully uninstalled matplotlib-3.1.1\n",
      "\n",
      "Collecting matplotlib\n",
      "  Using cached https://files.pythonhosted.org/packages/df/e7/0ad4aad00d6d0314aaf97526a54a34d385f898ebb7915d112431fff452ff/matplotlib-3.5.2-cp37-cp37m-manylinux_2_5_x86_64.manylinux1_x86_64.whl\n",
      "Requirement already satisfied: pyparsing>=2.2.1 in /mnt/tmp/1653561365937-0/lib/python3.7/site-packages (from matplotlib)\n",
      "Collecting packaging>=20.0 (from matplotlib)\n",
      "  Using cached https://files.pythonhosted.org/packages/05/8e/8de486cbd03baba4deef4142bd643a3e7bbe954a784dc1bb17142572d127/packaging-21.3-py3-none-any.whl\n",
      "Requirement already satisfied: python-dateutil>=2.7 in /mnt/tmp/1653561365937-0/lib/python3.7/site-packages (from matplotlib)\n",
      "Collecting pillow>=6.2.0 (from matplotlib)\n",
      "  Using cached https://files.pythonhosted.org/packages/43/6e/59853546226ee6200f9ba6e574d11604b60ad0754d2cbd1c8f3246b70418/Pillow-9.1.1.tar.gz\n",
      "Requirement already satisfied: cycler>=0.10 in /mnt/tmp/1653561365937-0/lib/python3.7/site-packages (from matplotlib)\n",
      "Collecting fonttools>=4.22.0 (from matplotlib)\n",
      "  Using cached https://files.pythonhosted.org/packages/2f/85/2f6e42fb4b537b9998835410578fb1973175b81691e9a82ab6668cf64b0b/fonttools-4.33.3-py3-none-any.whl\n",
      "Requirement already satisfied: kiwisolver>=1.0.1 in /mnt/tmp/1653561365937-0/lib/python3.7/site-packages (from matplotlib)\n",
      "Collecting numpy>=1.17 (from matplotlib)\n",
      "  Using cached https://files.pythonhosted.org/packages/45/b7/de7b8e67f2232c26af57c205aaad29fe17754f793404f59c8a730c7a191a/numpy-1.21.6.zip\n",
      "Requirement already satisfied: six>=1.5 in /usr/local/lib/python3.7/site-packages (from python-dateutil>=2.7->matplotlib)\n",
      "Requirement already satisfied: typing-extensions; python_version < \"3.8\" in /mnt/tmp/1653561365937-0/lib/python3.7/site-packages (from kiwisolver>=1.0.1->matplotlib)\n",
      "Building wheels for collected packages: unknown, numpy, unknown\n",
      "  Running setup.py bdist_wheel for unknown: started\n",
      "  Running setup.py bdist_wheel for unknown: finished with status 'error'\n",
      "  Complete output from command /tmp/1653561365937-0/bin/python -u -c \"import setuptools, tokenize;__file__='/mnt/tmp/pip-build-58bhnfky/pillow/setup.py';f=getattr(tokenize, 'open', open)(__file__);code=f.read().replace('\\r\\n', '\\n');f.close();exec(compile(code, __file__, 'exec'))\" bdist_wheel -d /tmp/tmpcbto6236pip-wheel- --python-tag cp37:\n",
      "  running bdist_wheel\n",
      "  running build\n",
      "  running build_py\n",
      "  creating build\n",
      "  creating build/lib.linux-x86_64-3.7\n",
      "  creating build/lib.linux-x86_64-3.7/PIL\n",
      "  copying src/PIL/BdfFontFile.py -> build/lib.linux-x86_64-3.7/PIL\n",
      "  copying src/PIL/BlpImagePlugin.py -> build/lib.linux-x86_64-3.7/PIL\n",
      "  copying src/PIL/BmpImagePlugin.py -> build/lib.linux-x86_64-3.7/PIL\n",
      "  copying src/PIL/BufrStubImagePlugin.py -> build/lib.linux-x86_64-3.7/PIL\n",
      "  copying src/PIL/ContainerIO.py -> build/lib.linux-x86_64-3.7/PIL\n",
      "  copying src/PIL/CurImagePlugin.py -> build/lib.linux-x86_64-3.7/PIL\n",
      "  copying src/PIL/DcxImagePlugin.py -> build/lib.linux-x86_64-3.7/PIL\n",
      "  copying src/PIL/DdsImagePlugin.py -> build/lib.linux-x86_64-3.7/PIL\n",
      "  copying src/PIL/EpsImagePlugin.py -> build/lib.linux-x86_64-3.7/PIL\n",
      "  copying src/PIL/ExifTags.py -> build/lib.linux-x86_64-3.7/PIL\n",
      "  copying src/PIL/FitsImagePlugin.py -> build/lib.linux-x86_64-3.7/PIL\n",
      "  copying src/PIL/FitsStubImagePlugin.py -> build/lib.linux-x86_64-3.7/PIL\n",
      "  copying src/PIL/FliImagePlugin.py -> build/lib.linux-x86_64-3.7/PIL\n",
      "  copying src/PIL/FontFile.py -> build/lib.linux-x86_64-3.7/PIL\n",
      "  copying src/PIL/FpxImagePlugin.py -> build/lib.linux-x86_64-3.7/PIL\n",
      "  copying src/PIL/FtexImagePlugin.py -> build/lib.linux-x86_64-3.7/PIL\n",
      "  copying src/PIL/GbrImagePlugin.py -> build/lib.linux-x86_64-3.7/PIL\n",
      "  copying src/PIL/GdImageFile.py -> build/lib.linux-x86_64-3.7/PIL\n",
      "  copying src/PIL/GifImagePlugin.py -> build/lib.linux-x86_64-3.7/PIL\n",
      "  copying src/PIL/GimpGradientFile.py -> build/lib.linux-x86_64-3.7/PIL\n",
      "  copying src/PIL/GimpPaletteFile.py -> build/lib.linux-x86_64-3.7/PIL\n",
      "  copying src/PIL/GribStubImagePlugin.py -> build/lib.linux-x86_64-3.7/PIL\n",
      "  copying src/PIL/Hdf5StubImagePlugin.py -> build/lib.linux-x86_64-3.7/PIL\n",
      "  copying src/PIL/IcnsImagePlugin.py -> build/lib.linux-x86_64-3.7/PIL\n",
      "  copying src/PIL/IcoImagePlugin.py -> build/lib.linux-x86_64-3.7/PIL\n",
      "  copying src/PIL/ImImagePlugin.py -> build/lib.linux-x86_64-3.7/PIL\n",
      "  copying src/PIL/Image.py -> build/lib.linux-x86_64-3.7/PIL\n",
      "  copying src/PIL/ImageChops.py -> build/lib.linux-x86_64-3.7/PIL\n",
      "  copying src/PIL/ImageCms.py -> build/lib.linux-x86_64-3.7/PIL\n",
      "  copying src/PIL/ImageColor.py -> build/lib.linux-x86_64-3.7/PIL\n",
      "  copying src/PIL/ImageDraw.py -> build/lib.linux-x86_64-3.7/PIL\n",
      "  copying src/PIL/ImageDraw2.py -> build/lib.linux-x86_64-3.7/PIL\n",
      "  copying src/PIL/ImageEnhance.py -> build/lib.linux-x86_64-3.7/PIL\n",
      "  copying src/PIL/ImageFile.py -> build/lib.linux-x86_64-3.7/PIL\n",
      "  copying src/PIL/ImageFilter.py -> build/lib.linux-x86_64-3.7/PIL\n",
      "  copying src/PIL/ImageFont.py -> build/lib.linux-x86_64-3.7/PIL\n",
      "  copying src/PIL/ImageGrab.py -> build/lib.linux-x86_64-3.7/PIL\n",
      "  copying src/PIL/ImageMath.py -> build/lib.linux-x86_64-3.7/PIL\n",
      "  copying src/PIL/ImageMode.py -> build/lib.linux-x86_64-3.7/PIL\n",
      "  copying src/PIL/ImageMorph.py -> build/lib.linux-x86_64-3.7/PIL\n",
      "  copying src/PIL/ImageOps.py -> build/lib.linux-x86_64-3.7/PIL\n",
      "  copying src/PIL/ImagePalette.py -> build/lib.linux-x86_64-3.7/PIL\n",
      "  copying src/PIL/ImagePath.py -> build/lib.linux-x86_64-3.7/PIL\n",
      "  copying src/PIL/ImageQt.py -> build/lib.linux-x86_64-3.7/PIL\n",
      "  copying src/PIL/ImageSequence.py -> build/lib.linux-x86_64-3.7/PIL\n",
      "  copying src/PIL/ImageShow.py -> build/lib.linux-x86_64-3.7/PIL\n",
      "  copying src/PIL/ImageStat.py -> build/lib.linux-x86_64-3.7/PIL\n",
      "  copying src/PIL/ImageTk.py -> build/lib.linux-x86_64-3.7/PIL\n",
      "  copying src/PIL/ImageTransform.py -> build/lib.linux-x86_64-3.7/PIL\n",
      "  copying src/PIL/ImageWin.py -> build/lib.linux-x86_64-3.7/PIL\n",
      "  copying src/PIL/ImtImagePlugin.py -> build/lib.linux-x86_64-3.7/PIL\n",
      "  copying src/PIL/IptcImagePlugin.py -> build/lib.linux-x86_64-3.7/PIL\n",
      "  copying src/PIL/Jpeg2KImagePlugin.py -> build/lib.linux-x86_64-3.7/PIL\n",
      "  copying src/PIL/JpegImagePlugin.py -> build/lib.linux-x86_64-3.7/PIL\n",
      "  copying src/PIL/JpegPresets.py -> build/lib.linux-x86_64-3.7/PIL\n",
      "  copying src/PIL/McIdasImagePlugin.py -> build/lib.linux-x86_64-3.7/PIL\n",
      "  copying src/PIL/MicImagePlugin.py -> build/lib.linux-x86_64-3.7/PIL\n",
      "  copying src/PIL/MpegImagePlugin.py -> build/lib.linux-x86_64-3.7/PIL\n",
      "  copying src/PIL/MpoImagePlugin.py -> build/lib.linux-x86_64-3.7/PIL\n",
      "  copying src/PIL/MspImagePlugin.py -> build/lib.linux-x86_64-3.7/PIL\n",
      "  copying src/PIL/PSDraw.py -> build/lib.linux-x86_64-3.7/PIL\n",
      "  copying src/PIL/PaletteFile.py -> build/lib.linux-x86_64-3.7/PIL\n",
      "  copying src/PIL/PalmImagePlugin.py -> build/lib.linux-x86_64-3.7/PIL\n",
      "  copying src/PIL/PcdImagePlugin.py -> build/lib.linux-x86_64-3.7/PIL\n",
      "  copying src/PIL/PcfFontFile.py -> build/lib.linux-x86_64-3.7/PIL\n",
      "  copying src/PIL/PcxImagePlugin.py -> build/lib.linux-x86_64-3.7/PIL\n",
      "  copying src/PIL/PdfImagePlugin.py -> build/lib.linux-x86_64-3.7/PIL\n",
      "  copying src/PIL/PdfParser.py -> build/lib.linux-x86_64-3.7/PIL\n",
      "  copying src/PIL/PixarImagePlugin.py -> build/lib.linux-x86_64-3.7/PIL\n",
      "  copying src/PIL/PngImagePlugin.py -> build/lib.linux-x86_64-3.7/PIL\n",
      "  copying src/PIL/PpmImagePlugin.py -> build/lib.linux-x86_64-3.7/PIL\n",
      "  copying src/PIL/PsdImagePlugin.py -> build/lib.linux-x86_64-3.7/PIL\n",
      "  copying src/PIL/PyAccess.py -> build/lib.linux-x86_64-3.7/PIL\n",
      "  copying src/PIL/SgiImagePlugin.py -> build/lib.linux-x86_64-3.7/PIL\n",
      "  copying src/PIL/SpiderImagePlugin.py -> build/lib.linux-x86_64-3.7/PIL\n",
      "  copying src/PIL/SunImagePlugin.py -> build/lib.linux-x86_64-3.7/PIL\n",
      "  copying src/PIL/TarIO.py -> build/lib.linux-x86_64-3.7/PIL\n",
      "  copying src/PIL/TgaImagePlugin.py -> build/lib.linux-x86_64-3.7/PIL\n",
      "  copying src/PIL/TiffImagePlugin.py -> build/lib.linux-x86_64-3.7/PIL\n",
      "  copying src/PIL/TiffTags.py -> build/lib.linux-x86_64-3.7/PIL\n",
      "  copying src/PIL/WalImageFile.py -> build/lib.linux-x86_64-3.7/PIL\n",
      "  copying src/PIL/WebPImagePlugin.py -> build/lib.linux-x86_64-3.7/PIL\n",
      "  copying src/PIL/WmfImagePlugin.py -> build/lib.linux-x86_64-3.7/PIL\n",
      "  copying src/PIL/XVThumbImagePlugin.py -> build/lib.linux-x86_64-3.7/PIL\n",
      "  copying src/PIL/XbmImagePlugin.py -> build/lib.linux-x86_64-3.7/PIL\n",
      "  copying src/PIL/XpmImagePlugin.py -> build/lib.linux-x86_64-3.7/PIL\n",
      "  copying src/PIL/__init__.py -> build/lib.linux-x86_64-3.7/PIL\n",
      "  copying src/PIL/__main__.py -> build/lib.linux-x86_64-3.7/PIL\n",
      "  copying src/PIL/_binary.py -> build/lib.linux-x86_64-3.7/PIL\n",
      "  copying src/PIL/_tkinter_finder.py -> build/lib.linux-x86_64-3.7/PIL\n",
      "  copying src/PIL/_util.py -> build/lib.linux-x86_64-3.7/PIL\n",
      "  copying src/PIL/_version.py -> build/lib.linux-x86_64-3.7/PIL\n",
      "  copying src/PIL/features.py -> build/lib.linux-x86_64-3.7/PIL\n",
      "  running egg_info\n",
      "  creating src/UNKNOWN.egg-info\n",
      "  writing src/UNKNOWN.egg-info/PKG-INFO\n",
      "  writing dependency_links to src/UNKNOWN.egg-info/dependency_links.txt\n",
      "  writing top-level names to src/UNKNOWN.egg-info/top_level.txt\n",
      "  writing manifest file 'src/UNKNOWN.egg-info/SOURCES.txt'\n",
      "  warning: manifest_maker: standard file '-c' not found\n",
      "  \n",
      "  reading manifest file 'src/UNKNOWN.egg-info/SOURCES.txt'\n",
      "  reading manifest template 'MANIFEST.in'\n",
      "  warning: no files found matching '*.c'\n",
      "  warning: no files found matching '*.h'\n",
      "  warning: no files found matching '*.sh'\n",
      "  warning: no previously-included files found matching '.appveyor.yml'\n",
      "  warning: no previously-included files found matching '.clang-format'\n",
      "  warning: no previously-included files found matching '.coveragerc'\n",
      "  warning: no previously-included files found matching '.editorconfig'\n",
      "  warning: no previously-included files found matching '.readthedocs.yml'\n",
      "  warning: no previously-included files found matching 'codecov.yml'\n",
      "  warning: no previously-included files matching '.git*' found anywhere in distribution\n",
      "  warning: no previously-included files matching '*.pyc' found anywhere in distribution\n",
      "  warning: no previously-included files matching '*.so' found anywhere in distribution\n",
      "  no previously-included directories found matching '.ci'\n",
      "  writing manifest file 'src/UNKNOWN.egg-info/SOURCES.txt'\n",
      "  running build_ext\n",
      "  \n",
      "  \n",
      "  The headers or library files could not be found for jpeg,\n",
      "  a required dependency when compiling Pillow from source.\n",
      "  \n",
      "  Please see the install instructions at:\n",
      "     https://pillow.readthedocs.io/en/latest/installation.html\n",
      "  \n",
      "  Traceback (most recent call last):\n",
      "    File \"/mnt/tmp/pip-build-58bhnfky/pillow/setup.py\", line 996, in <module>\n",
      "      zip_safe=not (debug_build() or PLATFORM_MINGW),\n",
      "    File \"/usr/lib64/python3.7/distutils/core.py\", line 148, in setup\n",
      "      dist.run_commands()\n",
      "    File \"/usr/lib64/python3.7/distutils/dist.py\", line 966, in run_commands\n",
      "      self.run_command(cmd)\n",
      "    File \"/usr/lib64/python3.7/distutils/dist.py\", line 985, in run_command\n",
      "      cmd_obj.run()\n",
      "    File \"/tmp/1653561365937-0/lib/python3.7/site-packages/wheel/bdist_wheel.py\", line 179, in run\n",
      "      self.run_command('build')\n",
      "    File \"/usr/lib64/python3.7/distutils/cmd.py\", line 313, in run_command\n",
      "      self.distribution.run_command(command)\n",
      "    File \"/usr/lib64/python3.7/distutils/dist.py\", line 985, in run_command\n",
      "      cmd_obj.run()\n",
      "    File \"/usr/lib64/python3.7/distutils/command/build.py\", line 135, in run\n",
      "      self.run_command(cmd_name)\n",
      "    File \"/usr/lib64/python3.7/distutils/cmd.py\", line 313, in run_command\n",
      "      self.distribution.run_command(command)\n",
      "    File \"/usr/lib64/python3.7/distutils/dist.py\", line 985, in run_command\n",
      "      cmd_obj.run()\n",
      "    File \"/tmp/1653561365937-0/lib/python3.7/site-packages/setuptools/command/build_ext.py\", line 75, in run\n",
      "      _build_ext.run(self)\n",
      "    File \"/usr/lib64/python3.7/distutils/command/build_ext.py\", line 340, in run\n",
      "      self.build_extensions()\n",
      "    File \"/mnt/tmp/pip-build-58bhnfky/pillow/setup.py\", line 804, in build_extensions\n",
      "      raise RequiredDependencyException(f)\n",
      "  __main__.RequiredDependencyException: jpeg\n",
      "  \n",
      "  During handling of the above exception, another exception occurred:\n",
      "  \n",
      "  Traceback (most recent call last):\n",
      "    File \"<string>\", line 1, in <module>\n",
      "    File \"/mnt/tmp/pip-build-58bhnfky/pillow/setup.py\", line 1009, in <module>\n",
      "      raise RequiredDependencyException(msg)\n",
      "  __main__.RequiredDependencyException:\n",
      "  \n",
      "  The headers or library files could not be found for jpeg,\n",
      "  a required dependency when compiling Pillow from source.\n",
      "  \n",
      "  Please see the install instructions at:\n",
      "     https://pillow.readthedocs.io/en/latest/installation.html\n",
      "  \n",
      "  \n",
      "  \n",
      "  ----------------------------------------\n",
      "  Running setup.py clean for unknown\n",
      "  Running setup.py bdist_wheel for numpy: started\n",
      "  Running setup.py bdist_wheel for numpy: finished with status 'error'\n",
      "  Complete output from command /tmp/1653561365937-0/bin/python -u -c \"import setuptools, tokenize;__file__='/mnt/tmp/pip-build-58bhnfky/numpy/setup.py';f=getattr(tokenize, 'open', open)(__file__);code=f.read().replace('\\r\\n', '\\n');f.close();exec(compile(code, __file__, 'exec'))\" bdist_wheel -d /tmp/tmptf50cguupip-wheel- --python-tag cp37:\n",
      "  Running from numpy source directory.\n",
      "  Cythonizing sources\n",
      "  Processing numpy/random/_bounded_integers.pxd.in\n",
      "  Processing numpy/random/_mt19937.pyx\n",
      "  Traceback (most recent call last):\n",
      "    File \"/mnt/tmp/pip-build-58bhnfky/numpy/tools/cythonize.py\", line 59, in process_pyx\n",
      "      import Cython\n",
      "  ModuleNotFoundError: No module named 'Cython'\n",
      "  \n",
      "  The above exception was the direct cause of the following exception:\n",
      "  \n",
      "  Traceback (most recent call last):\n",
      "    File \"/mnt/tmp/pip-build-58bhnfky/numpy/tools/cythonize.py\", line 240, in <module>\n",
      "      main()\n",
      "    File \"/mnt/tmp/pip-build-58bhnfky/numpy/tools/cythonize.py\", line 236, in main\n",
      "      find_process_files(root_dir)\n",
      "    File \"/mnt/tmp/pip-build-58bhnfky/numpy/tools/cythonize.py\", line 227, in find_process_files\n",
      "      process(root_dir, fromfile, tofile, function, hash_db)\n",
      "    File \"/mnt/tmp/pip-build-58bhnfky/numpy/tools/cythonize.py\", line 193, in process\n",
      "      processor_function(fromfile, tofile)\n",
      "    File \"/mnt/tmp/pip-build-58bhnfky/numpy/tools/cythonize.py\", line 66, in process_pyx\n",
      "      raise OSError(msg) from e\n",
      "  OSError: Cython needs to be installed in Python as a module\n",
      "  Traceback (most recent call last):\n",
      "    File \"<string>\", line 1, in <module>\n",
      "    File \"/mnt/tmp/pip-build-58bhnfky/numpy/setup.py\", line 448, in <module>\n",
      "      setup_package()\n",
      "    File \"/mnt/tmp/pip-build-58bhnfky/numpy/setup.py\", line 430, in setup_package\n",
      "      generate_cython()\n",
      "    File \"/mnt/tmp/pip-build-58bhnfky/numpy/setup.py\", line 236, in generate_cython\n",
      "      raise RuntimeError(\"Running cythonize failed!\")\n",
      "  RuntimeError: Running cythonize failed!\n",
      "  \n",
      "  ----------------------------------------\n",
      "  Running setup.py clean for numpy\n",
      "  Complete output from command /tmp/1653561365937-0/bin/python -u -c \"import setuptools, tokenize;__file__='/mnt/tmp/pip-build-58bhnfky/numpy/setup.py';f=getattr(tokenize, 'open', open)(__file__);code=f.read().replace('\\r\\n', '\\n');f.close();exec(compile(code, __file__, 'exec'))\" clean --all:\n",
      "  Running from numpy source directory.\n",
      "  \n",
      "  `setup.py clean` is not supported, use one of the following instead:\n",
      "  \n",
      "    - `git clean -xdf` (cleans all files)\n",
      "    - `git clean -Xdf` (cleans all versioned files, doesn't touch\n",
      "                        files that aren't checked into the git repo)\n",
      "  \n",
      "  Add `--force` to your command to use it anyway if you must (unsupported).\n",
      "  \n",
      "  \n",
      "  ----------------------------------------\n",
      "  Running setup.py bdist_wheel for unknown: started\n",
      "  Running setup.py bdist_wheel for unknown: finished with status 'error'\n",
      "  Complete output from command /tmp/1653561365937-0/bin/python -u -c \"import setuptools, tokenize;__file__='/mnt/tmp/pip-build-58bhnfky/pillow/setup.py';f=getattr(tokenize, 'open', open)(__file__);code=f.read().replace('\\r\\n', '\\n');f.close();exec(compile(code, __file__, 'exec'))\" bdist_wheel -d /tmp/tmpuaxp6pqxpip-wheel- --python-tag cp37:\n",
      "  running bdist_wheel\n",
      "  running build\n",
      "  running build_py\n",
      "  creating build\n",
      "  creating build/lib.linux-x86_64-3.7\n",
      "  creating build/lib.linux-x86_64-3.7/PIL\n",
      "  copying src/PIL/BdfFontFile.py -> build/lib.linux-x86_64-3.7/PIL\n",
      "  copying src/PIL/BlpImagePlugin.py -> build/lib.linux-x86_64-3.7/PIL\n",
      "  copying src/PIL/BmpImagePlugin.py -> build/lib.linux-x86_64-3.7/PIL\n",
      "  copying src/PIL/BufrStubImagePlugin.py -> build/lib.linux-x86_64-3.7/PIL\n",
      "  copying src/PIL/ContainerIO.py -> build/lib.linux-x86_64-3.7/PIL\n",
      "  copying src/PIL/CurImagePlugin.py -> build/lib.linux-x86_64-3.7/PIL\n",
      "  copying src/PIL/DcxImagePlugin.py -> build/lib.linux-x86_64-3.7/PIL\n",
      "  copying src/PIL/DdsImagePlugin.py -> build/lib.linux-x86_64-3.7/PIL\n",
      "  copying src/PIL/EpsImagePlugin.py -> build/lib.linux-x86_64-3.7/PIL\n",
      "  copying src/PIL/ExifTags.py -> build/lib.linux-x86_64-3.7/PIL\n",
      "  copying src/PIL/FitsImagePlugin.py -> build/lib.linux-x86_64-3.7/PIL\n",
      "  copying src/PIL/FitsStubImagePlugin.py -> build/lib.linux-x86_64-3.7/PIL\n",
      "  copying src/PIL/FliImagePlugin.py -> build/lib.linux-x86_64-3.7/PIL\n",
      "  copying src/PIL/FontFile.py -> build/lib.linux-x86_64-3.7/PIL\n",
      "  copying src/PIL/FpxImagePlugin.py -> build/lib.linux-x86_64-3.7/PIL\n",
      "  copying src/PIL/FtexImagePlugin.py -> build/lib.linux-x86_64-3.7/PIL\n",
      "  copying src/PIL/GbrImagePlugin.py -> build/lib.linux-x86_64-3.7/PIL\n",
      "  copying src/PIL/GdImageFile.py -> build/lib.linux-x86_64-3.7/PIL\n",
      "  copying src/PIL/GifImagePlugin.py -> build/lib.linux-x86_64-3.7/PIL\n",
      "  copying src/PIL/GimpGradientFile.py -> build/lib.linux-x86_64-3.7/PIL\n",
      "  copying src/PIL/GimpPaletteFile.py -> build/lib.linux-x86_64-3.7/PIL\n",
      "  copying src/PIL/GribStubImagePlugin.py -> build/lib.linux-x86_64-3.7/PIL\n",
      "  copying src/PIL/Hdf5StubImagePlugin.py -> build/lib.linux-x86_64-3.7/PIL\n",
      "  copying src/PIL/IcnsImagePlugin.py -> build/lib.linux-x86_64-3.7/PIL\n",
      "  copying src/PIL/IcoImagePlugin.py -> build/lib.linux-x86_64-3.7/PIL\n",
      "  copying src/PIL/ImImagePlugin.py -> build/lib.linux-x86_64-3.7/PIL\n",
      "  copying src/PIL/Image.py -> build/lib.linux-x86_64-3.7/PIL\n",
      "  copying src/PIL/ImageChops.py -> build/lib.linux-x86_64-3.7/PIL\n",
      "  copying src/PIL/ImageCms.py -> build/lib.linux-x86_64-3.7/PIL\n",
      "  copying src/PIL/ImageColor.py -> build/lib.linux-x86_64-3.7/PIL\n",
      "  copying src/PIL/ImageDraw.py -> build/lib.linux-x86_64-3.7/PIL\n",
      "  copying src/PIL/ImageDraw2.py -> build/lib.linux-x86_64-3.7/PIL\n",
      "  copying src/PIL/ImageEnhance.py -> build/lib.linux-x86_64-3.7/PIL\n",
      "  copying src/PIL/ImageFile.py -> build/lib.linux-x86_64-3.7/PIL\n",
      "  copying src/PIL/ImageFilter.py -> build/lib.linux-x86_64-3.7/PIL\n",
      "  copying src/PIL/ImageFont.py -> build/lib.linux-x86_64-3.7/PIL\n",
      "  copying src/PIL/ImageGrab.py -> build/lib.linux-x86_64-3.7/PIL\n",
      "  copying src/PIL/ImageMath.py -> build/lib.linux-x86_64-3.7/PIL\n",
      "  copying src/PIL/ImageMode.py -> build/lib.linux-x86_64-3.7/PIL\n",
      "  copying src/PIL/ImageMorph.py -> build/lib.linux-x86_64-3.7/PIL\n",
      "  copying src/PIL/ImageOps.py -> build/lib.linux-x86_64-3.7/PIL\n",
      "  copying src/PIL/ImagePalette.py -> build/lib.linux-x86_64-3.7/PIL\n",
      "  copying src/PIL/ImagePath.py -> build/lib.linux-x86_64-3.7/PIL\n",
      "  copying src/PIL/ImageQt.py -> build/lib.linux-x86_64-3.7/PIL\n",
      "  copying src/PIL/ImageSequence.py -> build/lib.linux-x86_64-3.7/PIL\n",
      "  copying src/PIL/ImageShow.py -> build/lib.linux-x86_64-3.7/PIL\n",
      "  copying src/PIL/ImageStat.py -> build/lib.linux-x86_64-3.7/PIL\n",
      "  copying src/PIL/ImageTk.py -> build/lib.linux-x86_64-3.7/PIL\n",
      "  copying src/PIL/ImageTransform.py -> build/lib.linux-x86_64-3.7/PIL\n",
      "  copying src/PIL/ImageWin.py -> build/lib.linux-x86_64-3.7/PIL\n",
      "  copying src/PIL/ImtImagePlugin.py -> build/lib.linux-x86_64-3.7/PIL\n",
      "  copying src/PIL/IptcImagePlugin.py -> build/lib.linux-x86_64-3.7/PIL\n",
      "  copying src/PIL/Jpeg2KImagePlugin.py -> build/lib.linux-x86_64-3.7/PIL\n",
      "  copying src/PIL/JpegImagePlugin.py -> build/lib.linux-x86_64-3.7/PIL\n",
      "  copying src/PIL/JpegPresets.py -> build/lib.linux-x86_64-3.7/PIL\n",
      "  copying src/PIL/McIdasImagePlugin.py -> build/lib.linux-x86_64-3.7/PIL\n",
      "  copying src/PIL/MicImagePlugin.py -> build/lib.linux-x86_64-3.7/PIL\n",
      "  copying src/PIL/MpegImagePlugin.py -> build/lib.linux-x86_64-3.7/PIL\n",
      "  copying src/PIL/MpoImagePlugin.py -> build/lib.linux-x86_64-3.7/PIL\n",
      "  copying src/PIL/MspImagePlugin.py -> build/lib.linux-x86_64-3.7/PIL\n",
      "  copying src/PIL/PSDraw.py -> build/lib.linux-x86_64-3.7/PIL\n",
      "  copying src/PIL/PaletteFile.py -> build/lib.linux-x86_64-3.7/PIL\n",
      "  copying src/PIL/PalmImagePlugin.py -> build/lib.linux-x86_64-3.7/PIL\n",
      "  copying src/PIL/PcdImagePlugin.py -> build/lib.linux-x86_64-3.7/PIL\n",
      "  copying src/PIL/PcfFontFile.py -> build/lib.linux-x86_64-3.7/PIL\n",
      "  copying src/PIL/PcxImagePlugin.py -> build/lib.linux-x86_64-3.7/PIL\n",
      "  copying src/PIL/PdfImagePlugin.py -> build/lib.linux-x86_64-3.7/PIL\n",
      "  copying src/PIL/PdfParser.py -> build/lib.linux-x86_64-3.7/PIL\n",
      "  copying src/PIL/PixarImagePlugin.py -> build/lib.linux-x86_64-3.7/PIL\n",
      "  copying src/PIL/PngImagePlugin.py -> build/lib.linux-x86_64-3.7/PIL\n",
      "  copying src/PIL/PpmImagePlugin.py -> build/lib.linux-x86_64-3.7/PIL\n",
      "  copying src/PIL/PsdImagePlugin.py -> build/lib.linux-x86_64-3.7/PIL\n",
      "  copying src/PIL/PyAccess.py -> build/lib.linux-x86_64-3.7/PIL\n",
      "  copying src/PIL/SgiImagePlugin.py -> build/lib.linux-x86_64-3.7/PIL\n",
      "  copying src/PIL/SpiderImagePlugin.py -> build/lib.linux-x86_64-3.7/PIL\n",
      "  copying src/PIL/SunImagePlugin.py -> build/lib.linux-x86_64-3.7/PIL\n",
      "  copying src/PIL/TarIO.py -> build/lib.linux-x86_64-3.7/PIL\n",
      "  copying src/PIL/TgaImagePlugin.py -> build/lib.linux-x86_64-3.7/PIL\n",
      "  copying src/PIL/TiffImagePlugin.py -> build/lib.linux-x86_64-3.7/PIL\n",
      "  copying src/PIL/TiffTags.py -> build/lib.linux-x86_64-3.7/PIL\n",
      "  copying src/PIL/WalImageFile.py -> build/lib.linux-x86_64-3.7/PIL\n",
      "  copying src/PIL/WebPImagePlugin.py -> build/lib.linux-x86_64-3.7/PIL\n",
      "  copying src/PIL/WmfImagePlugin.py -> build/lib.linux-x86_64-3.7/PIL\n",
      "  copying src/PIL/XVThumbImagePlugin.py -> build/lib.linux-x86_64-3.7/PIL\n",
      "  copying src/PIL/XbmImagePlugin.py -> build/lib.linux-x86_64-3.7/PIL\n",
      "  copying src/PIL/XpmImagePlugin.py -> build/lib.linux-x86_64-3.7/PIL\n",
      "  copying src/PIL/__init__.py -> build/lib.linux-x86_64-3.7/PIL\n",
      "  copying src/PIL/__main__.py -> build/lib.linux-x86_64-3.7/PIL\n",
      "  copying src/PIL/_binary.py -> build/lib.linux-x86_64-3.7/PIL\n",
      "  copying src/PIL/_tkinter_finder.py -> build/lib.linux-x86_64-3.7/PIL\n",
      "  copying src/PIL/_util.py -> build/lib.linux-x86_64-3.7/PIL\n",
      "  copying src/PIL/_version.py -> build/lib.linux-x86_64-3.7/PIL\n",
      "  copying src/PIL/features.py -> build/lib.linux-x86_64-3.7/PIL\n",
      "  running egg_info\n",
      "  writing src/UNKNOWN.egg-info/PKG-INFO\n",
      "  writing dependency_links to src/UNKNOWN.egg-info/dependency_links.txt\n",
      "  writing top-level names to src/UNKNOWN.egg-info/top_level.txt\n",
      "  warning: manifest_maker: standard file '-c' not found\n",
      "  \n",
      "  reading manifest file 'src/UNKNOWN.egg-info/SOURCES.txt'\n",
      "  reading manifest template 'MANIFEST.in'\n",
      "  warning: no files found matching '*.c'\n",
      "  warning: no files found matching '*.h'\n",
      "  warning: no files found matching '*.sh'\n",
      "  warning: no previously-included files found matching '.appveyor.yml'\n",
      "  warning: no previously-included files found matching '.clang-format'\n",
      "  warning: no previously-included files found matching '.coveragerc'\n",
      "  warning: no previously-included files found matching '.editorconfig'\n",
      "  warning: no previously-included files found matching '.readthedocs.yml'\n",
      "  warning: no previously-included files found matching 'codecov.yml'\n",
      "  warning: no previously-included files matching '.git*' found anywhere in distribution\n",
      "  warning: no previously-included files matching '*.pyc' found anywhere in distribution\n",
      "  warning: no previously-included files matching '*.so' found anywhere in distribution\n",
      "  no previously-included directories found matching '.ci'\n",
      "  writing manifest file 'src/UNKNOWN.egg-info/SOURCES.txt'\n",
      "  running build_ext\n",
      "  \n",
      "  \n",
      "  The headers or library files could not be found for jpeg,\n",
      "  a required dependency when compiling Pillow from source.\n",
      "  \n",
      "  Please see the install instructions at:\n",
      "     https://pillow.readthedocs.io/en/latest/installation.html\n",
      "  \n",
      "  Traceback (most recent call last):\n",
      "    File \"/mnt/tmp/pip-build-58bhnfky/pillow/setup.py\", line 996, in <module>\n",
      "      zip_safe=not (debug_build() or PLATFORM_MINGW),\n",
      "    File \"/usr/lib64/python3.7/distutils/core.py\", line 148, in setup\n",
      "      dist.run_commands()\n",
      "    File \"/usr/lib64/python3.7/distutils/dist.py\", line 966, in run_commands\n",
      "      self.run_command(cmd)\n",
      "    File \"/usr/lib64/python3.7/distutils/dist.py\", line 985, in run_command\n",
      "      cmd_obj.run()\n",
      "    File \"/tmp/1653561365937-0/lib/python3.7/site-packages/wheel/bdist_wheel.py\", line 179, in run\n",
      "      self.run_command('build')\n",
      "    File \"/usr/lib64/python3.7/distutils/cmd.py\", line 313, in run_command\n",
      "      self.distribution.run_command(command)\n",
      "    File \"/usr/lib64/python3.7/distutils/dist.py\", line 985, in run_command\n",
      "      cmd_obj.run()\n",
      "    File \"/usr/lib64/python3.7/distutils/command/build.py\", line 135, in run\n",
      "      self.run_command(cmd_name)\n",
      "    File \"/usr/lib64/python3.7/distutils/cmd.py\", line 313, in run_command\n",
      "      self.distribution.run_command(command)\n",
      "    File \"/usr/lib64/python3.7/distutils/dist.py\", line 985, in run_command\n",
      "      cmd_obj.run()\n",
      "    File \"/tmp/1653561365937-0/lib/python3.7/site-packages/setuptools/command/build_ext.py\", line 75, in run\n",
      "      _build_ext.run(self)\n",
      "    File \"/usr/lib64/python3.7/distutils/command/build_ext.py\", line 340, in run\n",
      "      self.build_extensions()\n",
      "    File \"/mnt/tmp/pip-build-58bhnfky/pillow/setup.py\", line 804, in build_extensions\n",
      "      raise RequiredDependencyException(f)\n",
      "  __main__.RequiredDependencyException: jpeg\n",
      "  \n",
      "  During handling of the above exception, another exception occurred:\n",
      "  \n",
      "  Traceback (most recent call last):\n",
      "    File \"<string>\", line 1, in <module>\n",
      "    File \"/mnt/tmp/pip-build-58bhnfky/pillow/setup.py\", line 1009, in <module>\n",
      "      raise RequiredDependencyException(msg)\n",
      "  __main__.RequiredDependencyException:\n",
      "  \n",
      "  The headers or library files could not be found for jpeg,\n",
      "  a required dependency when compiling Pillow from source.\n",
      "  \n",
      "  Please see the install instructions at:\n",
      "     https://pillow.readthedocs.io/en/latest/installation.html\n",
      "  \n",
      "  \n",
      "  \n",
      "  ----------------------------------------\n",
      "  Running setup.py clean for unknown\n",
      "Failed to build unknown numpy unknown\n",
      "Installing collected packages: packaging, unknown, fonttools, numpy, matplotlib\n",
      "  Running setup.py install for unknown: started\n",
      "    Running setup.py install for unknown: finished with status 'error'\n",
      "    Complete output from command /tmp/1653561365937-0/bin/python -u -c \"import setuptools, tokenize;__file__='/mnt/tmp/pip-build-58bhnfky/pillow/setup.py';f=getattr(tokenize, 'open', open)(__file__);code=f.read().replace('\\r\\n', '\\n');f.close();exec(compile(code, __file__, 'exec'))\" install --record /tmp/pip-jpokwdo6-record/install-record.txt --single-version-externally-managed --compile --install-headers /tmp/1653561365937-0/include/site/python3.7/unknown:\n",
      "    running install\n",
      "    running build\n",
      "    running build_py\n",
      "    creating build\n",
      "    creating build/lib.linux-x86_64-3.7\n",
      "    creating build/lib.linux-x86_64-3.7/PIL\n",
      "    copying src/PIL/BdfFontFile.py -> build/lib.linux-x86_64-3.7/PIL\n",
      "    copying src/PIL/BlpImagePlugin.py -> build/lib.linux-x86_64-3.7/PIL\n",
      "    copying src/PIL/BmpImagePlugin.py -> build/lib.linux-x86_64-3.7/PIL\n",
      "    copying src/PIL/BufrStubImagePlugin.py -> build/lib.linux-x86_64-3.7/PIL\n",
      "    copying src/PIL/ContainerIO.py -> build/lib.linux-x86_64-3.7/PIL\n",
      "    copying src/PIL/CurImagePlugin.py -> build/lib.linux-x86_64-3.7/PIL\n",
      "    copying src/PIL/DcxImagePlugin.py -> build/lib.linux-x86_64-3.7/PIL\n",
      "    copying src/PIL/DdsImagePlugin.py -> build/lib.linux-x86_64-3.7/PIL\n",
      "    copying src/PIL/EpsImagePlugin.py -> build/lib.linux-x86_64-3.7/PIL\n",
      "    copying src/PIL/ExifTags.py -> build/lib.linux-x86_64-3.7/PIL\n",
      "    copying src/PIL/FitsImagePlugin.py -> build/lib.linux-x86_64-3.7/PIL\n",
      "    copying src/PIL/FitsStubImagePlugin.py -> build/lib.linux-x86_64-3.7/PIL\n",
      "    copying src/PIL/FliImagePlugin.py -> build/lib.linux-x86_64-3.7/PIL\n",
      "    copying src/PIL/FontFile.py -> build/lib.linux-x86_64-3.7/PIL\n",
      "    copying src/PIL/FpxImagePlugin.py -> build/lib.linux-x86_64-3.7/PIL\n",
      "    copying src/PIL/FtexImagePlugin.py -> build/lib.linux-x86_64-3.7/PIL\n",
      "    copying src/PIL/GbrImagePlugin.py -> build/lib.linux-x86_64-3.7/PIL\n",
      "    copying src/PIL/GdImageFile.py -> build/lib.linux-x86_64-3.7/PIL\n",
      "    copying src/PIL/GifImagePlugin.py -> build/lib.linux-x86_64-3.7/PIL\n",
      "    copying src/PIL/GimpGradientFile.py -> build/lib.linux-x86_64-3.7/PIL\n",
      "    copying src/PIL/GimpPaletteFile.py -> build/lib.linux-x86_64-3.7/PIL\n",
      "    copying src/PIL/GribStubImagePlugin.py -> build/lib.linux-x86_64-3.7/PIL\n",
      "    copying src/PIL/Hdf5StubImagePlugin.py -> build/lib.linux-x86_64-3.7/PIL\n",
      "    copying src/PIL/IcnsImagePlugin.py -> build/lib.linux-x86_64-3.7/PIL\n",
      "    copying src/PIL/IcoImagePlugin.py -> build/lib.linux-x86_64-3.7/PIL\n",
      "    copying src/PIL/ImImagePlugin.py -> build/lib.linux-x86_64-3.7/PIL\n",
      "    copying src/PIL/Image.py -> build/lib.linux-x86_64-3.7/PIL\n",
      "    copying src/PIL/ImageChops.py -> build/lib.linux-x86_64-3.7/PIL\n",
      "    copying src/PIL/ImageCms.py -> build/lib.linux-x86_64-3.7/PIL\n",
      "    copying src/PIL/ImageColor.py -> build/lib.linux-x86_64-3.7/PIL\n",
      "    copying src/PIL/ImageDraw.py -> build/lib.linux-x86_64-3.7/PIL\n",
      "    copying src/PIL/ImageDraw2.py -> build/lib.linux-x86_64-3.7/PIL\n",
      "    copying src/PIL/ImageEnhance.py -> build/lib.linux-x86_64-3.7/PIL\n",
      "    copying src/PIL/ImageFile.py -> build/lib.linux-x86_64-3.7/PIL\n",
      "    copying src/PIL/ImageFilter.py -> build/lib.linux-x86_64-3.7/PIL\n",
      "    copying src/PIL/ImageFont.py -> build/lib.linux-x86_64-3.7/PIL\n",
      "    copying src/PIL/ImageGrab.py -> build/lib.linux-x86_64-3.7/PIL\n",
      "    copying src/PIL/ImageMath.py -> build/lib.linux-x86_64-3.7/PIL\n",
      "    copying src/PIL/ImageMode.py -> build/lib.linux-x86_64-3.7/PIL\n",
      "    copying src/PIL/ImageMorph.py -> build/lib.linux-x86_64-3.7/PIL\n",
      "    copying src/PIL/ImageOps.py -> build/lib.linux-x86_64-3.7/PIL\n",
      "    copying src/PIL/ImagePalette.py -> build/lib.linux-x86_64-3.7/PIL\n",
      "    copying src/PIL/ImagePath.py -> build/lib.linux-x86_64-3.7/PIL\n",
      "    copying src/PIL/ImageQt.py -> build/lib.linux-x86_64-3.7/PIL\n",
      "    copying src/PIL/ImageSequence.py -> build/lib.linux-x86_64-3.7/PIL\n",
      "    copying src/PIL/ImageShow.py -> build/lib.linux-x86_64-3.7/PIL\n",
      "    copying src/PIL/ImageStat.py -> build/lib.linux-x86_64-3.7/PIL\n",
      "    copying src/PIL/ImageTk.py -> build/lib.linux-x86_64-3.7/PIL\n",
      "    copying src/PIL/ImageTransform.py -> build/lib.linux-x86_64-3.7/PIL\n",
      "    copying src/PIL/ImageWin.py -> build/lib.linux-x86_64-3.7/PIL\n",
      "    copying src/PIL/ImtImagePlugin.py -> build/lib.linux-x86_64-3.7/PIL\n",
      "    copying src/PIL/IptcImagePlugin.py -> build/lib.linux-x86_64-3.7/PIL\n",
      "    copying src/PIL/Jpeg2KImagePlugin.py -> build/lib.linux-x86_64-3.7/PIL\n",
      "    copying src/PIL/JpegImagePlugin.py -> build/lib.linux-x86_64-3.7/PIL\n",
      "    copying src/PIL/JpegPresets.py -> build/lib.linux-x86_64-3.7/PIL\n",
      "    copying src/PIL/McIdasImagePlugin.py -> build/lib.linux-x86_64-3.7/PIL\n",
      "    copying src/PIL/MicImagePlugin.py -> build/lib.linux-x86_64-3.7/PIL\n",
      "    copying src/PIL/MpegImagePlugin.py -> build/lib.linux-x86_64-3.7/PIL\n",
      "    copying src/PIL/MpoImagePlugin.py -> build/lib.linux-x86_64-3.7/PIL\n",
      "    copying src/PIL/MspImagePlugin.py -> build/lib.linux-x86_64-3.7/PIL\n",
      "    copying src/PIL/PSDraw.py -> build/lib.linux-x86_64-3.7/PIL\n",
      "    copying src/PIL/PaletteFile.py -> build/lib.linux-x86_64-3.7/PIL\n",
      "    copying src/PIL/PalmImagePlugin.py -> build/lib.linux-x86_64-3.7/PIL\n",
      "    copying src/PIL/PcdImagePlugin.py -> build/lib.linux-x86_64-3.7/PIL\n",
      "    copying src/PIL/PcfFontFile.py -> build/lib.linux-x86_64-3.7/PIL\n",
      "    copying src/PIL/PcxImagePlugin.py -> build/lib.linux-x86_64-3.7/PIL\n",
      "    copying src/PIL/PdfImagePlugin.py -> build/lib.linux-x86_64-3.7/PIL\n",
      "    copying src/PIL/PdfParser.py -> build/lib.linux-x86_64-3.7/PIL\n",
      "    copying src/PIL/PixarImagePlugin.py -> build/lib.linux-x86_64-3.7/PIL\n",
      "    copying src/PIL/PngImagePlugin.py -> build/lib.linux-x86_64-3.7/PIL\n",
      "    copying src/PIL/PpmImagePlugin.py -> build/lib.linux-x86_64-3.7/PIL\n",
      "    copying src/PIL/PsdImagePlugin.py -> build/lib.linux-x86_64-3.7/PIL\n",
      "    copying src/PIL/PyAccess.py -> build/lib.linux-x86_64-3.7/PIL\n",
      "    copying src/PIL/SgiImagePlugin.py -> build/lib.linux-x86_64-3.7/PIL\n",
      "    copying src/PIL/SpiderImagePlugin.py -> build/lib.linux-x86_64-3.7/PIL\n",
      "    copying src/PIL/SunImagePlugin.py -> build/lib.linux-x86_64-3.7/PIL\n",
      "    copying src/PIL/TarIO.py -> build/lib.linux-x86_64-3.7/PIL\n",
      "    copying src/PIL/TgaImagePlugin.py -> build/lib.linux-x86_64-3.7/PIL\n",
      "    copying src/PIL/TiffImagePlugin.py -> build/lib.linux-x86_64-3.7/PIL\n",
      "    copying src/PIL/TiffTags.py -> build/lib.linux-x86_64-3.7/PIL\n",
      "    copying src/PIL/WalImageFile.py -> build/lib.linux-x86_64-3.7/PIL\n",
      "    copying src/PIL/WebPImagePlugin.py -> build/lib.linux-x86_64-3.7/PIL\n",
      "    copying src/PIL/WmfImagePlugin.py -> build/lib.linux-x86_64-3.7/PIL\n",
      "    copying src/PIL/XVThumbImagePlugin.py -> build/lib.linux-x86_64-3.7/PIL\n",
      "    copying src/PIL/XbmImagePlugin.py -> build/lib.linux-x86_64-3.7/PIL\n",
      "    copying src/PIL/XpmImagePlugin.py -> build/lib.linux-x86_64-3.7/PIL\n",
      "    copying src/PIL/__init__.py -> build/lib.linux-x86_64-3.7/PIL\n",
      "    copying src/PIL/__main__.py -> build/lib.linux-x86_64-3.7/PIL\n",
      "    copying src/PIL/_binary.py -> build/lib.linux-x86_64-3.7/PIL\n",
      "    copying src/PIL/_tkinter_finder.py -> build/lib.linux-x86_64-3.7/PIL\n",
      "    copying src/PIL/_util.py -> build/lib.linux-x86_64-3.7/PIL\n",
      "    copying src/PIL/_version.py -> build/lib.linux-x86_64-3.7/PIL\n",
      "    copying src/PIL/features.py -> build/lib.linux-x86_64-3.7/PIL\n",
      "    running egg_info\n",
      "    writing src/UNKNOWN.egg-info/PKG-INFO\n",
      "    writing dependency_links to src/UNKNOWN.egg-info/dependency_links.txt\n",
      "    writing top-level names to src/UNKNOWN.egg-info/top_level.txt\n",
      "    warning: manifest_maker: standard file '-c' not found\n",
      "    \n",
      "    reading manifest file 'src/UNKNOWN.egg-info/SOURCES.txt'\n",
      "    reading manifest template 'MANIFEST.in'\n",
      "    warning: no files found matching '*.c'\n",
      "    warning: no files found matching '*.h'\n",
      "    warning: no files found matching '*.sh'\n",
      "    warning: no previously-included files found matching '.appveyor.yml'\n",
      "    warning: no previously-included files found matching '.clang-format'\n",
      "    warning: no previously-included files found matching '.coveragerc'\n",
      "    warning: no previously-included files found matching '.editorconfig'\n",
      "    warning: no previously-included files found matching '.readthedocs.yml'\n",
      "    warning: no previously-included files found matching 'codecov.yml'\n",
      "    warning: no previously-included files matching '.git*' found anywhere in distribution\n",
      "    warning: no previously-included files matching '*.pyc' found anywhere in distribution\n",
      "    warning: no previously-included files matching '*.so' found anywhere in distribution\n",
      "    no previously-included directories found matching '.ci'\n",
      "    writing manifest file 'src/UNKNOWN.egg-info/SOURCES.txt'\n",
      "    running build_ext\n",
      "    \n",
      "    \n",
      "    The headers or library files could not be found for jpeg,\n",
      "    a required dependency when compiling Pillow from source.\n",
      "    \n",
      "    Please see the install instructions at:\n",
      "       https://pillow.readthedocs.io/en/latest/installation.html\n",
      "    \n",
      "    Traceback (most recent call last):\n",
      "      File \"/mnt/tmp/pip-build-58bhnfky/pillow/setup.py\", line 996, in <module>\n",
      "        zip_safe=not (debug_build() or PLATFORM_MINGW),\n",
      "      File \"/usr/lib64/python3.7/distutils/core.py\", line 148, in setup\n",
      "        dist.run_commands()\n",
      "      File \"/usr/lib64/python3.7/distutils/dist.py\", line 966, in run_commands\n",
      "        self.run_command(cmd)\n",
      "      File \"/usr/lib64/python3.7/distutils/dist.py\", line 985, in run_command\n",
      "        cmd_obj.run()\n",
      "      File \"/tmp/1653561365937-0/lib/python3.7/site-packages/setuptools/command/install.py\", line 61, in run\n",
      "        return orig.install.run(self)\n",
      "      File \"/usr/lib64/python3.7/distutils/command/install.py\", line 556, in run\n",
      "        self.run_command('build')\n",
      "      File \"/usr/lib64/python3.7/distutils/cmd.py\", line 313, in run_command\n",
      "        self.distribution.run_command(command)\n",
      "      File \"/usr/lib64/python3.7/distutils/dist.py\", line 985, in run_command\n",
      "        cmd_obj.run()\n",
      "      File \"/usr/lib64/python3.7/distutils/command/build.py\", line 135, in run\n",
      "        self.run_command(cmd_name)\n",
      "      File \"/usr/lib64/python3.7/distutils/cmd.py\", line 313, in run_command\n",
      "        self.distribution.run_command(command)\n",
      "      File \"/usr/lib64/python3.7/distutils/dist.py\", line 985, in run_command\n",
      "        cmd_obj.run()\n",
      "      File \"/tmp/1653561365937-0/lib/python3.7/site-packages/setuptools/command/build_ext.py\", line 75, in run\n",
      "        _build_ext.run(self)\n",
      "      File \"/usr/lib64/python3.7/distutils/command/build_ext.py\", line 340, in run\n",
      "        self.build_extensions()\n",
      "      File \"/mnt/tmp/pip-build-58bhnfky/pillow/setup.py\", line 804, in build_extensions\n",
      "        raise RequiredDependencyException(f)\n",
      "    __main__.RequiredDependencyException: jpeg\n",
      "    \n",
      "    During handling of the above exception, another exception occurred:\n",
      "    \n",
      "    Traceback (most recent call last):\n",
      "      File \"<string>\", line 1, in <module>\n",
      "      File \"/mnt/tmp/pip-build-58bhnfky/pillow/setup.py\", line 1009, in <module>\n",
      "        raise RequiredDependencyException(msg)\n",
      "    __main__.RequiredDependencyException:\n",
      "    \n",
      "    The headers or library files could not be found for jpeg,\n",
      "    a required dependency when compiling Pillow from source.\n",
      "    \n",
      "    Please see the install instructions at:\n",
      "       https://pillow.readthedocs.io/en/latest/installation.html\n",
      "    \n",
      "    \n",
      "    \n",
      "    ----------------------------------------\n",
      "\n",
      "You are using pip version 9.0.1, however version 22.1.1 is available.\n",
      "You should consider upgrading via the 'pip install --upgrade pip' command.\n",
      "\n",
      "  Running setup.py (path:/mnt/tmp/pip-build-58bhnfky/pillow/setup.py) egg_info for package pillow produced metadata for project name unknown. Fix your #egg=pillow fragments.\n",
      "  Failed building wheel for unknown\n",
      "  Failed building wheel for numpy\n",
      "  Failed cleaning build dir for numpy\n",
      "  Failed building wheel for unknown\n",
      "Command \"/tmp/1653561365937-0/bin/python -u -c \"import setuptools, tokenize;__file__='/mnt/tmp/pip-build-58bhnfky/pillow/setup.py';f=getattr(tokenize, 'open', open)(__file__);code=f.read().replace('\\r\\n', '\\n');f.close();exec(compile(code, __file__, 'exec'))\" install --record /tmp/pip-jpokwdo6-record/install-record.txt --single-version-externally-managed --compile --install-headers /tmp/1653561365937-0/include/site/python3.7/unknown\" failed with error code 1 in /mnt/tmp/pip-build-58bhnfky/pillow/\n",
      "You are using pip version 9.0.1, however version 22.1.1 is available.\n",
      "You should consider upgrading via the 'pip install --upgrade pip' command."
     ]
    }
   ],
   "source": [
    "\n",
    "#sc.install_pypi_package(\"cython\")\n",
    "#sc.install_pypi_package(\"matplotlib\", \"https://pypi.org/simple\")\n",
    "sc.uninstall_package('matplotlib')\n",
    "sc.install_pypi_package(\"matplotlib\")\n",
    "#sc.install_pypi_package(\"pandas==0.25.1\")\n",
    "#sc.install_pypi_package(\"numpy\")\n",
    "#sc.list_packages()"
   ]
  },
  {
   "cell_type": "code",
   "execution_count": null,
   "id": "09f13425-ca75-4b88-9df1-f0edd83c0524",
   "metadata": {
    "execution": {
     "iopub.status.busy": "2022-05-24T15:32:27.749842Z",
     "iopub.status.idle": "2022-05-24T15:32:27.750053Z",
     "shell.execute_reply": "2022-05-24T15:32:27.749951Z"
    },
    "tags": []
   },
   "outputs": [],
   "source": [
    "df2 = df.limit(1000)"
   ]
  },
  {
   "cell_type": "code",
   "execution_count": 6,
   "id": "b30f8704-bb17-436c-b1fa-b3878b37c963",
   "metadata": {
    "execution": {
     "iopub.execute_input": "2022-05-26T10:37:45.880943Z",
     "iopub.status.busy": "2022-05-26T10:37:45.880714Z",
     "iopub.status.idle": "2022-05-26T10:37:45.926177Z",
     "shell.execute_reply": "2022-05-26T10:37:45.925698Z",
     "shell.execute_reply.started": "2022-05-26T10:37:45.880919Z"
    },
    "tags": []
   },
   "outputs": [
    {
     "data": {
      "application/vnd.jupyter.widget-view+json": {
       "model_id": "fbfb86fa4cfc4a9cb69e1646609aa1bb",
       "version_major": 2,
       "version_minor": 0
      },
      "text/plain": [
       "VBox()"
      ]
     },
     "metadata": {},
     "output_type": "display_data"
    },
    {
     "data": {
      "application/vnd.jupyter.widget-view+json": {
       "model_id": "",
       "version_major": 2,
       "version_minor": 0
      },
      "text/plain": [
       "FloatProgress(value=0.0, bar_style='info', description='Progress:', layout=Layout(height='25px', width='50%'),…"
      ]
     },
     "metadata": {},
     "output_type": "display_data"
    }
   ],
   "source": [
    "# Install Python Libraries\n",
    "#import pandas as pd\n",
    "#import regex as re\n",
    "import matplotlib.pyplot as plt"
   ]
  },
  {
   "cell_type": "code",
   "execution_count": null,
   "id": "f9071633-d8c0-4124-a494-b72468aa02c7",
   "metadata": {
    "execution": {
     "iopub.status.busy": "2022-05-24T15:32:27.751679Z",
     "iopub.status.idle": "2022-05-24T15:32:27.751891Z",
     "shell.execute_reply": "2022-05-24T15:32:27.751789Z"
    },
    "tags": []
   },
   "outputs": [],
   "source": [
    "# No of unique patients\n",
    "print('Unique Patients - ', df.select('patient_key').distinct().count())"
   ]
  },
  {
   "cell_type": "code",
   "execution_count": null,
   "id": "bfaa95e4-3714-4514-b00a-d3ed8ac9089b",
   "metadata": {
    "execution": {
     "iopub.status.busy": "2022-05-24T15:32:27.752505Z",
     "iopub.status.idle": "2022-05-24T15:32:27.752724Z",
     "shell.execute_reply": "2022-05-24T15:32:27.752611Z"
    },
    "tags": []
   },
   "outputs": [],
   "source": [
    "df_neg = df[df['Is_Negated'] == False]"
   ]
  },
  {
   "cell_type": "code",
   "execution_count": null,
   "id": "fe1ee105-f286-4fad-938d-364158ae3c0d",
   "metadata": {
    "execution": {
     "iopub.status.busy": "2022-05-24T15:32:27.753482Z",
     "iopub.status.idle": "2022-05-24T15:32:27.753695Z",
     "shell.execute_reply": "2022-05-24T15:32:27.753594Z"
    },
    "tags": []
   },
   "outputs": [],
   "source": [
    "print('Count Is_Negated Values - ', df_neg.count() ,'/', df.count(), ' which is ', (int(df_neg.count())/int(df.count())* 100), '%')"
   ]
  },
  {
   "cell_type": "code",
   "execution_count": null,
   "id": "264c26b0-9829-4217-aff1-ea987ff4cddd",
   "metadata": {
    "execution": {
     "iopub.status.busy": "2022-05-24T15:32:27.754290Z",
     "iopub.status.idle": "2022-05-24T15:32:27.754499Z",
     "shell.execute_reply": "2022-05-24T15:32:27.754398Z"
    },
    "scrolled": true,
    "tags": []
   },
   "outputs": [],
   "source": [
    "#### Calculating Age\n",
    "#df_neg[['pat_dob']].show(5)\n",
    "\n",
    "from pyspark.sql.functions import substring\n",
    "df_neg = df_neg.withColumn(\"year\", substring(col(\"pat_dob\"), 7, 10))"
   ]
  },
  {
   "cell_type": "code",
   "execution_count": null,
   "id": "d0e25da6-347a-460b-a59f-1521e0ce0023",
   "metadata": {
    "execution": {
     "iopub.status.busy": "2022-05-24T15:32:27.755151Z",
     "iopub.status.idle": "2022-05-24T15:32:27.755456Z",
     "shell.execute_reply": "2022-05-24T15:32:27.755327Z"
    },
    "tags": []
   },
   "outputs": [],
   "source": [
    "df_neg = df_neg.withColumn(\"age\", (2022 - df_neg['year']))\n",
    "df_neg = df_neg.withColumn(\"pat_age\",df_neg.age.cast('int'))\n",
    "\n",
    "df_neg[['pat_age']].show(5)"
   ]
  },
  {
   "cell_type": "code",
   "execution_count": null,
   "id": "e2ca9e86-c5c2-4c9d-9be3-cdc1c2f8a251",
   "metadata": {
    "execution": {
     "iopub.status.busy": "2022-05-24T15:32:27.756096Z",
     "iopub.status.idle": "2022-05-24T15:32:27.756303Z",
     "shell.execute_reply": "2022-05-24T15:32:27.756202Z"
    },
    "scrolled": true,
    "tags": []
   },
   "outputs": [],
   "source": [
    "#Patients having Alzheimer\n",
    "df_alz = df_neg[df_neg['Alzheimer'] == 1].select(['patient_key','UMLS_CUI','UMLS_Name','pat_gender','pat_city','pat_age','Thought_Disturbance','Abnormal_Behavior','Suicidal_Intent','Disorientated','Mental_Health_Impairment','Memory_Loss','Clouded_Consciousness','Agitation','Congnitive_Impairment']).dropDuplicates()\n",
    "df_overall = df_neg.select(['patient_key','UMLS_CUI','UMLS_Name','pat_gender','pat_city','pat_age','Thought_Disturbance','Abnormal_Behavior','Suicidal_Intent','Disorientated','Mental_Health_Impairment','Memory_Loss','Clouded_Consciousness','Agitation','Congnitive_Impairment']).dropDuplicates()"
   ]
  },
  {
   "cell_type": "code",
   "execution_count": null,
   "id": "e687496c-7878-4a32-b407-544fac2fcfd6",
   "metadata": {
    "execution": {
     "iopub.status.busy": "2022-05-24T15:32:27.757105Z",
     "iopub.status.idle": "2022-05-24T15:32:27.757319Z",
     "shell.execute_reply": "2022-05-24T15:32:27.757217Z"
    },
    "tags": []
   },
   "outputs": [],
   "source": [
    "#Patients having Anchor features Overall vs ALZ\n",
    "### Thought_Disturbance\n",
    "all_Thought_Disturbance = df_overall[df_overall['Thought_Disturbance'] == 1].select('patient_key')\n",
    "print('Overall Thought_Disturbance', all_Thought_Disturbance[['patient_key']].distinct().count())\n",
    "alz_Thought_Disturbance = df_alz[df_alz['Thought_Disturbance'] == 1].select('patient_key')\n",
    "print('Alzheimer Thought_Disturbance', alz_Thought_Disturbance[['patient_key']].distinct().count())\n",
    "\n",
    "### Abnormal_Behavior\n",
    "all_Thought_Disturbance = df_overall[df_overall['Abnormal_Behavior'] == 1].select('patient_key')\n",
    "print('Overall Abnormal_Behavior', all_Thought_Disturbance[['patient_key']].distinct().count())\n",
    "alz_Thought_Disturbance = df_alz[df_alz['Abnormal_Behavior'] == 1].select('patient_key')\n",
    "print('Alzheimer Abnormal_Behavior', alz_Thought_Disturbance[['patient_key']].distinct().count())\n",
    "\n",
    "### Suicidal_Intent\n",
    "all_Thought_Disturbance = df_overall[df_overall['Suicidal_Intent'] == 1].select('patient_key')\n",
    "print('Overall Suicidal_Intent', all_Thought_Disturbance[['patient_key']].distinct().count())\n",
    "alz_Thought_Disturbance = df_alz[df_alz['Suicidal_Intent'] == 1].select('patient_key')\n",
    "print('Alzheimer Suicidal_Intent', alz_Thought_Disturbance[['patient_key']].distinct().count())\n",
    "\n",
    "### Disorientated\n",
    "all_Thought_Disturbance = df_overall[df_overall['Disorientated'] == 1].select('patient_key')\n",
    "print('Overall Disorientated', all_Thought_Disturbance[['patient_key']].distinct().count())\n",
    "alz_Thought_Disturbance = df_alz[df_alz['Disorientated'] == 1].select('patient_key')\n",
    "print('Alzheimer Disorientated', alz_Thought_Disturbance[['patient_key']].distinct().count())\n",
    "\n",
    "\n",
    "### Mental_Health_Impairment\n",
    "all_Mental_Health_Impairment = df_overall[df_overall['Mental_Health_Impairment'] == 1].select('patient_key')\n",
    "print('Overall Mental_Health_Impairment', all_Mental_Health_Impairment[['patient_key']].distinct().count())\n",
    "alz_Mental_Health_Impairment = df_alz[df_alz['Mental_Health_Impairment'] == 1].select('patient_key')\n",
    "print('Alzheimer Mental_Health_Impairment', alz_Mental_Health_Impairment[['patient_key']].distinct().count())\n",
    "\n",
    "\n",
    "### Memory_Loss\n",
    "all_Thought_Disturbance = df_overall[df_overall['Memory_Loss'] == 1].select('patient_key')\n",
    "print('Overall Memory_Loss', all_Thought_Disturbance[['patient_key']].distinct().count())\n",
    "alz_Thought_Disturbance = df_alz[df_alz['Memory_Loss'] == 1].select('patient_key')\n",
    "print('Alzheimer Memory_Loss', alz_Thought_Disturbance[['patient_key']].distinct().count())\n",
    "\n",
    "### Clouded_Consciousness\n",
    "all_Thought_Disturbance = df_overall[df_overall['Clouded_Consciousness'] == 1].select('patient_key')\n",
    "print('Overall Clouded_Consciousness', all_Thought_Disturbance[['patient_key']].distinct().count())\n",
    "alz_Thought_Disturbance = df_alz[df_alz['Clouded_Consciousness'] == 1].select('patient_key')\n",
    "print('Alzheimer Clouded_Consciousness', alz_Thought_Disturbance[['patient_key']].distinct().count())\n",
    "\n",
    "### Agitation\n",
    "all_Thought_Disturbance = df_overall[df_overall['Agitation'] == 1].select('patient_key')\n",
    "print('Overall Agitation', all_Thought_Disturbance[['patient_key']].distinct().count())\n",
    "alz_Thought_Disturbance = df_alz[df_alz['Agitation'] == 1].select('patient_key')\n",
    "print('Alzheimer Agitation', alz_Thought_Disturbance[['patient_key']].distinct().count())\n",
    "\n",
    "### Congnitive_Impairment\n",
    "all_Thought_Disturbance = df_overall[df_overall['Congnitive_Impairment'] == 1].select('patient_key')\n",
    "print('Overall Congnitive_Impairment', all_Thought_Disturbance[['patient_key']].distinct().count())\n",
    "alz_Thought_Disturbance = df_alz[df_alz['Congnitive_Impairment'] == 1].select('patient_key')\n",
    "print('Alzheimer Congnitive_Impairment', alz_Thought_Disturbance[['patient_key']].distinct().count())"
   ]
  },
  {
   "cell_type": "code",
   "execution_count": null,
   "id": "2954abdb-0e79-4c5c-bd0a-7f252a8a686a",
   "metadata": {
    "execution": {
     "iopub.status.busy": "2022-05-24T15:32:27.758012Z",
     "iopub.status.idle": "2022-05-24T15:32:27.758240Z",
     "shell.execute_reply": "2022-05-24T15:32:27.758135Z"
    },
    "tags": []
   },
   "outputs": [],
   "source": [
    "### Total Patients having Alzheimer\n",
    "alz_cnt = df_alz[['patient_key']].distinct().count()\n",
    "print('Alzheimer count', alz_cnt)\n",
    "\n",
    "#Gender\n",
    "all_Gender_M = df_overall[df_overall['pat_gender'] == 'M'].select('patient_key')\n",
    "all_Gender_F = df_overall[df_overall['pat_gender'] == 'F'].select('patient_key')\n",
    "\n",
    "\n",
    "alz_Gender_M = df_alz[df_alz['pat_gender'] == 'M'].select('patient_key')\n",
    "alz_Gender_F = df_alz[df_alz['pat_gender'] == 'F'].select('patient_key')\n",
    "\n",
    "\n",
    "print('all_Gender_M', all_Gender_M[['patient_key']].distinct().count())\n",
    "print('all_Gender_F', all_Gender_F[['patient_key']].distinct().count())\n",
    "print('alz_Gender_M', alz_Gender_M[['patient_key']].distinct().count())\n",
    "print('alz_Gender_F', alz_Gender_F[['patient_key']].distinct().count())\n",
    "\n",
    "###"
   ]
  },
  {
   "cell_type": "code",
   "execution_count": null,
   "id": "e60ba265-a75f-47ff-972d-e5d5afa90ea6",
   "metadata": {
    "execution": {
     "iopub.status.busy": "2022-05-24T15:32:27.758896Z",
     "iopub.status.idle": "2022-05-24T15:32:27.759183Z",
     "shell.execute_reply": "2022-05-24T15:32:27.759077Z"
    },
    "tags": []
   },
   "outputs": [],
   "source": [
    "from pyspark.sql.functions import when, col\n",
    "conditions = when(col(\"pat_age\") < 50, \"<50\").when(col(\"pat_age\").between(50,55), \"50-55\").when(col(\"pat_age\").between(55,60), \"55-60\").when(col(\"pat_age\").between(60,65), \"60-65\").when(col(\"pat_age\").between(65,70), \"65-70\").when(col(\"pat_age\").between(70,75), \"70-75\").when(col(\"pat_age\").between(75,80), \"75-80\").when(col(\"pat_age\").between(80,85), \"80-85\").when(col(\"pat_age\").between(85,90), \"85-90\").when(col(\"pat_age\").between(90,150), \">90\")\n",
    "df_alz = df_alz.withColumn(\"age_catg\", conditions)"
   ]
  },
  {
   "cell_type": "code",
   "execution_count": null,
   "id": "0b1be835-3e77-414b-82aa-d86696d425ce",
   "metadata": {
    "execution": {
     "iopub.status.busy": "2022-05-24T15:32:27.759883Z",
     "iopub.status.idle": "2022-05-24T15:32:27.760094Z",
     "shell.execute_reply": "2022-05-24T15:32:27.759992Z"
    },
    "tags": []
   },
   "outputs": [],
   "source": [
    "df_age = df_alz.select(['patient_key','age_catg']).drop_duplicates()\n",
    "df_age = df_age.groupBy('age_catg').count().sort(\"age_catg\").toPandas()\n",
    "df_age"
   ]
  },
  {
   "cell_type": "code",
   "execution_count": null,
   "id": "1a7202e8-f612-4130-982d-c19c6d44b614",
   "metadata": {
    "execution": {
     "iopub.status.busy": "2022-05-24T15:32:27.760789Z",
     "iopub.status.idle": "2022-05-24T15:32:27.761000Z",
     "shell.execute_reply": "2022-05-24T15:32:27.760900Z"
    }
   },
   "outputs": [],
   "source": [
    "df_age"
   ]
  },
  {
   "cell_type": "code",
   "execution_count": null,
   "id": "69f4bfb0-468e-45e9-8563-e7b38b3d7ea6",
   "metadata": {
    "execution": {
     "iopub.status.busy": "2022-05-24T15:32:27.761665Z",
     "iopub.status.idle": "2022-05-24T15:32:27.761872Z",
     "shell.execute_reply": "2022-05-24T15:32:27.761774Z"
    }
   },
   "outputs": [],
   "source": [
    "plt.clf()\n",
    "labels = [f\"Age Category: {rating}\" for rating in df_age['age_catg']]\n",
    "reviews = [num_reviews for num_reviews in df_age['count']]\n",
    "colors = ['#00876c', '#89c079', '#fff392', '#fc9e5a', '#de425b']\n",
    "fig, ax = plt.subplots(figsize=(8,5))\n",
    "w,a,b = ax.pie(reviews, autopct='%1.1f%%', colors=colors)\n",
    "plt.title('Distribution of star ratings for books')\n",
    "ax.legend(w, labels, title=\"Star Ratings\", loc=\"center left\", bbox_to_anchor=(1, 0, 0.5, 1))"
   ]
  }
 ],
 "metadata": {
  "kernelspec": {
   "display_name": "PySpark",
   "language": "",
   "name": "pysparkkernel"
  },
  "language_info": {
   "codemirror_mode": {
    "name": "python",
    "version": 3
   },
   "mimetype": "text/x-python",
   "name": "pyspark",
   "pygments_lexer": "python3"
  }
 },
 "nbformat": 4,
 "nbformat_minor": 5
}
