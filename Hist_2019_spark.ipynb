{
 "cells": [
  {
   "cell_type": "code",
   "execution_count": 1,
   "id": "90425961-3ad5-4352-8bf7-7433c342c457",
   "metadata": {
    "execution": {
     "iopub.execute_input": "2022-05-28T06:47:27.226349Z",
     "iopub.status.busy": "2022-05-28T06:47:27.226093Z",
     "iopub.status.idle": "2022-05-28T06:47:50.786189Z",
     "shell.execute_reply": "2022-05-28T06:47:50.785684Z",
     "shell.execute_reply.started": "2022-05-28T06:47:27.226299Z"
    },
    "tags": []
   },
   "outputs": [
    {
     "data": {
      "application/vnd.jupyter.widget-view+json": {
       "model_id": "8bca11c0b928486781fb21c9980cf990",
       "version_major": 2,
       "version_minor": 0
      },
      "text/plain": [
       "VBox()"
      ]
     },
     "metadata": {},
     "output_type": "display_data"
    },
    {
     "name": "stdout",
     "output_type": "stream",
     "text": [
      "Starting Spark application\n"
     ]
    },
    {
     "data": {
      "text/html": [
       "<table>\n",
       "<tr><th>ID</th><th>YARN Application ID</th><th>Kind</th><th>State</th><th>Spark UI</th><th>Driver log</th><th>Current session?</th></tr><tr><td>0</td><td>application_1653719621549_0001</td><td>pyspark</td><td>idle</td><td><a target=\"_blank\" href=\"http://ip-172-31-18-160.ec2.internal:20888/proxy/application_1653719621549_0001/\" class=\"emr-proxy-link\" emr-resource=\"j-8WZHPSIOZHY4\n",
       "\" application-id=\"application_1653719621549_0001\">Link</a></td><td><a target=\"_blank\" href=\"http://ip-172-31-22-75.ec2.internal:8042/node/containerlogs/container_1653719621549_0001_01_000001/livy\" >Link</a></td><td>✔</td></tr></table>"
      ],
      "text/plain": [
       "<IPython.core.display.HTML object>"
      ]
     },
     "metadata": {},
     "output_type": "display_data"
    },
    {
     "data": {
      "application/vnd.jupyter.widget-view+json": {
       "model_id": "",
       "version_major": 2,
       "version_minor": 0
      },
      "text/plain": [
       "FloatProgress(value=0.0, bar_style='info', description='Progress:', layout=Layout(height='25px', width='50%'),…"
      ]
     },
     "metadata": {},
     "output_type": "display_data"
    },
    {
     "name": "stdout",
     "output_type": "stream",
     "text": [
      "SparkSession available as 'spark'.\n"
     ]
    },
    {
     "data": {
      "application/vnd.jupyter.widget-view+json": {
       "model_id": "",
       "version_major": 2,
       "version_minor": 0
      },
      "text/plain": [
       "FloatProgress(value=0.0, bar_style='info', description='Progress:', layout=Layout(height='25px', width='50%'),…"
      ]
     },
     "metadata": {},
     "output_type": "display_data"
    }
   ],
   "source": [
    "import os,re\n",
    "from pyspark.sql.functions import col, array_contains, array_position,year,to_date"
   ]
  },
  {
   "cell_type": "code",
   "execution_count": 2,
   "id": "425e6a2b-f342-4191-a123-bc33ea7b6951",
   "metadata": {
    "execution": {
     "iopub.execute_input": "2022-05-28T06:47:50.787262Z",
     "iopub.status.busy": "2022-05-28T06:47:50.787094Z",
     "iopub.status.idle": "2022-05-28T06:47:50.833822Z",
     "shell.execute_reply": "2022-05-28T06:47:50.833329Z",
     "shell.execute_reply.started": "2022-05-28T06:47:50.787241Z"
    },
    "tags": []
   },
   "outputs": [
    {
     "data": {
      "text/html": [
       "Current session configs: <tt>{'proxyUser': 'assumed-role_AWSReservedSSO_AWSPowerUserAccess_b440364ff0937dc7_AntonyChandraVibin_Paulraj_premierinc_com', 'conf': {'spark.pyspark.python': 'python3', 'spark.pyspark.virtualenv.enabled': 'true', 'spark.pyspark.virtualenv.type': 'native', 'spark.pyspark.virtualenv.bin.path': '/usr/bin/virtualenv'}, 'kind': 'pyspark'}</tt><br>"
      ],
      "text/plain": [
       "<IPython.core.display.HTML object>"
      ]
     },
     "metadata": {},
     "output_type": "display_data"
    },
    {
     "data": {
      "text/html": [
       "<table>\n",
       "<tr><th>ID</th><th>YARN Application ID</th><th>Kind</th><th>State</th><th>Spark UI</th><th>Driver log</th><th>Current session?</th></tr><tr><td>0</td><td>application_1653719621549_0001</td><td>pyspark</td><td>idle</td><td><a target=\"_blank\" href=\"http://ip-172-31-18-160.ec2.internal:20888/proxy/application_1653719621549_0001/\" class=\"emr-proxy-link\" emr-resource=\"j-8WZHPSIOZHY4\n",
       "\" application-id=\"application_1653719621549_0001\">Link</a></td><td><a target=\"_blank\" href=\"http://ip-172-31-22-75.ec2.internal:8042/node/containerlogs/container_1653719621549_0001_01_000001/livy\" >Link</a></td><td>✔</td></tr></table>"
      ],
      "text/plain": [
       "<IPython.core.display.HTML object>"
      ]
     },
     "metadata": {},
     "output_type": "display_data"
    }
   ],
   "source": [
    "%%info"
   ]
  },
  {
   "cell_type": "code",
   "execution_count": 3,
   "id": "161b21a6-1bb9-45c2-8ff7-28d0d241ab56",
   "metadata": {
    "execution": {
     "iopub.execute_input": "2022-05-28T06:47:50.835037Z",
     "iopub.status.busy": "2022-05-28T06:47:50.834874Z",
     "iopub.status.idle": "2022-05-28T06:48:17.536317Z",
     "shell.execute_reply": "2022-05-28T06:48:17.535670Z",
     "shell.execute_reply.started": "2022-05-28T06:47:50.835016Z"
    },
    "tags": []
   },
   "outputs": [
    {
     "name": "stdout",
     "output_type": "stream",
     "text": [
      "Starting Spark application\n"
     ]
    },
    {
     "data": {
      "text/html": [
       "<table>\n",
       "<tr><th>ID</th><th>YARN Application ID</th><th>Kind</th><th>State</th><th>Spark UI</th><th>Driver log</th><th>Current session?</th></tr><tr><td>1</td><td>application_1653719621549_0002</td><td>pyspark</td><td>idle</td><td><a target=\"_blank\" href=\"http://ip-172-31-18-160.ec2.internal:20888/proxy/application_1653719621549_0002/\" class=\"emr-proxy-link\" emr-resource=\"j-8WZHPSIOZHY4\n",
       "\" application-id=\"application_1653719621549_0002\">Link</a></td><td><a target=\"_blank\" href=\"http://ip-172-31-27-22.ec2.internal:8042/node/containerlogs/container_1653719621549_0002_01_000001/livy\" >Link</a></td><td>✔</td></tr></table>"
      ],
      "text/plain": [
       "<IPython.core.display.HTML object>"
      ]
     },
     "metadata": {},
     "output_type": "display_data"
    },
    {
     "data": {
      "application/vnd.jupyter.widget-view+json": {
       "model_id": "",
       "version_major": 2,
       "version_minor": 0
      },
      "text/plain": [
       "FloatProgress(value=0.0, bar_style='info', description='Progress:', layout=Layout(height='25px', width='50%'),…"
      ]
     },
     "metadata": {},
     "output_type": "display_data"
    },
    {
     "name": "stdout",
     "output_type": "stream",
     "text": [
      "SparkSession available as 'spark'.\n"
     ]
    },
    {
     "data": {
      "text/html": [
       "Current session configs: <tt>{'conf': {'spark.pyspark.python': 'python', 'spark.pyspark.virtualenv.enabled': 'true', 'spark.pyspark.virtualenv.type': 'native', 'spark.pyspark.virtualenv.bin.path': '/usr/bin/virtualenv'}, 'proxyUser': 'assumed-role_AWSReservedSSO_AWSPowerUserAccess_b440364ff0937dc7_AntonyChandraVibin_Paulraj_premierinc_com', 'kind': 'pyspark'}</tt><br>"
      ],
      "text/plain": [
       "<IPython.core.display.HTML object>"
      ]
     },
     "metadata": {},
     "output_type": "display_data"
    },
    {
     "data": {
      "text/html": [
       "<table>\n",
       "<tr><th>ID</th><th>YARN Application ID</th><th>Kind</th><th>State</th><th>Spark UI</th><th>Driver log</th><th>Current session?</th></tr><tr><td>1</td><td>application_1653719621549_0002</td><td>pyspark</td><td>idle</td><td><a target=\"_blank\" href=\"http://ip-172-31-18-160.ec2.internal:20888/proxy/application_1653719621549_0002/\" class=\"emr-proxy-link\" emr-resource=\"j-8WZHPSIOZHY4\n",
       "\" application-id=\"application_1653719621549_0002\">Link</a></td><td><a target=\"_blank\" href=\"http://ip-172-31-27-22.ec2.internal:8042/node/containerlogs/container_1653719621549_0002_01_000001/livy\" >Link</a></td><td>✔</td></tr></table>"
      ],
      "text/plain": [
       "<IPython.core.display.HTML object>"
      ]
     },
     "metadata": {},
     "output_type": "display_data"
    }
   ],
   "source": [
    "%%configure -f\n",
    "{ \"conf\":{\n",
    "          \"spark.pyspark.python\": \"python\",\n",
    "          \"spark.pyspark.virtualenv.enabled\": \"true\",\n",
    "          \"spark.pyspark.virtualenv.type\":\"native\",\n",
    "          \"spark.pyspark.virtualenv.bin.path\":\"/usr/bin/virtualenv\"\n",
    "         }\n",
    "}"
   ]
  },
  {
   "cell_type": "markdown",
   "id": "9c64846d-ea0b-4373-8d5a-eb7f9191d5f4",
   "metadata": {},
   "source": [
    "#### Installing Packages"
   ]
  },
  {
   "cell_type": "code",
   "execution_count": 4,
   "id": "54f952f3-8064-442e-918c-2a79a96b4c8c",
   "metadata": {
    "execution": {
     "iopub.execute_input": "2022-05-28T06:48:17.537479Z",
     "iopub.status.busy": "2022-05-28T06:48:17.537315Z",
     "iopub.status.idle": "2022-05-28T06:48:48.945785Z",
     "shell.execute_reply": "2022-05-28T06:48:48.945272Z",
     "shell.execute_reply.started": "2022-05-28T06:48:17.537458Z"
    },
    "scrolled": true,
    "tags": []
   },
   "outputs": [
    {
     "data": {
      "application/vnd.jupyter.widget-view+json": {
       "model_id": "1a31aa805f374956a6159bf8e59d59ab",
       "version_major": 2,
       "version_minor": 0
      },
      "text/plain": [
       "VBox()"
      ]
     },
     "metadata": {},
     "output_type": "display_data"
    },
    {
     "data": {
      "application/vnd.jupyter.widget-view+json": {
       "model_id": "",
       "version_major": 2,
       "version_minor": 0
      },
      "text/plain": [
       "FloatProgress(value=0.0, bar_style='info', description='Progress:', layout=Layout(height='25px', width='50%'),…"
      ]
     },
     "metadata": {},
     "output_type": "display_data"
    },
    {
     "name": "stdout",
     "output_type": "stream",
     "text": [
      "Collecting time\n",
      "\n",
      "Collecting cython\n",
      "  Downloading https://files.pythonhosted.org/packages/a5/a8/a8480dc84e4677f966839035a66f2fd3a8a63e44f246571d77afa9045769/Cython-0.29.30-cp27-cp27mu-manylinux_2_5_x86_64.manylinux1_x86_64.whl (1.9MB)\n",
      "Installing collected packages: cython\n",
      "Successfully installed cython-0.29.30\n",
      "\n",
      "Collecting boto3\n",
      "  Downloading https://files.pythonhosted.org/packages/5a/fd/d814f9cbefebbea88977628d11b860b5d564ba6f16f64c378e2da2a36405/boto3-1.17.112-py2.py3-none-any.whl (131kB)\n",
      "Collecting s3transfer<0.5.0,>=0.4.0 (from boto3)\n",
      "  Downloading https://files.pythonhosted.org/packages/63/d0/693477c688348654ddc21dcdce0817653a294aa43f41771084c25e7ff9c7/s3transfer-0.4.2-py2.py3-none-any.whl (79kB)\n",
      "Requirement already satisfied: jmespath<1.0.0,>=0.7.1 in /usr/lib/python2.7/site-packages (from boto3)\n",
      "Collecting botocore<1.21.0,>=1.20.112 (from boto3)\n",
      "  Downloading https://files.pythonhosted.org/packages/c7/ea/11c3beca131920f552602b98d7ba9fc5b46bee6a59cbd48a95a85cbb8f41/botocore-1.20.112-py2.py3-none-any.whl (7.7MB)\n",
      "Requirement already satisfied: futures<4.0.0,>=2.2.0; python_version == \"2.7\" in /usr/lib/python2.7/site-packages (from s3transfer<0.5.0,>=0.4.0->boto3)\n",
      "Requirement already satisfied: urllib3<1.27,>=1.25.4 in /usr/lib/python2.7/site-packages (from botocore<1.21.0,>=1.20.112->boto3)\n",
      "Requirement already satisfied: python-dateutil<3.0.0,>=2.1 in /usr/lib/python2.7/site-packages (from botocore<1.21.0,>=1.20.112->boto3)\n",
      "Requirement already satisfied: six>=1.5 in /usr/lib/python2.7/site-packages (from python-dateutil<3.0.0,>=2.1->botocore<1.21.0,>=1.20.112->boto3)\n",
      "Installing collected packages: botocore, s3transfer, boto3\n",
      "  Found existing installation: botocore 1.18.6\n",
      "    Not uninstalling botocore at /usr/lib/python2.7/site-packages, outside environment /tmp/1653720495251-0\n",
      "  Found existing installation: s3transfer 0.3.3\n",
      "    Not uninstalling s3transfer at /usr/lib/python2.7/site-packages, outside environment /tmp/1653720495251-0\n",
      "Successfully installed boto3-1.17.112 botocore-1.20.112 s3transfer-0.4.2\n",
      "\n",
      "Collecting s3fs\n",
      "  Downloading https://files.pythonhosted.org/packages/c0/fa/10093c48f0def7878f8945429c699e36d73e49b90a282ace2b7a553ed020/s3fs-0.2.2.tar.gz (47kB)\n",
      "Requirement already satisfied: boto3>=1.9.91 in /mnt/tmp/1653720495251-0/lib/python2.7/site-packages (from s3fs)\n",
      "Requirement already satisfied: botocore>=1.12.91 in /mnt/tmp/1653720495251-0/lib/python2.7/site-packages (from s3fs)\n",
      "Collecting six>=1.12.0 (from s3fs)\n",
      "  Downloading https://files.pythonhosted.org/packages/d9/5a/e7c31adbe875f2abbb91bd84cf2dc52d792b5a01506781dbcf25c91daf11/six-1.16.0-py2.py3-none-any.whl\n",
      "Requirement already satisfied: s3transfer<0.5.0,>=0.4.0 in /mnt/tmp/1653720495251-0/lib/python2.7/site-packages (from boto3>=1.9.91->s3fs)\n",
      "Requirement already satisfied: jmespath<1.0.0,>=0.7.1 in /usr/lib/python2.7/site-packages (from boto3>=1.9.91->s3fs)\n",
      "Requirement already satisfied: urllib3<1.27,>=1.25.4 in /usr/lib/python2.7/site-packages (from botocore>=1.12.91->s3fs)\n",
      "Requirement already satisfied: python-dateutil<3.0.0,>=2.1 in /usr/lib/python2.7/site-packages (from botocore>=1.12.91->s3fs)\n",
      "Requirement already satisfied: futures<4.0.0,>=2.2.0; python_version == \"2.7\" in /usr/lib/python2.7/site-packages (from s3transfer<0.5.0,>=0.4.0->boto3>=1.9.91->s3fs)\n",
      "Building wheels for collected packages: s3fs\n",
      "  Running setup.py bdist_wheel for s3fs: started\n",
      "  Running setup.py bdist_wheel for s3fs: finished with status 'done'\n",
      "  Stored in directory: /var/lib/livy/.cache/pip/wheels/94/20/c9/b0256fe423de22bca83518fe0f7eba34ae1b9591a9d8c2d3b4\n",
      "Successfully built s3fs\n",
      "Installing collected packages: six, s3fs\n",
      "  Found existing installation: six 1.9.0\n",
      "    Not uninstalling six at /usr/lib/python2.7/site-packages, outside environment /tmp/1653720495251-0\n",
      "Successfully installed s3fs-0.2.2 six-1.16.0\n",
      "\n",
      "Collecting pandas\n",
      "  Downloading https://files.pythonhosted.org/packages/db/83/7d4008ffc2988066ff37f6a0bb6d7b60822367dcb36ba5e39aa7801fda54/pandas-0.24.2-cp27-cp27mu-manylinux1_x86_64.whl (10.1MB)\n",
      "Requirement already satisfied: python-dateutil>=2.5.0 in /usr/lib/python2.7/site-packages (from pandas)\n",
      "Requirement already satisfied: numpy>=1.12.0 in /usr/lib64/python2.7/site-packages (from pandas)\n",
      "Collecting pytz>=2011k (from pandas)\n",
      "  Downloading https://files.pythonhosted.org/packages/60/2e/dec1cc18c51b8df33c7c4d0a321b084cf38e1733b98f9d15018880fb4970/pytz-2022.1-py2.py3-none-any.whl (503kB)\n",
      "Requirement already satisfied: six>=1.5 in /mnt/tmp/1653720495251-0/lib/python2.7/site-packages (from python-dateutil>=2.5.0->pandas)\n",
      "Installing collected packages: pytz, pandas\n",
      "Successfully installed pandas-0.24.2 pytz-2022.1\n",
      "\n",
      "Collecting matplotlib==3.1.1\n",
      "\n",
      "  Could not find a version that satisfies the requirement time (from versions: )\n",
      "No matching distribution found for time\n",
      "You are using pip version 9.0.1, however version 22.1.1 is available.\n",
      "You should consider upgrading via the 'pip install --upgrade pip' command.\n",
      "\n",
      "You are using pip version 9.0.1, however version 22.1.1 is available.\n",
      "You should consider upgrading via the 'pip install --upgrade pip' command.\n",
      "\n",
      "You are using pip version 9.0.1, however version 22.1.1 is available.\n",
      "You should consider upgrading via the 'pip install --upgrade pip' command.\n",
      "\n",
      "You are using pip version 9.0.1, however version 22.1.1 is available.\n",
      "You should consider upgrading via the 'pip install --upgrade pip' command.\n",
      "\n",
      "You are using pip version 9.0.1, however version 22.1.1 is available.\n",
      "You should consider upgrading via the 'pip install --upgrade pip' command.\n",
      "\n",
      "  Could not find a version that satisfies the requirement matplotlib==3.1.1 (from versions: 0.86, 0.86.1, 0.86.2, 0.91.0, 0.91.1, 1.0.1, 1.1.0, 1.1.1, 1.2.0, 1.2.1, 1.3.0, 1.3.1, 1.4.0, 1.4.1rc1, 1.4.1, 1.4.2, 1.4.3, 1.5.0, 1.5.1, 1.5.2, 1.5.3, 2.0.0b1, 2.0.0b2, 2.0.0b3, 2.0.0b4, 2.0.0rc1, 2.0.0rc2, 2.0.0, 2.0.1, 2.0.2, 2.1.0rc1, 2.1.0, 2.1.1, 2.1.2, 2.2.0rc1, 2.2.0, 2.2.2, 2.2.3, 2.2.4, 2.2.5)\n",
      "No matching distribution found for matplotlib==3.1.1\n",
      "You are using pip version 9.0.1, however version 22.1.1 is available.\n",
      "You should consider upgrading via the 'pip install --upgrade pip' command."
     ]
    }
   ],
   "source": [
    "#sc.uninstall_package('pandas')\n",
    "sc.install_pypi_package(\"time\")\n",
    "sc.install_pypi_package(\"cython\")\n",
    "sc.install_pypi_package(\"boto3\")\n",
    "sc.install_pypi_package(\"s3fs\")\n",
    "sc.install_pypi_package(\"pandas\") #Install pandas version 0.25.1 \n",
    "sc.install_pypi_package(\"matplotlib==3.1.1\")"
   ]
  },
  {
   "cell_type": "code",
   "execution_count": null,
   "id": "4b7d4555-8a10-471d-8594-532991c5d1e0",
   "metadata": {
    "scrolled": true,
    "tags": []
   },
   "outputs": [],
   "source": [
    "sc.list_packages()"
   ]
  },
  {
   "cell_type": "markdown",
   "id": "c5fd3fc8-1fef-42f3-bc1d-1e8524cb02f4",
   "metadata": {},
   "source": [
    "#### Demographic Data"
   ]
  },
  {
   "cell_type": "code",
   "execution_count": 5,
   "id": "dad1c8ba-3ec4-48d9-9e26-0d4132b914c3",
   "metadata": {
    "execution": {
     "iopub.execute_input": "2022-05-28T06:48:48.946741Z",
     "iopub.status.busy": "2022-05-28T06:48:48.946576Z",
     "iopub.status.idle": "2022-05-28T06:48:54.252581Z",
     "shell.execute_reply": "2022-05-28T06:48:54.252091Z",
     "shell.execute_reply.started": "2022-05-28T06:48:48.946719Z"
    },
    "tags": []
   },
   "outputs": [
    {
     "data": {
      "application/vnd.jupyter.widget-view+json": {
       "model_id": "f584597a54d742619f59bcef814e267a",
       "version_major": 2,
       "version_minor": 0
      },
      "text/plain": [
       "VBox()"
      ]
     },
     "metadata": {},
     "output_type": "display_data"
    },
    {
     "data": {
      "application/vnd.jupyter.widget-view+json": {
       "model_id": "",
       "version_major": 2,
       "version_minor": 0
      },
      "text/plain": [
       "FloatProgress(value=0.0, bar_style='info', description='Progress:', layout=Layout(height='25px', width='50%'),…"
      ]
     },
     "metadata": {},
     "output_type": "display_data"
    }
   ],
   "source": [
    "df_demographic=spark.read.option(\"header\",True).csv(\"s3://pas-biogen-sagemaker/nlp/uh/onetime-historical/2019/demographic_info.csv\")"
   ]
  },
  {
   "cell_type": "code",
   "execution_count": 6,
   "id": "42030eb4-d23a-49a9-9d33-42e73d407f5d",
   "metadata": {
    "execution": {
     "iopub.execute_input": "2022-05-28T06:48:54.253493Z",
     "iopub.status.busy": "2022-05-28T06:48:54.253333Z",
     "iopub.status.idle": "2022-05-28T06:48:57.791160Z",
     "shell.execute_reply": "2022-05-28T06:48:57.790563Z",
     "shell.execute_reply.started": "2022-05-28T06:48:54.253472Z"
    },
    "tags": []
   },
   "outputs": [
    {
     "data": {
      "application/vnd.jupyter.widget-view+json": {
       "model_id": "12d311dd1ff4455eb2568b7950a723c7",
       "version_major": 2,
       "version_minor": 0
      },
      "text/plain": [
       "VBox()"
      ]
     },
     "metadata": {},
     "output_type": "display_data"
    },
    {
     "data": {
      "application/vnd.jupyter.widget-view+json": {
       "model_id": "",
       "version_major": 2,
       "version_minor": 0
      },
      "text/plain": [
       "FloatProgress(value=0.0, bar_style='info', description='Progress:', layout=Layout(height='25px', width='50%'),…"
      ]
     },
     "metadata": {},
     "output_type": "display_data"
    },
    {
     "name": "stdout",
     "output_type": "stream",
     "text": [
      "453874\n",
      "['patient_key', 'pat_last_name', 'pat_first_name', 'pat_mrn', 'pat_dob', 'pat_gender', 'pat_race', 'pat_ethinicity', 'pat_city', 'pat_zip', 'pat_county', 'pat_state', 'pat_country', 'pat_marital_status', 'pat_smoking_status', 'pat_status']"
     ]
    }
   ],
   "source": [
    "### Remove duplicate values\n",
    "print(df_demographic.count())\n",
    "df_demographic = df_demographic.dropDuplicates(['patient_key'])\n",
    "print(df_demographic.columns)"
   ]
  },
  {
   "cell_type": "markdown",
   "id": "c2cff57b-fd03-4fc7-9c14-56b14ac37a50",
   "metadata": {},
   "source": [
    "#### Anchor Features"
   ]
  },
  {
   "cell_type": "code",
   "execution_count": 7,
   "id": "a8d32675-baf6-495d-864e-9994a3525378",
   "metadata": {
    "execution": {
     "iopub.execute_input": "2022-05-28T06:48:57.792118Z",
     "iopub.status.busy": "2022-05-28T06:48:57.791951Z",
     "iopub.status.idle": "2022-05-28T06:48:58.554499Z",
     "shell.execute_reply": "2022-05-28T06:48:58.553987Z",
     "shell.execute_reply.started": "2022-05-28T06:48:57.792097Z"
    },
    "tags": []
   },
   "outputs": [
    {
     "data": {
      "application/vnd.jupyter.widget-view+json": {
       "model_id": "c7532c555c3b45859631c8e274626689",
       "version_major": 2,
       "version_minor": 0
      },
      "text/plain": [
       "VBox()"
      ]
     },
     "metadata": {},
     "output_type": "display_data"
    },
    {
     "data": {
      "application/vnd.jupyter.widget-view+json": {
       "model_id": "",
       "version_major": 2,
       "version_minor": 0
      },
      "text/plain": [
       "FloatProgress(value=0.0, bar_style='info', description='Progress:', layout=Layout(height='25px', width='50%'),…"
      ]
     },
     "metadata": {},
     "output_type": "display_data"
    }
   ],
   "source": [
    "df_anchor=spark.read.option(\"header\",True).csv(\"s3://pas-biogen-sagemaker/nlp/Anchor_roll_up_new.csv\")"
   ]
  },
  {
   "cell_type": "code",
   "execution_count": 8,
   "id": "59db3175-bd19-46e9-95c6-b2f467030160",
   "metadata": {
    "execution": {
     "iopub.execute_input": "2022-05-28T06:48:58.556006Z",
     "iopub.status.busy": "2022-05-28T06:48:58.555837Z",
     "iopub.status.idle": "2022-05-28T06:48:58.607458Z",
     "shell.execute_reply": "2022-05-28T06:48:58.606910Z",
     "shell.execute_reply.started": "2022-05-28T06:48:58.555984Z"
    },
    "tags": []
   },
   "outputs": [
    {
     "data": {
      "application/vnd.jupyter.widget-view+json": {
       "model_id": "eb6f0328a9c648daa481ba34d0f6cfe5",
       "version_major": 2,
       "version_minor": 0
      },
      "text/plain": [
       "VBox()"
      ]
     },
     "metadata": {},
     "output_type": "display_data"
    },
    {
     "data": {
      "application/vnd.jupyter.widget-view+json": {
       "model_id": "",
       "version_major": 2,
       "version_minor": 0
      },
      "text/plain": [
       "FloatProgress(value=0.0, bar_style='info', description='Progress:', layout=Layout(height='25px', width='50%'),…"
      ]
     },
     "metadata": {},
     "output_type": "display_data"
    },
    {
     "name": "stdout",
     "output_type": "stream",
     "text": [
      "['Thought_Disturbance', 'Abnormal_Behavior', 'Suicidal_Intent', 'Disorientated', 'Mental_Health_Impairment', 'Memory_Loss', 'Clouded_Consciousness', 'Agitation', 'Congnitive_Impairment']"
     ]
    }
   ],
   "source": [
    "df_anchor = df_anchor.drop('Anchors')\n",
    "df_anchor.columns"
   ]
  },
  {
   "cell_type": "code",
   "execution_count": 9,
   "id": "a807d86d-6bb4-4571-b243-e29749878c27",
   "metadata": {
    "execution": {
     "iopub.execute_input": "2022-05-28T06:48:58.608612Z",
     "iopub.status.busy": "2022-05-28T06:48:58.608442Z",
     "iopub.status.idle": "2022-05-28T06:49:01.638473Z",
     "shell.execute_reply": "2022-05-28T06:49:01.029092Z",
     "shell.execute_reply.started": "2022-05-28T06:48:58.608591Z"
    },
    "tags": []
   },
   "outputs": [
    {
     "data": {
      "application/vnd.jupyter.widget-view+json": {
       "model_id": "50fe4d07bc4b41edb2df4343fb0168f3",
       "version_major": 2,
       "version_minor": 0
      },
      "text/plain": [
       "VBox()"
      ]
     },
     "metadata": {},
     "output_type": "display_data"
    },
    {
     "data": {
      "application/vnd.jupyter.widget-view+json": {
       "model_id": "",
       "version_major": 2,
       "version_minor": 0
      },
      "text/plain": [
       "FloatProgress(value=0.0, bar_style='info', description='Progress:', layout=Layout(height='25px', width='50%'),…"
      ]
     },
     "metadata": {},
     "output_type": "display_data"
    }
   ],
   "source": [
    "lst_Thought_Disturbance = list(df_anchor.select('Thought_Disturbance').toPandas()['Thought_Disturbance'])\n",
    "lst_Abnormal_Behavior = list(df_anchor.select('Abnormal_Behavior').toPandas()['Abnormal_Behavior'])\n",
    "lst_Suicidal_Intent = list(df_anchor.select('Suicidal_Intent').toPandas()['Suicidal_Intent'])\n",
    "lst_Disorientated = list(df_anchor.select('Disorientated').toPandas()['Disorientated'])\n",
    "lst_Mental_Health_Impairment = list(df_anchor.select('Mental_Health_Impairment').toPandas()['Mental_Health_Impairment'])\n",
    "lst_Memory_Loss = list(df_anchor.select('Memory_Loss').toPandas()['Memory_Loss'])\n",
    "lst_Clouded_Consciousness = list(df_anchor.select('Clouded_Consciousness').toPandas()['Clouded_Consciousness'])\n",
    "lst_Agitation = list(df_anchor.select('Agitation').toPandas()['Agitation'])\n",
    "lst_Congnitive_Impairment = list(df_anchor.select('Congnitive_Impairment').toPandas()['Congnitive_Impairment'])"
   ]
  },
  {
   "cell_type": "code",
   "execution_count": 10,
   "id": "50fed27f-a5a1-45e0-a879-189bc288beb2",
   "metadata": {
    "execution": {
     "iopub.execute_input": "2022-05-28T06:49:01.651173Z",
     "iopub.status.busy": "2022-05-28T06:49:01.650043Z",
     "iopub.status.idle": "2022-05-28T06:49:02.100440Z",
     "shell.execute_reply": "2022-05-28T06:49:02.099864Z",
     "shell.execute_reply.started": "2022-05-28T06:49:01.651142Z"
    },
    "tags": []
   },
   "outputs": [
    {
     "data": {
      "application/vnd.jupyter.widget-view+json": {
       "model_id": "487f81766b4a41a39692b50f96934c33",
       "version_major": 2,
       "version_minor": 0
      },
      "text/plain": [
       "VBox()"
      ]
     },
     "metadata": {},
     "output_type": "display_data"
    },
    {
     "data": {
      "application/vnd.jupyter.widget-view+json": {
       "model_id": "",
       "version_major": 2,
       "version_minor": 0
      },
      "text/plain": [
       "FloatProgress(value=0.0, bar_style='info', description='Progress:', layout=Layout(height='25px', width='50%'),…"
      ]
     },
     "metadata": {},
     "output_type": "display_data"
    }
   ],
   "source": [
    "# List of CUI, ICD10, Snomed for Alzheimer Disease\n",
    "lst_cui = ['C0002395',\n",
    " 'C0236640',\n",
    " 'C0236644',\n",
    " 'C0236645',\n",
    " 'C0236646',\n",
    " 'C0236647',\n",
    " 'C0236648',\n",
    " 'C0236649',\n",
    " 'C0333736',\n",
    " 'C0338445',\n",
    " 'C0338446',\n",
    " 'C0338449',\n",
    " 'C0338450',\n",
    " 'C0338458',\n",
    " 'C0338459',\n",
    " 'C0349078',\n",
    " 'C0424954',\n",
    " 'C0450989',\n",
    " 'C0477364',\n",
    " 'C0494463',\n",
    " 'C0750901',\n",
    " 'C1271045',\n",
    " 'C1863051',\n",
    " 'C3241944',\n",
    " 'C3494731',\n",
    " 'C3662845',\n",
    " 'C3665464',\n",
    " 'C3697680',\n",
    " 'C3697863',\n",
    " 'C3697898',\n",
    " 'C3698264',\n",
    " 'C3698286',\n",
    " 'C3698287',\n",
    " 'C4075209',\n",
    " 'C4075348',\n",
    " 'C4273575',\n",
    " 'C4302404',\n",
    " 'C4303482',\n",
    " 'C4518848',\n",
    " 'C0085400',\n",
    " 'C0752347',\n",
    " 'C2316550',\n",
    " 'C2316551',\n",
    " 'C3532942']\n",
    "\n",
    "lst_icd10 = ['G30',\n",
    " 'G30.9',\n",
    " 'F00.2',\n",
    " 'G30.8',\n",
    " 'G30.1',\n",
    " 'F00.1',\n",
    " 'G30.0',\n",
    " 'F00.0',\n",
    " 'F00',\n",
    " 'F00.9']\n",
    "\n",
    "lst_snomed = ['26929004',\n",
    " '66108005',\n",
    " '65096006',\n",
    " '54502004',\n",
    " '10532003',\n",
    " '55009008',\n",
    " '26852004',\n",
    " '4817008',\n",
    " '29209006',\n",
    " '230265002',\n",
    " '230266001',\n",
    " '230268000',\n",
    " '230269008',\n",
    " '230279005',\n",
    " '230280008',\n",
    " '161108005',\n",
    " '273269001',\n",
    " '416975007',\n",
    " '416780008',\n",
    " '394877006',\n",
    " '230267005',\n",
    " '6475002',\n",
    " '429161000124103',\n",
    " '1581000119101',\n",
    " '105421000119105',\n",
    " '698955006',\n",
    " '698954005',\n",
    " '97751000119108',\n",
    " '142001000119106',\n",
    " '141991000119109',\n",
    " '714359006',\n",
    " '714360001',\n",
    " '142011000119109',\n",
    " '722600006',\n",
    " '721219005',\n",
    " '16219201000119101',\n",
    " '85775002',\n",
    " '80098002',\n",
    " '431531007',\n",
    " '432954006',\n",
    " '79341000119107']"
   ]
  },
  {
   "cell_type": "code",
   "execution_count": 11,
   "id": "e1bc87a5-4a39-4097-a27e-7fae87747274",
   "metadata": {
    "execution": {
     "iopub.execute_input": "2022-05-28T06:49:02.101422Z",
     "iopub.status.busy": "2022-05-28T06:49:02.101201Z",
     "iopub.status.idle": "2022-05-28T06:49:02.364685Z",
     "shell.execute_reply": "2022-05-28T06:49:02.364175Z",
     "shell.execute_reply.started": "2022-05-28T06:49:02.101389Z"
    },
    "tags": []
   },
   "outputs": [
    {
     "data": {
      "application/vnd.jupyter.widget-view+json": {
       "model_id": "fa66db5aef424daf86a05abaf038b54f",
       "version_major": 2,
       "version_minor": 0
      },
      "text/plain": [
       "VBox()"
      ]
     },
     "metadata": {},
     "output_type": "display_data"
    },
    {
     "data": {
      "application/vnd.jupyter.widget-view+json": {
       "model_id": "",
       "version_major": 2,
       "version_minor": 0
      },
      "text/plain": [
       "FloatProgress(value=0.0, bar_style='info', description='Progress:', layout=Layout(height='25px', width='50%'),…"
      ]
     },
     "metadata": {},
     "output_type": "display_data"
    }
   ],
   "source": [
    "# ALzheimer CUI, ICD10 and SNOMED\n",
    "columns = ['lst_cui']\n",
    "df_lst_cui = spark.createDataFrame(zip(lst_cui), columns)\n",
    "columns = ['lst_icd10']\n",
    "df_lst_icd10 = spark.createDataFrame(zip(lst_icd10), columns)\n",
    "columns = ['lst_snomed']\n",
    "df_lst_snomed = spark.createDataFrame(zip(lst_snomed), columns)"
   ]
  },
  {
   "cell_type": "code",
   "execution_count": 12,
   "id": "d47e6c3a-14e9-4534-bbb9-144b4a73ff39",
   "metadata": {
    "execution": {
     "iopub.execute_input": "2022-05-28T06:49:02.365614Z",
     "iopub.status.busy": "2022-05-28T06:49:02.365450Z",
     "iopub.status.idle": "2022-05-28T06:49:03.124610Z",
     "shell.execute_reply": "2022-05-28T06:49:03.124099Z",
     "shell.execute_reply.started": "2022-05-28T06:49:02.365593Z"
    },
    "tags": []
   },
   "outputs": [
    {
     "data": {
      "application/vnd.jupyter.widget-view+json": {
       "model_id": "5e0e9247ca574c3eb2dc8cff9f4761da",
       "version_major": 2,
       "version_minor": 0
      },
      "text/plain": [
       "VBox()"
      ]
     },
     "metadata": {},
     "output_type": "display_data"
    },
    {
     "data": {
      "application/vnd.jupyter.widget-view+json": {
       "model_id": "",
       "version_major": 2,
       "version_minor": 0
      },
      "text/plain": [
       "FloatProgress(value=0.0, bar_style='info', description='Progress:', layout=Layout(height='25px', width='50%'),…"
      ]
     },
     "metadata": {},
     "output_type": "display_data"
    },
    {
     "name": "stdout",
     "output_type": "stream",
     "text": [
      "+--------+\n",
      "| lst_cui|\n",
      "+--------+\n",
      "|C0002395|\n",
      "|C0236640|\n",
      "|C0236644|\n",
      "|C0236645|\n",
      "|C0236646|\n",
      "+--------+\n",
      "only showing top 5 rows"
     ]
    }
   ],
   "source": [
    "df_lst_cui.show(5)"
   ]
  },
  {
   "cell_type": "code",
   "execution_count": 45,
   "id": "8b2dda71-8338-4a05-8160-65c99504658d",
   "metadata": {
    "execution": {
     "iopub.execute_input": "2022-05-28T07:54:07.941213Z",
     "iopub.status.busy": "2022-05-28T07:54:07.940989Z",
     "iopub.status.idle": "2022-05-28T07:54:08.191813Z",
     "shell.execute_reply": "2022-05-28T07:54:08.191290Z",
     "shell.execute_reply.started": "2022-05-28T07:54:07.941189Z"
    },
    "tags": []
   },
   "outputs": [
    {
     "data": {
      "application/vnd.jupyter.widget-view+json": {
       "model_id": "e01e08084e314f5385ebc1d39925688b",
       "version_major": 2,
       "version_minor": 0
      },
      "text/plain": [
       "VBox()"
      ]
     },
     "metadata": {},
     "output_type": "display_data"
    },
    {
     "data": {
      "application/vnd.jupyter.widget-view+json": {
       "model_id": "",
       "version_major": 2,
       "version_minor": 0
      },
      "text/plain": [
       "FloatProgress(value=0.0, bar_style='info', description='Progress:', layout=Layout(height='25px', width='50%'),…"
      ]
     },
     "metadata": {},
     "output_type": "display_data"
    }
   ],
   "source": [
    "import boto3\n",
    "#s3://pas-biogen-sagemaker/Antony/Preprocessing/Ongoing/\n",
    "s3 = boto3.resource('s3')\n",
    "my_bucket = s3.Bucket('pas-biogen-sagemaker')\n",
    "chunks=[]\n",
    "for object_summary in my_bucket.objects.filter(Prefix=\"nlp/uh/onetime-historical/2019/raw_notes/results_UMLS/CSV/\"):\n",
    "    if '.parquet' in str(object_summary.key):\n",
    "        chunks.append(object_summary.key)  "
   ]
  },
  {
   "cell_type": "code",
   "execution_count": 46,
   "id": "84ed1073-8b31-45f8-bf6c-dc07b812b14f",
   "metadata": {
    "execution": {
     "iopub.execute_input": "2022-05-28T07:54:12.969968Z",
     "iopub.status.busy": "2022-05-28T07:54:12.969750Z",
     "iopub.status.idle": "2022-05-28T07:54:13.014835Z",
     "shell.execute_reply": "2022-05-28T07:54:13.014344Z",
     "shell.execute_reply.started": "2022-05-28T07:54:12.969944Z"
    },
    "tags": []
   },
   "outputs": [
    {
     "data": {
      "application/vnd.jupyter.widget-view+json": {
       "model_id": "34f97ebac0d04c2584eae27de01afc68",
       "version_major": 2,
       "version_minor": 0
      },
      "text/plain": [
       "VBox()"
      ]
     },
     "metadata": {},
     "output_type": "display_data"
    },
    {
     "data": {
      "application/vnd.jupyter.widget-view+json": {
       "model_id": "",
       "version_major": 2,
       "version_minor": 0
      },
      "text/plain": [
       "FloatProgress(value=0.0, bar_style='info', description='Progress:', layout=Layout(height='25px', width='50%'),…"
      ]
     },
     "metadata": {},
     "output_type": "display_data"
    },
    {
     "name": "stdout",
     "output_type": "stream",
     "text": [
      "20"
     ]
    }
   ],
   "source": [
    "len(chunks)"
   ]
  },
  {
   "cell_type": "code",
   "execution_count": 50,
   "id": "fd1f0857-f784-41ed-8ad7-7cf52ad6653e",
   "metadata": {
    "execution": {
     "iopub.execute_input": "2022-05-28T07:55:09.967003Z",
     "iopub.status.busy": "2022-05-28T07:55:09.966765Z",
     "iopub.status.idle": "2022-05-28T07:55:10.013111Z",
     "shell.execute_reply": "2022-05-28T07:55:10.012614Z",
     "shell.execute_reply.started": "2022-05-28T07:55:09.966978Z"
    },
    "tags": []
   },
   "outputs": [
    {
     "data": {
      "application/vnd.jupyter.widget-view+json": {
       "model_id": "59722711d547453a97ce6e8dc16e9f54",
       "version_major": 2,
       "version_minor": 0
      },
      "text/plain": [
       "VBox()"
      ]
     },
     "metadata": {},
     "output_type": "display_data"
    },
    {
     "data": {
      "application/vnd.jupyter.widget-view+json": {
       "model_id": "",
       "version_major": 2,
       "version_minor": 0
      },
      "text/plain": [
       "FloatProgress(value=0.0, bar_style='info', description='Progress:', layout=Layout(height='25px', width='50%'),…"
      ]
     },
     "metadata": {},
     "output_type": "display_data"
    }
   ],
   "source": [
    "import s3fs\n",
    "import pandas as pd\n",
    "import time\n",
    "from pyspark.sql.functions import arrays_overlap, array\n",
    "from pyspark.sql import udf,DataFrame\n",
    "import pyspark.sql.functions as F\n",
    "import functools\n",
    "import sys"
   ]
  },
  {
   "cell_type": "code",
   "execution_count": 51,
   "id": "4184c88a-8ea8-46a8-a95e-0352951ad7c5",
   "metadata": {
    "execution": {
     "iopub.execute_input": "2022-05-28T07:55:16.762891Z",
     "iopub.status.busy": "2022-05-28T07:55:16.762655Z",
     "iopub.status.idle": "2022-05-28T07:55:16.809236Z",
     "shell.execute_reply": "2022-05-28T07:55:16.808737Z",
     "shell.execute_reply.started": "2022-05-28T07:55:16.762865Z"
    },
    "tags": []
   },
   "outputs": [
    {
     "data": {
      "application/vnd.jupyter.widget-view+json": {
       "model_id": "878abef720ef49b18909c106f9a73d38",
       "version_major": 2,
       "version_minor": 0
      },
      "text/plain": [
       "VBox()"
      ]
     },
     "metadata": {},
     "output_type": "display_data"
    },
    {
     "data": {
      "application/vnd.jupyter.widget-view+json": {
       "model_id": "",
       "version_major": 2,
       "version_minor": 0
      },
      "text/plain": [
       "FloatProgress(value=0.0, bar_style='info', description='Progress:', layout=Layout(height='25px', width='50%'),…"
      ]
     },
     "metadata": {},
     "output_type": "display_data"
    }
   ],
   "source": [
    "def my_print(text):\n",
    "    sys.stdout.write(str(text))\n",
    "    sys.stdout.flush()"
   ]
  },
  {
   "cell_type": "code",
   "execution_count": 58,
   "id": "969b13dd-1a59-47b5-b07e-a72a93987d4b",
   "metadata": {
    "execution": {
     "iopub.execute_input": "2022-05-28T08:10:32.341865Z",
     "iopub.status.busy": "2022-05-28T08:10:32.341642Z",
     "iopub.status.idle": "2022-05-28T09:22:35.480204Z",
     "shell.execute_reply": "2022-05-28T09:22:35.479694Z",
     "shell.execute_reply.started": "2022-05-28T08:10:32.341842Z"
    },
    "scrolled": true,
    "tags": []
   },
   "outputs": [
    {
     "data": {
      "application/vnd.jupyter.widget-view+json": {
       "model_id": "7ab053e025544929a730fad167e5380e",
       "version_major": 2,
       "version_minor": 0
      },
      "text/plain": [
       "VBox()"
      ]
     },
     "metadata": {},
     "output_type": "display_data"
    },
    {
     "data": {
      "application/vnd.jupyter.widget-view+json": {
       "model_id": "",
       "version_major": 2,
       "version_minor": 0
      },
      "text/plain": [
       "FloatProgress(value=0.0, bar_style='info', description='Progress:', layout=Layout(height='25px', width='50%'),…"
      ]
     },
     "metadata": {},
     "output_type": "display_data"
    }
   ],
   "source": [
    "s3 = s3fs.S3FileSystem(anon=False)\n",
    "count = 0\n",
    "output_dfs = []\n",
    "\n",
    "for chunk in chunks:\n",
    "    start_time = time.time()\n",
    "    count += 1\n",
    "    df_final = spark.read.parquet('s3://pas-biogen-sagemaker/'+ chunk)\n",
    "    \n",
    "    #text = 'Size of Data '+ str(count) + ' - '+ str(df_final.count())\n",
    "    #my_print(text)\n",
    "    \n",
    "    df_final =df_final.withColumnRenamed('Concept_ID','UMLS_CUI')\n",
    "\n",
    "    df_anchor2 = df_anchor.withColumn('UMLS_CUI',df_anchor['Thought_Disturbance'])\n",
    "    df_anchor2 = df_anchor2[['UMLS_CUI']]\n",
    "    df_final = df_final.join(df_anchor2.withColumn('Thought_Disturbance', F.lit(True)), 'UMLS_CUI', 'left').fillna(False)\n",
    "\n",
    "    df_anchor2 = df_anchor.withColumn('UMLS_CUI',df_anchor['Abnormal_Behavior'])\n",
    "    df_anchor2 = df_anchor2[['UMLS_CUI']]\n",
    "    df_final = df_final.join(df_anchor2.withColumn('Abnormal_Behavior', F.lit(True)), 'UMLS_CUI', 'left').fillna(False)\n",
    "\n",
    "    df_anchor2 = df_anchor.withColumn('UMLS_CUI',df_anchor['Suicidal_Intent'])\n",
    "    df_anchor2 = df_anchor2[['UMLS_CUI']]\n",
    "    df_final = df_final.join(df_anchor2.withColumn('Suicidal_Intent', F.lit(True)), 'UMLS_CUI', 'left').fillna(False)\n",
    "\n",
    "    df_anchor2 = df_anchor.withColumn('UMLS_CUI',df_anchor['Disorientated'])\n",
    "    df_anchor2 = df_anchor2[['UMLS_CUI']]\n",
    "    df_final = df_final.join(df_anchor2.withColumn('Disorientated', F.lit(True)), 'UMLS_CUI', 'left').fillna(False)\n",
    "\n",
    "    df_anchor2 = df_anchor.withColumn('UMLS_CUI',df_anchor['Mental_Health_Impairment'])\n",
    "    df_anchor2 = df_anchor2[['UMLS_CUI']]\n",
    "    df_final = df_final.join(df_anchor2.withColumn('Mental_Health_Impairment', F.lit(True)), 'UMLS_CUI', 'left').fillna(False)\n",
    "\n",
    "    df_anchor2 = df_anchor.withColumn('UMLS_CUI',df_anchor['Memory_Loss'])\n",
    "    df_anchor2 = df_anchor2[['UMLS_CUI']]\n",
    "    df_final = df_final.join(df_anchor2.withColumn('Memory_Loss', F.lit(True)), 'UMLS_CUI', 'left').fillna(False)\n",
    "\n",
    "    df_anchor2 = df_anchor.withColumn('UMLS_CUI',df_anchor['Clouded_Consciousness'])\n",
    "    df_anchor2 = df_anchor2[['UMLS_CUI']]\n",
    "    df_final = df_final.join(df_anchor2.withColumn('Clouded_Consciousness', F.lit(True)), 'UMLS_CUI', 'left').fillna(False)\n",
    "\n",
    "    df_anchor2 = df_anchor.withColumn('UMLS_CUI',df_anchor['Agitation'])\n",
    "    df_anchor2 = df_anchor2[['UMLS_CUI']]\n",
    "    df_final = df_final.join(df_anchor2.withColumn('Agitation', F.lit(True)), 'UMLS_CUI', 'left').fillna(False)\n",
    "\n",
    "    df_anchor2 = df_anchor.withColumn('UMLS_CUI',df_anchor['Congnitive_Impairment'])\n",
    "    df_anchor2 = df_anchor2[['UMLS_CUI']]\n",
    "    df_final = df_final.join(df_anchor2.withColumn('Congnitive_Impairment', F.lit(True)), 'UMLS_CUI', 'left').fillna(False)\n",
    "\n",
    "    df_anchor2 = df_lst_cui.withColumn('UMLS_CUI',df_lst_cui['lst_cui'])\n",
    "    df_anchor2 = df_anchor2[['UMLS_CUI']]\n",
    "    df_final = df_final.join(df_anchor2.withColumn('Alzheimer', F.lit(True)), 'UMLS_CUI', 'left').fillna(False)\n",
    "\n",
    "    output_dfs.append(df_final)\n",
    "    df_final2 = functools.reduce(DataFrame.union, output_dfs)\n",
    "    \n",
    "    df_final2 = df_final2.withColumn(\"patient_key\",df_final2.patient_key.cast('int'))\n",
    "    df_demographic = df_demographic.withColumn(\"patient_key\",df_demographic.patient_key.cast('int'))\n",
    "    \n",
    "    df_final3 = df_final2.join(df_demographic,['patient_key'],how='inner')  \n",
    "    df_final3 = df_final3.dropDuplicates()\n",
    "\n",
    "df_final3.coalesce(1).write.parquet(\"s3://pas-biogen-sagemaker/Antony/Ongoing_Output/2019_historical\")\n",
    "\n",
    "#time_taken = ((time.time() - start_time) / 60)\n",
    "#text = str(count) + \"- \" + \"Time Taken - \" + str(time_taken) + \" min\"\n",
    "#my_print(text)"
   ]
  },
  {
   "cell_type": "code",
   "execution_count": 56,
   "id": "fcfc805f-f8f9-4ee0-8f86-baaa7f60ff18",
   "metadata": {
    "execution": {
     "iopub.execute_input": "2022-05-28T08:07:18.287787Z",
     "iopub.status.busy": "2022-05-28T08:07:18.287555Z",
     "iopub.status.idle": "2022-05-28T08:07:43.614593Z",
     "shell.execute_reply": "2022-05-28T08:07:43.614046Z",
     "shell.execute_reply.started": "2022-05-28T08:07:18.287762Z"
    },
    "tags": []
   },
   "outputs": [
    {
     "data": {
      "application/vnd.jupyter.widget-view+json": {
       "model_id": "2462e4465ad7490787d9adaf3927b6ba",
       "version_major": 2,
       "version_minor": 0
      },
      "text/plain": [
       "VBox()"
      ]
     },
     "metadata": {},
     "output_type": "display_data"
    },
    {
     "data": {
      "application/vnd.jupyter.widget-view+json": {
       "model_id": "",
       "version_major": 2,
       "version_minor": 0
      },
      "text/plain": [
       "FloatProgress(value=0.0, bar_style='info', description='Progress:', layout=Layout(height='25px', width='50%'),…"
      ]
     },
     "metadata": {},
     "output_type": "display_data"
    },
    {
     "name": "stdout",
     "output_type": "stream",
     "text": [
      "Size of Data 1 - 31540279"
     ]
    }
   ],
   "source": [
    "time_taken = ((time.time() - start_time) / 60)\n",
    "text = 'Size of Data '+ str(count) + ' - '+ str(df_final.count())\n",
    "my_print(text)"
   ]
  },
  {
   "cell_type": "code",
   "execution_count": 36,
   "id": "096112b3-2d3b-4713-b2a2-e486b81f87dd",
   "metadata": {
    "execution": {
     "iopub.execute_input": "2022-05-28T07:31:17.168575Z",
     "iopub.status.busy": "2022-05-28T07:31:17.168335Z",
     "iopub.status.idle": "2022-05-28T07:31:17.214485Z",
     "shell.execute_reply": "2022-05-28T07:31:17.213978Z",
     "shell.execute_reply.started": "2022-05-28T07:31:17.168550Z"
    },
    "tags": []
   },
   "outputs": [
    {
     "data": {
      "application/vnd.jupyter.widget-view+json": {
       "model_id": "56019c2bd9e64bd78ccf50c05aee05cd",
       "version_major": 2,
       "version_minor": 0
      },
      "text/plain": [
       "VBox()"
      ]
     },
     "metadata": {},
     "output_type": "display_data"
    },
    {
     "data": {
      "application/vnd.jupyter.widget-view+json": {
       "model_id": "",
       "version_major": 2,
       "version_minor": 0
      },
      "text/plain": [
       "FloatProgress(value=0.0, bar_style='info', description='Progress:', layout=Layout(height='25px', width='50%'),…"
      ]
     },
     "metadata": {},
     "output_type": "display_data"
    }
   ],
   "source": [
    "df_final2 = df_final2.withColumn(\"patient_key\",df_final2.patient_key.cast('int'))\n",
    "df_demographic = df_demographic.withColumn(\"patient_key\",df_demographic.patient_key.cast('int'))"
   ]
  },
  {
   "cell_type": "code",
   "execution_count": 37,
   "id": "7f3e22fc-c99c-49b8-ab67-3a492436ee48",
   "metadata": {
    "execution": {
     "iopub.execute_input": "2022-05-28T07:31:18.902175Z",
     "iopub.status.busy": "2022-05-28T07:31:18.901953Z",
     "iopub.status.idle": "2022-05-28T07:31:18.948118Z",
     "shell.execute_reply": "2022-05-28T07:31:18.947629Z",
     "shell.execute_reply.started": "2022-05-28T07:31:18.902150Z"
    },
    "tags": []
   },
   "outputs": [
    {
     "data": {
      "application/vnd.jupyter.widget-view+json": {
       "model_id": "456dedf496d24f4d80ba0a370c16aeed",
       "version_major": 2,
       "version_minor": 0
      },
      "text/plain": [
       "VBox()"
      ]
     },
     "metadata": {},
     "output_type": "display_data"
    },
    {
     "data": {
      "application/vnd.jupyter.widget-view+json": {
       "model_id": "",
       "version_major": 2,
       "version_minor": 0
      },
      "text/plain": [
       "FloatProgress(value=0.0, bar_style='info', description='Progress:', layout=Layout(height='25px', width='50%'),…"
      ]
     },
     "metadata": {},
     "output_type": "display_data"
    },
    {
     "name": "stdout",
     "output_type": "stream",
     "text": [
      "root\n",
      " |-- patient_key: integer (nullable = true)\n",
      " |-- pat_last_name: string (nullable = true)\n",
      " |-- pat_first_name: string (nullable = true)\n",
      " |-- pat_mrn: string (nullable = true)\n",
      " |-- pat_dob: string (nullable = true)\n",
      " |-- pat_gender: string (nullable = true)\n",
      " |-- pat_race: string (nullable = true)\n",
      " |-- pat_ethinicity: string (nullable = true)\n",
      " |-- pat_city: string (nullable = true)\n",
      " |-- pat_zip: string (nullable = true)\n",
      " |-- pat_county: string (nullable = true)\n",
      " |-- pat_state: string (nullable = true)\n",
      " |-- pat_country: string (nullable = true)\n",
      " |-- pat_marital_status: string (nullable = true)\n",
      " |-- pat_smoking_status: string (nullable = true)\n",
      " |-- pat_status: string (nullable = true)"
     ]
    }
   ],
   "source": [
    "df_demographic.printSchema()"
   ]
  },
  {
   "cell_type": "code",
   "execution_count": 35,
   "id": "3b92ef14-8c04-41a6-bff6-7fbe6f59ebe7",
   "metadata": {
    "execution": {
     "iopub.execute_input": "2022-05-28T07:30:55.434535Z",
     "iopub.status.busy": "2022-05-28T07:30:55.434256Z",
     "iopub.status.idle": "2022-05-28T07:30:55.479729Z",
     "shell.execute_reply": "2022-05-28T07:30:55.479231Z",
     "shell.execute_reply.started": "2022-05-28T07:30:55.434507Z"
    },
    "tags": []
   },
   "outputs": [
    {
     "data": {
      "application/vnd.jupyter.widget-view+json": {
       "model_id": "445d109f1ae14e64861bb386939f981e",
       "version_major": 2,
       "version_minor": 0
      },
      "text/plain": [
       "VBox()"
      ]
     },
     "metadata": {},
     "output_type": "display_data"
    },
    {
     "data": {
      "application/vnd.jupyter.widget-view+json": {
       "model_id": "",
       "version_major": 2,
       "version_minor": 0
      },
      "text/plain": [
       "FloatProgress(value=0.0, bar_style='info', description='Progress:', layout=Layout(height='25px', width='50%'),…"
      ]
     },
     "metadata": {},
     "output_type": "display_data"
    },
    {
     "name": "stdout",
     "output_type": "stream",
     "text": [
      "root\n",
      " |-- UMLS_CUI: string (nullable = true)\n",
      " |-- patient_key: integer (nullable = true)\n",
      " |-- provider_id: string (nullable = true)\n",
      " |-- facility_id: string (nullable = true)\n",
      " |-- text: string (nullable = true)\n",
      " |-- label: string (nullable = true)\n",
      " |-- negex: boolean (nullable = false)\n",
      " |-- span: string (nullable = true)\n",
      " |-- UMLS_Name: string (nullable = true)\n",
      " |-- TUIs: string (nullable = true)\n",
      " |-- Child_semantic_label: string (nullable = true)\n",
      " |-- Parent_semantic_label: string (nullable = true)\n",
      " |-- Similarity_Score: double (nullable = true)\n",
      " |-- Thought_Disturbance: boolean (nullable = false)\n",
      " |-- Abnormal_Behavior: boolean (nullable = false)\n",
      " |-- Suicidal_Intent: boolean (nullable = false)\n",
      " |-- Disorientated: boolean (nullable = false)\n",
      " |-- Mental_Health_Impairment: boolean (nullable = false)\n",
      " |-- Memory_Loss: boolean (nullable = false)\n",
      " |-- Clouded_Consciousness: boolean (nullable = false)\n",
      " |-- Agitation: boolean (nullable = false)\n",
      " |-- Congnitive_Impairment: boolean (nullable = false)\n",
      " |-- Alzheimer: boolean (nullable = false)"
     ]
    }
   ],
   "source": [
    "df_final2.printSchema()"
   ]
  },
  {
   "cell_type": "markdown",
   "id": "5e4b7bf3-bcce-48d7-ad31-edbf4fb25382",
   "metadata": {},
   "source": [
    "## ROugh Work"
   ]
  },
  {
   "cell_type": "code",
   "execution_count": 18,
   "id": "6911f2d4-75bb-4a56-a5c2-af17676d53ed",
   "metadata": {
    "execution": {
     "iopub.execute_input": "2022-05-27T14:41:20.317828Z",
     "iopub.status.busy": "2022-05-27T14:41:20.317669Z",
     "iopub.status.idle": "2022-05-27T14:41:45.646911Z",
     "shell.execute_reply": "2022-05-27T14:41:45.646433Z",
     "shell.execute_reply.started": "2022-05-27T14:41:20.317808Z"
    },
    "tags": []
   },
   "outputs": [
    {
     "data": {
      "application/vnd.jupyter.widget-view+json": {
       "model_id": "90881fc8293a4823acb8389dc4aae45b",
       "version_major": 2,
       "version_minor": 0
      },
      "text/plain": [
       "VBox()"
      ]
     },
     "metadata": {},
     "output_type": "display_data"
    },
    {
     "data": {
      "application/vnd.jupyter.widget-view+json": {
       "model_id": "",
       "version_major": 2,
       "version_minor": 0
      },
      "text/plain": [
       "FloatProgress(value=0.0, bar_style='info', description='Progress:', layout=Layout(height='25px', width='50%'),…"
      ]
     },
     "metadata": {},
     "output_type": "display_data"
    },
    {
     "name": "stdout",
     "output_type": "stream",
     "text": [
      "31540279"
     ]
    }
   ],
   "source": [
    "df_final.count()"
   ]
  },
  {
   "cell_type": "code",
   "execution_count": 42,
   "id": "d97b159a-f2f1-4a07-b7f0-23cfe9394cac",
   "metadata": {
    "execution": {
     "iopub.execute_input": "2022-05-28T07:50:14.072013Z",
     "iopub.status.busy": "2022-05-28T07:50:14.071786Z",
     "iopub.status.idle": "2022-05-28T07:50:14.119137Z",
     "shell.execute_reply": "2022-05-28T07:50:14.118618Z",
     "shell.execute_reply.started": "2022-05-28T07:50:14.071988Z"
    }
   },
   "outputs": [
    {
     "data": {
      "application/vnd.jupyter.widget-view+json": {
       "model_id": "11f7df21f69743bcaed242fa23aaf247",
       "version_major": 2,
       "version_minor": 0
      },
      "text/plain": [
       "VBox()"
      ]
     },
     "metadata": {},
     "output_type": "display_data"
    },
    {
     "data": {
      "application/vnd.jupyter.widget-view+json": {
       "model_id": "",
       "version_major": 2,
       "version_minor": 0
      },
      "text/plain": [
       "FloatProgress(value=0.0, bar_style='info', description='Progress:', layout=Layout(height='25px', width='50%'),…"
      ]
     },
     "metadata": {},
     "output_type": "display_data"
    }
   ],
   "source": [
    "import sys\n",
    "\n",
    "def my_print(text):\n",
    "    sys.stdout.write(str(text))\n",
    "    sys.stdout.flush()"
   ]
  },
  {
   "cell_type": "code",
   "execution_count": 43,
   "id": "505a198b-3732-4220-bd09-65c059a5f18f",
   "metadata": {
    "execution": {
     "iopub.execute_input": "2022-05-28T07:53:14.335369Z",
     "iopub.status.busy": "2022-05-28T07:53:14.335145Z",
     "iopub.status.idle": "2022-05-28T07:53:14.381546Z",
     "shell.execute_reply": "2022-05-28T07:53:14.381053Z",
     "shell.execute_reply.started": "2022-05-28T07:53:14.335344Z"
    }
   },
   "outputs": [
    {
     "data": {
      "application/vnd.jupyter.widget-view+json": {
       "model_id": "b8ff9dbe2dc74bad80ae2120f612d91c",
       "version_major": 2,
       "version_minor": 0
      },
      "text/plain": [
       "VBox()"
      ]
     },
     "metadata": {},
     "output_type": "display_data"
    },
    {
     "data": {
      "application/vnd.jupyter.widget-view+json": {
       "model_id": "",
       "version_major": 2,
       "version_minor": 0
      },
      "text/plain": [
       "FloatProgress(value=0.0, bar_style='info', description='Progress:', layout=Layout(height='25px', width='50%'),…"
      ]
     },
     "metadata": {},
     "output_type": "display_data"
    },
    {
     "name": "stdout",
     "output_type": "stream",
     "text": [
      "hello this is printed"
     ]
    }
   ],
   "source": [
    "text = \"hello this is printed\"\n",
    "my_print(text)"
   ]
  },
  {
   "cell_type": "code",
   "execution_count": 41,
   "id": "4f08abbf-d8ff-4a0d-8eb5-157d6472a334",
   "metadata": {
    "execution": {
     "iopub.execute_input": "2022-05-28T07:44:28.650002Z",
     "iopub.status.busy": "2022-05-28T07:44:28.649775Z",
     "iopub.status.idle": "2022-05-28T07:50:04.874804Z",
     "shell.execute_reply": "2022-05-28T07:50:04.874218Z",
     "shell.execute_reply.started": "2022-05-28T07:44:28.649977Z"
    }
   },
   "outputs": [
    {
     "data": {
      "application/vnd.jupyter.widget-view+json": {
       "model_id": "ff562ede9d6d4340aef4c6a8acd67b70",
       "version_major": 2,
       "version_minor": 0
      },
      "text/plain": [
       "VBox()"
      ]
     },
     "metadata": {},
     "output_type": "display_data"
    },
    {
     "data": {
      "application/vnd.jupyter.widget-view+json": {
       "model_id": "",
       "version_major": 2,
       "version_minor": 0
      },
      "text/plain": [
       "FloatProgress(value=0.0, bar_style='info', description='Progress:', layout=Layout(height='25px', width='50%'),…"
      ]
     },
     "metadata": {},
     "output_type": "display_data"
    }
   ],
   "source": [
    "df_final.coalesce(1).write.parquet(\"s3://pas-biogen-sagemaker/Antony/Ongoing_Output/2019_historical\")"
   ]
  },
  {
   "cell_type": "code",
   "execution_count": null,
   "id": "cf19420d-2d0b-471d-a0eb-b548ced97fb8",
   "metadata": {
    "tags": []
   },
   "outputs": [],
   "source": [
    "import pyspark.sql.functions as F\n",
    "\n",
    "df_anchor2 = df_anchor.withColumn('UMLS_CUI',df_anchor['Thought_Disturbance'])\n",
    "df_anchor2 = df_anchor2[['UMLS_CUI']]\n",
    "df_final = df_final.join(df_anchor2.withColumn('Thought_Disturbance', F.lit(True)), 'UMLS_CUI', 'left').fillna(False)\n",
    "\n",
    "df_anchor2 = df_anchor.withColumn('UMLS_CUI',df_anchor['Abnormal_Behavior'])\n",
    "df_anchor2 = df_anchor2[['UMLS_CUI']]\n",
    "df_final = df_final.join(df_anchor2.withColumn('Abnormal_Behavior', F.lit(True)), 'UMLS_CUI', 'left').fillna(False)\n",
    "\n",
    "df_anchor2 = df_anchor.withColumn('UMLS_CUI',df_anchor['Suicidal_Intent'])\n",
    "df_anchor2 = df_anchor2[['UMLS_CUI']]\n",
    "df_final = df_final.join(df_anchor2.withColumn('Suicidal_Intent', F.lit(True)), 'UMLS_CUI', 'left').fillna(False)\n",
    "\n",
    "df_anchor2 = df_anchor.withColumn('UMLS_CUI',df_anchor['Disorientated'])\n",
    "df_anchor2 = df_anchor2[['UMLS_CUI']]\n",
    "df_final = df_final.join(df_anchor2.withColumn('Disorientated', F.lit(True)), 'UMLS_CUI', 'left').fillna(False)\n",
    "\n",
    "df_anchor2 = df_anchor.withColumn('UMLS_CUI',df_anchor['Mental_Health_Impairment'])\n",
    "df_anchor2 = df_anchor2[['UMLS_CUI']]\n",
    "df_final = df_final.join(df_anchor2.withColumn('Mental_Health_Impairment', F.lit(True)), 'UMLS_CUI', 'left').fillna(False)\n",
    "\n",
    "df_anchor2 = df_anchor.withColumn('UMLS_CUI',df_anchor['Memory_Loss'])\n",
    "df_anchor2 = df_anchor2[['UMLS_CUI']]\n",
    "df_final = df_final.join(df_anchor2.withColumn('Memory_Loss', F.lit(True)), 'UMLS_CUI', 'left').fillna(False)\n",
    "\n",
    "df_anchor2 = df_anchor.withColumn('UMLS_CUI',df_anchor['Clouded_Consciousness'])\n",
    "df_anchor2 = df_anchor2[['UMLS_CUI']]\n",
    "df_final = df_final.join(df_anchor2.withColumn('Clouded_Consciousness', F.lit(True)), 'UMLS_CUI', 'left').fillna(False)\n",
    "\n",
    "df_anchor2 = df_anchor.withColumn('UMLS_CUI',df_anchor['Agitation'])\n",
    "df_anchor2 = df_anchor2[['UMLS_CUI']]\n",
    "df_final = df_final.join(df_anchor2.withColumn('Agitation', F.lit(True)), 'UMLS_CUI', 'left').fillna(False)\n",
    "\n",
    "df_anchor2 = df_anchor.withColumn('UMLS_CUI',df_anchor['Congnitive_Impairment'])\n",
    "df_anchor2 = df_anchor2[['UMLS_CUI']]\n",
    "df_final = df_final.join(df_anchor2.withColumn('Congnitive_Impairment', F.lit(True)), 'UMLS_CUI', 'left').fillna(False)\n",
    "\n",
    "df_anchor2 = df_lst_cui.withColumn('UMLS_CUI',df_lst_cui['lst_cui'])\n",
    "df_anchor2 = df_anchor2[['UMLS_CUI']]\n",
    "df_final = df_final.join(df_anchor2.withColumn('Alzheimer', F.lit(True)), 'UMLS_CUI', 'left').fillna(False)"
   ]
  },
  {
   "cell_type": "code",
   "execution_count": null,
   "id": "98e3af83-e9da-479a-8666-0d136d691161",
   "metadata": {
    "tags": []
   },
   "outputs": [],
   "source": [
    "print(df_final[df_final['Alzheimer'] == 1].distinct().count())"
   ]
  },
  {
   "cell_type": "code",
   "execution_count": 38,
   "id": "4844b7eb-7158-4ee5-a9ad-3f23fbc00d9a",
   "metadata": {
    "execution": {
     "iopub.execute_input": "2022-05-28T07:32:40.066397Z",
     "iopub.status.busy": "2022-05-28T07:32:40.066132Z",
     "iopub.status.idle": "2022-05-28T07:32:40.118339Z",
     "shell.execute_reply": "2022-05-28T07:32:40.117800Z",
     "shell.execute_reply.started": "2022-05-28T07:32:40.066369Z"
    },
    "tags": []
   },
   "outputs": [
    {
     "data": {
      "application/vnd.jupyter.widget-view+json": {
       "model_id": "2e30ad255b8d48f79fe7413f257c5485",
       "version_major": 2,
       "version_minor": 0
      },
      "text/plain": [
       "VBox()"
      ]
     },
     "metadata": {},
     "output_type": "display_data"
    },
    {
     "data": {
      "application/vnd.jupyter.widget-view+json": {
       "model_id": "",
       "version_major": 2,
       "version_minor": 0
      },
      "text/plain": [
       "FloatProgress(value=0.0, bar_style='info', description='Progress:', layout=Layout(height='25px', width='50%'),…"
      ]
     },
     "metadata": {},
     "output_type": "display_data"
    }
   ],
   "source": [
    "output = df_final2.join(df_demographic,['patient_key'],how='inner')  "
   ]
  },
  {
   "cell_type": "code",
   "execution_count": 40,
   "id": "00a1fafa-17a5-4449-9247-5b08087c174c",
   "metadata": {
    "execution": {
     "iopub.execute_input": "2022-05-28T07:35:19.448859Z",
     "iopub.status.busy": "2022-05-28T07:35:19.448637Z",
     "iopub.status.idle": "2022-05-28T07:36:22.903801Z",
     "shell.execute_reply": "2022-05-28T07:36:22.903277Z",
     "shell.execute_reply.started": "2022-05-28T07:35:19.448835Z"
    },
    "tags": []
   },
   "outputs": [
    {
     "data": {
      "application/vnd.jupyter.widget-view+json": {
       "model_id": "6fbb55bc7f7649228741e32566289b91",
       "version_major": 2,
       "version_minor": 0
      },
      "text/plain": [
       "VBox()"
      ]
     },
     "metadata": {},
     "output_type": "display_data"
    },
    {
     "data": {
      "application/vnd.jupyter.widget-view+json": {
       "model_id": "",
       "version_major": 2,
       "version_minor": 0
      },
      "text/plain": [
       "FloatProgress(value=0.0, bar_style='info', description='Progress:', layout=Layout(height='25px', width='50%'),…"
      ]
     },
     "metadata": {},
     "output_type": "display_data"
    },
    {
     "name": "stdout",
     "output_type": "stream",
     "text": [
      "+-----------+--------+-----------+\n",
      "|patient_key|UMLS_CUI|provider_id|\n",
      "+-----------+--------+-----------+\n",
      "|     800966|C1704653| 1033124813|\n",
      "|    1639971|C0013770| SRN0050793|\n",
      "|    1385981|C0024779| 1053367250|\n",
      "|    1385981|C0024779| 1053367250|\n",
      "|    3025611|C3890564| SRN0006317|\n",
      "|   72124940|C3899513| SRN0030667|\n",
      "|   72285645|C2063616| 1740414457|\n",
      "|   72285645|C2063616| 1740414457|\n",
      "|   72285645|C2063616| 1740414457|\n",
      "|   72285645|C2063616| 1740414457|\n",
      "|   72377207|C0024779| SRN0040897|\n",
      "|   72377207|C0024779| SRN0040897|\n",
      "|   72377207|C0024779| SRN0040897|\n",
      "|   72377207|C3814778| SRN0040897|\n",
      "|    2161568|C3543515| SRN0023779|\n",
      "|    7659660|C0007012| SRN0014151|\n",
      "|   72020812|C0024779| 1568466290|\n",
      "|   72020812|C0024779| 1568466290|\n",
      "|    8026121|C0402015| SRN0047207|\n",
      "|    3145184|C3543515| 1962516690|\n",
      "+-----------+--------+-----------+\n",
      "only showing top 20 rows"
     ]
    }
   ],
   "source": [
    "output[['patient_key','UMLS_CUI','provider_id']].show()"
   ]
  },
  {
   "cell_type": "code",
   "execution_count": 25,
   "id": "6c084ffc-ac76-44e6-91dc-f94c04cd9a7e",
   "metadata": {
    "execution": {
     "iopub.execute_input": "2022-05-27T14:44:22.816365Z",
     "iopub.status.busy": "2022-05-27T14:44:22.816140Z",
     "iopub.status.idle": "2022-05-27T14:44:22.860699Z",
     "shell.execute_reply": "2022-05-27T14:44:22.860196Z",
     "shell.execute_reply.started": "2022-05-27T14:44:22.816341Z"
    }
   },
   "outputs": [
    {
     "data": {
      "application/vnd.jupyter.widget-view+json": {
       "model_id": "060a50095d6745c49d8647b8a5e7d717",
       "version_major": 2,
       "version_minor": 0
      },
      "text/plain": [
       "VBox()"
      ]
     },
     "metadata": {},
     "output_type": "display_data"
    },
    {
     "data": {
      "application/vnd.jupyter.widget-view+json": {
       "model_id": "",
       "version_major": 2,
       "version_minor": 0
      },
      "text/plain": [
       "FloatProgress(value=0.0, bar_style='info', description='Progress:', layout=Layout(height='25px', width='50%'),…"
      ]
     },
     "metadata": {},
     "output_type": "display_data"
    },
    {
     "name": "stdout",
     "output_type": "stream",
     "text": [
      "['patient_key', 'UMLS_CUI', 'provider_id', 'facility_id', 'text', 'label', 'negex', 'span', 'UMLS_Name', 'TUIs', 'Child_semantic_label', 'Parent_semantic_label', 'Similarity_Score', 'Thought_Disturbance', 'Abnormal_Behavior', 'Suicidal_Intent', 'Disorientated', 'Mental_Health_Impairment', 'Memory_Loss', 'Clouded_Consciousness', 'Agitation', 'Congnitive_Impairment', 'Alzheimer', 'pat_last_name', 'pat_first_name', 'pat_mrn', 'pat_dob', 'pat_gender', 'pat_race', 'pat_ethinicity', 'pat_city', 'pat_zip', 'pat_county', 'pat_state', 'pat_country', 'pat_marital_status', 'pat_smoking_status', 'pat_status']"
     ]
    }
   ],
   "source": [
    "output.columns"
   ]
  },
  {
   "cell_type": "code",
   "execution_count": 34,
   "id": "542c4342-3a70-4960-9f1f-ecaac13b1538",
   "metadata": {
    "execution": {
     "iopub.execute_input": "2022-05-27T15:00:46.226815Z",
     "iopub.status.busy": "2022-05-27T15:00:46.226598Z",
     "iopub.status.idle": "2022-05-27T15:01:09.552905Z",
     "shell.execute_reply": "2022-05-27T15:01:09.552375Z",
     "shell.execute_reply.started": "2022-05-27T15:00:46.226792Z"
    },
    "tags": []
   },
   "outputs": [
    {
     "data": {
      "application/vnd.jupyter.widget-view+json": {
       "model_id": "5dc8ed7a48c44d6ba73c25d663b27917",
       "version_major": 2,
       "version_minor": 0
      },
      "text/plain": [
       "VBox()"
      ]
     },
     "metadata": {},
     "output_type": "display_data"
    },
    {
     "data": {
      "application/vnd.jupyter.widget-view+json": {
       "model_id": "",
       "version_major": 2,
       "version_minor": 0
      },
      "text/plain": [
       "FloatProgress(value=0.0, bar_style='info', description='Progress:', layout=Layout(height='25px', width='50%'),…"
      ]
     },
     "metadata": {},
     "output_type": "display_data"
    },
    {
     "name": "stdout",
     "output_type": "stream",
     "text": [
      "31539959"
     ]
    }
   ],
   "source": [
    "op2 = df_final[df_final['Alzheimer'] == 0]\n",
    "op2.count()"
   ]
  },
  {
   "cell_type": "code",
   "execution_count": 35,
   "id": "09f5789c-cad9-46f7-8f82-2e8b0e924541",
   "metadata": {
    "execution": {
     "iopub.execute_input": "2022-05-27T15:01:09.553953Z",
     "iopub.status.busy": "2022-05-27T15:01:09.553793Z",
     "iopub.status.idle": "2022-05-27T15:02:49.219890Z",
     "shell.execute_reply": "2022-05-27T15:02:49.219415Z",
     "shell.execute_reply.started": "2022-05-27T15:01:09.553933Z"
    },
    "tags": []
   },
   "outputs": [
    {
     "data": {
      "application/vnd.jupyter.widget-view+json": {
       "model_id": "bd7932a4b6a74a129e8082199084f771",
       "version_major": 2,
       "version_minor": 0
      },
      "text/plain": [
       "VBox()"
      ]
     },
     "metadata": {},
     "output_type": "display_data"
    },
    {
     "data": {
      "application/vnd.jupyter.widget-view+json": {
       "model_id": "",
       "version_major": 2,
       "version_minor": 0
      },
      "text/plain": [
       "FloatProgress(value=0.0, bar_style='info', description='Progress:', layout=Layout(height='25px', width='50%'),…"
      ]
     },
     "metadata": {},
     "output_type": "display_data"
    },
    {
     "name": "stdout",
     "output_type": "stream",
     "text": [
      "5479\n",
      "1411\n",
      "3688\n",
      "3595\n",
      "75\n",
      "8451\n",
      "3077\n",
      "2131"
     ]
    }
   ],
   "source": [
    "print(op2[op2['Congnitive_Impairment']==1].count())\n",
    "print(op2[op2['Thought_Disturbance']==1].count())\n",
    "print(op2[op2['Abnormal_Behavior']==1].count())\n",
    "print(op2[op2['Suicidal_Intent']==1].count())\n",
    "print(op2[op2['Disorientated']==1].count())\n",
    "print(op2[op2['Mental_Health_Impairment']==1].count())\n",
    "print(op2[op2['Memory_Loss']==1].count())\n",
    "print(op2[op2['Clouded_Consciousness']==1].count())"
   ]
  },
  {
   "cell_type": "code",
   "execution_count": null,
   "id": "49e216c1-0f67-4656-abba-033182e38ef3",
   "metadata": {},
   "outputs": [],
   "source": []
  }
 ],
 "metadata": {
  "kernelspec": {
   "display_name": "PySpark",
   "language": "",
   "name": "pysparkkernel"
  },
  "language_info": {
   "codemirror_mode": {
    "name": "python",
    "version": 3
   },
   "mimetype": "text/x-python",
   "name": "pyspark",
   "pygments_lexer": "python3"
  }
 },
 "nbformat": 4,
 "nbformat_minor": 5
}
